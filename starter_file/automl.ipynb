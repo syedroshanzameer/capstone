{
  "cells": [
    {
      "cell_type": "markdown",
      "source": [
        "# Automated ML\n",
        "\n",
        "TODO: Import Dependencies. In the cell below, import all the dependencies that you will need to complete the project."
      ],
      "metadata": {}
    },
    {
      "cell_type": "markdown",
      "source": [
        "## Dataset\n",
        "\n",
        "### Overview\n",
        "TODO: In this markdown cell, give an overview of the dataset you are using. Also mention the task you will be performing.\n",
        "\n",
        "\n",
        "TODO: Get data. In the cell below, write code to access the data you will be using in this project. Remember that the dataset needs to be external."
      ],
      "metadata": {}
    },
    {
      "cell_type": "code",
      "source": [
        "from azureml.core.experiment import Experiment\n",
        "from azureml.core.workspace import Workspace\n",
        "\n",
        "ws = Workspace.from_config()\n",
        "\n",
        "experiment_name = 'capstoneproject'\n",
        "\n",
        "experiment=Experiment(ws, experiment_name)"
      ],
      "outputs": [
        {
          "output_type": "stream",
          "name": "stdout",
          "text": [
            "Performing interactive authentication. Please follow the instructions on the terminal.\n",
            "To sign in, use a web browser to open the page https://microsoft.com/devicelogin and enter the code ED6XMQLRC to authenticate.\n",
            "You have logged in. Now let us find all the subscriptions to which you have access...\n",
            "Interactive authentication successfully completed.\n"
          ]
        }
      ],
      "execution_count": 1,
      "metadata": {
        "gather": {
          "logged": 1611015542481
        },
        "jupyter": {
          "outputs_hidden": false,
          "source_hidden": false
        },
        "nteract": {
          "transient": {
            "deleting": false
          }
        }
      }
    },
    {
      "cell_type": "code",
      "source": [
        "from azureml.core.compute import ComputeTarget, AmlCompute\n",
        "from azureml.core.compute_target import ComputeTargetException\n",
        "\n",
        "compute_cluster_name = 'final-compute'\n",
        "\n",
        "try:\n",
        "    compute_target = ComputeTarget(workspace=ws, name = compute_cluster_name)\n",
        "    print('Found the compute cluster')\n",
        "\n",
        "except ComputeTargetException:\n",
        "    compute_config = AmlCompute.provisioning_configuration(vm_size=\"STANDARD_D3_V2\", max_nodes=4)\n",
        "    compute_target = ComputeTarget.create(ws, compute_cluster_name, compute_config)\n",
        "    compute_target.wait_for_completion(show_output=True)"
      ],
      "outputs": [
        {
          "output_type": "stream",
          "name": "stdout",
          "text": [
            "Creating\n",
            "Succeeded\n",
            "AmlCompute wait for completion finished\n",
            "\n",
            "Minimum number of nodes requested have been provisioned\n"
          ]
        }
      ],
      "execution_count": 2,
      "metadata": {
        "collapsed": true,
        "jupyter": {
          "source_hidden": false,
          "outputs_hidden": false
        },
        "nteract": {
          "transient": {
            "deleting": false
          }
        },
        "gather": {
          "logged": 1611015564681
        }
      }
    },
    {
      "cell_type": "code",
      "source": [
        "from azureml.core.dataset import Dataset\r\n",
        "from sklearn.model_selection import train_test_split\r\n",
        "\r\n",
        "key = 'heart_failure_clinical_records_dataset'\r\n",
        "if key in ws.datasets.keys():\r\n",
        "    dataset = ws.datasets[key]\r\n",
        "    print(\"dataset found!\")\r\n",
        "\r\n",
        "else:\r\n",
        "    url = 'https://archive.ics.uci.edu/ml/machine-learning-databases/00519/heart_failure_clinical_records_dataset.csv'\r\n",
        "    dataset = Dataset.Tabular.from_delimited_files(url)\r\n",
        "    dataset = dataset.register(ws,key)\r\n",
        "\r\n",
        "df = dataset.to_pandas_dataframe()\r\n",
        "train, test = train_test_split(df, shuffle=True)\r\n",
        "train.to_csv('train.csv',index = False)\r\n",
        "\r\n",
        "datastore = ws.get_default_datastore()\r\n",
        "datastore.upload_files(files = ['./train.csv'])\r\n",
        "\r\n",
        "train = Dataset.Tabular.from_delimited_files([(datastore,'train.csv')])"
      ],
      "outputs": [
        {
          "output_type": "stream",
          "name": "stdout",
          "text": [
            "dataset found!\n",
            "Uploading an estimated of 1 files\n",
            "Target already exists. Skipping upload for train.csv\n",
            "Uploaded 0 files\n"
          ]
        }
      ],
      "execution_count": 3,
      "metadata": {
        "collapsed": true,
        "jupyter": {
          "source_hidden": false,
          "outputs_hidden": false
        },
        "nteract": {
          "transient": {
            "deleting": false
          }
        },
        "gather": {
          "logged": 1611015575632
        }
      }
    },
    {
      "cell_type": "markdown",
      "source": [
        "## AutoML Configuration\n",
        "\n",
        "TODO: Explain why you chose the automl settings and cofiguration you used below."
      ],
      "metadata": {}
    },
    {
      "cell_type": "code",
      "source": [
        "from azureml.train.automl import AutoMLConfig\n",
        "\n",
        "# TODO: Put your automl settings here\n",
        "automl_settings = {\"primary_metric\":\"accuracy\", \"experiment_timeout_minutes\":30, \"enable_early_stopping\":True, \"n_cross_validations\":3,\"max_concurrent_iterations\": 4}\n",
        "\n",
        "# TODO: Put your automl config here\n",
        "automl_config = AutoMLConfig(compute_target = compute_target, task = 'classification', training_data = train, label_column_name = 'DEATH_EVENT',**automl_settings)"
      ],
      "outputs": [],
      "execution_count": 4,
      "metadata": {
        "gather": {
          "logged": 1611015578149
        },
        "jupyter": {
          "outputs_hidden": false,
          "source_hidden": false
        },
        "nteract": {
          "transient": {
            "deleting": false
          }
        }
      }
    },
    {
      "cell_type": "code",
      "source": [
        "# TODO: Submit your experiment\n",
        "remote_run = experiment.submit(automl_config, show_output=True)"
      ],
      "outputs": [
        {
          "output_type": "stream",
          "name": "stdout",
          "text": [
            "Running on remote.\n",
            "No run_configuration provided, running on final-compute2 with default configuration\n",
            "Running on remote compute: final-compute2\n",
            "Parent Run ID: AutoML_2a4fb19b-8e42-40a9-9bd4-55b924b4801a\n",
            "\n",
            "Current status: FeaturesGeneration. Generating features for the dataset.\n",
            "Current status: DatasetCrossValidationSplit. Generating individually featurized CV splits.\n",
            "Current status: ModelSelection. Beginning model selection.\n",
            "\n",
            "****************************************************************************************************\n",
            "DATA GUARDRAILS: \n",
            "\n",
            "TYPE:         Class balancing detection\n",
            "STATUS:       PASSED\n",
            "DESCRIPTION:  Your inputs were analyzed, and all classes are balanced in your training data.\n",
            "              Learn more about imbalanced data: https://aka.ms/AutomatedMLImbalancedData\n",
            "\n",
            "****************************************************************************************************\n",
            "\n",
            "TYPE:         Missing feature values imputation\n",
            "STATUS:       PASSED\n",
            "DESCRIPTION:  No feature missing values were detected in the training data.\n",
            "              Learn more about missing value imputation: https://aka.ms/AutomatedMLFeaturization\n",
            "\n",
            "****************************************************************************************************\n",
            "\n",
            "TYPE:         High cardinality feature detection\n",
            "STATUS:       PASSED\n",
            "DESCRIPTION:  Your inputs were analyzed, and no high cardinality features were detected.\n",
            "              Learn more about high cardinality feature handling: https://aka.ms/AutomatedMLFeaturization\n",
            "\n",
            "****************************************************************************************************\n",
            "\n",
            "****************************************************************************************************\n",
            "ITERATION: The iteration being evaluated.\n",
            "PIPELINE: A summary description of the pipeline being evaluated.\n",
            "DURATION: Time taken for the current iteration.\n",
            "METRIC: The result of computing score on the fitted pipeline.\n",
            "BEST: The best observed score thus far.\n",
            "****************************************************************************************************\n",
            "\n",
            " ITERATION   PIPELINE                                       DURATION      METRIC      BEST\n",
            "         0   MaxAbsScaler LightGBM                          0:00:50       0.8392    0.8392\n",
            "         3   MinMaxScaler RandomForest                      0:00:50       0.8349    0.8392\n",
            "         2   MinMaxScaler RandomForest                      0:00:46       0.8303    0.8392\n",
            "         6   MinMaxScaler SVM                               0:00:49       0.7588    0.8392\n",
            "         1   MaxAbsScaler XGBoostClassifier                 0:02:10       0.8347    0.8392\n",
            "         5   StandardScalerWrapper XGBoostClassifier        0:02:12       0.8170    0.8392\n",
            "         7   MaxAbsScaler GradientBoosting                  0:00:42       0.8481    0.8481\n",
            "         4   MinMaxScaler RandomForest                      0:02:16       0.8347    0.8481\n",
            "         8   StandardScalerWrapper RandomForest             0:00:43       0.8258    0.8481\n",
            "        10   SparseNormalizer LightGBM                      0:00:39       0.7365    0.8481\n",
            "         9   RobustScaler RandomForest                      0:00:45       0.8437    0.8481\n",
            "        11   RobustScaler GradientBoosting                  0:01:26       0.8304    0.8481\n",
            "        12   SparseNormalizer LightGBM                      0:00:36       0.7993    0.8481\n",
            "        13   SparseNormalizer XGBoostClassifier             0:00:43       0.8303    0.8481\n",
            "        14   RobustScaler ExtremeRandomTrees                0:00:40       0.8436    0.8481\n",
            "        15   RobustScaler ExtremeRandomTrees                0:00:42       0.8660    0.8660\n",
            "        16   MaxAbsScaler LightGBM                          0:00:37       0.8437    0.8660\n",
            "        17   StandardScalerWrapper RandomForest             0:00:38       0.8437    0.8660\n",
            "        18   SparseNormalizer XGBoostClassifier             0:00:43       0.8257    0.8660\n",
            "        19   RobustScaler LightGBM                          0:00:55       0.8125    0.8660\n",
            "        20   StandardScalerWrapper GradientBoosting         0:00:42       0.8438    0.8660\n",
            "        21   SparseNormalizer LightGBM                      0:00:45       0.8349    0.8660\n",
            "        22   StandardScalerWrapper XGBoostClassifier        0:00:43       0.8526    0.8660\n",
            "        23   SparseNormalizer XGBoostClassifier             0:00:37       0.8126    0.8660\n",
            "        24   StandardScalerWrapper ExtremeRandomTrees       0:00:42       0.8033    0.8660\n",
            "        25   SparseNormalizer ExtremeRandomTrees            0:00:38       0.6786    0.8660\n",
            "        26   StandardScalerWrapper LightGBM                 0:00:40       0.8482    0.8660\n",
            "        27   StandardScalerWrapper LightGBM                 0:00:36       0.8616    0.8660\n",
            "        28   SparseNormalizer RandomForest                  0:00:46       0.7859    0.8660\n",
            "        29   StandardScalerWrapper ExtremeRandomTrees       0:00:39       0.7814    0.8660\n",
            "        30   MaxAbsScaler RandomForest                      0:00:37       0.8572    0.8660\n",
            "        32   MinMaxScaler LightGBM                          0:00:35       0.7946    0.8660\n",
            "        33   StandardScalerWrapper LightGBM                 0:00:35       0.8616    0.8660\n",
            "        31   StandardScalerWrapper RandomForest             0:00:44       0.8482    0.8660\n",
            "        34   MinMaxScaler RandomForest                      0:00:45       0.8437    0.8660\n",
            "        35                                                  0:00:18          nan    0.8660\n",
            "        36    VotingEnsemble                                0:01:16       0.8660    0.8660\n",
            "        37    StackEnsemble                                 0:01:12       0.8572    0.8660\n"
          ]
        }
      ],
      "execution_count": 5,
      "metadata": {
        "gather": {
          "logged": 1611016922538
        },
        "jupyter": {
          "outputs_hidden": false,
          "source_hidden": false
        },
        "nteract": {
          "transient": {
            "deleting": false
          }
        }
      }
    },
    {
      "cell_type": "markdown",
      "source": [
        "## Run Details\n",
        "\n",
        "OPTIONAL: Write about the different models trained and their performance. Why do you think some models did better than others?\n",
        "\n",
        "TODO: In the cell below, use the `RunDetails` widget to show the different experiments."
      ],
      "metadata": {}
    },
    {
      "cell_type": "code",
      "source": [
        "from azureml.widgets import RunDetails\r\n",
        "\r\n",
        "RunDetails(remote_run).show()\r\n",
        "remote_run.wait_for_completion(show_output=True)"
      ],
      "outputs": [
        {
          "output_type": "display_data",
          "data": {
            "text/plain": "_AutoMLWidget(widget_settings={'childWidgetDisplay': 'popup', 'send_telemetry': False, 'log_level': 'INFO', 's…",
            "application/vnd.jupyter.widget-view+json": {
              "version_major": 2,
              "version_minor": 0,
              "model_id": "66fcc68c4ba448dc8194ccdc6c348daa"
            }
          },
          "metadata": {}
        },
        {
          "output_type": "display_data",
          "data": {
            "application/aml.mini.widget.v1": "{\"status\": \"Completed\", \"workbench_run_details_uri\": \"https://ml.azure.com/experiments/capstoneproject/runs/AutoML_2a4fb19b-8e42-40a9-9bd4-55b924b4801a?wsid=/subscriptions/6971f5ac-8af1-446e-8034-05acea24681f/resourcegroups/aml-quickstarts-135279/workspaces/quick-starts-ws-135279\", \"run_id\": \"AutoML_2a4fb19b-8e42-40a9-9bd4-55b924b4801a\", \"run_properties\": {\"run_id\": \"AutoML_2a4fb19b-8e42-40a9-9bd4-55b924b4801a\", \"created_utc\": \"2021-01-19T00:19:40.952859Z\", \"properties\": {\"num_iterations\": \"1000\", \"training_type\": \"TrainFull\", \"acquisition_function\": \"EI\", \"primary_metric\": \"accuracy\", \"train_split\": \"0\", \"acquisition_parameter\": \"0\", \"num_cross_validation\": \"3\", \"target\": \"final-compute2\", \"AMLSettingsJsonString\": \"{\\\"path\\\":null,\\\"name\\\":\\\"capstoneproject\\\",\\\"subscription_id\\\":\\\"6971f5ac-8af1-446e-8034-05acea24681f\\\",\\\"resource_group\\\":\\\"aml-quickstarts-135279\\\",\\\"workspace_name\\\":\\\"quick-starts-ws-135279\\\",\\\"region\\\":\\\"southcentralus\\\",\\\"compute_target\\\":\\\"final-compute2\\\",\\\"spark_service\\\":null,\\\"azure_service\\\":\\\"remote\\\",\\\"many_models\\\":false,\\\"pipeline_fetch_max_batch_size\\\":1,\\\"iterations\\\":1000,\\\"primary_metric\\\":\\\"accuracy\\\",\\\"task_type\\\":\\\"classification\\\",\\\"data_script\\\":null,\\\"validation_size\\\":0.0,\\\"n_cross_validations\\\":3,\\\"y_min\\\":null,\\\"y_max\\\":null,\\\"num_classes\\\":null,\\\"featurization\\\":\\\"auto\\\",\\\"_ignore_package_version_incompatibilities\\\":false,\\\"is_timeseries\\\":false,\\\"max_cores_per_iteration\\\":1,\\\"max_concurrent_iterations\\\":4,\\\"iteration_timeout_minutes\\\":null,\\\"mem_in_mb\\\":null,\\\"enforce_time_on_windows\\\":false,\\\"experiment_timeout_minutes\\\":30,\\\"experiment_exit_score\\\":null,\\\"whitelist_models\\\":null,\\\"blacklist_algos\\\":[\\\"TensorFlowLinearClassifier\\\",\\\"TensorFlowDNN\\\"],\\\"supported_models\\\":[\\\"GradientBoosting\\\",\\\"LogisticRegression\\\",\\\"TensorFlowDNN\\\",\\\"TensorFlowLinearClassifier\\\",\\\"BernoulliNaiveBayes\\\",\\\"SVM\\\",\\\"DecisionTree\\\",\\\"SGD\\\",\\\"ExtremeRandomTrees\\\",\\\"XGBoostClassifier\\\",\\\"RandomForest\\\",\\\"KNN\\\",\\\"MultinomialNaiveBayes\\\",\\\"LightGBM\\\",\\\"AveragedPerceptronClassifier\\\",\\\"LinearSVM\\\"],\\\"auto_blacklist\\\":true,\\\"blacklist_samples_reached\\\":false,\\\"exclude_nan_labels\\\":true,\\\"verbosity\\\":20,\\\"_debug_log\\\":\\\"azureml_automl.log\\\",\\\"show_warnings\\\":false,\\\"model_explainability\\\":true,\\\"service_url\\\":null,\\\"sdk_url\\\":null,\\\"sdk_packages\\\":null,\\\"enable_onnx_compatible_models\\\":false,\\\"enable_split_onnx_featurizer_estimator_models\\\":false,\\\"vm_type\\\":\\\"STANDARD_D3_V2\\\",\\\"telemetry_verbosity\\\":20,\\\"send_telemetry\\\":true,\\\"enable_dnn\\\":false,\\\"scenario\\\":\\\"SDK-1.13.0\\\",\\\"environment_label\\\":null,\\\"force_text_dnn\\\":false,\\\"enable_feature_sweeping\\\":true,\\\"enable_early_stopping\\\":true,\\\"early_stopping_n_iters\\\":10,\\\"metrics\\\":null,\\\"enable_ensembling\\\":true,\\\"enable_stack_ensembling\\\":true,\\\"ensemble_iterations\\\":15,\\\"enable_tf\\\":false,\\\"enable_subsampling\\\":null,\\\"subsample_seed\\\":null,\\\"enable_nimbusml\\\":false,\\\"enable_streaming\\\":false,\\\"force_streaming\\\":false,\\\"track_child_runs\\\":true,\\\"allowed_private_models\\\":[],\\\"label_column_name\\\":\\\"DEATH_EVENT\\\",\\\"weight_column_name\\\":null,\\\"cv_split_column_names\\\":null,\\\"enable_local_managed\\\":false,\\\"_local_managed_run_id\\\":null,\\\"cost_mode\\\":1,\\\"lag_length\\\":0,\\\"metric_operation\\\":\\\"maximize\\\",\\\"preprocess\\\":true}\", \"DataPrepJsonString\": \"{\\\\\\\"training_data\\\\\\\": \\\\\\\"{\\\\\\\\\\\\\\\"blocks\\\\\\\\\\\\\\\": [{\\\\\\\\\\\\\\\"id\\\\\\\\\\\\\\\": \\\\\\\\\\\\\\\"96e04863-a457-4326-812b-69b199f64068\\\\\\\\\\\\\\\", \\\\\\\\\\\\\\\"type\\\\\\\\\\\\\\\": \\\\\\\\\\\\\\\"Microsoft.DPrep.GetDatastoreFilesBlock\\\\\\\\\\\\\\\", \\\\\\\\\\\\\\\"arguments\\\\\\\\\\\\\\\": {\\\\\\\\\\\\\\\"datastores\\\\\\\\\\\\\\\": [{\\\\\\\\\\\\\\\"datastoreName\\\\\\\\\\\\\\\": \\\\\\\\\\\\\\\"workspaceblobstore\\\\\\\\\\\\\\\", \\\\\\\\\\\\\\\"path\\\\\\\\\\\\\\\": \\\\\\\\\\\\\\\"train.csv\\\\\\\\\\\\\\\", \\\\\\\\\\\\\\\"resourceGroup\\\\\\\\\\\\\\\": \\\\\\\\\\\\\\\"aml-quickstarts-135279\\\\\\\\\\\\\\\", \\\\\\\\\\\\\\\"subscription\\\\\\\\\\\\\\\": \\\\\\\\\\\\\\\"6971f5ac-8af1-446e-8034-05acea24681f\\\\\\\\\\\\\\\", \\\\\\\\\\\\\\\"workspaceName\\\\\\\\\\\\\\\": \\\\\\\\\\\\\\\"quick-starts-ws-135279\\\\\\\\\\\\\\\"}]}, \\\\\\\\\\\\\\\"localData\\\\\\\\\\\\\\\": {}, \\\\\\\\\\\\\\\"isEnabled\\\\\\\\\\\\\\\": true, \\\\\\\\\\\\\\\"name\\\\\\\\\\\\\\\": null, \\\\\\\\\\\\\\\"annotation\\\\\\\\\\\\\\\": null}, {\\\\\\\\\\\\\\\"id\\\\\\\\\\\\\\\": \\\\\\\\\\\\\\\"b75e16aa-fa20-415e-a6ae-d53072c721a2\\\\\\\\\\\\\\\", \\\\\\\\\\\\\\\"type\\\\\\\\\\\\\\\": \\\\\\\\\\\\\\\"Microsoft.DPrep.ParseDelimitedBlock\\\\\\\\\\\\\\\", \\\\\\\\\\\\\\\"arguments\\\\\\\\\\\\\\\": {\\\\\\\\\\\\\\\"columnHeadersMode\\\\\\\\\\\\\\\": 3, \\\\\\\\\\\\\\\"fileEncoding\\\\\\\\\\\\\\\": 0, \\\\\\\\\\\\\\\"handleQuotedLineBreaks\\\\\\\\\\\\\\\": false, \\\\\\\\\\\\\\\"preview\\\\\\\\\\\\\\\": false, \\\\\\\\\\\\\\\"separator\\\\\\\\\\\\\\\": \\\\\\\\\\\\\\\",\\\\\\\\\\\\\\\", \\\\\\\\\\\\\\\"skipRows\\\\\\\\\\\\\\\": 0, \\\\\\\\\\\\\\\"skipRowsMode\\\\\\\\\\\\\\\": 0}, \\\\\\\\\\\\\\\"localData\\\\\\\\\\\\\\\": {}, \\\\\\\\\\\\\\\"isEnabled\\\\\\\\\\\\\\\": true, \\\\\\\\\\\\\\\"name\\\\\\\\\\\\\\\": null, \\\\\\\\\\\\\\\"annotation\\\\\\\\\\\\\\\": null}, {\\\\\\\\\\\\\\\"id\\\\\\\\\\\\\\\": \\\\\\\\\\\\\\\"1e013f7d-9672-49ad-b007-7accbcd263af\\\\\\\\\\\\\\\", \\\\\\\\\\\\\\\"type\\\\\\\\\\\\\\\": \\\\\\\\\\\\\\\"Microsoft.DPrep.DropColumnsBlock\\\\\\\\\\\\\\\", \\\\\\\\\\\\\\\"arguments\\\\\\\\\\\\\\\": {\\\\\\\\\\\\\\\"columns\\\\\\\\\\\\\\\": {\\\\\\\\\\\\\\\"type\\\\\\\\\\\\\\\": 0, \\\\\\\\\\\\\\\"details\\\\\\\\\\\\\\\": {\\\\\\\\\\\\\\\"selectedColumns\\\\\\\\\\\\\\\": [\\\\\\\\\\\\\\\"Path\\\\\\\\\\\\\\\"]}}}, \\\\\\\\\\\\\\\"localData\\\\\\\\\\\\\\\": {}, \\\\\\\\\\\\\\\"isEnabled\\\\\\\\\\\\\\\": true, \\\\\\\\\\\\\\\"name\\\\\\\\\\\\\\\": null, \\\\\\\\\\\\\\\"annotation\\\\\\\\\\\\\\\": null}, {\\\\\\\\\\\\\\\"id\\\\\\\\\\\\\\\": \\\\\\\\\\\\\\\"e77e4b72-109b-47fd-9122-ae9e8c97a900\\\\\\\\\\\\\\\", \\\\\\\\\\\\\\\"type\\\\\\\\\\\\\\\": \\\\\\\\\\\\\\\"Microsoft.DPrep.SetColumnTypesBlock\\\\\\\\\\\\\\\", \\\\\\\\\\\\\\\"arguments\\\\\\\\\\\\\\\": {\\\\\\\\\\\\\\\"columnConversion\\\\\\\\\\\\\\\": [{\\\\\\\\\\\\\\\"column\\\\\\\\\\\\\\\": {\\\\\\\\\\\\\\\"type\\\\\\\\\\\\\\\": 2, \\\\\\\\\\\\\\\"details\\\\\\\\\\\\\\\": {\\\\\\\\\\\\\\\"selectedColumn\\\\\\\\\\\\\\\": \\\\\\\\\\\\\\\"age\\\\\\\\\\\\\\\"}}, \\\\\\\\\\\\\\\"typeProperty\\\\\\\\\\\\\\\": 3}, {\\\\\\\\\\\\\\\"column\\\\\\\\\\\\\\\": {\\\\\\\\\\\\\\\"type\\\\\\\\\\\\\\\": 2, \\\\\\\\\\\\\\\"details\\\\\\\\\\\\\\\": {\\\\\\\\\\\\\\\"selectedColumn\\\\\\\\\\\\\\\": \\\\\\\\\\\\\\\"anaemia\\\\\\\\\\\\\\\"}}, \\\\\\\\\\\\\\\"typeProperty\\\\\\\\\\\\\\\": 2}, {\\\\\\\\\\\\\\\"column\\\\\\\\\\\\\\\": {\\\\\\\\\\\\\\\"type\\\\\\\\\\\\\\\": 2, \\\\\\\\\\\\\\\"details\\\\\\\\\\\\\\\": {\\\\\\\\\\\\\\\"selectedColumn\\\\\\\\\\\\\\\": \\\\\\\\\\\\\\\"creatinine_phosphokinase\\\\\\\\\\\\\\\"}}, \\\\\\\\\\\\\\\"typeProperty\\\\\\\\\\\\\\\": 2}, {\\\\\\\\\\\\\\\"column\\\\\\\\\\\\\\\": {\\\\\\\\\\\\\\\"type\\\\\\\\\\\\\\\": 2, \\\\\\\\\\\\\\\"details\\\\\\\\\\\\\\\": {\\\\\\\\\\\\\\\"selectedColumn\\\\\\\\\\\\\\\": \\\\\\\\\\\\\\\"diabetes\\\\\\\\\\\\\\\"}}, \\\\\\\\\\\\\\\"typeProperty\\\\\\\\\\\\\\\": 2}, {\\\\\\\\\\\\\\\"column\\\\\\\\\\\\\\\": {\\\\\\\\\\\\\\\"type\\\\\\\\\\\\\\\": 2, \\\\\\\\\\\\\\\"details\\\\\\\\\\\\\\\": {\\\\\\\\\\\\\\\"selectedColumn\\\\\\\\\\\\\\\": \\\\\\\\\\\\\\\"ejection_fraction\\\\\\\\\\\\\\\"}}, \\\\\\\\\\\\\\\"typeProperty\\\\\\\\\\\\\\\": 2}, {\\\\\\\\\\\\\\\"column\\\\\\\\\\\\\\\": {\\\\\\\\\\\\\\\"type\\\\\\\\\\\\\\\": 2, \\\\\\\\\\\\\\\"details\\\\\\\\\\\\\\\": {\\\\\\\\\\\\\\\"selectedColumn\\\\\\\\\\\\\\\": \\\\\\\\\\\\\\\"high_blood_pressure\\\\\\\\\\\\\\\"}}, \\\\\\\\\\\\\\\"typeProperty\\\\\\\\\\\\\\\": 2}, {\\\\\\\\\\\\\\\"column\\\\\\\\\\\\\\\": {\\\\\\\\\\\\\\\"type\\\\\\\\\\\\\\\": 2, \\\\\\\\\\\\\\\"details\\\\\\\\\\\\\\\": {\\\\\\\\\\\\\\\"selectedColumn\\\\\\\\\\\\\\\": \\\\\\\\\\\\\\\"platelets\\\\\\\\\\\\\\\"}}, \\\\\\\\\\\\\\\"typeProperty\\\\\\\\\\\\\\\": 3}, {\\\\\\\\\\\\\\\"column\\\\\\\\\\\\\\\": {\\\\\\\\\\\\\\\"type\\\\\\\\\\\\\\\": 2, \\\\\\\\\\\\\\\"details\\\\\\\\\\\\\\\": {\\\\\\\\\\\\\\\"selectedColumn\\\\\\\\\\\\\\\": \\\\\\\\\\\\\\\"serum_creatinine\\\\\\\\\\\\\\\"}}, \\\\\\\\\\\\\\\"typeProperty\\\\\\\\\\\\\\\": 3}, {\\\\\\\\\\\\\\\"column\\\\\\\\\\\\\\\": {\\\\\\\\\\\\\\\"type\\\\\\\\\\\\\\\": 2, \\\\\\\\\\\\\\\"details\\\\\\\\\\\\\\\": {\\\\\\\\\\\\\\\"selectedColumn\\\\\\\\\\\\\\\": \\\\\\\\\\\\\\\"serum_sodium\\\\\\\\\\\\\\\"}}, \\\\\\\\\\\\\\\"typeProperty\\\\\\\\\\\\\\\": 2}, {\\\\\\\\\\\\\\\"column\\\\\\\\\\\\\\\": {\\\\\\\\\\\\\\\"type\\\\\\\\\\\\\\\": 2, \\\\\\\\\\\\\\\"details\\\\\\\\\\\\\\\": {\\\\\\\\\\\\\\\"selectedColumn\\\\\\\\\\\\\\\": \\\\\\\\\\\\\\\"sex\\\\\\\\\\\\\\\"}}, \\\\\\\\\\\\\\\"typeProperty\\\\\\\\\\\\\\\": 2}, {\\\\\\\\\\\\\\\"column\\\\\\\\\\\\\\\": {\\\\\\\\\\\\\\\"type\\\\\\\\\\\\\\\": 2, \\\\\\\\\\\\\\\"details\\\\\\\\\\\\\\\": {\\\\\\\\\\\\\\\"selectedColumn\\\\\\\\\\\\\\\": \\\\\\\\\\\\\\\"smoking\\\\\\\\\\\\\\\"}}, \\\\\\\\\\\\\\\"typeProperty\\\\\\\\\\\\\\\": 2}, {\\\\\\\\\\\\\\\"column\\\\\\\\\\\\\\\": {\\\\\\\\\\\\\\\"type\\\\\\\\\\\\\\\": 2, \\\\\\\\\\\\\\\"details\\\\\\\\\\\\\\\": {\\\\\\\\\\\\\\\"selectedColumn\\\\\\\\\\\\\\\": \\\\\\\\\\\\\\\"time\\\\\\\\\\\\\\\"}}, \\\\\\\\\\\\\\\"typeProperty\\\\\\\\\\\\\\\": 2}, {\\\\\\\\\\\\\\\"column\\\\\\\\\\\\\\\": {\\\\\\\\\\\\\\\"type\\\\\\\\\\\\\\\": 2, \\\\\\\\\\\\\\\"details\\\\\\\\\\\\\\\": {\\\\\\\\\\\\\\\"selectedColumn\\\\\\\\\\\\\\\": \\\\\\\\\\\\\\\"DEATH_EVENT\\\\\\\\\\\\\\\"}}, \\\\\\\\\\\\\\\"typeProperty\\\\\\\\\\\\\\\": 2}]}, \\\\\\\\\\\\\\\"localData\\\\\\\\\\\\\\\": {}, \\\\\\\\\\\\\\\"isEnabled\\\\\\\\\\\\\\\": true, \\\\\\\\\\\\\\\"name\\\\\\\\\\\\\\\": null, \\\\\\\\\\\\\\\"annotation\\\\\\\\\\\\\\\": null}], \\\\\\\\\\\\\\\"inspectors\\\\\\\\\\\\\\\": [], \\\\\\\\\\\\\\\"meta\\\\\\\\\\\\\\\": {\\\\\\\\\\\\\\\"savedDatasetId\\\\\\\\\\\\\\\": \\\\\\\\\\\\\\\"e2a7eb63-79cd-4cb8-ac47-f90f1f962ea7\\\\\\\\\\\\\\\", \\\\\\\\\\\\\\\"datasetType\\\\\\\\\\\\\\\": \\\\\\\\\\\\\\\"tabular\\\\\\\\\\\\\\\", \\\\\\\\\\\\\\\"subscriptionId\\\\\\\\\\\\\\\": \\\\\\\\\\\\\\\"6971f5ac-8af1-446e-8034-05acea24681f\\\\\\\\\\\\\\\", \\\\\\\\\\\\\\\"workspaceId\\\\\\\\\\\\\\\": \\\\\\\\\\\\\\\"f191cded-14ed-435f-be02-79708067321e\\\\\\\\\\\\\\\", \\\\\\\\\\\\\\\"workspaceLocation\\\\\\\\\\\\\\\": \\\\\\\\\\\\\\\"southcentralus\\\\\\\\\\\\\\\"}}\\\\\\\", \\\\\\\"activities\\\\\\\": 0}\", \"EnableSubsampling\": null, \"runTemplate\": \"AutoML\", \"azureml.runsource\": \"automl\", \"display_task_type\": \"classification\", \"dependencies_versions\": \"{\\\"azureml-widgets\\\": \\\"1.19.0\\\", \\\"azureml-train\\\": \\\"1.19.0\\\", \\\"azureml-train-restclients-hyperdrive\\\": \\\"1.19.0\\\", \\\"azureml-train-core\\\": \\\"1.19.0\\\", \\\"azureml-train-automl\\\": \\\"1.19.0\\\", \\\"azureml-train-automl-runtime\\\": \\\"1.19.0\\\", \\\"azureml-train-automl-client\\\": \\\"1.19.0\\\", \\\"azureml-tensorboard\\\": \\\"1.19.0\\\", \\\"azureml-telemetry\\\": \\\"1.19.0\\\", \\\"azureml-sdk\\\": \\\"1.19.0\\\", \\\"azureml-samples\\\": \\\"0+unknown\\\", \\\"azureml-pipeline\\\": \\\"1.19.0\\\", \\\"azureml-pipeline-steps\\\": \\\"1.19.0\\\", \\\"azureml-pipeline-core\\\": \\\"1.19.0\\\", \\\"azureml-opendatasets\\\": \\\"1.19.0\\\", \\\"azureml-model-management-sdk\\\": \\\"1.0.1b6.post1\\\", \\\"azureml-mlflow\\\": \\\"1.19.0\\\", \\\"azureml-interpret\\\": \\\"1.19.0\\\", \\\"azureml-explain-model\\\": \\\"1.19.0\\\", \\\"azureml-defaults\\\": \\\"1.19.0\\\", \\\"azureml-dataset-runtime\\\": \\\"1.19.0.post1\\\", \\\"azureml-dataprep\\\": \\\"2.6.1\\\", \\\"azureml-dataprep-rslex\\\": \\\"1.4.0\\\", \\\"azureml-dataprep-native\\\": \\\"26.0.0\\\", \\\"azureml-datadrift\\\": \\\"1.19.0\\\", \\\"azureml-core\\\": \\\"1.19.0\\\", \\\"azureml-contrib-services\\\": \\\"1.19.0\\\", \\\"azureml-contrib-server\\\": \\\"1.19.0\\\", \\\"azureml-contrib-reinforcementlearning\\\": \\\"1.19.0\\\", \\\"azureml-contrib-pipeline-steps\\\": \\\"1.19.0\\\", \\\"azureml-contrib-notebook\\\": \\\"1.19.0\\\", \\\"azureml-contrib-interpret\\\": \\\"1.19.0\\\", \\\"azureml-contrib-gbdt\\\": \\\"1.19.0\\\", \\\"azureml-contrib-fairness\\\": \\\"1.19.0\\\", \\\"azureml-contrib-dataset\\\": \\\"1.19.0\\\", \\\"azureml-cli-common\\\": \\\"1.19.0\\\", \\\"azureml-automl-runtime\\\": \\\"1.19.0\\\", \\\"azureml-automl-core\\\": \\\"1.19.0\\\", \\\"azureml-accel-models\\\": \\\"1.19.0\\\"}\", \"_aml_system_scenario_identification\": \"Remote.Parent\", \"ClientType\": \"SDK\", \"environment_cpu_name\": \"AzureML-AutoML\", \"environment_cpu_label\": \"prod\", \"environment_gpu_name\": \"AzureML-AutoML-GPU\", \"environment_gpu_label\": \"prod\", \"root_attribution\": \"automl\", \"attribution\": \"AutoML\", \"Orchestrator\": \"AutoML\", \"CancelUri\": \"https://southcentralus.experiments.azureml.net/jasmine/v1.0/subscriptions/6971f5ac-8af1-446e-8034-05acea24681f/resourceGroups/aml-quickstarts-135279/providers/Microsoft.MachineLearningServices/workspaces/quick-starts-ws-135279/experimentids/7d273e90-9436-422c-b5b5-4f00f0ac479e/cancel/AutoML_2a4fb19b-8e42-40a9-9bd4-55b924b4801a\", \"ClientSdkVersion\": \"1.19.0\", \"snapshotId\": \"00000000-0000-0000-0000-000000000000\", \"SetupRunId\": \"AutoML_2a4fb19b-8e42-40a9-9bd4-55b924b4801a_setup\", \"SetupRunContainerId\": \"dcid.AutoML_2a4fb19b-8e42-40a9-9bd4-55b924b4801a_setup\", \"FeaturizationRunJsonPath\": \"featurizer_container.json\", \"FeaturizationRunId\": \"AutoML_2a4fb19b-8e42-40a9-9bd4-55b924b4801a_featurize\", \"ProblemInfoJsonString\": \"{\\\"dataset_num_categorical\\\": 0, \\\"is_sparse\\\": false, \\\"subsampling\\\": false, \\\"dataset_classes\\\": 2, \\\"dataset_features\\\": 20, \\\"dataset_samples\\\": 224, \\\"single_frequency_class_detected\\\": false}\", \"ModelExplainRunId\": \"AutoML_2a4fb19b-8e42-40a9-9bd4-55b924b4801a_ModelExplain\"}, \"tags\": {\"model_explain_run\": \"best_run\", \"_aml_system_azureml.automlComponent\": \"AutoML\", \"pipeline_id\": \"\", \"score\": \"\", \"predicted_cost\": \"\", \"fit_time\": \"\", \"training_percent\": \"\", \"iteration\": \"\", \"run_preprocessor\": \"\", \"run_algorithm\": \"\", \"dynamic_whitelisting_iterations\": \"<25>;<29>;<35>;\", \"automl_best_child_run_id\": \"AutoML_2a4fb19b-8e42-40a9-9bd4-55b924b4801a_36\"}, \"end_time_utc\": \"2021-01-19T00:42:02.292172Z\", \"status\": \"Completed\", \"log_files\": {}, \"log_groups\": [], \"run_duration\": \"0:22:21\"}, \"child_runs\": [{\"run_id\": \"AutoML_2a4fb19b-8e42-40a9-9bd4-55b924b4801a_0\", \"run_number\": 26, \"metric\": null, \"status\": \"Completed\", \"run_type\": \"azureml.scriptrun\", \"training_percent\": \"100\", \"start_time\": \"2021-01-19T00:28:25.602084Z\", \"end_time\": \"2021-01-19T00:29:15.983375Z\", \"created_time\": \"2021-01-19T00:28:14.193043Z\", \"created_time_dt\": \"2021-01-19T00:28:14.193043Z\", \"duration\": \"0:01:01\", \"iteration\": \"0\", \"goal\": \"accuracy_max\", \"run_name\": \"MaxAbsScaler, LightGBM\", \"run_properties\": \"copy=True\", \"primary_metric\": 0.83915916, \"best_metric\": 0.83915916}, {\"run_id\": \"AutoML_2a4fb19b-8e42-40a9-9bd4-55b924b4801a_3\", \"run_number\": 27, \"metric\": null, \"status\": \"Completed\", \"run_type\": \"azureml.scriptrun\", \"training_percent\": \"100\", \"start_time\": \"2021-01-19T00:29:17.556031Z\", \"end_time\": \"2021-01-19T00:30:07.393384Z\", \"created_time\": \"2021-01-19T00:28:14.201411Z\", \"created_time_dt\": \"2021-01-19T00:28:14.201411Z\", \"duration\": \"0:01:53\", \"iteration\": \"3\", \"goal\": \"accuracy_max\", \"run_name\": \"MinMaxScaler, RandomForest\", \"run_properties\": \"copy=True, feature_range=(0, 1\", \"primary_metric\": 0.83489489, \"best_metric\": 0.83915916}, {\"run_id\": \"AutoML_2a4fb19b-8e42-40a9-9bd4-55b924b4801a_1\", \"run_number\": 28, \"metric\": null, \"status\": \"Completed\", \"run_type\": \"azureml.scriptrun\", \"training_percent\": \"100\", \"start_time\": \"2021-01-19T00:30:56.795669Z\", \"end_time\": \"2021-01-19T00:33:07.281093Z\", \"created_time\": \"2021-01-19T00:28:14.220578Z\", \"created_time_dt\": \"2021-01-19T00:28:14.220578Z\", \"duration\": \"0:04:53\", \"iteration\": \"1\", \"goal\": \"accuracy_max\", \"run_name\": \"MaxAbsScaler, XGBoostClassifier\", \"run_properties\": \"copy=True\", \"primary_metric\": 0.83471471, \"best_metric\": 0.83915916}, {\"run_id\": \"AutoML_2a4fb19b-8e42-40a9-9bd4-55b924b4801a_2\", \"run_number\": 29, \"metric\": null, \"status\": \"Completed\", \"run_type\": \"azureml.scriptrun\", \"training_percent\": \"100\", \"start_time\": \"2021-01-19T00:30:09.96267Z\", \"end_time\": \"2021-01-19T00:30:56.043477Z\", \"created_time\": \"2021-01-19T00:28:14.232548Z\", \"created_time_dt\": \"2021-01-19T00:28:14.232548Z\", \"duration\": \"0:02:41\", \"iteration\": \"2\", \"goal\": \"accuracy_max\", \"run_name\": \"MinMaxScaler, RandomForest\", \"run_properties\": \"copy=True, feature_range=(0, 1\", \"primary_metric\": 0.83033033, \"best_metric\": 0.83915916}, {\"run_id\": \"AutoML_2a4fb19b-8e42-40a9-9bd4-55b924b4801a_4\", \"run_number\": 30, \"metric\": null, \"status\": \"Completed\", \"run_type\": \"azureml.scriptrun\", \"training_percent\": \"100\", \"start_time\": \"2021-01-19T00:30:52.936989Z\", \"end_time\": \"2021-01-19T00:33:08.522627Z\", \"created_time\": \"2021-01-19T00:29:19.637676Z\", \"created_time_dt\": \"2021-01-19T00:29:19.637676Z\", \"duration\": \"0:03:48\", \"iteration\": \"4\", \"goal\": \"accuracy_max\", \"run_name\": \"MinMaxScaler, RandomForest\", \"run_properties\": \"copy=True, feature_range=(0, 1\", \"primary_metric\": 0.83471471, \"best_metric\": 0.83915916}, {\"run_id\": \"AutoML_2a4fb19b-8e42-40a9-9bd4-55b924b4801a_5\", \"run_number\": 31, \"metric\": null, \"status\": \"Completed\", \"run_type\": \"azureml.scriptrun\", \"training_percent\": \"100\", \"start_time\": \"2021-01-19T00:30:54.932238Z\", \"end_time\": \"2021-01-19T00:33:06.530322Z\", \"created_time\": \"2021-01-19T00:30:11.39166Z\", \"created_time_dt\": \"2021-01-19T00:30:11.39166Z\", \"duration\": \"0:02:55\", \"iteration\": \"5\", \"goal\": \"accuracy_max\", \"run_name\": \"StandardScalerWrapper, XGBoostClassifier\", \"run_properties\": \"<azureml.automl.runtime.shared.model_wrappers.StandardScalerWrapper object at 0x7f8787dccc88\", \"primary_metric\": 0.816997, \"best_metric\": 0.83915916}, {\"run_id\": \"AutoML_2a4fb19b-8e42-40a9-9bd4-55b924b4801a_6\", \"run_number\": 32, \"metric\": null, \"status\": \"Completed\", \"run_type\": \"azureml.scriptrun\", \"training_percent\": \"100\", \"start_time\": \"2021-01-19T00:31:13.368949Z\", \"end_time\": \"2021-01-19T00:32:02.323385Z\", \"created_time\": \"2021-01-19T00:30:58.998891Z\", \"created_time_dt\": \"2021-01-19T00:30:58.998891Z\", \"duration\": \"0:01:03\", \"iteration\": \"6\", \"goal\": \"accuracy_max\", \"run_name\": \"MinMaxScaler, SVM\", \"run_properties\": \"copy=True, feature_range=(0, 1\", \"primary_metric\": 0.7587988, \"best_metric\": 0.83915916}, {\"run_id\": \"AutoML_2a4fb19b-8e42-40a9-9bd4-55b924b4801a_7\", \"run_number\": 33, \"metric\": null, \"status\": \"Completed\", \"run_type\": \"azureml.scriptrun\", \"training_percent\": \"100\", \"start_time\": \"2021-01-19T00:32:17.618188Z\", \"end_time\": \"2021-01-19T00:32:59.332328Z\", \"created_time\": \"2021-01-19T00:32:05.31117Z\", \"created_time_dt\": \"2021-01-19T00:32:05.31117Z\", \"duration\": \"0:00:54\", \"iteration\": \"7\", \"goal\": \"accuracy_max\", \"run_name\": \"MaxAbsScaler, GradientBoosting\", \"run_properties\": \"copy=True\", \"primary_metric\": 0.84810811, \"best_metric\": 0.84810811}, {\"run_id\": \"AutoML_2a4fb19b-8e42-40a9-9bd4-55b924b4801a_8\", \"run_number\": 34, \"metric\": null, \"status\": \"Completed\", \"run_type\": \"azureml.scriptrun\", \"training_percent\": \"100\", \"start_time\": \"2021-01-19T00:33:17.372881Z\", \"end_time\": \"2021-01-19T00:34:00.224639Z\", \"created_time\": \"2021-01-19T00:33:03.047556Z\", \"created_time_dt\": \"2021-01-19T00:33:03.047556Z\", \"duration\": \"0:00:57\", \"iteration\": \"8\", \"goal\": \"accuracy_max\", \"run_name\": \"StandardScalerWrapper, RandomForest\", \"run_properties\": \"<azureml.automl.runtime.shared.model_wrappers.StandardScalerWrapper object at 0x7fdc745fc668\", \"primary_metric\": 0.82582583, \"best_metric\": 0.84810811}, {\"run_id\": \"AutoML_2a4fb19b-8e42-40a9-9bd4-55b924b4801a_9\", \"run_number\": 35, \"metric\": null, \"status\": \"Completed\", \"run_type\": \"azureml.scriptrun\", \"training_percent\": \"100\", \"start_time\": \"2021-01-19T00:33:21.737169Z\", \"end_time\": \"2021-01-19T00:34:06.304464Z\", \"created_time\": \"2021-01-19T00:33:09.665414Z\", \"created_time_dt\": \"2021-01-19T00:33:09.665414Z\", \"duration\": \"0:00:56\", \"iteration\": \"9\", \"goal\": \"accuracy_max\", \"run_name\": \"RobustScaler, RandomForest\", \"run_properties\": \"copy=True, quantile_range=[10, 90], with_centering=True,\\n             with_scaling=True\", \"primary_metric\": 0.84366366, \"best_metric\": 0.84810811}, {\"run_id\": \"AutoML_2a4fb19b-8e42-40a9-9bd4-55b924b4801a_10\", \"run_number\": 36, \"metric\": null, \"status\": \"Completed\", \"run_type\": \"azureml.scriptrun\", \"training_percent\": \"100\", \"start_time\": \"2021-01-19T00:33:28.982491Z\", \"end_time\": \"2021-01-19T00:34:08.056285Z\", \"created_time\": \"2021-01-19T00:33:16.419078Z\", \"created_time_dt\": \"2021-01-19T00:33:16.419078Z\", \"duration\": \"0:00:51\", \"iteration\": \"10\", \"goal\": \"accuracy_max\", \"run_name\": \"SparseNormalizer, LightGBM\", \"run_properties\": \"<azureml.automl.runtime.shared.model_wrappers.SparseNormalizer object at 0x7ff194070e10\", \"primary_metric\": 0.73645646, \"best_metric\": 0.84810811}, {\"run_id\": \"AutoML_2a4fb19b-8e42-40a9-9bd4-55b924b4801a_11\", \"run_number\": 37, \"metric\": null, \"status\": \"Completed\", \"run_type\": \"azureml.scriptrun\", \"training_percent\": \"100\", \"start_time\": \"2021-01-19T00:33:26.828059Z\", \"end_time\": \"2021-01-19T00:34:53.254037Z\", \"created_time\": \"2021-01-19T00:33:16.428777Z\", \"created_time_dt\": \"2021-01-19T00:33:16.428777Z\", \"duration\": \"0:01:36\", \"iteration\": \"11\", \"goal\": \"accuracy_max\", \"run_name\": \"RobustScaler, GradientBoosting\", \"run_properties\": \"copy=True, quantile_range=[25, 75], with_centering=False,\\n             with_scaling=False\", \"primary_metric\": 0.83039039, \"best_metric\": 0.84810811}, {\"run_id\": \"AutoML_2a4fb19b-8e42-40a9-9bd4-55b924b4801a_12\", \"run_number\": 38, \"metric\": null, \"status\": \"Completed\", \"run_type\": \"azureml.scriptrun\", \"training_percent\": \"100\", \"start_time\": \"2021-01-19T00:34:16.548737Z\", \"end_time\": \"2021-01-19T00:34:52.335942Z\", \"created_time\": \"2021-01-19T00:34:02.650844Z\", \"created_time_dt\": \"2021-01-19T00:34:02.650844Z\", \"duration\": \"0:00:49\", \"iteration\": \"12\", \"goal\": \"accuracy_max\", \"run_name\": \"SparseNormalizer, LightGBM\", \"run_properties\": \"<azureml.automl.runtime.shared.model_wrappers.SparseNormalizer object at 0x7f5c9e82c860\", \"primary_metric\": 0.79927928, \"best_metric\": 0.84810811}, {\"run_id\": \"AutoML_2a4fb19b-8e42-40a9-9bd4-55b924b4801a_13\", \"run_number\": 39, \"metric\": null, \"status\": \"Completed\", \"run_type\": \"azureml.scriptrun\", \"training_percent\": \"100\", \"start_time\": \"2021-01-19T00:34:22.688181Z\", \"end_time\": \"2021-01-19T00:35:05.427054Z\", \"created_time\": \"2021-01-19T00:34:09.249337Z\", \"created_time_dt\": \"2021-01-19T00:34:09.249337Z\", \"duration\": \"0:00:56\", \"iteration\": \"13\", \"goal\": \"accuracy_max\", \"run_name\": \"SparseNormalizer, XGBoostClassifier\", \"run_properties\": \"<azureml.automl.runtime.shared.model_wrappers.SparseNormalizer object at 0x7fe7aa7a42e8\", \"primary_metric\": 0.83033033, \"best_metric\": 0.84810811}, {\"run_id\": \"AutoML_2a4fb19b-8e42-40a9-9bd4-55b924b4801a_14\", \"run_number\": 40, \"metric\": null, \"status\": \"Completed\", \"run_type\": \"azureml.scriptrun\", \"training_percent\": \"100\", \"start_time\": \"2021-01-19T00:34:28.054846Z\", \"end_time\": \"2021-01-19T00:35:08.539424Z\", \"created_time\": \"2021-01-19T00:34:14.917758Z\", \"created_time_dt\": \"2021-01-19T00:34:14.917758Z\", \"duration\": \"0:00:53\", \"iteration\": \"14\", \"goal\": \"accuracy_max\", \"run_name\": \"RobustScaler, ExtremeRandomTrees\", \"run_properties\": \"copy=True, quantile_range=[25, 75], with_centering=True,\\n             with_scaling=False\", \"primary_metric\": 0.8436036, \"best_metric\": 0.84810811}, {\"run_id\": \"AutoML_2a4fb19b-8e42-40a9-9bd4-55b924b4801a_15\", \"run_number\": 41, \"metric\": null, \"status\": \"Completed\", \"run_type\": \"azureml.scriptrun\", \"training_percent\": \"100\", \"start_time\": \"2021-01-19T00:35:08.72957Z\", \"end_time\": \"2021-01-19T00:35:50.589298Z\", \"created_time\": \"2021-01-19T00:34:55.700771Z\", \"created_time_dt\": \"2021-01-19T00:34:55.700771Z\", \"duration\": \"0:00:54\", \"iteration\": \"15\", \"goal\": \"accuracy_max\", \"run_name\": \"RobustScaler, ExtremeRandomTrees\", \"run_properties\": \"copy=True, quantile_range=[25, 75], with_centering=True,\\n             with_scaling=False\", \"primary_metric\": 0.86600601, \"best_metric\": 0.86600601}, {\"run_id\": \"AutoML_2a4fb19b-8e42-40a9-9bd4-55b924b4801a_16\", \"run_number\": 42, \"metric\": null, \"status\": \"Completed\", \"run_type\": \"azureml.scriptrun\", \"training_percent\": \"100\", \"start_time\": \"2021-01-19T00:35:14.678149Z\", \"end_time\": \"2021-01-19T00:35:51.807825Z\", \"created_time\": \"2021-01-19T00:35:01.226755Z\", \"created_time_dt\": \"2021-01-19T00:35:01.226755Z\", \"duration\": \"0:00:50\", \"iteration\": \"16\", \"goal\": \"accuracy_max\", \"run_name\": \"MaxAbsScaler, LightGBM\", \"run_properties\": \"copy=True\", \"primary_metric\": 0.84366366, \"best_metric\": 0.86600601}, {\"run_id\": \"AutoML_2a4fb19b-8e42-40a9-9bd4-55b924b4801a_17\", \"run_number\": 43, \"metric\": null, \"status\": \"Completed\", \"run_type\": \"azureml.scriptrun\", \"training_percent\": \"100\", \"start_time\": \"2021-01-19T00:35:21.505819Z\", \"end_time\": \"2021-01-19T00:35:59.40582Z\", \"created_time\": \"2021-01-19T00:35:07.683527Z\", \"created_time_dt\": \"2021-01-19T00:35:07.683527Z\", \"duration\": \"0:00:51\", \"iteration\": \"17\", \"goal\": \"accuracy_max\", \"run_name\": \"StandardScalerWrapper, RandomForest\", \"run_properties\": \"<azureml.automl.runtime.shared.model_wrappers.StandardScalerWrapper object at 0x7f09246d68d0\", \"primary_metric\": 0.84372372, \"best_metric\": 0.86600601}, {\"run_id\": \"AutoML_2a4fb19b-8e42-40a9-9bd4-55b924b4801a_18\", \"run_number\": 44, \"metric\": null, \"status\": \"Completed\", \"run_type\": \"azureml.scriptrun\", \"training_percent\": \"100\", \"start_time\": \"2021-01-19T00:35:27.238564Z\", \"end_time\": \"2021-01-19T00:36:10.121883Z\", \"created_time\": \"2021-01-19T00:35:13.033508Z\", \"created_time_dt\": \"2021-01-19T00:35:13.033508Z\", \"duration\": \"0:00:57\", \"iteration\": \"18\", \"goal\": \"accuracy_max\", \"run_name\": \"SparseNormalizer, XGBoostClassifier\", \"run_properties\": \"<azureml.automl.runtime.shared.model_wrappers.SparseNormalizer object at 0x7efe8c01a278\", \"primary_metric\": 0.82570571, \"best_metric\": 0.86600601}, {\"run_id\": \"AutoML_2a4fb19b-8e42-40a9-9bd4-55b924b4801a_19\", \"run_number\": 45, \"metric\": null, \"status\": \"Completed\", \"run_type\": \"azureml.scriptrun\", \"training_percent\": \"100\", \"start_time\": \"2021-01-19T00:36:09.174814Z\", \"end_time\": \"2021-01-19T00:37:03.68863Z\", \"created_time\": \"2021-01-19T00:35:55.305971Z\", \"created_time_dt\": \"2021-01-19T00:35:55.305971Z\", \"duration\": \"0:01:08\", \"iteration\": \"19\", \"goal\": \"accuracy_max\", \"run_name\": \"RobustScaler, LightGBM\", \"run_properties\": \"copy=True, quantile_range=[10, 90], with_centering=False,\\n             with_scaling=False\", \"primary_metric\": 0.81249249, \"best_metric\": 0.86600601}, {\"run_id\": \"AutoML_2a4fb19b-8e42-40a9-9bd4-55b924b4801a_20\", \"run_number\": 46, \"metric\": null, \"status\": \"Completed\", \"run_type\": \"azureml.scriptrun\", \"training_percent\": \"100\", \"start_time\": \"2021-01-19T00:36:12.797058Z\", \"end_time\": \"2021-01-19T00:36:54.549353Z\", \"created_time\": \"2021-01-19T00:36:00.958456Z\", \"created_time_dt\": \"2021-01-19T00:36:00.958456Z\", \"duration\": \"0:00:53\", \"iteration\": \"20\", \"goal\": \"accuracy_max\", \"run_name\": \"StandardScalerWrapper, GradientBoosting\", \"run_properties\": \"<azureml.automl.runtime.shared.model_wrappers.StandardScalerWrapper object at 0x7ff93d0af5f8\", \"primary_metric\": 0.84378378, \"best_metric\": 0.86600601}, {\"run_id\": \"AutoML_2a4fb19b-8e42-40a9-9bd4-55b924b4801a_21\", \"run_number\": 47, \"metric\": null, \"status\": \"Completed\", \"run_type\": \"azureml.scriptrun\", \"training_percent\": \"100\", \"start_time\": \"2021-01-19T00:36:19.817231Z\", \"end_time\": \"2021-01-19T00:37:04.900921Z\", \"created_time\": \"2021-01-19T00:36:06.092178Z\", \"created_time_dt\": \"2021-01-19T00:36:06.092178Z\", \"duration\": \"0:00:58\", \"iteration\": \"21\", \"goal\": \"accuracy_max\", \"run_name\": \"SparseNormalizer, LightGBM\", \"run_properties\": \"<azureml.automl.runtime.shared.model_wrappers.SparseNormalizer object at 0x7fdd48a76710\", \"primary_metric\": 0.83489489, \"best_metric\": 0.86600601}, {\"run_id\": \"AutoML_2a4fb19b-8e42-40a9-9bd4-55b924b4801a_22\", \"run_number\": 48, \"metric\": null, \"status\": \"Completed\", \"run_type\": \"azureml.scriptrun\", \"training_percent\": \"100\", \"start_time\": \"2021-01-19T00:36:25.34772Z\", \"end_time\": \"2021-01-19T00:37:08.479703Z\", \"created_time\": \"2021-01-19T00:36:12.286536Z\", \"created_time_dt\": \"2021-01-19T00:36:12.286536Z\", \"duration\": \"0:00:56\", \"iteration\": \"22\", \"goal\": \"accuracy_max\", \"run_name\": \"StandardScalerWrapper, XGBoostClassifier\", \"run_properties\": \"<azureml.automl.runtime.shared.model_wrappers.StandardScalerWrapper object at 0x7f4926f9eac8\", \"primary_metric\": 0.85261261, \"best_metric\": 0.86600601}, {\"run_id\": \"AutoML_2a4fb19b-8e42-40a9-9bd4-55b924b4801a_23\", \"run_number\": 49, \"metric\": null, \"status\": \"Completed\", \"run_type\": \"azureml.scriptrun\", \"training_percent\": \"100\", \"start_time\": \"2021-01-19T00:37:10.523818Z\", \"end_time\": \"2021-01-19T00:37:47.644983Z\", \"created_time\": \"2021-01-19T00:36:57.35615Z\", \"created_time_dt\": \"2021-01-19T00:36:57.35615Z\", \"duration\": \"0:00:50\", \"iteration\": \"23\", \"goal\": \"accuracy_max\", \"run_name\": \"SparseNormalizer, XGBoostClassifier\", \"run_properties\": \"<azureml.automl.runtime.shared.model_wrappers.SparseNormalizer object at 0x7f7c60742630\", \"primary_metric\": 0.81255255, \"best_metric\": 0.86600601}, {\"run_id\": \"AutoML_2a4fb19b-8e42-40a9-9bd4-55b924b4801a_24\", \"run_number\": 50, \"metric\": null, \"status\": \"Completed\", \"run_type\": \"azureml.scriptrun\", \"training_percent\": \"100\", \"start_time\": \"2021-01-19T00:37:18.962862Z\", \"end_time\": \"2021-01-19T00:38:00.76894Z\", \"created_time\": \"2021-01-19T00:37:06.386879Z\", \"created_time_dt\": \"2021-01-19T00:37:06.386879Z\", \"duration\": \"0:00:54\", \"iteration\": \"24\", \"goal\": \"accuracy_max\", \"run_name\": \"StandardScalerWrapper, ExtremeRandomTrees\", \"run_properties\": \"<azureml.automl.runtime.shared.model_wrappers.StandardScalerWrapper object at 0x7f5037f91710\", \"primary_metric\": 0.8033033, \"best_metric\": 0.86600601}, {\"run_id\": \"AutoML_2a4fb19b-8e42-40a9-9bd4-55b924b4801a_25\", \"run_number\": 51, \"metric\": null, \"status\": \"Completed\", \"run_type\": \"azureml.scriptrun\", \"training_percent\": \"100\", \"start_time\": \"2021-01-19T00:37:28.086195Z\", \"end_time\": \"2021-01-19T00:38:05.712811Z\", \"created_time\": \"2021-01-19T00:37:12.826154Z\", \"created_time_dt\": \"2021-01-19T00:37:12.826154Z\", \"duration\": \"0:00:52\", \"iteration\": \"25\", \"goal\": \"accuracy_max\", \"run_name\": \"SparseNormalizer, ExtremeRandomTrees\", \"run_properties\": \"<azureml.automl.runtime.shared.model_wrappers.SparseNormalizer object at 0x7f288135a860\", \"primary_metric\": 0.67855856, \"best_metric\": 0.86600601}, {\"run_id\": \"AutoML_2a4fb19b-8e42-40a9-9bd4-55b924b4801a_26\", \"run_number\": 52, \"metric\": null, \"status\": \"Completed\", \"run_type\": \"azureml.scriptrun\", \"training_percent\": \"100\", \"start_time\": \"2021-01-19T00:37:26.881225Z\", \"end_time\": \"2021-01-19T00:38:07.116051Z\", \"created_time\": \"2021-01-19T00:37:13.047158Z\", \"created_time_dt\": \"2021-01-19T00:37:13.047158Z\", \"duration\": \"0:00:54\", \"iteration\": \"26\", \"goal\": \"accuracy_max\", \"run_name\": \"StandardScalerWrapper, LightGBM\", \"run_properties\": \"<azureml.automl.runtime.shared.model_wrappers.StandardScalerWrapper object at 0x7fb8d6a08630\", \"primary_metric\": 0.84816817, \"best_metric\": 0.86600601}, {\"run_id\": \"AutoML_2a4fb19b-8e42-40a9-9bd4-55b924b4801a_27\", \"run_number\": 53, \"metric\": null, \"status\": \"Completed\", \"run_type\": \"azureml.scriptrun\", \"training_percent\": \"100\", \"start_time\": \"2021-01-19T00:38:04.507117Z\", \"end_time\": \"2021-01-19T00:38:40.696679Z\", \"created_time\": \"2021-01-19T00:37:51.288733Z\", \"created_time_dt\": \"2021-01-19T00:37:51.288733Z\", \"duration\": \"0:00:49\", \"iteration\": \"27\", \"goal\": \"accuracy_max\", \"run_name\": \"StandardScalerWrapper, LightGBM\", \"run_properties\": \"<azureml.automl.runtime.shared.model_wrappers.StandardScalerWrapper object at 0x7f85a4696438\", \"primary_metric\": 0.86156156, \"best_metric\": 0.86600601}, {\"run_id\": \"AutoML_2a4fb19b-8e42-40a9-9bd4-55b924b4801a_28\", \"run_number\": 54, \"metric\": null, \"status\": \"Completed\", \"run_type\": \"azureml.scriptrun\", \"training_percent\": \"100\", \"start_time\": \"2021-01-19T00:38:16.30971Z\", \"end_time\": \"2021-01-19T00:39:02.754119Z\", \"created_time\": \"2021-01-19T00:38:04.681705Z\", \"created_time_dt\": \"2021-01-19T00:38:04.681705Z\", \"duration\": \"0:00:58\", \"iteration\": \"28\", \"goal\": \"accuracy_max\", \"run_name\": \"SparseNormalizer, RandomForest\", \"run_properties\": \"<azureml.automl.runtime.shared.model_wrappers.SparseNormalizer object at 0x7f946c153400\", \"primary_metric\": 0.78594595, \"best_metric\": 0.86600601}, {\"run_id\": \"AutoML_2a4fb19b-8e42-40a9-9bd4-55b924b4801a_30\", \"run_number\": 55, \"metric\": null, \"status\": \"Completed\", \"run_type\": \"azureml.scriptrun\", \"training_percent\": \"100\", \"start_time\": \"2021-01-19T00:38:27.934317Z\", \"end_time\": \"2021-01-19T00:39:05.387471Z\", \"created_time\": \"2021-01-19T00:38:12.957124Z\", \"created_time_dt\": \"2021-01-19T00:38:12.957124Z\", \"duration\": \"0:00:52\", \"iteration\": \"30\", \"goal\": \"accuracy_max\", \"run_name\": \"MaxAbsScaler, RandomForest\", \"run_properties\": \"copy=True\", \"primary_metric\": 0.85717718, \"best_metric\": 0.86600601}, {\"run_id\": \"AutoML_2a4fb19b-8e42-40a9-9bd4-55b924b4801a_29\", \"run_number\": 56, \"metric\": null, \"status\": \"Completed\", \"run_type\": \"azureml.scriptrun\", \"training_percent\": \"100\", \"start_time\": \"2021-01-19T00:38:25.517451Z\", \"end_time\": \"2021-01-19T00:39:04.511061Z\", \"created_time\": \"2021-01-19T00:38:13.135338Z\", \"created_time_dt\": \"2021-01-19T00:38:13.135338Z\", \"duration\": \"0:00:51\", \"iteration\": \"29\", \"goal\": \"accuracy_max\", \"run_name\": \"StandardScalerWrapper, ExtremeRandomTrees\", \"run_properties\": \"<azureml.automl.runtime.shared.model_wrappers.StandardScalerWrapper object at 0x7f6574e6ca20\", \"primary_metric\": 0.78138138, \"best_metric\": 0.86600601}, {\"run_id\": \"AutoML_2a4fb19b-8e42-40a9-9bd4-55b924b4801a_31\", \"run_number\": 57, \"metric\": null, \"status\": \"Canceled\", \"run_type\": \"azureml.scriptrun\", \"training_percent\": \"100\", \"start_time\": \"2021-01-19T00:39:29.303595Z\", \"end_time\": \"2021-01-19T00:40:12.836743Z\", \"created_time\": \"2021-01-19T00:38:44.336817Z\", \"created_time_dt\": \"2021-01-19T00:38:44.336817Z\", \"duration\": \"0:01:28\", \"iteration\": \"31\", \"goal\": \"accuracy_max\", \"run_name\": \"StandardScalerWrapper, RandomForest\", \"run_properties\": \"<azureml.automl.runtime.shared.model_wrappers.StandardScalerWrapper object at 0x7f44bd59bfd0\", \"primary_metric\": 0.84816817, \"best_metric\": 0.86600601}, {\"run_id\": \"AutoML_2a4fb19b-8e42-40a9-9bd4-55b924b4801a_32\", \"run_number\": 58, \"metric\": null, \"status\": \"Completed\", \"run_type\": \"azureml.scriptrun\", \"training_percent\": \"100\", \"start_time\": \"2021-01-19T00:39:21.044842Z\", \"end_time\": \"2021-01-19T00:39:55.974092Z\", \"created_time\": \"2021-01-19T00:39:06.730769Z\", \"created_time_dt\": \"2021-01-19T00:39:06.730769Z\", \"duration\": \"0:00:49\", \"iteration\": \"32\", \"goal\": \"accuracy_max\", \"run_name\": \"MinMaxScaler, LightGBM\", \"run_properties\": \"copy=True, feature_range=(0, 1\", \"primary_metric\": 0.79459459, \"best_metric\": 0.86600601}, {\"run_id\": \"AutoML_2a4fb19b-8e42-40a9-9bd4-55b924b4801a_34\", \"run_number\": 59, \"metric\": null, \"status\": \"Canceled\", \"run_type\": \"azureml.scriptrun\", \"training_percent\": \"100\", \"start_time\": \"2021-01-19T00:39:25.872009Z\", \"end_time\": \"2021-01-19T00:40:10.431333Z\", \"created_time\": \"2021-01-19T00:39:13.953767Z\", \"created_time_dt\": \"2021-01-19T00:39:13.953767Z\", \"duration\": \"0:00:56\", \"iteration\": \"34\", \"goal\": \"accuracy_max\", \"run_name\": \"MinMaxScaler, RandomForest\", \"run_properties\": \"copy=True, feature_range=(0, 1\", \"primary_metric\": 0.84366366, \"best_metric\": 0.86600601}, {\"run_id\": \"AutoML_2a4fb19b-8e42-40a9-9bd4-55b924b4801a_33\", \"run_number\": 60, \"metric\": null, \"status\": \"Completed\", \"run_type\": \"azureml.scriptrun\", \"training_percent\": \"100\", \"start_time\": \"2021-01-19T00:39:26.957885Z\", \"end_time\": \"2021-01-19T00:40:01.933242Z\", \"created_time\": \"2021-01-19T00:39:14.133449Z\", \"created_time_dt\": \"2021-01-19T00:39:14.133449Z\", \"duration\": \"0:00:47\", \"iteration\": \"33\", \"goal\": \"accuracy_max\", \"run_name\": \"StandardScalerWrapper, LightGBM\", \"run_properties\": \"<azureml.automl.runtime.shared.model_wrappers.StandardScalerWrapper object at 0x7f621e10d6a0\", \"primary_metric\": 0.86156156, \"best_metric\": 0.86600601}, {\"run_id\": \"AutoML_2a4fb19b-8e42-40a9-9bd4-55b924b4801a_35\", \"run_number\": 61, \"metric\": null, \"status\": \"Canceled\", \"run_type\": \"azureml.scriptrun\", \"training_percent\": \"100\", \"start_time\": \"2021-01-19T00:39:59.791482Z\", \"end_time\": \"2021-01-19T00:40:18.27234Z\", \"created_time\": \"2021-01-19T00:39:59.791482Z\", \"created_time_dt\": \"2021-01-19T00:39:59.791482Z\", \"duration\": \"0:00:18\", \"iteration\": \"35\", \"goal\": null, \"run_name\": \"Canceled\", \"run_properties\": null}, {\"run_id\": \"AutoML_2a4fb19b-8e42-40a9-9bd4-55b924b4801a_37\", \"run_number\": 62, \"metric\": null, \"status\": \"Completed\", \"run_type\": \"azureml.scriptrun\", \"training_percent\": \"100\", \"start_time\": \"2021-01-19T00:40:33.281823Z\", \"end_time\": \"2021-01-19T00:41:44.952579Z\", \"created_time\": \"2021-01-19T00:40:20.224127Z\", \"created_time_dt\": \"2021-01-19T00:40:20.224127Z\", \"duration\": \"0:01:24\", \"iteration\": \"37\", \"goal\": \"accuracy_max\", \"run_name\": \"StackEnsemble\", \"run_properties\": \"base_learners=[('15',\\n                                        Pipeline(memory=None,\\n                                                 steps=[('robustscaler',\\n                                                         RobustScaler(copy=True,\\n                                                                      quantile_range=[25,\\n                                                                                      75],\\n                                                                      with_centering=True,\\n                                                                      with_scaling=False\", \"primary_metric\": 0.85717718, \"best_metric\": 0.86600601}, {\"run_id\": \"AutoML_2a4fb19b-8e42-40a9-9bd4-55b924b4801a_36\", \"run_number\": 63, \"metric\": null, \"status\": \"Completed\", \"run_type\": \"azureml.scriptrun\", \"training_percent\": \"100\", \"start_time\": \"2021-01-19T00:40:33.13792Z\", \"end_time\": \"2021-01-19T00:41:48.809708Z\", \"created_time\": \"2021-01-19T00:40:20.412227Z\", \"created_time_dt\": \"2021-01-19T00:40:20.412227Z\", \"duration\": \"0:01:28\", \"iteration\": \"36\", \"goal\": \"accuracy_max\", \"run_name\": \"VotingEnsemble\", \"run_properties\": \"classification_labels=None,\\n                              estimators=[('15',\\n                                           Pipeline(memory=None,\\n                                                    steps=[('robustscaler',\\n                                                            RobustScaler(copy=True,\\n                                                                         quantile_range=[25,\\n                                                                                         75],\\n                                                                         with_centering=True,\\n                                                                         with_scaling=False\", \"primary_metric\": 0.86600601, \"best_metric\": 0.86600601}], \"children_metrics\": {\"categories\": [0], \"series\": {\"precision_score_micro\": [{\"categories\": [\"0\", \"1\", \"2\", \"3\", \"4\", \"5\", \"6\", \"7\", \"8\", \"9\", \"10\", \"11\", \"12\", \"13\", \"14\", \"15\", \"16\", \"17\", \"18\", \"19\", \"20\", \"21\", \"22\", \"23\", \"24\", \"25\", \"26\", \"27\", \"28\", \"29\", \"30\", \"31\", \"32\", \"33\", \"34\", \"36\", \"37\"], \"mode\": \"markers\", \"name\": \"precision_score_micro\", \"stepped\": false, \"type\": \"scatter\", \"data\": [0.8391591591591592, 0.8347147147147148, 0.8303303303303302, 0.8348948948948949, 0.8347147147147148, 0.816996996996997, 0.7587987987987987, 0.8481081081081081, 0.8258258258258259, 0.8436636636636635, 0.7364564564564565, 0.8303903903903903, 0.7992792792792792, 0.8303303303303302, 0.8436036036036038, 0.866006006006006, 0.8436636636636635, 0.8437237237237237, 0.8257057057057057, 0.8124924924924924, 0.8437837837837838, 0.8348948948948949, 0.8526126126126127, 0.8125525525525527, 0.8033033033033034, 0.6785585585585586, 0.8481681681681681, 0.8615615615615616, 0.7859459459459459, 0.7813813813813814, 0.8571771771771771, 0.8481681681681681, 0.7945945945945946, 0.8615615615615616, 0.8436636636636635, 0.866006006006006, 0.8571771771771771]}, {\"categories\": [\"0\", \"1\", \"2\", \"3\", \"4\", \"5\", \"6\", \"7\", \"8\", \"9\", \"10\", \"11\", \"12\", \"13\", \"14\", \"15\", \"16\", \"17\", \"18\", \"19\", \"20\", \"21\", \"22\", \"23\", \"24\", \"25\", \"26\", \"27\", \"28\", \"29\", \"30\", \"31\", \"32\", \"33\", \"34\", \"36\", \"37\"], \"mode\": \"lines\", \"name\": \"precision_score_micro_max\", \"stepped\": true, \"type\": \"scatter\", \"data\": [0.8391591591591592, 0.8391591591591592, 0.8391591591591592, 0.8391591591591592, 0.8391591591591592, 0.8391591591591592, 0.8391591591591592, 0.8481081081081081, 0.8481081081081081, 0.8481081081081081, 0.8481081081081081, 0.8481081081081081, 0.8481081081081081, 0.8481081081081081, 0.8481081081081081, 0.866006006006006, 0.866006006006006, 0.866006006006006, 0.866006006006006, 0.866006006006006, 0.866006006006006, 0.866006006006006, 0.866006006006006, 0.866006006006006, 0.866006006006006, 0.866006006006006, 0.866006006006006, 0.866006006006006, 0.866006006006006, 0.866006006006006, 0.866006006006006, 0.866006006006006, 0.866006006006006, 0.866006006006006, 0.866006006006006, 0.866006006006006, 0.866006006006006]}], \"accuracy\": [{\"categories\": [\"0\", \"1\", \"2\", \"3\", \"4\", \"5\", \"6\", \"7\", \"8\", \"9\", \"10\", \"11\", \"12\", \"13\", \"14\", \"15\", \"16\", \"17\", \"18\", \"19\", \"20\", \"21\", \"22\", \"23\", \"24\", \"25\", \"26\", \"27\", \"28\", \"29\", \"30\", \"31\", \"32\", \"33\", \"34\", \"36\", \"37\"], \"mode\": \"markers\", \"name\": \"accuracy\", \"stepped\": false, \"type\": \"scatter\", \"data\": [0.8391591591591592, 0.8347147147147148, 0.8303303303303302, 0.8348948948948949, 0.8347147147147148, 0.816996996996997, 0.7587987987987987, 0.8481081081081081, 0.8258258258258259, 0.8436636636636635, 0.7364564564564565, 0.8303903903903903, 0.7992792792792792, 0.8303303303303302, 0.8436036036036038, 0.866006006006006, 0.8436636636636635, 0.8437237237237237, 0.8257057057057057, 0.8124924924924924, 0.8437837837837838, 0.8348948948948949, 0.8526126126126127, 0.8125525525525527, 0.8033033033033034, 0.6785585585585586, 0.8481681681681681, 0.8615615615615616, 0.7859459459459459, 0.7813813813813814, 0.8571771771771771, 0.8481681681681681, 0.7945945945945946, 0.8615615615615616, 0.8436636636636635, 0.866006006006006, 0.8571771771771771]}, {\"categories\": [\"0\", \"1\", \"2\", \"3\", \"4\", \"5\", \"6\", \"7\", \"8\", \"9\", \"10\", \"11\", \"12\", \"13\", \"14\", \"15\", \"16\", \"17\", \"18\", \"19\", \"20\", \"21\", \"22\", \"23\", \"24\", \"25\", \"26\", \"27\", \"28\", \"29\", \"30\", \"31\", \"32\", \"33\", \"34\", \"36\", \"37\"], \"mode\": \"lines\", \"name\": \"accuracy_max\", \"stepped\": true, \"type\": \"scatter\", \"data\": [0.8391591591591592, 0.8391591591591592, 0.8391591591591592, 0.8391591591591592, 0.8391591591591592, 0.8391591591591592, 0.8391591591591592, 0.8481081081081081, 0.8481081081081081, 0.8481081081081081, 0.8481081081081081, 0.8481081081081081, 0.8481081081081081, 0.8481081081081081, 0.8481081081081081, 0.866006006006006, 0.866006006006006, 0.866006006006006, 0.866006006006006, 0.866006006006006, 0.866006006006006, 0.866006006006006, 0.866006006006006, 0.866006006006006, 0.866006006006006, 0.866006006006006, 0.866006006006006, 0.866006006006006, 0.866006006006006, 0.866006006006006, 0.866006006006006, 0.866006006006006, 0.866006006006006, 0.866006006006006, 0.866006006006006, 0.866006006006006, 0.866006006006006]}], \"f1_score_macro\": [{\"categories\": [\"0\", \"1\", \"2\", \"3\", \"4\", \"5\", \"6\", \"7\", \"8\", \"9\", \"10\", \"11\", \"12\", \"13\", \"14\", \"15\", \"16\", \"17\", \"18\", \"19\", \"20\", \"21\", \"22\", \"23\", \"24\", \"25\", \"26\", \"27\", \"28\", \"29\", \"30\", \"31\", \"32\", \"33\", \"34\", \"36\", \"37\"], \"mode\": \"markers\", \"name\": \"f1_score_macro\", \"stepped\": false, \"type\": \"scatter\", \"data\": [0.8048660774851251, 0.8039902998236331, 0.7979601570091793, 0.782514055637788, 0.7988743645606391, 0.7851192965722857, 0.6836239561092085, 0.8188169760598414, 0.7894249103120363, 0.8101641462022143, 0.6081060010558555, 0.795672083394059, 0.7596986282048054, 0.794060020449659, 0.7985781135117418, 0.8295484695832851, 0.8072802844498052, 0.8183606363844694, 0.7829340880424471, 0.7503433457380825, 0.8147535500208472, 0.7942651876475407, 0.8238624338624337, 0.7716333913655155, 0.7168951399357436, 0.40402478668447595, 0.818209886946223, 0.8291731320596206, 0.7600298141059559, 0.6455105205927935, 0.8335477924707484, 0.8234998141160323, 0.7352530274478596, 0.8348562712700272, 0.8101641462022143, 0.8391345133403177, 0.8319668958255915]}, {\"categories\": [\"0\", \"1\", \"2\", \"3\", \"4\", \"5\", \"6\", \"7\", \"8\", \"9\", \"10\", \"11\", \"12\", \"13\", \"14\", \"15\", \"16\", \"17\", \"18\", \"19\", \"20\", \"21\", \"22\", \"23\", \"24\", \"25\", \"26\", \"27\", \"28\", \"29\", \"30\", \"31\", \"32\", \"33\", \"34\", \"36\", \"37\"], \"mode\": \"lines\", \"name\": \"f1_score_macro_max\", \"stepped\": true, \"type\": \"scatter\", \"data\": [0.8048660774851251, 0.8048660774851251, 0.8048660774851251, 0.8048660774851251, 0.8048660774851251, 0.8048660774851251, 0.8048660774851251, 0.8188169760598414, 0.8188169760598414, 0.8188169760598414, 0.8188169760598414, 0.8188169760598414, 0.8188169760598414, 0.8188169760598414, 0.8188169760598414, 0.8295484695832851, 0.8295484695832851, 0.8295484695832851, 0.8295484695832851, 0.8295484695832851, 0.8295484695832851, 0.8295484695832851, 0.8295484695832851, 0.8295484695832851, 0.8295484695832851, 0.8295484695832851, 0.8295484695832851, 0.8295484695832851, 0.8295484695832851, 0.8295484695832851, 0.8335477924707484, 0.8335477924707484, 0.8335477924707484, 0.8348562712700272, 0.8348562712700272, 0.8391345133403177, 0.8391345133403177]}], \"balanced_accuracy\": [{\"categories\": [\"0\", \"1\", \"2\", \"3\", \"4\", \"5\", \"6\", \"7\", \"8\", \"9\", \"10\", \"11\", \"12\", \"13\", \"14\", \"15\", \"16\", \"17\", \"18\", \"19\", \"20\", \"21\", \"22\", \"23\", \"24\", \"25\", \"26\", \"27\", \"28\", \"29\", \"30\", \"31\", \"32\", \"33\", \"34\", \"36\", \"37\"], \"mode\": \"markers\", \"name\": \"balanced_accuracy\", \"stepped\": false, \"type\": \"scatter\", \"data\": [0.796547619047619, 0.8023897707231041, 0.7940123456790124, 0.7624007936507935, 0.786902557319224, 0.7804254850088183, 0.6728990299823634, 0.8145149911816579, 0.7811155202821869, 0.8029673721340388, 0.611168430335097, 0.786984126984127, 0.7530599647266314, 0.7840630511463845, 0.7800110229276895, 0.8077888007054673, 0.7954166666666665, 0.8181261022927689, 0.7716358024691358, 0.7296362433862433, 0.8098280423280424, 0.777006172839506, 0.818289241622575, 0.7606944444444445, 0.7036485890652556, 0.5, 0.8099669312169313, 0.8140167548500882, 0.767365520282187, 0.6587037037037037, 0.8318761022927689, 0.8242989417989418, 0.724675925925926, 0.8308818342151675, 0.8029673721340388, 0.8313514109347443, 0.8295039682539681]}, {\"categories\": [\"0\", \"1\", \"2\", \"3\", \"4\", \"5\", \"6\", \"7\", \"8\", \"9\", \"10\", \"11\", \"12\", \"13\", \"14\", \"15\", \"16\", \"17\", \"18\", \"19\", \"20\", \"21\", \"22\", \"23\", \"24\", \"25\", \"26\", \"27\", \"28\", \"29\", \"30\", \"31\", \"32\", \"33\", \"34\", \"36\", \"37\"], \"mode\": \"lines\", \"name\": \"balanced_accuracy_max\", \"stepped\": true, \"type\": \"scatter\", \"data\": [0.796547619047619, 0.8023897707231041, 0.8023897707231041, 0.8023897707231041, 0.8023897707231041, 0.8023897707231041, 0.8023897707231041, 0.8145149911816579, 0.8145149911816579, 0.8145149911816579, 0.8145149911816579, 0.8145149911816579, 0.8145149911816579, 0.8145149911816579, 0.8145149911816579, 0.8145149911816579, 0.8145149911816579, 0.8181261022927689, 0.8181261022927689, 0.8181261022927689, 0.8181261022927689, 0.8181261022927689, 0.818289241622575, 0.818289241622575, 0.818289241622575, 0.818289241622575, 0.818289241622575, 0.818289241622575, 0.818289241622575, 0.818289241622575, 0.8318761022927689, 0.8318761022927689, 0.8318761022927689, 0.8318761022927689, 0.8318761022927689, 0.8318761022927689, 0.8318761022927689]}], \"log_loss\": [{\"categories\": [\"0\", \"1\", \"2\", \"3\", \"4\", \"5\", \"6\", \"7\", \"8\", \"9\", \"10\", \"11\", \"12\", \"13\", \"14\", \"15\", \"16\", \"17\", \"18\", \"19\", \"20\", \"21\", \"22\", \"23\", \"24\", \"25\", \"26\", \"27\", \"28\", \"29\", \"30\", \"31\", \"32\", \"33\", \"34\", \"36\", \"37\"], \"mode\": \"markers\", \"name\": \"log_loss\", \"stepped\": false, \"type\": \"scatter\", \"data\": [0.463723241536474, 0.4095212331066591, 0.3871646412336804, 0.42210333258359484, 0.39149053536240236, 0.5029632632101061, 0.5295306180643266, 0.352022493752229, 0.36597296709334, 0.3503684980153405, 0.5182445704328037, 0.3473244619331206, 0.4260711621805908, 0.4051087890495646, 0.3762373004192019, 0.3984134863737314, 0.4087314694825854, 0.38380996584780314, 0.48938172291498305, 0.4437108287175217, 0.3729405811078668, 0.4098469799949149, 0.46173706187125235, 0.39650922154416435, 0.4420708171622368, 0.6306298270638854, 0.34823093371873487, 0.40148542906501045, 0.46212774927152833, 0.6750930466569627, 0.36439484374188624, 0.4351665798881427, 0.4561010204932529, 0.3483275034424951, 0.3611274794702557, 0.38476845932859244, 0.3654763590073747]}, {\"categories\": [\"0\", \"1\", \"2\", \"3\", \"4\", \"5\", \"6\", \"7\", \"8\", \"9\", \"10\", \"11\", \"12\", \"13\", \"14\", \"15\", \"16\", \"17\", \"18\", \"19\", \"20\", \"21\", \"22\", \"23\", \"24\", \"25\", \"26\", \"27\", \"28\", \"29\", \"30\", \"31\", \"32\", \"33\", \"34\", \"36\", \"37\"], \"mode\": \"lines\", \"name\": \"log_loss_min\", \"stepped\": true, \"type\": \"scatter\", \"data\": [0.463723241536474, 0.4095212331066591, 0.3871646412336804, 0.3871646412336804, 0.3871646412336804, 0.3871646412336804, 0.3871646412336804, 0.352022493752229, 0.352022493752229, 0.3503684980153405, 0.3503684980153405, 0.3473244619331206, 0.3473244619331206, 0.3473244619331206, 0.3473244619331206, 0.3473244619331206, 0.3473244619331206, 0.3473244619331206, 0.3473244619331206, 0.3473244619331206, 0.3473244619331206, 0.3473244619331206, 0.3473244619331206, 0.3473244619331206, 0.3473244619331206, 0.3473244619331206, 0.3473244619331206, 0.3473244619331206, 0.3473244619331206, 0.3473244619331206, 0.3473244619331206, 0.3473244619331206, 0.3473244619331206, 0.3473244619331206, 0.3473244619331206, 0.3473244619331206, 0.3473244619331206]}], \"average_precision_score_macro\": [{\"categories\": [\"0\", \"1\", \"2\", \"3\", \"4\", \"5\", \"6\", \"7\", \"8\", \"9\", \"10\", \"11\", \"12\", \"13\", \"14\", \"15\", \"16\", \"17\", \"18\", \"19\", \"20\", \"21\", \"22\", \"23\", \"24\", \"25\", \"26\", \"27\", \"28\", \"29\", \"30\", \"31\", \"32\", \"33\", \"34\", \"36\", \"37\"], \"mode\": \"markers\", \"name\": \"average_precision_score_macro\", \"stepped\": false, \"type\": \"scatter\", \"data\": [0.8712350765827157, 0.8972542797683981, 0.878333087707226, 0.8633714976748821, 0.8906646876893612, 0.8624907531027554, 0.7454242068993836, 0.9140339516379035, 0.9069295587159307, 0.9105966763964827, 0.8046673374628482, 0.909994580345025, 0.8547656186469957, 0.8622067805625951, 0.90925495735612, 0.9143598180964375, 0.9118694949552718, 0.8895265415602208, 0.8363771550567015, 0.9088611234981162, 0.9050001977800602, 0.8607185860328362, 0.8698368441250365, 0.8685884956857172, 0.8989564684517944, 0.5658651606767672, 0.9121981973664427, 0.90399383979377, 0.807895032381146, 0.8051113744374678, 0.9117414623117099, 0.9081850116343518, 0.8745188174272046, 0.904411641026468, 0.9106292199510496, 0.9120304081951005, 0.9171736915435166]}, {\"categories\": [\"0\", \"1\", \"2\", \"3\", \"4\", \"5\", \"6\", \"7\", \"8\", \"9\", \"10\", \"11\", \"12\", \"13\", \"14\", \"15\", \"16\", \"17\", \"18\", \"19\", \"20\", \"21\", \"22\", \"23\", \"24\", \"25\", \"26\", \"27\", \"28\", \"29\", \"30\", \"31\", \"32\", \"33\", \"34\", \"36\", \"37\"], \"mode\": \"lines\", \"name\": \"average_precision_score_macro_max\", \"stepped\": true, \"type\": \"scatter\", \"data\": [0.8712350765827157, 0.8972542797683981, 0.8972542797683981, 0.8972542797683981, 0.8972542797683981, 0.8972542797683981, 0.8972542797683981, 0.9140339516379035, 0.9140339516379035, 0.9140339516379035, 0.9140339516379035, 0.9140339516379035, 0.9140339516379035, 0.9140339516379035, 0.9140339516379035, 0.9143598180964375, 0.9143598180964375, 0.9143598180964375, 0.9143598180964375, 0.9143598180964375, 0.9143598180964375, 0.9143598180964375, 0.9143598180964375, 0.9143598180964375, 0.9143598180964375, 0.9143598180964375, 0.9143598180964375, 0.9143598180964375, 0.9143598180964375, 0.9143598180964375, 0.9143598180964375, 0.9143598180964375, 0.9143598180964375, 0.9143598180964375, 0.9143598180964375, 0.9143598180964375, 0.9171736915435166]}], \"average_precision_score_weighted\": [{\"categories\": [\"0\", \"1\", \"2\", \"3\", \"4\", \"5\", \"6\", \"7\", \"8\", \"9\", \"10\", \"11\", \"12\", \"13\", \"14\", \"15\", \"16\", \"17\", \"18\", \"19\", \"20\", \"21\", \"22\", \"23\", \"24\", \"25\", \"26\", \"27\", \"28\", \"29\", \"30\", \"31\", \"32\", \"33\", \"34\", \"36\", \"37\"], \"mode\": \"markers\", \"name\": \"average_precision_score_weighted\", \"stepped\": false, \"type\": \"scatter\", \"data\": [0.8971148987270076, 0.9168752320859879, 0.9077991514066216, 0.8907178410744896, 0.9172522921140726, 0.8906137892267415, 0.7932599741099146, 0.9322961104346562, 0.9276346997363928, 0.9304941457109503, 0.8482546635772805, 0.9302301994448597, 0.883914783268619, 0.8926867662201982, 0.9291515786144804, 0.9330387297154688, 0.9318905066486254, 0.9141493264371149, 0.8712505693827733, 0.9310303617199406, 0.9243445876138084, 0.8931609199240319, 0.8977954953744468, 0.8987368429367414, 0.9207737333232409, 0.6325535884091114, 0.9326949103316542, 0.9253292195355766, 0.8498191438972308, 0.8434576426285623, 0.9332898324428688, 0.9287241893907865, 0.8999105852681565, 0.9260598816424919, 0.9318536539089495, 0.9332315308759033, 0.9351202288143529]}, {\"categories\": [\"0\", \"1\", \"2\", \"3\", \"4\", \"5\", \"6\", \"7\", \"8\", \"9\", \"10\", \"11\", \"12\", \"13\", \"14\", \"15\", \"16\", \"17\", \"18\", \"19\", \"20\", \"21\", \"22\", \"23\", \"24\", \"25\", \"26\", \"27\", \"28\", \"29\", \"30\", \"31\", \"32\", \"33\", \"34\", \"36\", \"37\"], \"mode\": \"lines\", \"name\": \"average_precision_score_weighted_max\", \"stepped\": true, \"type\": \"scatter\", \"data\": [0.8971148987270076, 0.9168752320859879, 0.9168752320859879, 0.9168752320859879, 0.9172522921140726, 0.9172522921140726, 0.9172522921140726, 0.9322961104346562, 0.9322961104346562, 0.9322961104346562, 0.9322961104346562, 0.9322961104346562, 0.9322961104346562, 0.9322961104346562, 0.9322961104346562, 0.9330387297154688, 0.9330387297154688, 0.9330387297154688, 0.9330387297154688, 0.9330387297154688, 0.9330387297154688, 0.9330387297154688, 0.9330387297154688, 0.9330387297154688, 0.9330387297154688, 0.9330387297154688, 0.9330387297154688, 0.9330387297154688, 0.9330387297154688, 0.9330387297154688, 0.9332898324428688, 0.9332898324428688, 0.9332898324428688, 0.9332898324428688, 0.9332898324428688, 0.9332898324428688, 0.9351202288143529]}], \"recall_score_micro\": [{\"categories\": [\"0\", \"1\", \"2\", \"3\", \"4\", \"5\", \"6\", \"7\", \"8\", \"9\", \"10\", \"11\", \"12\", \"13\", \"14\", \"15\", \"16\", \"17\", \"18\", \"19\", \"20\", \"21\", \"22\", \"23\", \"24\", \"25\", \"26\", \"27\", \"28\", \"29\", \"30\", \"31\", \"32\", \"33\", \"34\", \"36\", \"37\"], \"mode\": \"markers\", \"name\": \"recall_score_micro\", \"stepped\": false, \"type\": \"scatter\", \"data\": [0.8391591591591592, 0.8347147147147148, 0.8303303303303302, 0.8348948948948949, 0.8347147147147148, 0.816996996996997, 0.7587987987987987, 0.8481081081081081, 0.8258258258258259, 0.8436636636636635, 0.7364564564564565, 0.8303903903903903, 0.7992792792792792, 0.8303303303303302, 0.8436036036036038, 0.866006006006006, 0.8436636636636635, 0.8437237237237237, 0.8257057057057057, 0.8124924924924924, 0.8437837837837838, 0.8348948948948949, 0.8526126126126127, 0.8125525525525527, 0.8033033033033034, 0.6785585585585586, 0.8481681681681681, 0.8615615615615616, 0.7859459459459459, 0.7813813813813814, 0.8571771771771771, 0.8481681681681681, 0.7945945945945946, 0.8615615615615616, 0.8436636636636635, 0.866006006006006, 0.8571771771771771]}, {\"categories\": [\"0\", \"1\", \"2\", \"3\", \"4\", \"5\", \"6\", \"7\", \"8\", \"9\", \"10\", \"11\", \"12\", \"13\", \"14\", \"15\", \"16\", \"17\", \"18\", \"19\", \"20\", \"21\", \"22\", \"23\", \"24\", \"25\", \"26\", \"27\", \"28\", \"29\", \"30\", \"31\", \"32\", \"33\", \"34\", \"36\", \"37\"], \"mode\": \"lines\", \"name\": \"recall_score_micro_max\", \"stepped\": true, \"type\": \"scatter\", \"data\": [0.8391591591591592, 0.8391591591591592, 0.8391591591591592, 0.8391591591591592, 0.8391591591591592, 0.8391591591591592, 0.8391591591591592, 0.8481081081081081, 0.8481081081081081, 0.8481081081081081, 0.8481081081081081, 0.8481081081081081, 0.8481081081081081, 0.8481081081081081, 0.8481081081081081, 0.866006006006006, 0.866006006006006, 0.866006006006006, 0.866006006006006, 0.866006006006006, 0.866006006006006, 0.866006006006006, 0.866006006006006, 0.866006006006006, 0.866006006006006, 0.866006006006006, 0.866006006006006, 0.866006006006006, 0.866006006006006, 0.866006006006006, 0.866006006006006, 0.866006006006006, 0.866006006006006, 0.866006006006006, 0.866006006006006, 0.866006006006006, 0.866006006006006]}], \"average_precision_score_micro\": [{\"categories\": [\"0\", \"1\", \"2\", \"3\", \"4\", \"5\", \"6\", \"7\", \"8\", \"9\", \"10\", \"11\", \"12\", \"13\", \"14\", \"15\", \"16\", \"17\", \"18\", \"19\", \"20\", \"21\", \"22\", \"23\", \"24\", \"25\", \"26\", \"27\", \"28\", \"29\", \"30\", \"31\", \"32\", \"33\", \"34\", \"36\", \"37\"], \"mode\": \"markers\", \"name\": \"average_precision_score_micro\", \"stepped\": false, \"type\": \"scatter\", \"data\": [0.9061521040460215, 0.919184886554666, 0.9120105936466425, 0.8980152325737475, 0.9211438363232536, 0.8957916712376498, 0.8088150348566242, 0.9338784721739016, 0.9272709441211435, 0.9298589019781552, 0.8457569561707733, 0.9332803429151527, 0.8872965113321835, 0.9020028876896212, 0.9309578893316036, 0.9269254554944797, 0.9317302917658279, 0.9111371114289284, 0.8807191977524571, 0.913513182228237, 0.9245768562782878, 0.9005000951725162, 0.9025442115460126, 0.9059370988231131, 0.9030300936707577, 0.6976667408825606, 0.9358314969810101, 0.9237159472117283, 0.8608846639253033, 0.8516410948569053, 0.9083810790360526, 0.9290893746799576, 0.8906599861810024, 0.9291664647627375, 0.9341229954399083, 0.9337369544780517, 0.9318669481861784]}, {\"categories\": [\"0\", \"1\", \"2\", \"3\", \"4\", \"5\", \"6\", \"7\", \"8\", \"9\", \"10\", \"11\", \"12\", \"13\", \"14\", \"15\", \"16\", \"17\", \"18\", \"19\", \"20\", \"21\", \"22\", \"23\", \"24\", \"25\", \"26\", \"27\", \"28\", \"29\", \"30\", \"31\", \"32\", \"33\", \"34\", \"36\", \"37\"], \"mode\": \"lines\", \"name\": \"average_precision_score_micro_max\", \"stepped\": true, \"type\": \"scatter\", \"data\": [0.9061521040460215, 0.919184886554666, 0.919184886554666, 0.919184886554666, 0.9211438363232536, 0.9211438363232536, 0.9211438363232536, 0.9338784721739016, 0.9338784721739016, 0.9338784721739016, 0.9338784721739016, 0.9338784721739016, 0.9338784721739016, 0.9338784721739016, 0.9338784721739016, 0.9338784721739016, 0.9338784721739016, 0.9338784721739016, 0.9338784721739016, 0.9338784721739016, 0.9338784721739016, 0.9338784721739016, 0.9338784721739016, 0.9338784721739016, 0.9338784721739016, 0.9338784721739016, 0.9358314969810101, 0.9358314969810101, 0.9358314969810101, 0.9358314969810101, 0.9358314969810101, 0.9358314969810101, 0.9358314969810101, 0.9358314969810101, 0.9358314969810101, 0.9358314969810101, 0.9358314969810101]}], \"recall_score_macro\": [{\"categories\": [\"0\", \"1\", \"2\", \"3\", \"4\", \"5\", \"6\", \"7\", \"8\", \"9\", \"10\", \"11\", \"12\", \"13\", \"14\", \"15\", \"16\", \"17\", \"18\", \"19\", \"20\", \"21\", \"22\", \"23\", \"24\", \"25\", \"26\", \"27\", \"28\", \"29\", \"30\", \"31\", \"32\", \"33\", \"34\", \"36\", \"37\"], \"mode\": \"markers\", \"name\": \"recall_score_macro\", \"stepped\": false, \"type\": \"scatter\", \"data\": [0.796547619047619, 0.8023897707231041, 0.7940123456790124, 0.7624007936507935, 0.786902557319224, 0.7804254850088183, 0.6728990299823634, 0.8145149911816579, 0.7811155202821869, 0.8029673721340388, 0.611168430335097, 0.786984126984127, 0.7530599647266314, 0.7840630511463845, 0.7800110229276895, 0.8077888007054673, 0.7954166666666665, 0.8181261022927689, 0.7716358024691358, 0.7296362433862433, 0.8098280423280424, 0.777006172839506, 0.818289241622575, 0.7606944444444445, 0.7036485890652556, 0.5, 0.8099669312169313, 0.8140167548500882, 0.767365520282187, 0.6587037037037037, 0.8318761022927689, 0.8242989417989418, 0.724675925925926, 0.8308818342151675, 0.8029673721340388, 0.8313514109347443, 0.8295039682539681]}, {\"categories\": [\"0\", \"1\", \"2\", \"3\", \"4\", \"5\", \"6\", \"7\", \"8\", \"9\", \"10\", \"11\", \"12\", \"13\", \"14\", \"15\", \"16\", \"17\", \"18\", \"19\", \"20\", \"21\", \"22\", \"23\", \"24\", \"25\", \"26\", \"27\", \"28\", \"29\", \"30\", \"31\", \"32\", \"33\", \"34\", \"36\", \"37\"], \"mode\": \"lines\", \"name\": \"recall_score_macro_max\", \"stepped\": true, \"type\": \"scatter\", \"data\": [0.796547619047619, 0.8023897707231041, 0.8023897707231041, 0.8023897707231041, 0.8023897707231041, 0.8023897707231041, 0.8023897707231041, 0.8145149911816579, 0.8145149911816579, 0.8145149911816579, 0.8145149911816579, 0.8145149911816579, 0.8145149911816579, 0.8145149911816579, 0.8145149911816579, 0.8145149911816579, 0.8145149911816579, 0.8181261022927689, 0.8181261022927689, 0.8181261022927689, 0.8181261022927689, 0.8181261022927689, 0.818289241622575, 0.818289241622575, 0.818289241622575, 0.818289241622575, 0.818289241622575, 0.818289241622575, 0.818289241622575, 0.818289241622575, 0.8318761022927689, 0.8318761022927689, 0.8318761022927689, 0.8318761022927689, 0.8318761022927689, 0.8318761022927689, 0.8318761022927689]}], \"f1_score_weighted\": [{\"categories\": [\"0\", \"1\", \"2\", \"3\", \"4\", \"5\", \"6\", \"7\", \"8\", \"9\", \"10\", \"11\", \"12\", \"13\", \"14\", \"15\", \"16\", \"17\", \"18\", \"19\", \"20\", \"21\", \"22\", \"23\", \"24\", \"25\", \"26\", \"27\", \"28\", \"29\", \"30\", \"31\", \"32\", \"33\", \"34\", \"36\", \"37\"], \"mode\": \"markers\", \"name\": \"f1_score_weighted\", \"stepped\": false, \"type\": \"scatter\", \"data\": [0.8347873357397168, 0.8316752943419611, 0.8274869846604278, 0.8231817844926775, 0.8292130811738655, 0.8136772856649616, 0.7393961306860003, 0.8455624772709586, 0.8211903668647276, 0.8395551341627389, 0.6890447922599577, 0.8256371400156084, 0.7943634840102008, 0.8251672032136144, 0.8333608918653166, 0.8589362125885057, 0.8383144807263903, 0.8432023333671794, 0.8179528889993287, 0.7944002327686537, 0.8407961188245322, 0.8270772707958717, 0.8489044473044473, 0.8064621554379285, 0.7718093470281292, 0.549067543748165, 0.8442190396261763, 0.8564672671290792, 0.7882378084534042, 0.7310437852188619, 0.8567049025539591, 0.8477804808635799, 0.7794551945378512, 0.8585664096291482, 0.8395551341627389, 0.8634160198764773, 0.8556342072284102]}, {\"categories\": [\"0\", \"1\", \"2\", \"3\", \"4\", \"5\", \"6\", \"7\", \"8\", \"9\", \"10\", \"11\", \"12\", \"13\", \"14\", \"15\", \"16\", \"17\", \"18\", \"19\", \"20\", \"21\", \"22\", \"23\", \"24\", \"25\", \"26\", \"27\", \"28\", \"29\", \"30\", \"31\", \"32\", \"33\", \"34\", \"36\", \"37\"], \"mode\": \"lines\", \"name\": \"f1_score_weighted_max\", \"stepped\": true, \"type\": \"scatter\", \"data\": [0.8347873357397168, 0.8347873357397168, 0.8347873357397168, 0.8347873357397168, 0.8347873357397168, 0.8347873357397168, 0.8347873357397168, 0.8455624772709586, 0.8455624772709586, 0.8455624772709586, 0.8455624772709586, 0.8455624772709586, 0.8455624772709586, 0.8455624772709586, 0.8455624772709586, 0.8589362125885057, 0.8589362125885057, 0.8589362125885057, 0.8589362125885057, 0.8589362125885057, 0.8589362125885057, 0.8589362125885057, 0.8589362125885057, 0.8589362125885057, 0.8589362125885057, 0.8589362125885057, 0.8589362125885057, 0.8589362125885057, 0.8589362125885057, 0.8589362125885057, 0.8589362125885057, 0.8589362125885057, 0.8589362125885057, 0.8589362125885057, 0.8589362125885057, 0.8634160198764773, 0.8634160198764773]}], \"norm_macro_recall\": [{\"categories\": [\"0\", \"1\", \"2\", \"3\", \"4\", \"5\", \"6\", \"7\", \"8\", \"9\", \"10\", \"11\", \"12\", \"13\", \"14\", \"15\", \"16\", \"17\", \"18\", \"19\", \"20\", \"21\", \"22\", \"23\", \"24\", \"25\", \"26\", \"27\", \"28\", \"29\", \"30\", \"31\", \"32\", \"33\", \"34\", \"36\", \"37\"], \"mode\": \"markers\", \"name\": \"norm_macro_recall\", \"stepped\": false, \"type\": \"scatter\", \"data\": [0.593095238095238, 0.604779541446208, 0.5880246913580246, 0.5248015873015872, 0.573805114638448, 0.5608509700176366, 0.3457980599647266, 0.6290299823633156, 0.5622310405643738, 0.6059347442680775, 0.222336860670194, 0.5739682539682539, 0.5061199294532627, 0.5681261022927689, 0.5600220458553792, 0.6155776014109348, 0.5908333333333332, 0.6362522045855379, 0.5432716049382715, 0.4592724867724867, 0.6196560846560847, 0.5540123456790123, 0.6365784832451499, 0.5213888888888888, 0.4072971781305115, 0.0, 0.6199338624338625, 0.6280335097001765, 0.5347310405643739, 0.31740740740740736, 0.6637522045855379, 0.6485978835978835, 0.44935185185185184, 0.6617636684303351, 0.6059347442680775, 0.6627028218694885, 0.6590079365079365]}, {\"categories\": [\"0\", \"1\", \"2\", \"3\", \"4\", \"5\", \"6\", \"7\", \"8\", \"9\", \"10\", \"11\", \"12\", \"13\", \"14\", \"15\", \"16\", \"17\", \"18\", \"19\", \"20\", \"21\", \"22\", \"23\", \"24\", \"25\", \"26\", \"27\", \"28\", \"29\", \"30\", \"31\", \"32\", \"33\", \"34\", \"36\", \"37\"], \"mode\": \"lines\", \"name\": \"norm_macro_recall_max\", \"stepped\": true, \"type\": \"scatter\", \"data\": [0.593095238095238, 0.604779541446208, 0.604779541446208, 0.604779541446208, 0.604779541446208, 0.604779541446208, 0.604779541446208, 0.6290299823633156, 0.6290299823633156, 0.6290299823633156, 0.6290299823633156, 0.6290299823633156, 0.6290299823633156, 0.6290299823633156, 0.6290299823633156, 0.6290299823633156, 0.6290299823633156, 0.6362522045855379, 0.6362522045855379, 0.6362522045855379, 0.6362522045855379, 0.6362522045855379, 0.6365784832451499, 0.6365784832451499, 0.6365784832451499, 0.6365784832451499, 0.6365784832451499, 0.6365784832451499, 0.6365784832451499, 0.6365784832451499, 0.6637522045855379, 0.6637522045855379, 0.6637522045855379, 0.6637522045855379, 0.6637522045855379, 0.6637522045855379, 0.6637522045855379]}], \"AUC_weighted\": [{\"categories\": [\"0\", \"1\", \"2\", \"3\", \"4\", \"5\", \"6\", \"7\", \"8\", \"9\", \"10\", \"11\", \"12\", \"13\", \"14\", \"15\", \"16\", \"17\", \"18\", \"19\", \"20\", \"21\", \"22\", \"23\", \"24\", \"25\", \"26\", \"27\", \"28\", \"29\", \"30\", \"31\", \"32\", \"33\", \"34\", \"36\", \"37\"], \"mode\": \"markers\", \"name\": \"AUC_weighted\", \"stepped\": false, \"type\": \"scatter\", \"data\": [0.8935479129923575, 0.9074353321575543, 0.9054519400352734, 0.8856988536155203, 0.9143268665490888, 0.8797251616696061, 0.7855967078189301, 0.9237918871252205, 0.9193577307466195, 0.9257179600235155, 0.8368371546149324, 0.9229107877718988, 0.867939447383892, 0.883208406819518, 0.9218724279835392, 0.92418430335097, 0.9259391534391535, 0.9081988536155202, 0.863556731334509, 0.9277204585537918, 0.9128130511463843, 0.8823780129335684, 0.8988396531452086, 0.8870355673133451, 0.9125984714873604, 0.5757363315696649, 0.9272883597883599, 0.9191593180482069, 0.8467445620223398, 0.8305121987066432, 0.929347442680776, 0.9229100529100528, 0.9012801293356848, 0.9167592592592593, 0.9269341563786009, 0.9277748383303939, 0.9287874779541446]}, {\"categories\": [\"0\", \"1\", \"2\", \"3\", \"4\", \"5\", \"6\", \"7\", \"8\", \"9\", \"10\", \"11\", \"12\", \"13\", \"14\", \"15\", \"16\", \"17\", \"18\", \"19\", \"20\", \"21\", \"22\", \"23\", \"24\", \"25\", \"26\", \"27\", \"28\", \"29\", \"30\", \"31\", \"32\", \"33\", \"34\", \"36\", \"37\"], \"mode\": \"lines\", \"name\": \"AUC_weighted_max\", \"stepped\": true, \"type\": \"scatter\", \"data\": [0.8935479129923575, 0.9074353321575543, 0.9074353321575543, 0.9074353321575543, 0.9143268665490888, 0.9143268665490888, 0.9143268665490888, 0.9237918871252205, 0.9237918871252205, 0.9257179600235155, 0.9257179600235155, 0.9257179600235155, 0.9257179600235155, 0.9257179600235155, 0.9257179600235155, 0.9257179600235155, 0.9259391534391535, 0.9259391534391535, 0.9259391534391535, 0.9277204585537918, 0.9277204585537918, 0.9277204585537918, 0.9277204585537918, 0.9277204585537918, 0.9277204585537918, 0.9277204585537918, 0.9277204585537918, 0.9277204585537918, 0.9277204585537918, 0.9277204585537918, 0.929347442680776, 0.929347442680776, 0.929347442680776, 0.929347442680776, 0.929347442680776, 0.929347442680776, 0.929347442680776]}], \"f1_score_micro\": [{\"categories\": [\"0\", \"1\", \"2\", \"3\", \"4\", \"5\", \"6\", \"7\", \"8\", \"9\", \"10\", \"11\", \"12\", \"13\", \"14\", \"15\", \"16\", \"17\", \"18\", \"19\", \"20\", \"21\", \"22\", \"23\", \"24\", \"25\", \"26\", \"27\", \"28\", \"29\", \"30\", \"31\", \"32\", \"33\", \"34\", \"36\", \"37\"], \"mode\": \"markers\", \"name\": \"f1_score_micro\", \"stepped\": false, \"type\": \"scatter\", \"data\": [0.8391591591591592, 0.8347147147147148, 0.8303303303303302, 0.8348948948948949, 0.8347147147147148, 0.816996996996997, 0.7587987987987987, 0.8481081081081081, 0.8258258258258259, 0.8436636636636635, 0.7364564564564565, 0.8303903903903903, 0.7992792792792792, 0.8303303303303302, 0.8436036036036038, 0.8660060060060061, 0.8436636636636635, 0.8437237237237237, 0.8257057057057057, 0.8124924924924924, 0.8437837837837838, 0.8348948948948949, 0.8526126126126125, 0.8125525525525527, 0.8033033033033034, 0.6785585585585586, 0.8481681681681681, 0.8615615615615616, 0.7859459459459459, 0.7813813813813814, 0.8571771771771771, 0.8481681681681681, 0.7945945945945946, 0.8615615615615616, 0.8436636636636635, 0.8660060060060061, 0.8571771771771771]}, {\"categories\": [\"0\", \"1\", \"2\", \"3\", \"4\", \"5\", \"6\", \"7\", \"8\", \"9\", \"10\", \"11\", \"12\", \"13\", \"14\", \"15\", \"16\", \"17\", \"18\", \"19\", \"20\", \"21\", \"22\", \"23\", \"24\", \"25\", \"26\", \"27\", \"28\", \"29\", \"30\", \"31\", \"32\", \"33\", \"34\", \"36\", \"37\"], \"mode\": \"lines\", \"name\": \"f1_score_micro_max\", \"stepped\": true, \"type\": \"scatter\", \"data\": [0.8391591591591592, 0.8391591591591592, 0.8391591591591592, 0.8391591591591592, 0.8391591591591592, 0.8391591591591592, 0.8391591591591592, 0.8481081081081081, 0.8481081081081081, 0.8481081081081081, 0.8481081081081081, 0.8481081081081081, 0.8481081081081081, 0.8481081081081081, 0.8481081081081081, 0.8660060060060061, 0.8660060060060061, 0.8660060060060061, 0.8660060060060061, 0.8660060060060061, 0.8660060060060061, 0.8660060060060061, 0.8660060060060061, 0.8660060060060061, 0.8660060060060061, 0.8660060060060061, 0.8660060060060061, 0.8660060060060061, 0.8660060060060061, 0.8660060060060061, 0.8660060060060061, 0.8660060060060061, 0.8660060060060061, 0.8660060060060061, 0.8660060060060061, 0.8660060060060061, 0.8660060060060061]}], \"AUC_macro\": [{\"categories\": [\"0\", \"1\", \"2\", \"3\", \"4\", \"5\", \"6\", \"7\", \"8\", \"9\", \"10\", \"11\", \"12\", \"13\", \"14\", \"15\", \"16\", \"17\", \"18\", \"19\", \"20\", \"21\", \"22\", \"23\", \"24\", \"25\", \"26\", \"27\", \"28\", \"29\", \"30\", \"31\", \"32\", \"33\", \"34\", \"36\", \"37\"], \"mode\": \"markers\", \"name\": \"AUC_macro\", \"stepped\": false, \"type\": \"scatter\", \"data\": [0.8935479129923575, 0.9074353321575543, 0.9054519400352734, 0.8856988536155203, 0.9143268665490888, 0.8797251616696061, 0.78559670781893, 0.9237918871252205, 0.9193577307466198, 0.9257179600235156, 0.8368371546149324, 0.9229107877718988, 0.8679394473838918, 0.883208406819518, 0.9218724279835392, 0.92418430335097, 0.9259391534391535, 0.9081988536155202, 0.863556731334509, 0.9277204585537918, 0.9128130511463844, 0.8823780129335684, 0.8988396531452088, 0.8870355673133452, 0.9125984714873604, 0.5757363315696649, 0.9272883597883598, 0.9191593180482069, 0.8467445620223398, 0.8305121987066432, 0.929347442680776, 0.9229100529100528, 0.9012801293356848, 0.9167592592592593, 0.9269341563786009, 0.9277748383303939, 0.9287874779541446]}, {\"categories\": [\"0\", \"1\", \"2\", \"3\", \"4\", \"5\", \"6\", \"7\", \"8\", \"9\", \"10\", \"11\", \"12\", \"13\", \"14\", \"15\", \"16\", \"17\", \"18\", \"19\", \"20\", \"21\", \"22\", \"23\", \"24\", \"25\", \"26\", \"27\", \"28\", \"29\", \"30\", \"31\", \"32\", \"33\", \"34\", \"36\", \"37\"], \"mode\": \"lines\", \"name\": \"AUC_macro_max\", \"stepped\": true, \"type\": \"scatter\", \"data\": [0.8935479129923575, 0.9074353321575543, 0.9074353321575543, 0.9074353321575543, 0.9143268665490888, 0.9143268665490888, 0.9143268665490888, 0.9237918871252205, 0.9237918871252205, 0.9257179600235156, 0.9257179600235156, 0.9257179600235156, 0.9257179600235156, 0.9257179600235156, 0.9257179600235156, 0.9257179600235156, 0.9259391534391535, 0.9259391534391535, 0.9259391534391535, 0.9277204585537918, 0.9277204585537918, 0.9277204585537918, 0.9277204585537918, 0.9277204585537918, 0.9277204585537918, 0.9277204585537918, 0.9277204585537918, 0.9277204585537918, 0.9277204585537918, 0.9277204585537918, 0.929347442680776, 0.929347442680776, 0.929347442680776, 0.929347442680776, 0.929347442680776, 0.929347442680776, 0.929347442680776]}], \"precision_score_macro\": [{\"categories\": [\"0\", \"1\", \"2\", \"3\", \"4\", \"5\", \"6\", \"7\", \"8\", \"9\", \"10\", \"11\", \"12\", \"13\", \"14\", \"15\", \"16\", \"17\", \"18\", \"19\", \"20\", \"21\", \"22\", \"23\", \"24\", \"25\", \"26\", \"27\", \"28\", \"29\", \"30\", \"31\", \"32\", \"33\", \"34\", \"36\", \"37\"], \"mode\": \"markers\", \"name\": \"precision_score_macro\", \"stepped\": false, \"type\": \"scatter\", \"data\": [0.8243365717934683, 0.8175874276913829, 0.8119740801604379, 0.8422302115223964, 0.8233299293704173, 0.8059347565407343, 0.7370622228297187, 0.8319503621433317, 0.8106160441516937, 0.8321582755293752, 0.7392667067957893, 0.8210705264990622, 0.7908272754499169, 0.8197007522406325, 0.8531409766247942, 0.8772499850536574, 0.8350510337673848, 0.8217802477669883, 0.812828025947221, 0.8396884477529639, 0.8366862325112575, 0.8426421434582205, 0.844333913360062, 0.8002185088636425, 0.8669360909606466, 0.3392792792792793, 0.839107617179874, 0.8636277227019152, 0.7629385907653313, 0.6837409394606935, 0.8384194743796192, 0.8262495176912967, 0.8003422529612099, 0.857306967984934, 0.8321582755293752, 0.8562318848275972, 0.8488292890591742]}, {\"categories\": [\"0\", \"1\", \"2\", \"3\", \"4\", \"5\", \"6\", \"7\", \"8\", \"9\", \"10\", \"11\", \"12\", \"13\", \"14\", \"15\", \"16\", \"17\", \"18\", \"19\", \"20\", \"21\", \"22\", \"23\", \"24\", \"25\", \"26\", \"27\", \"28\", \"29\", \"30\", \"31\", \"32\", \"33\", \"34\", \"36\", \"37\"], \"mode\": \"lines\", \"name\": \"precision_score_macro_max\", \"stepped\": true, \"type\": \"scatter\", \"data\": [0.8243365717934683, 0.8243365717934683, 0.8243365717934683, 0.8422302115223964, 0.8422302115223964, 0.8422302115223964, 0.8422302115223964, 0.8422302115223964, 0.8422302115223964, 0.8422302115223964, 0.8422302115223964, 0.8422302115223964, 0.8422302115223964, 0.8422302115223964, 0.8531409766247942, 0.8772499850536574, 0.8772499850536574, 0.8772499850536574, 0.8772499850536574, 0.8772499850536574, 0.8772499850536574, 0.8772499850536574, 0.8772499850536574, 0.8772499850536574, 0.8772499850536574, 0.8772499850536574, 0.8772499850536574, 0.8772499850536574, 0.8772499850536574, 0.8772499850536574, 0.8772499850536574, 0.8772499850536574, 0.8772499850536574, 0.8772499850536574, 0.8772499850536574, 0.8772499850536574, 0.8772499850536574]}], \"AUC_micro\": [{\"categories\": [\"0\", \"1\", \"2\", \"3\", \"4\", \"5\", \"6\", \"7\", \"8\", \"9\", \"10\", \"11\", \"12\", \"13\", \"14\", \"15\", \"16\", \"17\", \"18\", \"19\", \"20\", \"21\", \"22\", \"23\", \"24\", \"25\", \"26\", \"27\", \"28\", \"29\", \"30\", \"31\", \"32\", \"33\", \"34\", \"36\", \"37\"], \"mode\": \"markers\", \"name\": \"AUC_micro\", \"stepped\": false, \"type\": \"scatter\", \"data\": [0.9090608662716771, 0.9185322619917216, 0.9132751237724209, 0.9003618537456375, 0.9194328382436491, 0.8928693774855937, 0.8204429077726375, 0.9315116521927332, 0.925064891918946, 0.9295951951951952, 0.8335367800232665, 0.9309121986851716, 0.8871184048913779, 0.899533425317209, 0.9289135189243297, 0.9247681952222493, 0.9289925276627979, 0.9135044990936884, 0.8813347834320807, 0.9079821010199388, 0.9223425912398885, 0.8969788274761248, 0.9096800584368152, 0.903024483943403, 0.8965237129020913, 0.7089928198468739, 0.9330007845683522, 0.9216919514108705, 0.8608689770851933, 0.8589557665773881, 0.9183173876579281, 0.928268917566215, 0.8933019397776155, 0.9259626437248057, 0.9324424640857073, 0.9317938370803236, 0.9307416822227633]}, {\"categories\": [\"0\", \"1\", \"2\", \"3\", \"4\", \"5\", \"6\", \"7\", \"8\", \"9\", \"10\", \"11\", \"12\", \"13\", \"14\", \"15\", \"16\", \"17\", \"18\", \"19\", \"20\", \"21\", \"22\", \"23\", \"24\", \"25\", \"26\", \"27\", \"28\", \"29\", \"30\", \"31\", \"32\", \"33\", \"34\", \"36\", \"37\"], \"mode\": \"lines\", \"name\": \"AUC_micro_max\", \"stepped\": true, \"type\": \"scatter\", \"data\": [0.9090608662716771, 0.9185322619917216, 0.9185322619917216, 0.9185322619917216, 0.9194328382436491, 0.9194328382436491, 0.9194328382436491, 0.9315116521927332, 0.9315116521927332, 0.9315116521927332, 0.9315116521927332, 0.9315116521927332, 0.9315116521927332, 0.9315116521927332, 0.9315116521927332, 0.9315116521927332, 0.9315116521927332, 0.9315116521927332, 0.9315116521927332, 0.9315116521927332, 0.9315116521927332, 0.9315116521927332, 0.9315116521927332, 0.9315116521927332, 0.9315116521927332, 0.9315116521927332, 0.9330007845683522, 0.9330007845683522, 0.9330007845683522, 0.9330007845683522, 0.9330007845683522, 0.9330007845683522, 0.9330007845683522, 0.9330007845683522, 0.9330007845683522, 0.9330007845683522, 0.9330007845683522]}], \"precision_score_weighted\": [{\"categories\": [\"0\", \"1\", \"2\", \"3\", \"4\", \"5\", \"6\", \"7\", \"8\", \"9\", \"10\", \"11\", \"12\", \"13\", \"14\", \"15\", \"16\", \"17\", \"18\", \"19\", \"20\", \"21\", \"22\", \"23\", \"24\", \"25\", \"26\", \"27\", \"28\", \"29\", \"30\", \"31\", \"32\", \"33\", \"34\", \"36\", \"37\"], \"mode\": \"markers\", \"name\": \"precision_score_weighted\", \"stepped\": false, \"type\": \"scatter\", \"data\": [0.8388812674743709, 0.8376355158403839, 0.8325017652863455, 0.8398459308711533, 0.8331871399988192, 0.822629958354398, 0.7529740935577459, 0.8496959350383192, 0.8264577417520756, 0.8464974149372706, 0.7388383922273299, 0.8338085152278055, 0.8078493653663466, 0.8317970562786116, 0.8493538514798052, 0.8712080462221706, 0.8449509481383858, 0.8451196369913608, 0.8241927287747721, 0.8282560078689111, 0.8504047760029813, 0.842460895917899, 0.8565134926727659, 0.8138479200775331, 0.8384300856583753, 0.46151253956659355, 0.8498651700559542, 0.8660186827522932, 0.799034878619493, 0.7249774355655139, 0.8586607566317711, 0.8501506473220616, 0.8051872422625465, 0.8692856924721332, 0.8464974149372706, 0.8678901331571232, 0.8647833902868385]}, {\"categories\": [\"0\", \"1\", \"2\", \"3\", \"4\", \"5\", \"6\", \"7\", \"8\", \"9\", \"10\", \"11\", \"12\", \"13\", \"14\", \"15\", \"16\", \"17\", \"18\", \"19\", \"20\", \"21\", \"22\", \"23\", \"24\", \"25\", \"26\", \"27\", \"28\", \"29\", \"30\", \"31\", \"32\", \"33\", \"34\", \"36\", \"37\"], \"mode\": \"lines\", \"name\": \"precision_score_weighted_max\", \"stepped\": true, \"type\": \"scatter\", \"data\": [0.8388812674743709, 0.8388812674743709, 0.8388812674743709, 0.8398459308711533, 0.8398459308711533, 0.8398459308711533, 0.8398459308711533, 0.8496959350383192, 0.8496959350383192, 0.8496959350383192, 0.8496959350383192, 0.8496959350383192, 0.8496959350383192, 0.8496959350383192, 0.8496959350383192, 0.8712080462221706, 0.8712080462221706, 0.8712080462221706, 0.8712080462221706, 0.8712080462221706, 0.8712080462221706, 0.8712080462221706, 0.8712080462221706, 0.8712080462221706, 0.8712080462221706, 0.8712080462221706, 0.8712080462221706, 0.8712080462221706, 0.8712080462221706, 0.8712080462221706, 0.8712080462221706, 0.8712080462221706, 0.8712080462221706, 0.8712080462221706, 0.8712080462221706, 0.8712080462221706, 0.8712080462221706]}], \"recall_score_weighted\": [{\"categories\": [\"0\", \"1\", \"2\", \"3\", \"4\", \"5\", \"6\", \"7\", \"8\", \"9\", \"10\", \"11\", \"12\", \"13\", \"14\", \"15\", \"16\", \"17\", \"18\", \"19\", \"20\", \"21\", \"22\", \"23\", \"24\", \"25\", \"26\", \"27\", \"28\", \"29\", \"30\", \"31\", \"32\", \"33\", \"34\", \"36\", \"37\"], \"mode\": \"markers\", \"name\": \"recall_score_weighted\", \"stepped\": false, \"type\": \"scatter\", \"data\": [0.8391591591591592, 0.8347147147147148, 0.8303303303303302, 0.8348948948948949, 0.8347147147147148, 0.816996996996997, 0.7587987987987987, 0.8481081081081081, 0.8258258258258259, 0.8436636636636635, 0.7364564564564565, 0.8303903903903903, 0.7992792792792792, 0.8303303303303302, 0.8436036036036038, 0.866006006006006, 0.8436636636636635, 0.8437237237237237, 0.8257057057057057, 0.8124924924924924, 0.8437837837837838, 0.8348948948948949, 0.8526126126126127, 0.8125525525525527, 0.8033033033033034, 0.6785585585585586, 0.8481681681681681, 0.8615615615615616, 0.7859459459459459, 0.7813813813813814, 0.8571771771771771, 0.8481681681681681, 0.7945945945945946, 0.8615615615615616, 0.8436636636636635, 0.866006006006006, 0.8571771771771771]}, {\"categories\": [\"0\", \"1\", \"2\", \"3\", \"4\", \"5\", \"6\", \"7\", \"8\", \"9\", \"10\", \"11\", \"12\", \"13\", \"14\", \"15\", \"16\", \"17\", \"18\", \"19\", \"20\", \"21\", \"22\", \"23\", \"24\", \"25\", \"26\", \"27\", \"28\", \"29\", \"30\", \"31\", \"32\", \"33\", \"34\", \"36\", \"37\"], \"mode\": \"lines\", \"name\": \"recall_score_weighted_max\", \"stepped\": true, \"type\": \"scatter\", \"data\": [0.8391591591591592, 0.8391591591591592, 0.8391591591591592, 0.8391591591591592, 0.8391591591591592, 0.8391591591591592, 0.8391591591591592, 0.8481081081081081, 0.8481081081081081, 0.8481081081081081, 0.8481081081081081, 0.8481081081081081, 0.8481081081081081, 0.8481081081081081, 0.8481081081081081, 0.866006006006006, 0.866006006006006, 0.866006006006006, 0.866006006006006, 0.866006006006006, 0.866006006006006, 0.866006006006006, 0.866006006006006, 0.866006006006006, 0.866006006006006, 0.866006006006006, 0.866006006006006, 0.866006006006006, 0.866006006006006, 0.866006006006006, 0.866006006006006, 0.866006006006006, 0.866006006006006, 0.866006006006006, 0.866006006006006, 0.866006006006006, 0.866006006006006]}], \"matthews_correlation\": [{\"categories\": [\"0\", \"1\", \"2\", \"3\", \"4\", \"5\", \"6\", \"7\", \"8\", \"9\", \"10\", \"11\", \"12\", \"13\", \"14\", \"15\", \"16\", \"17\", \"18\", \"19\", \"20\", \"21\", \"22\", \"23\", \"24\", \"25\", \"26\", \"27\", \"28\", \"29\", \"30\", \"31\", \"32\", \"33\", \"34\", \"36\", \"37\"], \"mode\": \"markers\", \"name\": \"matthews_correlation\", \"stepped\": false, \"type\": \"scatter\", \"data\": [0.6193357402823029, 0.6183081619177065, 0.6047814773801208, 0.5976125482372749, 0.6085267209207977, 0.5840448760799166, 0.40426350519718596, 0.6452732609823744, 0.5900294635127641, 0.6328370069305463, 0.32489163552050687, 0.6058446200681066, 0.5401446536228031, 0.6014187920558732, 0.6267705080645317, 0.681061857812178, 0.6280846958310269, 0.6395408685265235, 0.5817411166486454, 0.5576360846131007, 0.6438086645779209, 0.6143325559950892, 0.6605718007392911, 0.5583939609825211, 0.5372823324669432, 0.0, 0.6472644608382627, 0.6747379479068002, 0.529637708898914, 0.3819479712228658, 0.6699067117384235, 0.6501647361925986, 0.5153179936545698, 0.6853374475589088, 0.6328370069305463, 0.6862796705732439, 0.676187637014905]}, {\"categories\": [\"0\", \"1\", \"2\", \"3\", \"4\", \"5\", \"6\", \"7\", \"8\", \"9\", \"10\", \"11\", \"12\", \"13\", \"14\", \"15\", \"16\", \"17\", \"18\", \"19\", \"20\", \"21\", \"22\", \"23\", \"24\", \"25\", \"26\", \"27\", \"28\", \"29\", \"30\", \"31\", \"32\", \"33\", \"34\", \"36\", \"37\"], \"mode\": \"lines\", \"name\": \"matthews_correlation_max\", \"stepped\": true, \"type\": \"scatter\", \"data\": [0.6193357402823029, 0.6193357402823029, 0.6193357402823029, 0.6193357402823029, 0.6193357402823029, 0.6193357402823029, 0.6193357402823029, 0.6452732609823744, 0.6452732609823744, 0.6452732609823744, 0.6452732609823744, 0.6452732609823744, 0.6452732609823744, 0.6452732609823744, 0.6452732609823744, 0.681061857812178, 0.681061857812178, 0.681061857812178, 0.681061857812178, 0.681061857812178, 0.681061857812178, 0.681061857812178, 0.681061857812178, 0.681061857812178, 0.681061857812178, 0.681061857812178, 0.681061857812178, 0.681061857812178, 0.681061857812178, 0.681061857812178, 0.681061857812178, 0.681061857812178, 0.681061857812178, 0.6853374475589088, 0.6853374475589088, 0.6862796705732439, 0.6862796705732439]}], \"weighted_accuracy\": [{\"categories\": [\"0\", \"1\", \"2\", \"3\", \"4\", \"5\", \"6\", \"7\", \"8\", \"9\", \"10\", \"11\", \"12\", \"13\", \"14\", \"15\", \"16\", \"17\", \"18\", \"19\", \"20\", \"21\", \"22\", \"23\", \"24\", \"25\", \"26\", \"27\", \"28\", \"29\", \"30\", \"31\", \"32\", \"33\", \"34\", \"36\", \"37\"], \"mode\": \"markers\", \"name\": \"weighted_accuracy\", \"stepped\": false, \"type\": \"scatter\", \"data\": [0.8715484142877905, 0.8598062642651175, 0.8568974975937887, 0.8883239265805511, 0.8710622517981434, 0.8445193379512667, 0.824236677964706, 0.8738398183920851, 0.860251765891994, 0.8745721351976422, 0.8311829508347213, 0.8644213152941728, 0.835549872207428, 0.865756683362644, 0.8914067847117467, 0.9097597353710958, 0.8801568163059867, 0.8630724767487746, 0.8666562299494253, 0.8761333271506384, 0.8702762697573686, 0.8792105897291694, 0.8798883539193406, 0.8523748398521619, 0.8796381575407876, 0.8136734826118964, 0.8778897841209918, 0.8979309600320858, 0.7996450665540357, 0.8708235488318944, 0.876366854115727, 0.8660398357992197, 0.8490385438759969, 0.8858794338796375, 0.8745721351976422, 0.8924961260539437, 0.8787251427759918]}, {\"categories\": [\"0\", \"1\", \"2\", \"3\", \"4\", \"5\", \"6\", \"7\", \"8\", \"9\", \"10\", \"11\", \"12\", \"13\", \"14\", \"15\", \"16\", \"17\", \"18\", \"19\", \"20\", \"21\", \"22\", \"23\", \"24\", \"25\", \"26\", \"27\", \"28\", \"29\", \"30\", \"31\", \"32\", \"33\", \"34\", \"36\", \"37\"], \"mode\": \"lines\", \"name\": \"weighted_accuracy_max\", \"stepped\": true, \"type\": \"scatter\", \"data\": [0.8715484142877905, 0.8715484142877905, 0.8715484142877905, 0.8883239265805511, 0.8883239265805511, 0.8883239265805511, 0.8883239265805511, 0.8883239265805511, 0.8883239265805511, 0.8883239265805511, 0.8883239265805511, 0.8883239265805511, 0.8883239265805511, 0.8883239265805511, 0.8914067847117467, 0.9097597353710958, 0.9097597353710958, 0.9097597353710958, 0.9097597353710958, 0.9097597353710958, 0.9097597353710958, 0.9097597353710958, 0.9097597353710958, 0.9097597353710958, 0.9097597353710958, 0.9097597353710958, 0.9097597353710958, 0.9097597353710958, 0.9097597353710958, 0.9097597353710958, 0.9097597353710958, 0.9097597353710958, 0.9097597353710958, 0.9097597353710958, 0.9097597353710958, 0.9097597353710958, 0.9097597353710958]}]}, \"metricName\": null, \"primaryMetricName\": \"accuracy\", \"showLegend\": false}, \"run_metrics\": [{\"name\": \"experiment_status\", \"run_id\": \"AutoML_2a4fb19b-8e42-40a9-9bd4-55b924b4801a\", \"categories\": [0, 1, 2, 3, 4, 5], \"series\": [{\"data\": [\"DatasetEvaluation\", \"FeaturesGeneration\", \"DatasetFeaturization\", \"DatasetFeaturizationCompleted\", \"DatasetCrossValidationSplit\", \"ModelSelection\"]}]}, {\"name\": \"experiment_status_description\", \"run_id\": \"AutoML_2a4fb19b-8e42-40a9-9bd4-55b924b4801a\", \"categories\": [0, 1, 2, 3, 4, 5], \"series\": [{\"data\": [\"Gathering dataset statistics.\", \"Generating features for the dataset.\", \"Beginning to fit featurizers and featurize the dataset.\", \"Completed fit featurizers and featurizing the dataset.\", \"Generating individually featurized CV splits.\", \"Beginning model selection.\"]}]}, {\"name\": \"f1_score_weighted\", \"run_id\": \"AutoML_2a4fb19b-8e42-40a9-9bd4-55b924b4801a\", \"categories\": [0], \"series\": [{\"data\": [0.8634160198764773]}]}, {\"name\": \"f1_score_macro\", \"run_id\": \"AutoML_2a4fb19b-8e42-40a9-9bd4-55b924b4801a\", \"categories\": [0], \"series\": [{\"data\": [0.8391345133403177]}]}, {\"name\": \"recall_score_micro\", \"run_id\": \"AutoML_2a4fb19b-8e42-40a9-9bd4-55b924b4801a\", \"categories\": [0], \"series\": [{\"data\": [0.866006006006006]}]}, {\"name\": \"weighted_accuracy\", \"run_id\": \"AutoML_2a4fb19b-8e42-40a9-9bd4-55b924b4801a\", \"categories\": [0], \"series\": [{\"data\": [0.8924961260539437]}]}, {\"name\": \"average_precision_score_macro\", \"run_id\": \"AutoML_2a4fb19b-8e42-40a9-9bd4-55b924b4801a\", \"categories\": [0], \"series\": [{\"data\": [0.9120304081951005]}]}, {\"name\": \"accuracy\", \"run_id\": \"AutoML_2a4fb19b-8e42-40a9-9bd4-55b924b4801a\", \"categories\": [0], \"series\": [{\"data\": [0.866006006006006]}]}, {\"name\": \"AUC_weighted\", \"run_id\": \"AutoML_2a4fb19b-8e42-40a9-9bd4-55b924b4801a\", \"categories\": [0], \"series\": [{\"data\": [0.9277748383303939]}]}, {\"name\": \"AUC_macro\", \"run_id\": \"AutoML_2a4fb19b-8e42-40a9-9bd4-55b924b4801a\", \"categories\": [0], \"series\": [{\"data\": [0.9277748383303939]}]}, {\"name\": \"average_precision_score_weighted\", \"run_id\": \"AutoML_2a4fb19b-8e42-40a9-9bd4-55b924b4801a\", \"categories\": [0], \"series\": [{\"data\": [0.9332315308759033]}]}, {\"name\": \"log_loss\", \"run_id\": \"AutoML_2a4fb19b-8e42-40a9-9bd4-55b924b4801a\", \"categories\": [0], \"series\": [{\"data\": [0.38476845932859244]}]}, {\"name\": \"average_precision_score_micro\", \"run_id\": \"AutoML_2a4fb19b-8e42-40a9-9bd4-55b924b4801a\", \"categories\": [0], \"series\": [{\"data\": [0.9337369544780517]}]}, {\"name\": \"precision_score_weighted\", \"run_id\": \"AutoML_2a4fb19b-8e42-40a9-9bd4-55b924b4801a\", \"categories\": [0], \"series\": [{\"data\": [0.8678901331571232]}]}, {\"name\": \"recall_score_weighted\", \"run_id\": \"AutoML_2a4fb19b-8e42-40a9-9bd4-55b924b4801a\", \"categories\": [0], \"series\": [{\"data\": [0.866006006006006]}]}, {\"name\": \"precision_score_micro\", \"run_id\": \"AutoML_2a4fb19b-8e42-40a9-9bd4-55b924b4801a\", \"categories\": [0], \"series\": [{\"data\": [0.866006006006006]}]}, {\"name\": \"AUC_micro\", \"run_id\": \"AutoML_2a4fb19b-8e42-40a9-9bd4-55b924b4801a\", \"categories\": [0], \"series\": [{\"data\": [0.9317938370803236]}]}, {\"name\": \"norm_macro_recall\", \"run_id\": \"AutoML_2a4fb19b-8e42-40a9-9bd4-55b924b4801a\", \"categories\": [0], \"series\": [{\"data\": [0.6627028218694885]}]}, {\"name\": \"matthews_correlation\", \"run_id\": \"AutoML_2a4fb19b-8e42-40a9-9bd4-55b924b4801a\", \"categories\": [0], \"series\": [{\"data\": [0.6862796705732439]}]}, {\"name\": \"precision_score_macro\", \"run_id\": \"AutoML_2a4fb19b-8e42-40a9-9bd4-55b924b4801a\", \"categories\": [0], \"series\": [{\"data\": [0.8562318848275972]}]}, {\"name\": \"balanced_accuracy\", \"run_id\": \"AutoML_2a4fb19b-8e42-40a9-9bd4-55b924b4801a\", \"categories\": [0], \"series\": [{\"data\": [0.8313514109347443]}]}, {\"name\": \"f1_score_micro\", \"run_id\": \"AutoML_2a4fb19b-8e42-40a9-9bd4-55b924b4801a\", \"categories\": [0], \"series\": [{\"data\": [0.8660060060060061]}]}, {\"name\": \"recall_score_macro\", \"run_id\": \"AutoML_2a4fb19b-8e42-40a9-9bd4-55b924b4801a\", \"categories\": [0], \"series\": [{\"data\": [0.8313514109347443]}]}], \"run_logs\": \"\\nRun is completed.\", \"graph\": {}, \"widget_settings\": {\"childWidgetDisplay\": \"popup\", \"send_telemetry\": false, \"log_level\": \"INFO\", \"sdk_version\": \"1.19.0\"}, \"loading\": false}"
          },
          "metadata": {}
        },
        {
          "output_type": "stream",
          "name": "stdout",
          "text": [
            "\n",
            "\n",
            "****************************************************************************************************\n",
            "DATA GUARDRAILS: \n",
            "\n",
            "TYPE:         Class balancing detection\n",
            "STATUS:       PASSED\n",
            "DESCRIPTION:  Your inputs were analyzed, and all classes are balanced in your training data.\n",
            "              Learn more about imbalanced data: https://aka.ms/AutomatedMLImbalancedData\n",
            "\n",
            "****************************************************************************************************\n",
            "\n",
            "TYPE:         Missing feature values imputation\n",
            "STATUS:       PASSED\n",
            "DESCRIPTION:  No feature missing values were detected in the training data.\n",
            "              Learn more about missing value imputation: https://aka.ms/AutomatedMLFeaturization\n",
            "\n",
            "****************************************************************************************************\n",
            "\n",
            "TYPE:         High cardinality feature detection\n",
            "STATUS:       PASSED\n",
            "DESCRIPTION:  Your inputs were analyzed, and no high cardinality features were detected.\n",
            "              Learn more about high cardinality feature handling: https://aka.ms/AutomatedMLFeaturization\n",
            "\n",
            "****************************************************************************************************\n",
            "\n",
            "****************************************************************************************************\n",
            "ITERATION: The iteration being evaluated.\n",
            "PIPELINE: A summary description of the pipeline being evaluated.\n",
            "DURATION: Time taken for the current iteration.\n",
            "METRIC: The result of computing score on the fitted pipeline.\n",
            "BEST: The best observed score thus far.\n",
            "****************************************************************************************************\n",
            "\n",
            " ITERATION   PIPELINE                                       DURATION      METRIC      BEST\n",
            "         0   MaxAbsScaler LightGBM                          0:00:50       0.8392    0.8392\n",
            "         1   MaxAbsScaler XGBoostClassifier                 0:02:10       0.8347    0.8392\n",
            "         2   MinMaxScaler RandomForest                      0:00:46       0.8303    0.8392\n",
            "         3   MinMaxScaler RandomForest                      0:00:50       0.8349    0.8392\n",
            "         4   MinMaxScaler RandomForest                      0:02:16       0.8347    0.8392\n",
            "         5   StandardScalerWrapper XGBoostClassifier        0:02:12       0.8170    0.8392\n",
            "         6   MinMaxScaler SVM                               0:00:49       0.7588    0.8392\n",
            "         7   MaxAbsScaler GradientBoosting                  0:00:42       0.8481    0.8481\n",
            "        10   SparseNormalizer LightGBM                      0:00:39       0.7365    0.8481\n",
            "        11   RobustScaler GradientBoosting                  0:01:26       0.8304    0.8481\n",
            "         8   StandardScalerWrapper RandomForest             0:00:43       0.8258    0.8481\n",
            "         9   RobustScaler RandomForest                      0:00:45       0.8437    0.8481\n",
            "        12   SparseNormalizer LightGBM                      0:00:36       0.7993    0.8481\n",
            "        13   SparseNormalizer XGBoostClassifier             0:00:43       0.8303    0.8481\n",
            "        14   RobustScaler ExtremeRandomTrees                0:00:40       0.8436    0.8481\n",
            "        15   RobustScaler ExtremeRandomTrees                0:00:42       0.8660    0.8660\n",
            "        16   MaxAbsScaler LightGBM                          0:00:37       0.8437    0.8660\n",
            "        17   StandardScalerWrapper RandomForest             0:00:38       0.8437    0.8660\n",
            "        18   SparseNormalizer XGBoostClassifier             0:00:43       0.8257    0.8660\n",
            "        19   RobustScaler LightGBM                          0:00:55       0.8125    0.8660\n",
            "        20   StandardScalerWrapper GradientBoosting         0:00:42       0.8438    0.8660\n",
            "        21   SparseNormalizer LightGBM                      0:00:45       0.8349    0.8660\n",
            "        22   StandardScalerWrapper XGBoostClassifier        0:00:43       0.8526    0.8660\n",
            "        23   SparseNormalizer XGBoostClassifier             0:00:37       0.8126    0.8660\n",
            "        24   StandardScalerWrapper ExtremeRandomTrees       0:00:42       0.8033    0.8660\n",
            "        25   SparseNormalizer ExtremeRandomTrees            0:00:38       0.6786    0.8660\n",
            "        26   StandardScalerWrapper LightGBM                 0:00:40       0.8482    0.8660\n",
            "        27   StandardScalerWrapper LightGBM                 0:00:36       0.8616    0.8660\n",
            "        28   SparseNormalizer RandomForest                  0:00:46       0.7859    0.8660\n",
            "        29   StandardScalerWrapper ExtremeRandomTrees       0:00:39       0.7814    0.8660\n",
            "        30   MaxAbsScaler RandomForest                      0:00:37       0.8572    0.8660\n",
            "        31   StandardScalerWrapper RandomForest             0:00:44       0.8482    0.8660\n",
            "Received interrupt. Returning now."
          ]
        },
        {
          "output_type": "execute_result",
          "execution_count": 6,
          "data": {
            "text/plain": "{'runId': 'AutoML_2a4fb19b-8e42-40a9-9bd4-55b924b4801a',\n 'target': 'final-compute2',\n 'status': 'Completed',\n 'startTimeUtc': '2021-01-19T00:19:58.373301Z',\n 'endTimeUtc': '2021-01-19T00:42:02.292172Z',\n 'properties': {'num_iterations': '1000',\n  'training_type': 'TrainFull',\n  'acquisition_function': 'EI',\n  'primary_metric': 'accuracy',\n  'train_split': '0',\n  'acquisition_parameter': '0',\n  'num_cross_validation': '3',\n  'target': 'final-compute2',\n  'AMLSettingsJsonString': '{\"path\":null,\"name\":\"capstoneproject\",\"subscription_id\":\"6971f5ac-8af1-446e-8034-05acea24681f\",\"resource_group\":\"aml-quickstarts-135279\",\"workspace_name\":\"quick-starts-ws-135279\",\"region\":\"southcentralus\",\"compute_target\":\"final-compute2\",\"spark_service\":null,\"azure_service\":\"remote\",\"many_models\":false,\"pipeline_fetch_max_batch_size\":1,\"iterations\":1000,\"primary_metric\":\"accuracy\",\"task_type\":\"classification\",\"data_script\":null,\"validation_size\":0.0,\"n_cross_validations\":3,\"y_min\":null,\"y_max\":null,\"num_classes\":null,\"featurization\":\"auto\",\"_ignore_package_version_incompatibilities\":false,\"is_timeseries\":false,\"max_cores_per_iteration\":1,\"max_concurrent_iterations\":4,\"iteration_timeout_minutes\":null,\"mem_in_mb\":null,\"enforce_time_on_windows\":false,\"experiment_timeout_minutes\":30,\"experiment_exit_score\":null,\"whitelist_models\":null,\"blacklist_algos\":[\"TensorFlowLinearClassifier\",\"TensorFlowDNN\"],\"supported_models\":[\"GradientBoosting\",\"LogisticRegression\",\"TensorFlowDNN\",\"TensorFlowLinearClassifier\",\"BernoulliNaiveBayes\",\"SVM\",\"DecisionTree\",\"SGD\",\"ExtremeRandomTrees\",\"XGBoostClassifier\",\"RandomForest\",\"KNN\",\"MultinomialNaiveBayes\",\"LightGBM\",\"AveragedPerceptronClassifier\",\"LinearSVM\"],\"auto_blacklist\":true,\"blacklist_samples_reached\":false,\"exclude_nan_labels\":true,\"verbosity\":20,\"_debug_log\":\"azureml_automl.log\",\"show_warnings\":false,\"model_explainability\":true,\"service_url\":null,\"sdk_url\":null,\"sdk_packages\":null,\"enable_onnx_compatible_models\":false,\"enable_split_onnx_featurizer_estimator_models\":false,\"vm_type\":\"STANDARD_D3_V2\",\"telemetry_verbosity\":20,\"send_telemetry\":true,\"enable_dnn\":false,\"scenario\":\"SDK-1.13.0\",\"environment_label\":null,\"force_text_dnn\":false,\"enable_feature_sweeping\":true,\"enable_early_stopping\":true,\"early_stopping_n_iters\":10,\"metrics\":null,\"enable_ensembling\":true,\"enable_stack_ensembling\":true,\"ensemble_iterations\":15,\"enable_tf\":false,\"enable_subsampling\":null,\"subsample_seed\":null,\"enable_nimbusml\":false,\"enable_streaming\":false,\"force_streaming\":false,\"track_child_runs\":true,\"allowed_private_models\":[],\"label_column_name\":\"DEATH_EVENT\",\"weight_column_name\":null,\"cv_split_column_names\":null,\"enable_local_managed\":false,\"_local_managed_run_id\":null,\"cost_mode\":1,\"lag_length\":0,\"metric_operation\":\"maximize\",\"preprocess\":true}',\n  'DataPrepJsonString': '{\\\\\"training_data\\\\\": \\\\\"{\\\\\\\\\\\\\"blocks\\\\\\\\\\\\\": [{\\\\\\\\\\\\\"id\\\\\\\\\\\\\": \\\\\\\\\\\\\"96e04863-a457-4326-812b-69b199f64068\\\\\\\\\\\\\", \\\\\\\\\\\\\"type\\\\\\\\\\\\\": \\\\\\\\\\\\\"Microsoft.DPrep.GetDatastoreFilesBlock\\\\\\\\\\\\\", \\\\\\\\\\\\\"arguments\\\\\\\\\\\\\": {\\\\\\\\\\\\\"datastores\\\\\\\\\\\\\": [{\\\\\\\\\\\\\"datastoreName\\\\\\\\\\\\\": \\\\\\\\\\\\\"workspaceblobstore\\\\\\\\\\\\\", \\\\\\\\\\\\\"path\\\\\\\\\\\\\": \\\\\\\\\\\\\"train.csv\\\\\\\\\\\\\", \\\\\\\\\\\\\"resourceGroup\\\\\\\\\\\\\": \\\\\\\\\\\\\"aml-quickstarts-135279\\\\\\\\\\\\\", \\\\\\\\\\\\\"subscription\\\\\\\\\\\\\": \\\\\\\\\\\\\"6971f5ac-8af1-446e-8034-05acea24681f\\\\\\\\\\\\\", \\\\\\\\\\\\\"workspaceName\\\\\\\\\\\\\": \\\\\\\\\\\\\"quick-starts-ws-135279\\\\\\\\\\\\\"}]}, \\\\\\\\\\\\\"localData\\\\\\\\\\\\\": {}, \\\\\\\\\\\\\"isEnabled\\\\\\\\\\\\\": true, \\\\\\\\\\\\\"name\\\\\\\\\\\\\": null, \\\\\\\\\\\\\"annotation\\\\\\\\\\\\\": null}, {\\\\\\\\\\\\\"id\\\\\\\\\\\\\": \\\\\\\\\\\\\"b75e16aa-fa20-415e-a6ae-d53072c721a2\\\\\\\\\\\\\", \\\\\\\\\\\\\"type\\\\\\\\\\\\\": \\\\\\\\\\\\\"Microsoft.DPrep.ParseDelimitedBlock\\\\\\\\\\\\\", \\\\\\\\\\\\\"arguments\\\\\\\\\\\\\": {\\\\\\\\\\\\\"columnHeadersMode\\\\\\\\\\\\\": 3, \\\\\\\\\\\\\"fileEncoding\\\\\\\\\\\\\": 0, \\\\\\\\\\\\\"handleQuotedLineBreaks\\\\\\\\\\\\\": false, \\\\\\\\\\\\\"preview\\\\\\\\\\\\\": false, \\\\\\\\\\\\\"separator\\\\\\\\\\\\\": \\\\\\\\\\\\\",\\\\\\\\\\\\\", \\\\\\\\\\\\\"skipRows\\\\\\\\\\\\\": 0, \\\\\\\\\\\\\"skipRowsMode\\\\\\\\\\\\\": 0}, \\\\\\\\\\\\\"localData\\\\\\\\\\\\\": {}, \\\\\\\\\\\\\"isEnabled\\\\\\\\\\\\\": true, \\\\\\\\\\\\\"name\\\\\\\\\\\\\": null, \\\\\\\\\\\\\"annotation\\\\\\\\\\\\\": null}, {\\\\\\\\\\\\\"id\\\\\\\\\\\\\": \\\\\\\\\\\\\"1e013f7d-9672-49ad-b007-7accbcd263af\\\\\\\\\\\\\", \\\\\\\\\\\\\"type\\\\\\\\\\\\\": \\\\\\\\\\\\\"Microsoft.DPrep.DropColumnsBlock\\\\\\\\\\\\\", \\\\\\\\\\\\\"arguments\\\\\\\\\\\\\": {\\\\\\\\\\\\\"columns\\\\\\\\\\\\\": {\\\\\\\\\\\\\"type\\\\\\\\\\\\\": 0, \\\\\\\\\\\\\"details\\\\\\\\\\\\\": {\\\\\\\\\\\\\"selectedColumns\\\\\\\\\\\\\": [\\\\\\\\\\\\\"Path\\\\\\\\\\\\\"]}}}, \\\\\\\\\\\\\"localData\\\\\\\\\\\\\": {}, \\\\\\\\\\\\\"isEnabled\\\\\\\\\\\\\": true, \\\\\\\\\\\\\"name\\\\\\\\\\\\\": null, \\\\\\\\\\\\\"annotation\\\\\\\\\\\\\": null}, {\\\\\\\\\\\\\"id\\\\\\\\\\\\\": \\\\\\\\\\\\\"e77e4b72-109b-47fd-9122-ae9e8c97a900\\\\\\\\\\\\\", \\\\\\\\\\\\\"type\\\\\\\\\\\\\": \\\\\\\\\\\\\"Microsoft.DPrep.SetColumnTypesBlock\\\\\\\\\\\\\", \\\\\\\\\\\\\"arguments\\\\\\\\\\\\\": {\\\\\\\\\\\\\"columnConversion\\\\\\\\\\\\\": [{\\\\\\\\\\\\\"column\\\\\\\\\\\\\": {\\\\\\\\\\\\\"type\\\\\\\\\\\\\": 2, \\\\\\\\\\\\\"details\\\\\\\\\\\\\": {\\\\\\\\\\\\\"selectedColumn\\\\\\\\\\\\\": \\\\\\\\\\\\\"age\\\\\\\\\\\\\"}}, \\\\\\\\\\\\\"typeProperty\\\\\\\\\\\\\": 3}, {\\\\\\\\\\\\\"column\\\\\\\\\\\\\": {\\\\\\\\\\\\\"type\\\\\\\\\\\\\": 2, \\\\\\\\\\\\\"details\\\\\\\\\\\\\": {\\\\\\\\\\\\\"selectedColumn\\\\\\\\\\\\\": \\\\\\\\\\\\\"anaemia\\\\\\\\\\\\\"}}, \\\\\\\\\\\\\"typeProperty\\\\\\\\\\\\\": 2}, {\\\\\\\\\\\\\"column\\\\\\\\\\\\\": {\\\\\\\\\\\\\"type\\\\\\\\\\\\\": 2, \\\\\\\\\\\\\"details\\\\\\\\\\\\\": {\\\\\\\\\\\\\"selectedColumn\\\\\\\\\\\\\": \\\\\\\\\\\\\"creatinine_phosphokinase\\\\\\\\\\\\\"}}, \\\\\\\\\\\\\"typeProperty\\\\\\\\\\\\\": 2}, {\\\\\\\\\\\\\"column\\\\\\\\\\\\\": {\\\\\\\\\\\\\"type\\\\\\\\\\\\\": 2, \\\\\\\\\\\\\"details\\\\\\\\\\\\\": {\\\\\\\\\\\\\"selectedColumn\\\\\\\\\\\\\": \\\\\\\\\\\\\"diabetes\\\\\\\\\\\\\"}}, \\\\\\\\\\\\\"typeProperty\\\\\\\\\\\\\": 2}, {\\\\\\\\\\\\\"column\\\\\\\\\\\\\": {\\\\\\\\\\\\\"type\\\\\\\\\\\\\": 2, \\\\\\\\\\\\\"details\\\\\\\\\\\\\": {\\\\\\\\\\\\\"selectedColumn\\\\\\\\\\\\\": \\\\\\\\\\\\\"ejection_fraction\\\\\\\\\\\\\"}}, \\\\\\\\\\\\\"typeProperty\\\\\\\\\\\\\": 2}, {\\\\\\\\\\\\\"column\\\\\\\\\\\\\": {\\\\\\\\\\\\\"type\\\\\\\\\\\\\": 2, \\\\\\\\\\\\\"details\\\\\\\\\\\\\": {\\\\\\\\\\\\\"selectedColumn\\\\\\\\\\\\\": \\\\\\\\\\\\\"high_blood_pressure\\\\\\\\\\\\\"}}, \\\\\\\\\\\\\"typeProperty\\\\\\\\\\\\\": 2}, {\\\\\\\\\\\\\"column\\\\\\\\\\\\\": {\\\\\\\\\\\\\"type\\\\\\\\\\\\\": 2, \\\\\\\\\\\\\"details\\\\\\\\\\\\\": {\\\\\\\\\\\\\"selectedColumn\\\\\\\\\\\\\": \\\\\\\\\\\\\"platelets\\\\\\\\\\\\\"}}, \\\\\\\\\\\\\"typeProperty\\\\\\\\\\\\\": 3}, {\\\\\\\\\\\\\"column\\\\\\\\\\\\\": {\\\\\\\\\\\\\"type\\\\\\\\\\\\\": 2, \\\\\\\\\\\\\"details\\\\\\\\\\\\\": {\\\\\\\\\\\\\"selectedColumn\\\\\\\\\\\\\": \\\\\\\\\\\\\"serum_creatinine\\\\\\\\\\\\\"}}, \\\\\\\\\\\\\"typeProperty\\\\\\\\\\\\\": 3}, {\\\\\\\\\\\\\"column\\\\\\\\\\\\\": {\\\\\\\\\\\\\"type\\\\\\\\\\\\\": 2, \\\\\\\\\\\\\"details\\\\\\\\\\\\\": {\\\\\\\\\\\\\"selectedColumn\\\\\\\\\\\\\": \\\\\\\\\\\\\"serum_sodium\\\\\\\\\\\\\"}}, \\\\\\\\\\\\\"typeProperty\\\\\\\\\\\\\": 2}, {\\\\\\\\\\\\\"column\\\\\\\\\\\\\": {\\\\\\\\\\\\\"type\\\\\\\\\\\\\": 2, \\\\\\\\\\\\\"details\\\\\\\\\\\\\": {\\\\\\\\\\\\\"selectedColumn\\\\\\\\\\\\\": \\\\\\\\\\\\\"sex\\\\\\\\\\\\\"}}, \\\\\\\\\\\\\"typeProperty\\\\\\\\\\\\\": 2}, {\\\\\\\\\\\\\"column\\\\\\\\\\\\\": {\\\\\\\\\\\\\"type\\\\\\\\\\\\\": 2, \\\\\\\\\\\\\"details\\\\\\\\\\\\\": {\\\\\\\\\\\\\"selectedColumn\\\\\\\\\\\\\": \\\\\\\\\\\\\"smoking\\\\\\\\\\\\\"}}, \\\\\\\\\\\\\"typeProperty\\\\\\\\\\\\\": 2}, {\\\\\\\\\\\\\"column\\\\\\\\\\\\\": {\\\\\\\\\\\\\"type\\\\\\\\\\\\\": 2, \\\\\\\\\\\\\"details\\\\\\\\\\\\\": {\\\\\\\\\\\\\"selectedColumn\\\\\\\\\\\\\": \\\\\\\\\\\\\"time\\\\\\\\\\\\\"}}, \\\\\\\\\\\\\"typeProperty\\\\\\\\\\\\\": 2}, {\\\\\\\\\\\\\"column\\\\\\\\\\\\\": {\\\\\\\\\\\\\"type\\\\\\\\\\\\\": 2, \\\\\\\\\\\\\"details\\\\\\\\\\\\\": {\\\\\\\\\\\\\"selectedColumn\\\\\\\\\\\\\": \\\\\\\\\\\\\"DEATH_EVENT\\\\\\\\\\\\\"}}, \\\\\\\\\\\\\"typeProperty\\\\\\\\\\\\\": 2}]}, \\\\\\\\\\\\\"localData\\\\\\\\\\\\\": {}, \\\\\\\\\\\\\"isEnabled\\\\\\\\\\\\\": true, \\\\\\\\\\\\\"name\\\\\\\\\\\\\": null, \\\\\\\\\\\\\"annotation\\\\\\\\\\\\\": null}], \\\\\\\\\\\\\"inspectors\\\\\\\\\\\\\": [], \\\\\\\\\\\\\"meta\\\\\\\\\\\\\": {\\\\\\\\\\\\\"savedDatasetId\\\\\\\\\\\\\": \\\\\\\\\\\\\"e2a7eb63-79cd-4cb8-ac47-f90f1f962ea7\\\\\\\\\\\\\", \\\\\\\\\\\\\"datasetType\\\\\\\\\\\\\": \\\\\\\\\\\\\"tabular\\\\\\\\\\\\\", \\\\\\\\\\\\\"subscriptionId\\\\\\\\\\\\\": \\\\\\\\\\\\\"6971f5ac-8af1-446e-8034-05acea24681f\\\\\\\\\\\\\", \\\\\\\\\\\\\"workspaceId\\\\\\\\\\\\\": \\\\\\\\\\\\\"f191cded-14ed-435f-be02-79708067321e\\\\\\\\\\\\\", \\\\\\\\\\\\\"workspaceLocation\\\\\\\\\\\\\": \\\\\\\\\\\\\"southcentralus\\\\\\\\\\\\\"}}\\\\\", \\\\\"activities\\\\\": 0}',\n  'EnableSubsampling': None,\n  'runTemplate': 'AutoML',\n  'azureml.runsource': 'automl',\n  'display_task_type': 'classification',\n  'dependencies_versions': '{\"azureml-widgets\": \"1.19.0\", \"azureml-train\": \"1.19.0\", \"azureml-train-restclients-hyperdrive\": \"1.19.0\", \"azureml-train-core\": \"1.19.0\", \"azureml-train-automl\": \"1.19.0\", \"azureml-train-automl-runtime\": \"1.19.0\", \"azureml-train-automl-client\": \"1.19.0\", \"azureml-tensorboard\": \"1.19.0\", \"azureml-telemetry\": \"1.19.0\", \"azureml-sdk\": \"1.19.0\", \"azureml-samples\": \"0+unknown\", \"azureml-pipeline\": \"1.19.0\", \"azureml-pipeline-steps\": \"1.19.0\", \"azureml-pipeline-core\": \"1.19.0\", \"azureml-opendatasets\": \"1.19.0\", \"azureml-model-management-sdk\": \"1.0.1b6.post1\", \"azureml-mlflow\": \"1.19.0\", \"azureml-interpret\": \"1.19.0\", \"azureml-explain-model\": \"1.19.0\", \"azureml-defaults\": \"1.19.0\", \"azureml-dataset-runtime\": \"1.19.0.post1\", \"azureml-dataprep\": \"2.6.1\", \"azureml-dataprep-rslex\": \"1.4.0\", \"azureml-dataprep-native\": \"26.0.0\", \"azureml-datadrift\": \"1.19.0\", \"azureml-core\": \"1.19.0\", \"azureml-contrib-services\": \"1.19.0\", \"azureml-contrib-server\": \"1.19.0\", \"azureml-contrib-reinforcementlearning\": \"1.19.0\", \"azureml-contrib-pipeline-steps\": \"1.19.0\", \"azureml-contrib-notebook\": \"1.19.0\", \"azureml-contrib-interpret\": \"1.19.0\", \"azureml-contrib-gbdt\": \"1.19.0\", \"azureml-contrib-fairness\": \"1.19.0\", \"azureml-contrib-dataset\": \"1.19.0\", \"azureml-cli-common\": \"1.19.0\", \"azureml-automl-runtime\": \"1.19.0\", \"azureml-automl-core\": \"1.19.0\", \"azureml-accel-models\": \"1.19.0\"}',\n  '_aml_system_scenario_identification': 'Remote.Parent',\n  'ClientType': 'SDK',\n  'environment_cpu_name': 'AzureML-AutoML',\n  'environment_cpu_label': 'prod',\n  'environment_gpu_name': 'AzureML-AutoML-GPU',\n  'environment_gpu_label': 'prod',\n  'root_attribution': 'automl',\n  'attribution': 'AutoML',\n  'Orchestrator': 'AutoML',\n  'CancelUri': 'https://southcentralus.experiments.azureml.net/jasmine/v1.0/subscriptions/6971f5ac-8af1-446e-8034-05acea24681f/resourceGroups/aml-quickstarts-135279/providers/Microsoft.MachineLearningServices/workspaces/quick-starts-ws-135279/experimentids/7d273e90-9436-422c-b5b5-4f00f0ac479e/cancel/AutoML_2a4fb19b-8e42-40a9-9bd4-55b924b4801a',\n  'ClientSdkVersion': '1.19.0',\n  'snapshotId': '00000000-0000-0000-0000-000000000000',\n  'SetupRunId': 'AutoML_2a4fb19b-8e42-40a9-9bd4-55b924b4801a_setup',\n  'SetupRunContainerId': 'dcid.AutoML_2a4fb19b-8e42-40a9-9bd4-55b924b4801a_setup',\n  'FeaturizationRunJsonPath': 'featurizer_container.json',\n  'FeaturizationRunId': 'AutoML_2a4fb19b-8e42-40a9-9bd4-55b924b4801a_featurize',\n  'ProblemInfoJsonString': '{\"dataset_num_categorical\": 0, \"is_sparse\": false, \"subsampling\": false, \"dataset_classes\": 2, \"dataset_features\": 20, \"dataset_samples\": 224, \"single_frequency_class_detected\": false}',\n  'ModelExplainRunId': 'AutoML_2a4fb19b-8e42-40a9-9bd4-55b924b4801a_ModelExplain'},\n 'inputDatasets': [{'dataset': {'id': 'e2a7eb63-79cd-4cb8-ac47-f90f1f962ea7'}, 'consumptionDetails': {'type': 'RunInput', 'inputName': 'training_data', 'mechanism': 'Direct'}}],\n 'outputDatasets': [],\n 'logFiles': {}}"
          },
          "metadata": {}
        }
      ],
      "execution_count": 6,
      "metadata": {
        "gather": {
          "logged": 1611017090497
        },
        "jupyter": {
          "outputs_hidden": false,
          "source_hidden": false
        },
        "nteract": {
          "transient": {
            "deleting": false
          }
        }
      }
    },
    {
      "cell_type": "markdown",
      "source": [
        "## Best Model\n",
        "\n",
        "TODO: In the cell below, get the best model from the automl experiments and display all the properties of the model.\n",
        "\n"
      ],
      "metadata": {}
    },
    {
      "cell_type": "code",
      "source": [
        "best_run, model = remote_run.get_output()\n",
        "print(best_run)\n",
        "print(model)\n",
        "best_run.get_tags()\n",
        "best_run_metrics = best_run.get_metrics()\n",
        "for metric_name in best_run_metrics:\n",
        "    metric = best_run_metrics[metric_name]\n",
        "    print(metric_name, metric)"
      ],
      "outputs": [
        {
          "output_type": "stream",
          "name": "stdout",
          "text": [
            "Run(Experiment: capstoneproject,\n",
            "Id: AutoML_2a4fb19b-8e42-40a9-9bd4-55b924b4801a_36,\n",
            "Type: azureml.scriptrun,\n",
            "Status: Completed)\n",
            "Pipeline(memory=None,\n",
            "         steps=[('datatransformer',\n",
            "                 DataTransformer(enable_dnn=None, enable_feature_sweeping=None,\n",
            "                                 feature_sweeping_config=None,\n",
            "                                 feature_sweeping_timeout=None,\n",
            "                                 featurization_config=None, force_text_dnn=None,\n",
            "                                 is_cross_validation=None,\n",
            "                                 is_onnx_compatible=None, logger=None,\n",
            "                                 observer=None, task=None, working_dir=None)),\n",
            "                ('prefittedsoftvotingclassifier',...\n",
            "                                                                                        class_weight=None,\n",
            "                                                                                        coef0=0.0,\n",
            "                                                                                        decision_function_shape='ovr',\n",
            "                                                                                        degree=3,\n",
            "                                                                                        gamma='scale',\n",
            "                                                                                        kernel='rbf',\n",
            "                                                                                        max_iter=-1,\n",
            "                                                                                        probability=True,\n",
            "                                                                                        random_state=None,\n",
            "                                                                                        shrinking=True,\n",
            "                                                                                        tol=0.001,\n",
            "                                                                                        verbose=False))],\n",
            "                                                                     verbose=False))],\n",
            "                                               flatten_transform=None,\n",
            "                                               weights=[0.3333333333333333,\n",
            "                                                        0.1111111111111111,\n",
            "                                                        0.1111111111111111,\n",
            "                                                        0.2222222222222222,\n",
            "                                                        0.1111111111111111,\n",
            "                                                        0.1111111111111111]))],\n",
            "         verbose=False)\n",
            "f1_score_micro 0.8660060060060061\n",
            "recall_score_macro 0.8313514109347443\n",
            "AUC_micro 0.9317938370803236\n",
            "matthews_correlation 0.6862796705732439\n",
            "balanced_accuracy 0.8313514109347443\n",
            "precision_score_macro 0.8562318848275972\n",
            "weighted_accuracy 0.8924961260539437\n",
            "average_precision_score_micro 0.9337369544780517\n",
            "f1_score_macro 0.8391345133403177\n",
            "recall_score_micro 0.866006006006006\n",
            "f1_score_weighted 0.8634160198764773\n",
            "AUC_macro 0.9277748383303939\n",
            "norm_macro_recall 0.6627028218694885\n",
            "average_precision_score_macro 0.9120304081951005\n",
            "AUC_weighted 0.9277748383303939\n",
            "precision_score_weighted 0.8678901331571232\n",
            "average_precision_score_weighted 0.9332315308759033\n",
            "accuracy 0.866006006006006\n",
            "log_loss 0.38476845932859244\n",
            "precision_score_micro 0.866006006006006\n",
            "recall_score_weighted 0.866006006006006\n",
            "confusion_matrix aml://artifactId/ExperimentRun/dcid.AutoML_2a4fb19b-8e42-40a9-9bd4-55b924b4801a_36/confusion_matrix\n",
            "accuracy_table aml://artifactId/ExperimentRun/dcid.AutoML_2a4fb19b-8e42-40a9-9bd4-55b924b4801a_36/accuracy_table\n"
          ]
        }
      ],
      "execution_count": 7,
      "metadata": {
        "gather": {
          "logged": 1611017114576
        },
        "jupyter": {
          "outputs_hidden": false,
          "source_hidden": false
        },
        "nteract": {
          "transient": {
            "deleting": false
          }
        }
      }
    },
    {
      "cell_type": "markdown",
      "source": [
        "## Model Deployment\n",
        "\n",
        "Remember you have to deploy only one of the two models you trained.. Perform the steps in the rest of this notebook only if you wish to deploy this model.\n",
        "\n",
        "TODO: In the cell below, register the model, create an inference config and deploy the model as a web service."
      ],
      "metadata": {}
    },
    {
      "cell_type": "code",
      "source": [
        "#TODO: Save the best model\n",
        "from azureml.core import Model\n",
        "\n",
        "# Register model\n",
        "best_run.register_model(model_path='outputs/model.pkl', model_name='automl_model',\n",
        "                        tags={'Training context':'Auto ML'},\n",
        "                        properties={'AUC': best_run_metrics['AUC_weighted'], 'Accuracy': best_run_metrics['accuracy']})\n",
        "\n",
        "# List registered models\n",
        "for model in Model.list(ws):\n",
        "    print(model.name, 'version:', model.version)\n",
        "    for tag_name in model.tags:\n",
        "        tag = model.tags[tag_name]\n",
        "        print ('\\t',tag_name, ':', tag)\n",
        "    for prop_name in model.properties:\n",
        "        prop = model.properties[prop_name]\n",
        "        print ('\\t',prop_name, ':', prop)\n",
        "    print('\\n')"
      ],
      "outputs": [
        {
          "output_type": "stream",
          "name": "stdout",
          "text": [
            "automl_model version: 1\n",
            "\t Training context : Auto ML\n",
            "\t AUC : 0.9277748383303939\n",
            "\t Accuracy : 0.866006006006006\n",
            "\n",
            "\n"
          ]
        }
      ],
      "execution_count": 8,
      "metadata": {
        "gather": {
          "logged": 1611017122338
        }
      }
    },
    {
      "cell_type": "code",
      "source": [
        "from azureml.automl.core.shared import constants\n",
        "best_run.download_file(constants.CONDA_ENV_FILE_PATH, 'myenv.yml')"
      ],
      "outputs": [],
      "execution_count": 10,
      "metadata": {
        "collapsed": true,
        "jupyter": {
          "source_hidden": false,
          "outputs_hidden": false
        },
        "nteract": {
          "transient": {
            "deleting": false
          }
        },
        "gather": {
          "logged": 1611017267085
        }
      }
    },
    {
      "cell_type": "code",
      "source": [
        "# create inference_config\r\n",
        "from azureml.core.model import InferenceConfig\r\n",
        "from azureml.core.environment import Environment\r\n",
        "\r\n",
        "inference_config = InferenceConfig(entry_script=\"scoring.py\",environment=myenv)"
      ],
      "outputs": [],
      "execution_count": 13,
      "metadata": {
        "collapsed": true,
        "jupyter": {
          "source_hidden": false,
          "outputs_hidden": false
        },
        "nteract": {
          "transient": {
            "deleting": false
          }
        },
        "gather": {
          "logged": 1611017292129
        }
      }
    },
    {
      "cell_type": "code",
      "source": [
        "from azureml.core.webservice import Webservice, AciWebservice\r\n",
        "deployment_config = AciWebservice.deploy_configuration(cpu_cores=1, memory_gb = 1)"
      ],
      "outputs": [],
      "execution_count": 14,
      "metadata": {
        "collapsed": true,
        "jupyter": {
          "source_hidden": false,
          "outputs_hidden": false
        },
        "nteract": {
          "transient": {
            "deleting": false
          }
        },
        "gather": {
          "logged": 1611017295054
        }
      }
    },
    {
      "cell_type": "markdown",
      "source": [
        "TODO: In the cell below, send a request to the web service you deployed to test it."
      ],
      "metadata": {
        "collapsed": true,
        "gather": {
          "logged": 1598431657736
        },
        "jupyter": {
          "outputs_hidden": false,
          "source_hidden": false
        },
        "nteract": {
          "transient": {
            "deleting": false
          }
        }
      }
    },
    {
      "cell_type": "code",
      "source": [
        "#deploy the model\n",
        "service=Model.deploy(workspace=ws,\n",
        "                    name=\"heart-deploy-service\",\n",
        "                    models=[model],\n",
        "                    inference_config=inference_config,\n",
        "                    deployment_config=deployment_config)\n",
        "service.wait_for_deployment(show_output=True)"
      ],
      "outputs": [
        {
          "output_type": "stream",
          "name": "stdout",
          "text": [
            "Tips: You can try get_logs(): https://aka.ms/debugimage#dockerlog or local deployment: https://aka.ms/debugimage#debug-locally to debug if deployment takes longer than 10 minutes.\n",
            "Running..................................\n",
            "Succeeded\n",
            "ACI service creation operation finished, operation \"Succeeded\"\n"
          ]
        }
      ],
      "execution_count": 15,
      "metadata": {
        "gather": {
          "logged": 1611017492274
        },
        "jupyter": {
          "outputs_hidden": false,
          "source_hidden": false
        },
        "nteract": {
          "transient": {
            "deleting": false
          }
        }
      }
    },
    {
      "cell_type": "markdown",
      "source": [
        "TODO: In the cell below, print the logs of the web service and delete the service"
      ],
      "metadata": {
        "collapsed": true,
        "gather": {
          "logged": 1598432765711
        },
        "jupyter": {
          "outputs_hidden": false,
          "source_hidden": false
        },
        "nteract": {
          "transient": {
            "deleting": false
          }
        }
      }
    },
    {
      "cell_type": "code",
      "source": [
        "print(service.get_logs())"
      ],
      "outputs": [
        {
          "output_type": "stream",
          "name": "stdout",
          "text": [
            "2021-01-19T00:50:57,776027517+00:00 - rsyslog/run \n",
            "2021-01-19T00:50:57,776144220+00:00 - gunicorn/run \n",
            "2021-01-19T00:50:57,776145420+00:00 - iot-server/run \n",
            "2021-01-19T00:50:57,827470300+00:00 - nginx/run \n",
            "/usr/sbin/nginx: /azureml-envs/azureml_8eff28b157f42edcd2424a5aae6c8074/lib/libcrypto.so.1.0.0: no version information available (required by /usr/sbin/nginx)\n",
            "/usr/sbin/nginx: /azureml-envs/azureml_8eff28b157f42edcd2424a5aae6c8074/lib/libcrypto.so.1.0.0: no version information available (required by /usr/sbin/nginx)\n",
            "/usr/sbin/nginx: /azureml-envs/azureml_8eff28b157f42edcd2424a5aae6c8074/lib/libssl.so.1.0.0: no version information available (required by /usr/sbin/nginx)\n",
            "/usr/sbin/nginx: /azureml-envs/azureml_8eff28b157f42edcd2424a5aae6c8074/lib/libssl.so.1.0.0: no version information available (required by /usr/sbin/nginx)\n",
            "/usr/sbin/nginx: /azureml-envs/azureml_8eff28b157f42edcd2424a5aae6c8074/lib/libssl.so.1.0.0: no version information available (required by /usr/sbin/nginx)\n",
            "EdgeHubConnectionString and IOTEDGE_IOTHUBHOSTNAME are not set. Exiting...\n",
            "2021-01-19T00:50:58,030657961+00:00 - iot-server/finish 1 0\n",
            "2021-01-19T00:50:58,031916695+00:00 - Exit code 1 is normal. Not restarting iot-server.\n",
            "rsyslogd: /azureml-envs/azureml_8eff28b157f42edcd2424a5aae6c8074/lib/libuuid.so.1: no version information available (required by rsyslogd)\n",
            "Starting gunicorn 19.9.0\n",
            "Listening at: http://127.0.0.1:31311 (15)\n",
            "Using worker: sync\n",
            "worker timeout is set to 300\n",
            "Booting worker with pid: 43\n",
            "SPARK_HOME not set. Skipping PySpark Initialization.\n",
            "Initializing logger\n",
            "2021-01-19 00:50:58,889 | root | INFO | Starting up app insights client\n",
            "Starting up app insights client\n",
            "2021-01-19 00:50:58,889 | root | INFO | Starting up request id generator\n",
            "Starting up request id generator\n",
            "2021-01-19 00:50:58,889 | root | INFO | Starting up app insight hooks\n",
            "Starting up app insight hooks\n",
            "2021-01-19 00:50:58,889 | root | INFO | Invoking user's init function\n",
            "Invoking user's init function\n",
            "Generating new fontManager, this may take some time...\n",
            "2021-01-19 00:51:01,595 | root | INFO | Users's init has completed successfully\n",
            "Users's init has completed successfully\n",
            "2021-01-19 00:51:01,599 | root | INFO | Skipping middleware: dbg_model_info as it's not enabled.\n",
            "Skipping middleware: dbg_model_info as it's not enabled.\n",
            "2021-01-19 00:51:01,599 | root | INFO | Skipping middleware: dbg_resource_usage as it's not enabled.\n",
            "Skipping middleware: dbg_resource_usage as it's not enabled.\n",
            "2021-01-19 00:51:01,600 | root | INFO | Scoring timeout is found from os.environ: 60000 ms\n",
            "Scoring timeout is found from os.environ: 60000 ms\n",
            "2021-01-19 00:51:13,678 | root | INFO | Swagger file not present\n",
            "Swagger file not present\n",
            "2021-01-19 00:51:13,678 | root | INFO | 404\n",
            "404\n",
            "127.0.0.1 - - [19/Jan/2021:00:51:13 +0000] \"GET /swagger.json HTTP/1.0\" 404 19 \"-\" \"Go-http-client/1.1\"\n",
            "2021-01-19 00:51:31,958 | root | INFO | Swagger file not present\n",
            "Swagger file not present\n",
            "2021-01-19 00:51:31,958 | root | INFO | 404\n",
            "404\n",
            "127.0.0.1 - - [19/Jan/2021:00:51:31 +0000] \"GET /swagger.json HTTP/1.0\" 404 19 \"-\" \"Go-http-client/1.1\"\n",
            "\n"
          ]
        }
      ],
      "execution_count": 16,
      "metadata": {
        "jupyter": {
          "outputs_hidden": false,
          "source_hidden": false
        },
        "nteract": {
          "transient": {
            "deleting": false
          }
        },
        "gather": {
          "logged": 1611017521568
        }
      }
    },
    {
      "cell_type": "code",
      "source": [
        "scoring_uri = service.scoring_uri\n",
        "\n",
        "print(f'\\nservice state: {service.state}\\n')\n",
        "print(f'scoring URI: \\n{service.scoring_uri}\\n')\n",
        "print(f'swagger URI: \\n{service.swagger_uri}\\n')\n",
        "\n",
        "print(service.scoring_uri)\n",
        "print(service.swagger_uri)"
      ],
      "outputs": [
        {
          "output_type": "stream",
          "name": "stdout",
          "text": [
            "\n",
            "service state: Healthy\n",
            "\n",
            "scoring URI: \n",
            "http://ec7be877-6f29-47ac-aab9-cbdf6f72b95f.southcentralus.azurecontainer.io/score\n",
            "\n",
            "swagger URI: \n",
            "http://ec7be877-6f29-47ac-aab9-cbdf6f72b95f.southcentralus.azurecontainer.io/swagger.json\n",
            "\n",
            "http://ec7be877-6f29-47ac-aab9-cbdf6f72b95f.southcentralus.azurecontainer.io/score\n",
            "http://ec7be877-6f29-47ac-aab9-cbdf6f72b95f.southcentralus.azurecontainer.io/swagger.json\n"
          ]
        }
      ],
      "execution_count": 17,
      "metadata": {
        "gather": {
          "logged": 1611017525452
        }
      }
    },
    {
      "cell_type": "code",
      "source": [
        "import requests\n",
        "import json\n",
        "\n",
        "data={\"data\":\n",
        "  [{'age': 87.0,\n",
        "  'anaemia': 0,\n",
        "  'creatinine_phosphokinase': 981,\n",
        "  'diabetes': 0,\n",
        "  'ejection_fraction': 55,\n",
        "  'high_blood_pressure': 1,\n",
        "  'platelets': 368000,\n",
        "  'serum_creatinine': 3.5,\n",
        "  'serum_sodium': 137,\n",
        "  'sex': 0,\n",
        "  'smoking': 0,\n",
        "  'time': 4}]\n",
        "  }\n",
        "\n",
        "input_data=json.dumps(data)\n",
        "\n",
        "with open(\"data.json\",\"w\") as file:\n",
        "    file.write(input_data)\n",
        "\n",
        "headers={\"Content-Type\":\"application/json\"}\n",
        "\n",
        "result=requests.post(scoring_uri, sample, headers=headers)\n",
        "print(\"The output is: \",result.json())"
      ],
      "outputs": [
        {
          "output_type": "stream",
          "name": "stdout",
          "text": [
            "The output is:  Must pass 2-d input\n"
          ]
        }
      ],
      "execution_count": 18,
      "metadata": {
        "gather": {
          "logged": 1611017529091
        }
      }
    },
    {
      "cell_type": "code",
      "source": [
        "result.status_code"
      ],
      "outputs": [
        {
          "output_type": "execute_result",
          "execution_count": 19,
          "data": {
            "text/plain": "200"
          },
          "metadata": {}
        }
      ],
      "execution_count": 19,
      "metadata": {
        "gather": {
          "logged": 1611017652290
        }
      }
    },
    {
      "cell_type": "code",
      "source": [
        "service.delete()\n",
        "compute_target.delete()\n",
        "model.delete()\n",
        "run.delete()\n",
        "experiment.delete()"
      ],
      "outputs": [
        {
          "output_type": "error",
          "ename": "NameError",
          "evalue": "name 'run' is not defined",
          "traceback": [
            "\u001b[0;31m---------------------------------------------------------------------------\u001b[0m",
            "\u001b[0;31mNameError\u001b[0m                                 Traceback (most recent call last)",
            "\u001b[0;32m<ipython-input-20-8ba60bbe9b4c>\u001b[0m in \u001b[0;36m<module>\u001b[0;34m\u001b[0m\n\u001b[1;32m      2\u001b[0m \u001b[0mcompute_target\u001b[0m\u001b[0;34m.\u001b[0m\u001b[0mdelete\u001b[0m\u001b[0;34m(\u001b[0m\u001b[0;34m)\u001b[0m\u001b[0;34m\u001b[0m\u001b[0;34m\u001b[0m\u001b[0m\n\u001b[1;32m      3\u001b[0m \u001b[0mmodel\u001b[0m\u001b[0;34m.\u001b[0m\u001b[0mdelete\u001b[0m\u001b[0;34m(\u001b[0m\u001b[0;34m)\u001b[0m\u001b[0;34m\u001b[0m\u001b[0;34m\u001b[0m\u001b[0m\n\u001b[0;32m----> 4\u001b[0;31m \u001b[0mrun\u001b[0m\u001b[0;34m.\u001b[0m\u001b[0mdelete\u001b[0m\u001b[0;34m(\u001b[0m\u001b[0;34m)\u001b[0m\u001b[0;34m\u001b[0m\u001b[0;34m\u001b[0m\u001b[0m\n\u001b[0m\u001b[1;32m      5\u001b[0m \u001b[0mexperiment\u001b[0m\u001b[0;34m.\u001b[0m\u001b[0mdelete\u001b[0m\u001b[0;34m(\u001b[0m\u001b[0;34m)\u001b[0m\u001b[0;34m\u001b[0m\u001b[0;34m\u001b[0m\u001b[0m\n",
            "\u001b[0;31mNameError\u001b[0m: name 'run' is not defined"
          ]
        }
      ],
      "execution_count": 20,
      "metadata": {}
    }
  ],
  "metadata": {
    "kernel_info": {
      "name": "python3"
    },
    "kernelspec": {
      "name": "python3",
      "language": "python",
      "display_name": "Python 3"
    },
    "language_info": {
      "name": "python",
      "version": "3.6.9",
      "mimetype": "text/x-python",
      "codemirror_mode": {
        "name": "ipython",
        "version": 3
      },
      "pygments_lexer": "ipython3",
      "nbconvert_exporter": "python",
      "file_extension": ".py"
    },
    "nteract": {
      "version": "nteract-front-end@1.0.0"
    }
  },
  "nbformat": 4,
  "nbformat_minor": 2
}