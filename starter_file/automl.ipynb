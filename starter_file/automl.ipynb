{
  "cells": [
    {
      "cell_type": "markdown",
      "source": [
        "# Automated ML\n",
        "\n",
        "TODO: Import Dependencies. In the cell below, import all the dependencies that you will need to complete the project."
      ],
      "metadata": {}
    },
    {
      "cell_type": "code",
      "source": [],
      "outputs": [],
      "execution_count": null,
      "metadata": {
        "gather": {
          "logged": 1598423888013
        },
        "jupyter": {
          "outputs_hidden": false,
          "source_hidden": false
        },
        "nteract": {
          "transient": {
            "deleting": false
          }
        }
      }
    },
    {
      "cell_type": "markdown",
      "source": [
        "## Dataset\n",
        "\n",
        "### Overview\n",
        "TODO: In this markdown cell, give an overview of the dataset you are using. Also mention the task you will be performing.\n",
        "\n",
        "\n",
        "TODO: Get data. In the cell below, write code to access the data you will be using in this project. Remember that the dataset needs to be external."
      ],
      "metadata": {}
    },
    {
      "cell_type": "code",
      "source": [
        "from azureml.core.experiment import Experiment\n",
        "from azureml.core.workspace import Workspace\n",
        "\n",
        "ws = Workspace.from_config()\n",
        "\n",
        "experiment_name = 'capstoneproject'\n",
        "\n",
        "experiment=Experiment(ws, experiment_name)"
      ],
      "outputs": [
        {
          "output_type": "stream",
          "name": "stdout",
          "text": [
            "Performing interactive authentication. Please follow the instructions on the terminal.\n",
            "To sign in, use a web browser to open the page https://microsoft.com/devicelogin and enter the code FW6593XVM to authenticate.\n",
            "You have logged in. Now let us find all the subscriptions to which you have access...\n",
            "Interactive authentication successfully completed.\n"
          ]
        }
      ],
      "execution_count": 1,
      "metadata": {
        "gather": {
          "logged": 1610895501064
        },
        "jupyter": {
          "outputs_hidden": false,
          "source_hidden": false
        },
        "nteract": {
          "transient": {
            "deleting": false
          }
        }
      }
    },
    {
      "cell_type": "code",
      "source": [
        "from azureml.core.compute import ComputeTarget, AmlCompute\r\n",
        "from azureml.core.compute_target import ComputeTargetException\r\n",
        "\r\n",
        "compute_cluster_name = 'final-compute'\r\n",
        "\r\n",
        "try:\r\n",
        "    compute_target = ComputeTarget(workspace=ws, name = compute_cluster_name)\r\n",
        "    print('Found the compute cluster')\r\n",
        "\r\n",
        "except ComputeTargetException:\r\n",
        "    compute_config = AmlCompute.provisioning_configuration(vm_size=\"STANDARD_DS3_V2\", max_nodes=4)\r\n",
        "    compute_target = ComputeTarget.create(ws, compute_cluster_name, compute_config)\r\n",
        "    compute_target.wait_for_completion(show_output=True)"
      ],
      "outputs": [
        {
          "output_type": "stream",
          "name": "stdout",
          "text": [
            "Creating\n",
            "Succeeded\n",
            "AmlCompute wait for completion finished\n",
            "\n",
            "Minimum number of nodes requested have been provisioned\n"
          ]
        }
      ],
      "execution_count": 2,
      "metadata": {
        "collapsed": true,
        "jupyter": {
          "source_hidden": false,
          "outputs_hidden": false
        },
        "nteract": {
          "transient": {
            "deleting": false
          }
        },
        "gather": {
          "logged": 1610895524409
        }
      }
    },
    {
      "cell_type": "code",
      "source": [
        "from azureml.core.dataset import Dataset\r\n",
        "from sklearn.model_selection import train_test_split\r\n",
        "\r\n",
        "key = 'heart_failure_clinical_records_dataset'\r\n",
        "if key in ws.datasets.keys():\r\n",
        "    dataset = ws.datasets[key]\r\n",
        "    print(\"dataset found!\")\r\n",
        "\r\n",
        "else:\r\n",
        "    url = 'https://archive.ics.uci.edu/ml/machine-learning-databases/00519/heart_failure_clinical_records_dataset.csv'\r\n",
        "    dataset = Dataset.Tabular.from_delimited_files(url)\r\n",
        "    dataset = dataset.register(ws,key)\r\n",
        "\r\n",
        "df = dataset.to_pandas_dataframe()\r\n",
        "train, test = train_test_split(df, shuffle=True)\r\n",
        "train.to_csv('train.csv',index = False)\r\n",
        "\r\n",
        "datastore = ws.get_default_datastore()\r\n",
        "datastore.upload_files(files = ['./train.csv'])\r\n",
        "\r\n",
        "train = Dataset.Tabular.from_delimited_files([(datastore,'train.csv')])"
      ],
      "outputs": [
        {
          "output_type": "stream",
          "name": "stdout",
          "text": [
            "Uploading an estimated of 1 files\n",
            "Uploading ./train.csv\n",
            "Uploaded ./train.csv, 1 files out of an estimated total of 1\n",
            "Uploaded 1 files\n"
          ]
        }
      ],
      "execution_count": 3,
      "metadata": {
        "collapsed": true,
        "jupyter": {
          "source_hidden": false,
          "outputs_hidden": false
        },
        "nteract": {
          "transient": {
            "deleting": false
          }
        },
        "gather": {
          "logged": 1610895556270
        }
      }
    },
    {
      "cell_type": "markdown",
      "source": [
        "## AutoML Configuration\n",
        "\n",
        "TODO: Explain why you chose the automl settings and cofiguration you used below."
      ],
      "metadata": {}
    },
    {
      "cell_type": "code",
      "source": [
        "from azureml.train.automl import AutoMLConfig\n",
        "\n",
        "# TODO: Put your automl settings here\n",
        "automl_settings = {\"primary_metric\":\"accuracy\", \"experiment_timeout_minutes\":30, \"enable_early_stopping\":True, \"n_cross_validations\":3}\n",
        "\n",
        "# TODO: Put your automl config here\n",
        "automl_config = AutoMLConfig(compute_target = compute_target, task = 'classification', training_data = train, label_column_name = 'DEATH_EVENT',**automl_settings)"
      ],
      "outputs": [],
      "execution_count": 5,
      "metadata": {
        "gather": {
          "logged": 1610895572615
        },
        "jupyter": {
          "outputs_hidden": false,
          "source_hidden": false
        },
        "nteract": {
          "transient": {
            "deleting": false
          }
        }
      }
    },
    {
      "cell_type": "code",
      "source": [
        "# TODO: Submit your experiment\n",
        "remote_run = experiment.submit(automl_config, show_output=True)"
      ],
      "outputs": [
        {
          "output_type": "stream",
          "name": "stdout",
          "text": [
            "Running on remote.\n",
            "No run_configuration provided, running on final-compute with default configuration\n",
            "Running on remote compute: final-compute\n",
            "Parent Run ID: AutoML_4a62698f-db8a-4812-95b3-201e1b1e13d2\n",
            "\n",
            "Current status: FeaturesGeneration. Generating features for the dataset.\n",
            "Current status: DatasetCrossValidationSplit. Generating individually featurized CV splits.\n",
            "Current status: ModelSelection. Beginning model selection.\n",
            "\n",
            "****************************************************************************************************\n",
            "DATA GUARDRAILS: \n",
            "\n",
            "TYPE:         Class balancing detection\n",
            "STATUS:       PASSED\n",
            "DESCRIPTION:  Your inputs were analyzed, and all classes are balanced in your training data.\n",
            "              Learn more about imbalanced data: https://aka.ms/AutomatedMLImbalancedData\n",
            "\n",
            "****************************************************************************************************\n",
            "\n",
            "TYPE:         Missing feature values imputation\n",
            "STATUS:       PASSED\n",
            "DESCRIPTION:  No feature missing values were detected in the training data.\n",
            "              Learn more about missing value imputation: https://aka.ms/AutomatedMLFeaturization\n",
            "\n",
            "****************************************************************************************************\n",
            "\n",
            "TYPE:         High cardinality feature detection\n",
            "STATUS:       PASSED\n",
            "DESCRIPTION:  Your inputs were analyzed, and no high cardinality features were detected.\n",
            "              Learn more about high cardinality feature handling: https://aka.ms/AutomatedMLFeaturization\n",
            "\n",
            "****************************************************************************************************\n",
            "\n",
            "****************************************************************************************************\n",
            "ITERATION: The iteration being evaluated.\n",
            "PIPELINE: A summary description of the pipeline being evaluated.\n",
            "DURATION: Time taken for the current iteration.\n",
            "METRIC: The result of computing score on the fitted pipeline.\n",
            "BEST: The best observed score thus far.\n",
            "****************************************************************************************************\n",
            "\n",
            " ITERATION   PIPELINE                                       DURATION      METRIC      BEST\n",
            "         0   MaxAbsScaler LightGBM                          0:00:42       0.8659    0.8659\n",
            "         1   MaxAbsScaler XGBoostClassifier                 0:00:43       0.8883    0.8883\n",
            "         2   MinMaxScaler RandomForest                      0:00:39       0.8838    0.8883\n",
            "         3   MinMaxScaler RandomForest                      0:00:40       0.8616    0.8883\n",
            "         4   MinMaxScaler RandomForest                      0:00:41       0.8571    0.8883\n",
            "         5   MinMaxScaler SVM                               0:00:40       0.7724    0.8883\n",
            "         6   MaxAbsScaler GradientBoosting                  0:00:41       0.8705    0.8883\n",
            "         7   StandardScalerWrapper RandomForest             0:00:37       0.8527    0.8883\n",
            "         8   SparseNormalizer XGBoostClassifier             0:00:40       0.8434    0.8883\n",
            "         9   SparseNormalizer LightGBM                      0:00:40       0.8793    0.8883\n",
            "        10   RobustScaler RandomForest                      0:00:43       0.8882    0.8883\n",
            "        11   MaxAbsScaler LightGBM                          0:00:46       0.8571    0.8883\n",
            "        12   RobustScaler ExtremeRandomTrees                0:00:42       0.8661    0.8883\n",
            "        13   SparseNormalizer XGBoostClassifier             0:00:43       0.8612    0.8883\n",
            "        14   StandardScalerWrapper ExtremeRandomTrees       0:00:40       0.8571    0.8883\n",
            "        15   SparseNormalizer LightGBM                      0:00:43       0.7546    0.8883\n",
            "        16   RobustScaler ExtremeRandomTrees                0:00:39       0.8883    0.8883\n",
            "        17   StandardScalerWrapper XGBoostClassifier        0:00:38       0.8793    0.8883\n",
            "        18   SparseNormalizer XGBoostClassifier             0:00:44       0.8569    0.8883\n",
            "        19   MaxAbsScaler LogisticRegression                0:00:49       0.8038    0.8883\n",
            "        20   SparseNormalizer XGBoostClassifier             0:00:37       0.8480    0.8883\n",
            "        21   MaxAbsScaler RandomForest                      0:00:39       0.8751    0.8883\n",
            "        22   StandardScalerWrapper LightGBM                 0:00:41       0.8571    0.8883\n",
            "        23   StandardScalerWrapper XGBoostClassifier        0:00:38       0.8793    0.8883\n",
            "        24   StandardScalerWrapper LightGBM                 0:00:51       0.8706    0.8883\n",
            "        25   PCA XGBoostClassifier                          0:00:47       0.6967    0.8883\n",
            "        26   StandardScalerWrapper RandomForest             0:00:35       0.8704    0.8883\n",
            "        27   SparseNormalizer LightGBM                      0:00:39       0.8080    0.8883\n",
            "        28   SparseNormalizer GradientBoosting              0:00:40       0.8080    0.8883\n",
            "        29   MaxAbsScaler RandomForest                      0:00:39       0.8526    0.8883\n",
            "        30    VotingEnsemble                                0:01:16       0.9062    0.9062\n",
            "        31    StackEnsemble                                 0:01:06       0.8703    0.9062\n"
          ]
        }
      ],
      "execution_count": 6,
      "metadata": {
        "gather": {
          "logged": 1610897866267
        },
        "jupyter": {
          "outputs_hidden": false,
          "source_hidden": false
        },
        "nteract": {
          "transient": {
            "deleting": false
          }
        }
      }
    },
    {
      "cell_type": "markdown",
      "source": [
        "## Run Details\n",
        "\n",
        "OPTIONAL: Write about the different models trained and their performance. Why do you think some models did better than others?\n",
        "\n",
        "TODO: In the cell below, use the `RunDetails` widget to show the different experiments."
      ],
      "metadata": {}
    },
    {
      "cell_type": "code",
      "source": [
        "from azureml.widgets import RunDetails\r\n",
        "\r\n",
        "RunDetails(remote_run).show()\r\n",
        "remote_run.wait_for_completion(show_output=True)"
      ],
      "outputs": [
        {
          "output_type": "display_data",
          "data": {
            "text/plain": "_AutoMLWidget(widget_settings={'childWidgetDisplay': 'popup', 'send_telemetry': False, 'log_level': 'INFO', 's…",
            "application/vnd.jupyter.widget-view+json": {
              "version_major": 2,
              "version_minor": 0,
              "model_id": "871cee0da5da406086fccd8cac31cf46"
            }
          },
          "metadata": {}
        },
        {
          "output_type": "display_data",
          "data": {
            "application/aml.mini.widget.v1": "{\"status\": \"Completed\", \"workbench_run_details_uri\": \"https://ml.azure.com/experiments/capstoneproject/runs/AutoML_4a62698f-db8a-4812-95b3-201e1b1e13d2?wsid=/subscriptions/610d6e37-4747-4a20-80eb-3aad70a55f43/resourcegroups/aml-quickstarts-135076/workspaces/quick-starts-ws-135076\", \"run_id\": \"AutoML_4a62698f-db8a-4812-95b3-201e1b1e13d2\", \"run_properties\": {\"run_id\": \"AutoML_4a62698f-db8a-4812-95b3-201e1b1e13d2\", \"created_utc\": \"2021-01-17T14:59:38.857448Z\", \"properties\": {\"num_iterations\": \"1000\", \"training_type\": \"TrainFull\", \"acquisition_function\": \"EI\", \"primary_metric\": \"accuracy\", \"train_split\": \"0\", \"acquisition_parameter\": \"0\", \"num_cross_validation\": \"3\", \"target\": \"final-compute\", \"AMLSettingsJsonString\": \"{\\\"path\\\":null,\\\"name\\\":\\\"capstoneproject\\\",\\\"subscription_id\\\":\\\"610d6e37-4747-4a20-80eb-3aad70a55f43\\\",\\\"resource_group\\\":\\\"aml-quickstarts-135076\\\",\\\"workspace_name\\\":\\\"quick-starts-ws-135076\\\",\\\"region\\\":\\\"southcentralus\\\",\\\"compute_target\\\":\\\"final-compute\\\",\\\"spark_service\\\":null,\\\"azure_service\\\":\\\"remote\\\",\\\"many_models\\\":false,\\\"pipeline_fetch_max_batch_size\\\":1,\\\"iterations\\\":1000,\\\"primary_metric\\\":\\\"accuracy\\\",\\\"task_type\\\":\\\"classification\\\",\\\"data_script\\\":null,\\\"validation_size\\\":0.0,\\\"n_cross_validations\\\":3,\\\"y_min\\\":null,\\\"y_max\\\":null,\\\"num_classes\\\":null,\\\"featurization\\\":\\\"auto\\\",\\\"_ignore_package_version_incompatibilities\\\":false,\\\"is_timeseries\\\":false,\\\"max_cores_per_iteration\\\":1,\\\"max_concurrent_iterations\\\":1,\\\"iteration_timeout_minutes\\\":null,\\\"mem_in_mb\\\":null,\\\"enforce_time_on_windows\\\":false,\\\"experiment_timeout_minutes\\\":30,\\\"experiment_exit_score\\\":null,\\\"whitelist_models\\\":null,\\\"blacklist_algos\\\":[\\\"TensorFlowLinearClassifier\\\",\\\"TensorFlowDNN\\\"],\\\"supported_models\\\":[\\\"LogisticRegression\\\",\\\"SGD\\\",\\\"MultinomialNaiveBayes\\\",\\\"TensorFlowDNN\\\",\\\"ExtremeRandomTrees\\\",\\\"SVM\\\",\\\"RandomForest\\\",\\\"BernoulliNaiveBayes\\\",\\\"GradientBoosting\\\",\\\"AveragedPerceptronClassifier\\\",\\\"KNN\\\",\\\"LightGBM\\\",\\\"LinearSVM\\\",\\\"TensorFlowLinearClassifier\\\",\\\"XGBoostClassifier\\\",\\\"DecisionTree\\\"],\\\"auto_blacklist\\\":true,\\\"blacklist_samples_reached\\\":false,\\\"exclude_nan_labels\\\":true,\\\"verbosity\\\":20,\\\"_debug_log\\\":\\\"azureml_automl.log\\\",\\\"show_warnings\\\":false,\\\"model_explainability\\\":true,\\\"service_url\\\":null,\\\"sdk_url\\\":null,\\\"sdk_packages\\\":null,\\\"enable_onnx_compatible_models\\\":false,\\\"enable_split_onnx_featurizer_estimator_models\\\":false,\\\"vm_type\\\":\\\"STANDARD_DS3_V2\\\",\\\"telemetry_verbosity\\\":20,\\\"send_telemetry\\\":true,\\\"enable_dnn\\\":false,\\\"scenario\\\":\\\"SDK-1.13.0\\\",\\\"environment_label\\\":null,\\\"force_text_dnn\\\":false,\\\"enable_feature_sweeping\\\":true,\\\"enable_early_stopping\\\":true,\\\"early_stopping_n_iters\\\":10,\\\"metrics\\\":null,\\\"enable_ensembling\\\":true,\\\"enable_stack_ensembling\\\":true,\\\"ensemble_iterations\\\":15,\\\"enable_tf\\\":false,\\\"enable_subsampling\\\":null,\\\"subsample_seed\\\":null,\\\"enable_nimbusml\\\":false,\\\"enable_streaming\\\":false,\\\"force_streaming\\\":false,\\\"track_child_runs\\\":true,\\\"allowed_private_models\\\":[],\\\"label_column_name\\\":\\\"DEATH_EVENT\\\",\\\"weight_column_name\\\":null,\\\"cv_split_column_names\\\":null,\\\"enable_local_managed\\\":false,\\\"_local_managed_run_id\\\":null,\\\"cost_mode\\\":1,\\\"lag_length\\\":0,\\\"metric_operation\\\":\\\"maximize\\\",\\\"preprocess\\\":true}\", \"DataPrepJsonString\": \"{\\\\\\\"training_data\\\\\\\": \\\\\\\"{\\\\\\\\\\\\\\\"blocks\\\\\\\\\\\\\\\": [{\\\\\\\\\\\\\\\"id\\\\\\\\\\\\\\\": \\\\\\\\\\\\\\\"4432daf2-3b7c-4cba-aa3b-df311aff7897\\\\\\\\\\\\\\\", \\\\\\\\\\\\\\\"type\\\\\\\\\\\\\\\": \\\\\\\\\\\\\\\"Microsoft.DPrep.GetDatastoreFilesBlock\\\\\\\\\\\\\\\", \\\\\\\\\\\\\\\"arguments\\\\\\\\\\\\\\\": {\\\\\\\\\\\\\\\"datastores\\\\\\\\\\\\\\\": [{\\\\\\\\\\\\\\\"datastoreName\\\\\\\\\\\\\\\": \\\\\\\\\\\\\\\"workspaceblobstore\\\\\\\\\\\\\\\", \\\\\\\\\\\\\\\"path\\\\\\\\\\\\\\\": \\\\\\\\\\\\\\\"train.csv\\\\\\\\\\\\\\\", \\\\\\\\\\\\\\\"resourceGroup\\\\\\\\\\\\\\\": \\\\\\\\\\\\\\\"aml-quickstarts-135076\\\\\\\\\\\\\\\", \\\\\\\\\\\\\\\"subscription\\\\\\\\\\\\\\\": \\\\\\\\\\\\\\\"610d6e37-4747-4a20-80eb-3aad70a55f43\\\\\\\\\\\\\\\", \\\\\\\\\\\\\\\"workspaceName\\\\\\\\\\\\\\\": \\\\\\\\\\\\\\\"quick-starts-ws-135076\\\\\\\\\\\\\\\"}]}, \\\\\\\\\\\\\\\"localData\\\\\\\\\\\\\\\": {}, \\\\\\\\\\\\\\\"isEnabled\\\\\\\\\\\\\\\": true, \\\\\\\\\\\\\\\"name\\\\\\\\\\\\\\\": null, \\\\\\\\\\\\\\\"annotation\\\\\\\\\\\\\\\": null}, {\\\\\\\\\\\\\\\"id\\\\\\\\\\\\\\\": \\\\\\\\\\\\\\\"7b0e8e14-56fa-453e-aa8b-9ff191ad134e\\\\\\\\\\\\\\\", \\\\\\\\\\\\\\\"type\\\\\\\\\\\\\\\": \\\\\\\\\\\\\\\"Microsoft.DPrep.ParseDelimitedBlock\\\\\\\\\\\\\\\", \\\\\\\\\\\\\\\"arguments\\\\\\\\\\\\\\\": {\\\\\\\\\\\\\\\"columnHeadersMode\\\\\\\\\\\\\\\": 3, \\\\\\\\\\\\\\\"fileEncoding\\\\\\\\\\\\\\\": 0, \\\\\\\\\\\\\\\"handleQuotedLineBreaks\\\\\\\\\\\\\\\": false, \\\\\\\\\\\\\\\"preview\\\\\\\\\\\\\\\": false, \\\\\\\\\\\\\\\"separator\\\\\\\\\\\\\\\": \\\\\\\\\\\\\\\",\\\\\\\\\\\\\\\", \\\\\\\\\\\\\\\"skipRows\\\\\\\\\\\\\\\": 0, \\\\\\\\\\\\\\\"skipRowsMode\\\\\\\\\\\\\\\": 0}, \\\\\\\\\\\\\\\"localData\\\\\\\\\\\\\\\": {}, \\\\\\\\\\\\\\\"isEnabled\\\\\\\\\\\\\\\": true, \\\\\\\\\\\\\\\"name\\\\\\\\\\\\\\\": null, \\\\\\\\\\\\\\\"annotation\\\\\\\\\\\\\\\": null}, {\\\\\\\\\\\\\\\"id\\\\\\\\\\\\\\\": \\\\\\\\\\\\\\\"e4901d7f-6810-42db-8295-a08d8fb2af54\\\\\\\\\\\\\\\", \\\\\\\\\\\\\\\"type\\\\\\\\\\\\\\\": \\\\\\\\\\\\\\\"Microsoft.DPrep.DropColumnsBlock\\\\\\\\\\\\\\\", \\\\\\\\\\\\\\\"arguments\\\\\\\\\\\\\\\": {\\\\\\\\\\\\\\\"columns\\\\\\\\\\\\\\\": {\\\\\\\\\\\\\\\"type\\\\\\\\\\\\\\\": 0, \\\\\\\\\\\\\\\"details\\\\\\\\\\\\\\\": {\\\\\\\\\\\\\\\"selectedColumns\\\\\\\\\\\\\\\": [\\\\\\\\\\\\\\\"Path\\\\\\\\\\\\\\\"]}}}, \\\\\\\\\\\\\\\"localData\\\\\\\\\\\\\\\": {}, \\\\\\\\\\\\\\\"isEnabled\\\\\\\\\\\\\\\": true, \\\\\\\\\\\\\\\"name\\\\\\\\\\\\\\\": null, \\\\\\\\\\\\\\\"annotation\\\\\\\\\\\\\\\": null}, {\\\\\\\\\\\\\\\"id\\\\\\\\\\\\\\\": \\\\\\\\\\\\\\\"d96b6358-dc9f-4b9a-971e-b6b3936a80ba\\\\\\\\\\\\\\\", \\\\\\\\\\\\\\\"type\\\\\\\\\\\\\\\": \\\\\\\\\\\\\\\"Microsoft.DPrep.SetColumnTypesBlock\\\\\\\\\\\\\\\", \\\\\\\\\\\\\\\"arguments\\\\\\\\\\\\\\\": {\\\\\\\\\\\\\\\"columnConversion\\\\\\\\\\\\\\\": [{\\\\\\\\\\\\\\\"column\\\\\\\\\\\\\\\": {\\\\\\\\\\\\\\\"type\\\\\\\\\\\\\\\": 2, \\\\\\\\\\\\\\\"details\\\\\\\\\\\\\\\": {\\\\\\\\\\\\\\\"selectedColumn\\\\\\\\\\\\\\\": \\\\\\\\\\\\\\\"age\\\\\\\\\\\\\\\"}}, \\\\\\\\\\\\\\\"typeProperty\\\\\\\\\\\\\\\": 3}, {\\\\\\\\\\\\\\\"column\\\\\\\\\\\\\\\": {\\\\\\\\\\\\\\\"type\\\\\\\\\\\\\\\": 2, \\\\\\\\\\\\\\\"details\\\\\\\\\\\\\\\": {\\\\\\\\\\\\\\\"selectedColumn\\\\\\\\\\\\\\\": \\\\\\\\\\\\\\\"anaemia\\\\\\\\\\\\\\\"}}, \\\\\\\\\\\\\\\"typeProperty\\\\\\\\\\\\\\\": 2}, {\\\\\\\\\\\\\\\"column\\\\\\\\\\\\\\\": {\\\\\\\\\\\\\\\"type\\\\\\\\\\\\\\\": 2, \\\\\\\\\\\\\\\"details\\\\\\\\\\\\\\\": {\\\\\\\\\\\\\\\"selectedColumn\\\\\\\\\\\\\\\": \\\\\\\\\\\\\\\"creatinine_phosphokinase\\\\\\\\\\\\\\\"}}, \\\\\\\\\\\\\\\"typeProperty\\\\\\\\\\\\\\\": 2}, {\\\\\\\\\\\\\\\"column\\\\\\\\\\\\\\\": {\\\\\\\\\\\\\\\"type\\\\\\\\\\\\\\\": 2, \\\\\\\\\\\\\\\"details\\\\\\\\\\\\\\\": {\\\\\\\\\\\\\\\"selectedColumn\\\\\\\\\\\\\\\": \\\\\\\\\\\\\\\"diabetes\\\\\\\\\\\\\\\"}}, \\\\\\\\\\\\\\\"typeProperty\\\\\\\\\\\\\\\": 2}, {\\\\\\\\\\\\\\\"column\\\\\\\\\\\\\\\": {\\\\\\\\\\\\\\\"type\\\\\\\\\\\\\\\": 2, \\\\\\\\\\\\\\\"details\\\\\\\\\\\\\\\": {\\\\\\\\\\\\\\\"selectedColumn\\\\\\\\\\\\\\\": \\\\\\\\\\\\\\\"ejection_fraction\\\\\\\\\\\\\\\"}}, \\\\\\\\\\\\\\\"typeProperty\\\\\\\\\\\\\\\": 2}, {\\\\\\\\\\\\\\\"column\\\\\\\\\\\\\\\": {\\\\\\\\\\\\\\\"type\\\\\\\\\\\\\\\": 2, \\\\\\\\\\\\\\\"details\\\\\\\\\\\\\\\": {\\\\\\\\\\\\\\\"selectedColumn\\\\\\\\\\\\\\\": \\\\\\\\\\\\\\\"high_blood_pressure\\\\\\\\\\\\\\\"}}, \\\\\\\\\\\\\\\"typeProperty\\\\\\\\\\\\\\\": 2}, {\\\\\\\\\\\\\\\"column\\\\\\\\\\\\\\\": {\\\\\\\\\\\\\\\"type\\\\\\\\\\\\\\\": 2, \\\\\\\\\\\\\\\"details\\\\\\\\\\\\\\\": {\\\\\\\\\\\\\\\"selectedColumn\\\\\\\\\\\\\\\": \\\\\\\\\\\\\\\"platelets\\\\\\\\\\\\\\\"}}, \\\\\\\\\\\\\\\"typeProperty\\\\\\\\\\\\\\\": 3}, {\\\\\\\\\\\\\\\"column\\\\\\\\\\\\\\\": {\\\\\\\\\\\\\\\"type\\\\\\\\\\\\\\\": 2, \\\\\\\\\\\\\\\"details\\\\\\\\\\\\\\\": {\\\\\\\\\\\\\\\"selectedColumn\\\\\\\\\\\\\\\": \\\\\\\\\\\\\\\"serum_creatinine\\\\\\\\\\\\\\\"}}, \\\\\\\\\\\\\\\"typeProperty\\\\\\\\\\\\\\\": 3}, {\\\\\\\\\\\\\\\"column\\\\\\\\\\\\\\\": {\\\\\\\\\\\\\\\"type\\\\\\\\\\\\\\\": 2, \\\\\\\\\\\\\\\"details\\\\\\\\\\\\\\\": {\\\\\\\\\\\\\\\"selectedColumn\\\\\\\\\\\\\\\": \\\\\\\\\\\\\\\"serum_sodium\\\\\\\\\\\\\\\"}}, \\\\\\\\\\\\\\\"typeProperty\\\\\\\\\\\\\\\": 2}, {\\\\\\\\\\\\\\\"column\\\\\\\\\\\\\\\": {\\\\\\\\\\\\\\\"type\\\\\\\\\\\\\\\": 2, \\\\\\\\\\\\\\\"details\\\\\\\\\\\\\\\": {\\\\\\\\\\\\\\\"selectedColumn\\\\\\\\\\\\\\\": \\\\\\\\\\\\\\\"sex\\\\\\\\\\\\\\\"}}, \\\\\\\\\\\\\\\"typeProperty\\\\\\\\\\\\\\\": 2}, {\\\\\\\\\\\\\\\"column\\\\\\\\\\\\\\\": {\\\\\\\\\\\\\\\"type\\\\\\\\\\\\\\\": 2, \\\\\\\\\\\\\\\"details\\\\\\\\\\\\\\\": {\\\\\\\\\\\\\\\"selectedColumn\\\\\\\\\\\\\\\": \\\\\\\\\\\\\\\"smoking\\\\\\\\\\\\\\\"}}, \\\\\\\\\\\\\\\"typeProperty\\\\\\\\\\\\\\\": 2}, {\\\\\\\\\\\\\\\"column\\\\\\\\\\\\\\\": {\\\\\\\\\\\\\\\"type\\\\\\\\\\\\\\\": 2, \\\\\\\\\\\\\\\"details\\\\\\\\\\\\\\\": {\\\\\\\\\\\\\\\"selectedColumn\\\\\\\\\\\\\\\": \\\\\\\\\\\\\\\"time\\\\\\\\\\\\\\\"}}, \\\\\\\\\\\\\\\"typeProperty\\\\\\\\\\\\\\\": 2}, {\\\\\\\\\\\\\\\"column\\\\\\\\\\\\\\\": {\\\\\\\\\\\\\\\"type\\\\\\\\\\\\\\\": 2, \\\\\\\\\\\\\\\"details\\\\\\\\\\\\\\\": {\\\\\\\\\\\\\\\"selectedColumn\\\\\\\\\\\\\\\": \\\\\\\\\\\\\\\"DEATH_EVENT\\\\\\\\\\\\\\\"}}, \\\\\\\\\\\\\\\"typeProperty\\\\\\\\\\\\\\\": 2}]}, \\\\\\\\\\\\\\\"localData\\\\\\\\\\\\\\\": {}, \\\\\\\\\\\\\\\"isEnabled\\\\\\\\\\\\\\\": true, \\\\\\\\\\\\\\\"name\\\\\\\\\\\\\\\": null, \\\\\\\\\\\\\\\"annotation\\\\\\\\\\\\\\\": null}], \\\\\\\\\\\\\\\"inspectors\\\\\\\\\\\\\\\": [], \\\\\\\\\\\\\\\"meta\\\\\\\\\\\\\\\": {\\\\\\\\\\\\\\\"savedDatasetId\\\\\\\\\\\\\\\": \\\\\\\\\\\\\\\"d03a7cd9-d7d8-48bc-9604-63071abe00ff\\\\\\\\\\\\\\\", \\\\\\\\\\\\\\\"datasetType\\\\\\\\\\\\\\\": \\\\\\\\\\\\\\\"tabular\\\\\\\\\\\\\\\", \\\\\\\\\\\\\\\"subscriptionId\\\\\\\\\\\\\\\": \\\\\\\\\\\\\\\"610d6e37-4747-4a20-80eb-3aad70a55f43\\\\\\\\\\\\\\\", \\\\\\\\\\\\\\\"workspaceId\\\\\\\\\\\\\\\": \\\\\\\\\\\\\\\"2514b5b8-27e5-4c9c-a72e-35b90b044b82\\\\\\\\\\\\\\\", \\\\\\\\\\\\\\\"workspaceLocation\\\\\\\\\\\\\\\": \\\\\\\\\\\\\\\"southcentralus\\\\\\\\\\\\\\\"}}\\\\\\\", \\\\\\\"activities\\\\\\\": 0}\", \"EnableSubsampling\": null, \"runTemplate\": \"AutoML\", \"azureml.runsource\": \"automl\", \"display_task_type\": \"classification\", \"dependencies_versions\": \"{\\\"azureml-widgets\\\": \\\"1.19.0\\\", \\\"azureml-train\\\": \\\"1.19.0\\\", \\\"azureml-train-restclients-hyperdrive\\\": \\\"1.19.0\\\", \\\"azureml-train-core\\\": \\\"1.19.0\\\", \\\"azureml-train-automl\\\": \\\"1.19.0\\\", \\\"azureml-train-automl-runtime\\\": \\\"1.19.0\\\", \\\"azureml-train-automl-client\\\": \\\"1.19.0\\\", \\\"azureml-tensorboard\\\": \\\"1.19.0\\\", \\\"azureml-telemetry\\\": \\\"1.19.0\\\", \\\"azureml-sdk\\\": \\\"1.19.0\\\", \\\"azureml-samples\\\": \\\"0+unknown\\\", \\\"azureml-pipeline\\\": \\\"1.19.0\\\", \\\"azureml-pipeline-steps\\\": \\\"1.19.0\\\", \\\"azureml-pipeline-core\\\": \\\"1.19.0\\\", \\\"azureml-opendatasets\\\": \\\"1.19.0\\\", \\\"azureml-model-management-sdk\\\": \\\"1.0.1b6.post1\\\", \\\"azureml-mlflow\\\": \\\"1.19.0\\\", \\\"azureml-interpret\\\": \\\"1.19.0\\\", \\\"azureml-explain-model\\\": \\\"1.19.0\\\", \\\"azureml-defaults\\\": \\\"1.19.0\\\", \\\"azureml-dataset-runtime\\\": \\\"1.19.0.post1\\\", \\\"azureml-dataprep\\\": \\\"2.6.1\\\", \\\"azureml-dataprep-rslex\\\": \\\"1.4.0\\\", \\\"azureml-dataprep-native\\\": \\\"26.0.0\\\", \\\"azureml-datadrift\\\": \\\"1.19.0\\\", \\\"azureml-core\\\": \\\"1.19.0\\\", \\\"azureml-contrib-services\\\": \\\"1.19.0\\\", \\\"azureml-contrib-server\\\": \\\"1.19.0\\\", \\\"azureml-contrib-reinforcementlearning\\\": \\\"1.19.0\\\", \\\"azureml-contrib-pipeline-steps\\\": \\\"1.19.0\\\", \\\"azureml-contrib-notebook\\\": \\\"1.19.0\\\", \\\"azureml-contrib-interpret\\\": \\\"1.19.0\\\", \\\"azureml-contrib-gbdt\\\": \\\"1.19.0\\\", \\\"azureml-contrib-fairness\\\": \\\"1.19.0\\\", \\\"azureml-contrib-dataset\\\": \\\"1.19.0\\\", \\\"azureml-cli-common\\\": \\\"1.19.0\\\", \\\"azureml-automl-runtime\\\": \\\"1.19.0\\\", \\\"azureml-automl-core\\\": \\\"1.19.0\\\", \\\"azureml-accel-models\\\": \\\"1.19.0\\\"}\", \"_aml_system_scenario_identification\": \"Remote.Parent\", \"ClientType\": \"SDK\", \"environment_cpu_name\": \"AzureML-AutoML\", \"environment_cpu_label\": \"prod\", \"environment_gpu_name\": \"AzureML-AutoML-GPU\", \"environment_gpu_label\": \"prod\", \"root_attribution\": \"automl\", \"attribution\": \"AutoML\", \"Orchestrator\": \"AutoML\", \"CancelUri\": \"https://southcentralus.experiments.azureml.net/jasmine/v1.0/subscriptions/610d6e37-4747-4a20-80eb-3aad70a55f43/resourceGroups/aml-quickstarts-135076/providers/Microsoft.MachineLearningServices/workspaces/quick-starts-ws-135076/experimentids/872aab79-9b60-445e-b6d1-b900f872c97e/cancel/AutoML_4a62698f-db8a-4812-95b3-201e1b1e13d2\", \"ClientSdkVersion\": \"1.19.0\", \"snapshotId\": \"00000000-0000-0000-0000-000000000000\", \"SetupRunId\": \"AutoML_4a62698f-db8a-4812-95b3-201e1b1e13d2_setup\", \"SetupRunContainerId\": \"dcid.AutoML_4a62698f-db8a-4812-95b3-201e1b1e13d2_setup\", \"FeaturizationRunJsonPath\": \"featurizer_container.json\", \"FeaturizationRunId\": \"AutoML_4a62698f-db8a-4812-95b3-201e1b1e13d2_featurize\", \"ProblemInfoJsonString\": \"{\\\"dataset_num_categorical\\\": 0, \\\"is_sparse\\\": false, \\\"subsampling\\\": false, \\\"dataset_classes\\\": 2, \\\"dataset_features\\\": 12, \\\"dataset_samples\\\": 224, \\\"single_frequency_class_detected\\\": false}\", \"ModelExplainRunId\": \"AutoML_4a62698f-db8a-4812-95b3-201e1b1e13d2_ModelExplain\"}, \"tags\": {\"model_explain_run\": \"best_run\", \"_aml_system_azureml.automlComponent\": \"AutoML\", \"pipeline_id\": \"\", \"score\": \"\", \"predicted_cost\": \"\", \"fit_time\": \"\", \"training_percent\": \"\", \"iteration\": \"\", \"run_preprocessor\": \"\", \"run_algorithm\": \"\", \"dynamic_whitelisting_iterations\": \"<25>;\", \"automl_best_child_run_id\": \"AutoML_4a62698f-db8a-4812-95b3-201e1b1e13d2_30\", \"model_explain_best_run_child_id\": \"AutoML_4a62698f-db8a-4812-95b3-201e1b1e13d2_30\"}, \"end_time_utc\": \"2021-01-17T15:37:34.621193Z\", \"status\": \"Completed\", \"log_files\": {}, \"log_groups\": [], \"run_duration\": \"0:37:55\"}, \"child_runs\": [{\"run_id\": \"AutoML_4a62698f-db8a-4812-95b3-201e1b1e13d2_0\", \"run_number\": 5, \"metric\": null, \"status\": \"Completed\", \"run_type\": \"azureml.scriptrun\", \"training_percent\": \"100\", \"start_time\": \"2021-01-17T15:05:48.203641Z\", \"end_time\": \"2021-01-17T15:06:30.630088Z\", \"created_time\": \"2021-01-17T15:05:35.509941Z\", \"created_time_dt\": \"2021-01-17T15:05:35.509941Z\", \"duration\": \"0:00:55\", \"iteration\": \"0\", \"goal\": \"accuracy_max\", \"run_name\": \"MaxAbsScaler, LightGBM\", \"run_properties\": \"copy=True\", \"primary_metric\": 0.86594595, \"best_metric\": 0.86594595}, {\"run_id\": \"AutoML_4a62698f-db8a-4812-95b3-201e1b1e13d2_1\", \"run_number\": 6, \"metric\": null, \"status\": \"Completed\", \"run_type\": \"azureml.scriptrun\", \"training_percent\": \"100\", \"start_time\": \"2021-01-17T15:06:46.669476Z\", \"end_time\": \"2021-01-17T15:07:30.092767Z\", \"created_time\": \"2021-01-17T15:06:32.629558Z\", \"created_time_dt\": \"2021-01-17T15:06:32.629558Z\", \"duration\": \"0:00:57\", \"iteration\": \"1\", \"goal\": \"accuracy_max\", \"run_name\": \"MaxAbsScaler, XGBoostClassifier\", \"run_properties\": \"copy=True\", \"primary_metric\": 0.88828829, \"best_metric\": 0.88828829}, {\"run_id\": \"AutoML_4a62698f-db8a-4812-95b3-201e1b1e13d2_2\", \"run_number\": 7, \"metric\": null, \"status\": \"Completed\", \"run_type\": \"azureml.scriptrun\", \"training_percent\": \"100\", \"start_time\": \"2021-01-17T15:07:44.201511Z\", \"end_time\": \"2021-01-17T15:08:23.241858Z\", \"created_time\": \"2021-01-17T15:07:32.419028Z\", \"created_time_dt\": \"2021-01-17T15:07:32.419028Z\", \"duration\": \"0:00:50\", \"iteration\": \"2\", \"goal\": \"accuracy_max\", \"run_name\": \"MinMaxScaler, RandomForest\", \"run_properties\": \"copy=True, feature_range=(0, 1\", \"primary_metric\": 0.88378378, \"best_metric\": 0.88828829}, {\"run_id\": \"AutoML_4a62698f-db8a-4812-95b3-201e1b1e13d2_3\", \"run_number\": 8, \"metric\": null, \"status\": \"Completed\", \"run_type\": \"azureml.scriptrun\", \"training_percent\": \"100\", \"start_time\": \"2021-01-17T15:08:39.148954Z\", \"end_time\": \"2021-01-17T15:09:19.344809Z\", \"created_time\": \"2021-01-17T15:08:25.78773Z\", \"created_time_dt\": \"2021-01-17T15:08:25.78773Z\", \"duration\": \"0:00:53\", \"iteration\": \"3\", \"goal\": \"accuracy_max\", \"run_name\": \"MinMaxScaler, RandomForest\", \"run_properties\": \"copy=True, feature_range=(0, 1\", \"primary_metric\": 0.86156156, \"best_metric\": 0.88828829}, {\"run_id\": \"AutoML_4a62698f-db8a-4812-95b3-201e1b1e13d2_4\", \"run_number\": 9, \"metric\": null, \"status\": \"Completed\", \"run_type\": \"azureml.scriptrun\", \"training_percent\": \"100\", \"start_time\": \"2021-01-17T15:09:36.371657Z\", \"end_time\": \"2021-01-17T15:10:17.740825Z\", \"created_time\": \"2021-01-17T15:09:22.28112Z\", \"created_time_dt\": \"2021-01-17T15:09:22.28112Z\", \"duration\": \"0:00:55\", \"iteration\": \"4\", \"goal\": \"accuracy_max\", \"run_name\": \"MinMaxScaler, RandomForest\", \"run_properties\": \"copy=True, feature_range=(0, 1\", \"primary_metric\": 0.85705706, \"best_metric\": 0.88828829}, {\"run_id\": \"AutoML_4a62698f-db8a-4812-95b3-201e1b1e13d2_5\", \"run_number\": 10, \"metric\": null, \"status\": \"Completed\", \"run_type\": \"azureml.scriptrun\", \"training_percent\": \"100\", \"start_time\": \"2021-01-17T15:10:35.09529Z\", \"end_time\": \"2021-01-17T15:11:14.975469Z\", \"created_time\": \"2021-01-17T15:10:21.540843Z\", \"created_time_dt\": \"2021-01-17T15:10:21.540843Z\", \"duration\": \"0:00:53\", \"iteration\": \"5\", \"goal\": \"accuracy_max\", \"run_name\": \"MinMaxScaler, SVM\", \"run_properties\": \"copy=True, feature_range=(0, 1\", \"primary_metric\": 0.77243243, \"best_metric\": 0.88828829}, {\"run_id\": \"AutoML_4a62698f-db8a-4812-95b3-201e1b1e13d2_6\", \"run_number\": 11, \"metric\": null, \"status\": \"Completed\", \"run_type\": \"azureml.scriptrun\", \"training_percent\": \"100\", \"start_time\": \"2021-01-17T15:11:32.248892Z\", \"end_time\": \"2021-01-17T15:12:13.163568Z\", \"created_time\": \"2021-01-17T15:11:17.419184Z\", \"created_time_dt\": \"2021-01-17T15:11:17.419184Z\", \"duration\": \"0:00:55\", \"iteration\": \"6\", \"goal\": \"accuracy_max\", \"run_name\": \"MaxAbsScaler, GradientBoosting\", \"run_properties\": \"copy=True\", \"primary_metric\": 0.87045045, \"best_metric\": 0.88828829}, {\"run_id\": \"AutoML_4a62698f-db8a-4812-95b3-201e1b1e13d2_7\", \"run_number\": 12, \"metric\": null, \"status\": \"Completed\", \"run_type\": \"azureml.scriptrun\", \"training_percent\": \"100\", \"start_time\": \"2021-01-17T15:12:29.534637Z\", \"end_time\": \"2021-01-17T15:13:06.837118Z\", \"created_time\": \"2021-01-17T15:12:15.625168Z\", \"created_time_dt\": \"2021-01-17T15:12:15.625168Z\", \"duration\": \"0:00:51\", \"iteration\": \"7\", \"goal\": \"accuracy_max\", \"run_name\": \"StandardScalerWrapper, RandomForest\", \"run_properties\": \"<azureml.automl.runtime.shared.model_wrappers.StandardScalerWrapper object at 0x7f734e507fd0\", \"primary_metric\": 0.85267267, \"best_metric\": 0.88828829}, {\"run_id\": \"AutoML_4a62698f-db8a-4812-95b3-201e1b1e13d2_8\", \"run_number\": 13, \"metric\": null, \"status\": \"Completed\", \"run_type\": \"azureml.scriptrun\", \"training_percent\": \"100\", \"start_time\": \"2021-01-17T15:13:22.5265Z\", \"end_time\": \"2021-01-17T15:14:02.999545Z\", \"created_time\": \"2021-01-17T15:13:09.79854Z\", \"created_time_dt\": \"2021-01-17T15:13:09.79854Z\", \"duration\": \"0:00:53\", \"iteration\": \"8\", \"goal\": \"accuracy_max\", \"run_name\": \"SparseNormalizer, XGBoostClassifier\", \"run_properties\": \"<azureml.automl.runtime.shared.model_wrappers.SparseNormalizer object at 0x7f99aefcc630\", \"primary_metric\": 0.84342342, \"best_metric\": 0.88828829}, {\"run_id\": \"AutoML_4a62698f-db8a-4812-95b3-201e1b1e13d2_9\", \"run_number\": 14, \"metric\": null, \"status\": \"Completed\", \"run_type\": \"azureml.scriptrun\", \"training_percent\": \"100\", \"start_time\": \"2021-01-17T15:14:26.245809Z\", \"end_time\": \"2021-01-17T15:15:05.959739Z\", \"created_time\": \"2021-01-17T15:14:08.867025Z\", \"created_time_dt\": \"2021-01-17T15:14:08.867025Z\", \"duration\": \"0:00:57\", \"iteration\": \"9\", \"goal\": \"accuracy_max\", \"run_name\": \"SparseNormalizer, LightGBM\", \"run_properties\": \"<azureml.automl.runtime.shared.model_wrappers.SparseNormalizer object at 0x7f5d90cb9710\", \"primary_metric\": 0.87927928, \"best_metric\": 0.88828829}, {\"run_id\": \"AutoML_4a62698f-db8a-4812-95b3-201e1b1e13d2_10\", \"run_number\": 15, \"metric\": null, \"status\": \"Completed\", \"run_type\": \"azureml.scriptrun\", \"training_percent\": \"100\", \"start_time\": \"2021-01-17T15:15:21.641111Z\", \"end_time\": \"2021-01-17T15:16:04.453429Z\", \"created_time\": \"2021-01-17T15:15:08.901871Z\", \"created_time_dt\": \"2021-01-17T15:15:08.901871Z\", \"duration\": \"0:00:55\", \"iteration\": \"10\", \"goal\": \"accuracy_max\", \"run_name\": \"RobustScaler, RandomForest\", \"run_properties\": \"copy=True, quantile_range=[10, 90], with_centering=True,\\n             with_scaling=True\", \"primary_metric\": 0.88822823, \"best_metric\": 0.88828829}, {\"run_id\": \"AutoML_4a62698f-db8a-4812-95b3-201e1b1e13d2_11\", \"run_number\": 16, \"metric\": null, \"status\": \"Completed\", \"run_type\": \"azureml.scriptrun\", \"training_percent\": \"100\", \"start_time\": \"2021-01-17T15:16:20.602432Z\", \"end_time\": \"2021-01-17T15:17:06.198915Z\", \"created_time\": \"2021-01-17T15:16:06.831944Z\", \"created_time_dt\": \"2021-01-17T15:16:06.831944Z\", \"duration\": \"0:00:59\", \"iteration\": \"11\", \"goal\": \"accuracy_max\", \"run_name\": \"MaxAbsScaler, LightGBM\", \"run_properties\": \"copy=True\", \"primary_metric\": 0.85711712, \"best_metric\": 0.88828829}, {\"run_id\": \"AutoML_4a62698f-db8a-4812-95b3-201e1b1e13d2_12\", \"run_number\": 17, \"metric\": null, \"status\": \"Completed\", \"run_type\": \"azureml.scriptrun\", \"training_percent\": \"100\", \"start_time\": \"2021-01-17T15:17:22.7791Z\", \"end_time\": \"2021-01-17T15:18:04.516266Z\", \"created_time\": \"2021-01-17T15:17:11.585629Z\", \"created_time_dt\": \"2021-01-17T15:17:11.585629Z\", \"duration\": \"0:00:52\", \"iteration\": \"12\", \"goal\": \"accuracy_max\", \"run_name\": \"RobustScaler, ExtremeRandomTrees\", \"run_properties\": \"copy=True, quantile_range=[25, 75], with_centering=True,\\n             with_scaling=False\", \"primary_metric\": 0.86606607, \"best_metric\": 0.88828829}, {\"run_id\": \"AutoML_4a62698f-db8a-4812-95b3-201e1b1e13d2_13\", \"run_number\": 18, \"metric\": null, \"status\": \"Completed\", \"run_type\": \"azureml.scriptrun\", \"training_percent\": \"100\", \"start_time\": \"2021-01-17T15:18:23.076639Z\", \"end_time\": \"2021-01-17T15:19:06.367413Z\", \"created_time\": \"2021-01-17T15:18:07.005228Z\", \"created_time_dt\": \"2021-01-17T15:18:07.005228Z\", \"duration\": \"0:00:59\", \"iteration\": \"13\", \"goal\": \"accuracy_max\", \"run_name\": \"SparseNormalizer, XGBoostClassifier\", \"run_properties\": \"<azureml.automl.runtime.shared.model_wrappers.SparseNormalizer object at 0x7f60c28a1860\", \"primary_metric\": 0.8612012, \"best_metric\": 0.88828829}, {\"run_id\": \"AutoML_4a62698f-db8a-4812-95b3-201e1b1e13d2_14\", \"run_number\": 19, \"metric\": null, \"status\": \"Completed\", \"run_type\": \"azureml.scriptrun\", \"training_percent\": \"100\", \"start_time\": \"2021-01-17T15:19:21.477026Z\", \"end_time\": \"2021-01-17T15:20:01.171474Z\", \"created_time\": \"2021-01-17T15:19:08.970353Z\", \"created_time_dt\": \"2021-01-17T15:19:08.970353Z\", \"duration\": \"0:00:52\", \"iteration\": \"14\", \"goal\": \"accuracy_max\", \"run_name\": \"StandardScalerWrapper, ExtremeRandomTrees\", \"run_properties\": \"<azureml.automl.runtime.shared.model_wrappers.StandardScalerWrapper object at 0x7f1d0a9ae400\", \"primary_metric\": 0.85711712, \"best_metric\": 0.88828829}, {\"run_id\": \"AutoML_4a62698f-db8a-4812-95b3-201e1b1e13d2_15\", \"run_number\": 20, \"metric\": null, \"status\": \"Completed\", \"run_type\": \"azureml.scriptrun\", \"training_percent\": \"100\", \"start_time\": \"2021-01-17T15:20:14.652502Z\", \"end_time\": \"2021-01-17T15:20:57.483437Z\", \"created_time\": \"2021-01-17T15:20:04.266083Z\", \"created_time_dt\": \"2021-01-17T15:20:04.266083Z\", \"duration\": \"0:00:53\", \"iteration\": \"15\", \"goal\": \"accuracy_max\", \"run_name\": \"SparseNormalizer, LightGBM\", \"run_properties\": \"<azureml.automl.runtime.shared.model_wrappers.SparseNormalizer object at 0x7f344f2a2e10\", \"primary_metric\": 0.75459459, \"best_metric\": 0.88828829}, {\"run_id\": \"AutoML_4a62698f-db8a-4812-95b3-201e1b1e13d2_16\", \"run_number\": 21, \"metric\": null, \"status\": \"Completed\", \"run_type\": \"azureml.scriptrun\", \"training_percent\": \"100\", \"start_time\": \"2021-01-17T15:21:11.037326Z\", \"end_time\": \"2021-01-17T15:21:50.298725Z\", \"created_time\": \"2021-01-17T15:20:59.805654Z\", \"created_time_dt\": \"2021-01-17T15:20:59.805654Z\", \"duration\": \"0:00:50\", \"iteration\": \"16\", \"goal\": \"accuracy_max\", \"run_name\": \"RobustScaler, ExtremeRandomTrees\", \"run_properties\": \"copy=True, quantile_range=[25, 75], with_centering=True,\\n             with_scaling=False\", \"primary_metric\": 0.88828829, \"best_metric\": 0.88828829}, {\"run_id\": \"AutoML_4a62698f-db8a-4812-95b3-201e1b1e13d2_17\", \"run_number\": 22, \"metric\": null, \"status\": \"Completed\", \"run_type\": \"azureml.scriptrun\", \"training_percent\": \"100\", \"start_time\": \"2021-01-17T15:22:03.002619Z\", \"end_time\": \"2021-01-17T15:22:40.727409Z\", \"created_time\": \"2021-01-17T15:21:52.529439Z\", \"created_time_dt\": \"2021-01-17T15:21:52.529439Z\", \"duration\": \"0:00:48\", \"iteration\": \"17\", \"goal\": \"accuracy_max\", \"run_name\": \"StandardScalerWrapper, XGBoostClassifier\", \"run_properties\": \"<azureml.automl.runtime.shared.model_wrappers.StandardScalerWrapper object at 0x7f9454088a20\", \"primary_metric\": 0.87933934, \"best_metric\": 0.88828829}, {\"run_id\": \"AutoML_4a62698f-db8a-4812-95b3-201e1b1e13d2_18\", \"run_number\": 23, \"metric\": null, \"status\": \"Completed\", \"run_type\": \"azureml.scriptrun\", \"training_percent\": \"100\", \"start_time\": \"2021-01-17T15:22:55.307954Z\", \"end_time\": \"2021-01-17T15:23:39.604885Z\", \"created_time\": \"2021-01-17T15:22:43.320949Z\", \"created_time_dt\": \"2021-01-17T15:22:43.320949Z\", \"duration\": \"0:00:56\", \"iteration\": \"18\", \"goal\": \"accuracy_max\", \"run_name\": \"SparseNormalizer, XGBoostClassifier\", \"run_properties\": \"<azureml.automl.runtime.shared.model_wrappers.SparseNormalizer object at 0x7fbe90013748\", \"primary_metric\": 0.85687688, \"best_metric\": 0.88828829}, {\"run_id\": \"AutoML_4a62698f-db8a-4812-95b3-201e1b1e13d2_19\", \"run_number\": 24, \"metric\": null, \"status\": \"Completed\", \"run_type\": \"azureml.scriptrun\", \"training_percent\": \"100\", \"start_time\": \"2021-01-17T15:23:56.192452Z\", \"end_time\": \"2021-01-17T15:24:45.30929Z\", \"created_time\": \"2021-01-17T15:23:42.16135Z\", \"created_time_dt\": \"2021-01-17T15:23:42.16135Z\", \"duration\": \"0:01:03\", \"iteration\": \"19\", \"goal\": \"accuracy_max\", \"run_name\": \"MaxAbsScaler, LogisticRegression\", \"run_properties\": \"copy=True\", \"primary_metric\": 0.80384384, \"best_metric\": 0.88828829}, {\"run_id\": \"AutoML_4a62698f-db8a-4812-95b3-201e1b1e13d2_20\", \"run_number\": 25, \"metric\": null, \"status\": \"Completed\", \"run_type\": \"azureml.scriptrun\", \"training_percent\": \"100\", \"start_time\": \"2021-01-17T15:25:00.33185Z\", \"end_time\": \"2021-01-17T15:25:37.616602Z\", \"created_time\": \"2021-01-17T15:24:47.992925Z\", \"created_time_dt\": \"2021-01-17T15:24:47.992925Z\", \"duration\": \"0:00:49\", \"iteration\": \"20\", \"goal\": \"accuracy_max\", \"run_name\": \"SparseNormalizer, XGBoostClassifier\", \"run_properties\": \"<azureml.automl.runtime.shared.model_wrappers.SparseNormalizer object at 0x7feb42cd7978\", \"primary_metric\": 0.84798799, \"best_metric\": 0.88828829}, {\"run_id\": \"AutoML_4a62698f-db8a-4812-95b3-201e1b1e13d2_21\", \"run_number\": 26, \"metric\": null, \"status\": \"Completed\", \"run_type\": \"azureml.scriptrun\", \"training_percent\": \"100\", \"start_time\": \"2021-01-17T15:25:57.291673Z\", \"end_time\": \"2021-01-17T15:26:36.277655Z\", \"created_time\": \"2021-01-17T15:25:41.754551Z\", \"created_time_dt\": \"2021-01-17T15:25:41.754551Z\", \"duration\": \"0:00:54\", \"iteration\": \"21\", \"goal\": \"accuracy_max\", \"run_name\": \"MaxAbsScaler, RandomForest\", \"run_properties\": \"copy=True\", \"primary_metric\": 0.87507508, \"best_metric\": 0.88828829}, {\"run_id\": \"AutoML_4a62698f-db8a-4812-95b3-201e1b1e13d2_22\", \"run_number\": 27, \"metric\": null, \"status\": \"Completed\", \"run_type\": \"azureml.scriptrun\", \"training_percent\": \"100\", \"start_time\": \"2021-01-17T15:26:56.228062Z\", \"end_time\": \"2021-01-17T15:27:37.348131Z\", \"created_time\": \"2021-01-17T15:26:42.793698Z\", \"created_time_dt\": \"2021-01-17T15:26:42.793698Z\", \"duration\": \"0:00:54\", \"iteration\": \"22\", \"goal\": \"accuracy_max\", \"run_name\": \"StandardScalerWrapper, LightGBM\", \"run_properties\": \"<azureml.automl.runtime.shared.model_wrappers.StandardScalerWrapper object at 0x7fdd053fdf60\", \"primary_metric\": 0.85705706, \"best_metric\": 0.88828829}, {\"run_id\": \"AutoML_4a62698f-db8a-4812-95b3-201e1b1e13d2_23\", \"run_number\": 28, \"metric\": null, \"status\": \"Completed\", \"run_type\": \"azureml.scriptrun\", \"training_percent\": \"100\", \"start_time\": \"2021-01-17T15:27:55.516872Z\", \"end_time\": \"2021-01-17T15:28:33.435133Z\", \"created_time\": \"2021-01-17T15:27:40.764524Z\", \"created_time_dt\": \"2021-01-17T15:27:40.764524Z\", \"duration\": \"0:00:52\", \"iteration\": \"23\", \"goal\": \"accuracy_max\", \"run_name\": \"StandardScalerWrapper, XGBoostClassifier\", \"run_properties\": \"<azureml.automl.runtime.shared.model_wrappers.StandardScalerWrapper object at 0x7f75934b8c18\", \"primary_metric\": 0.87933934, \"best_metric\": 0.88828829}, {\"run_id\": \"AutoML_4a62698f-db8a-4812-95b3-201e1b1e13d2_24\", \"run_number\": 29, \"metric\": null, \"status\": \"Completed\", \"run_type\": \"azureml.scriptrun\", \"training_percent\": \"100\", \"start_time\": \"2021-01-17T15:28:48.539583Z\", \"end_time\": \"2021-01-17T15:29:39.748205Z\", \"created_time\": \"2021-01-17T15:28:36.742237Z\", \"created_time_dt\": \"2021-01-17T15:28:36.742237Z\", \"duration\": \"0:01:03\", \"iteration\": \"24\", \"goal\": \"accuracy_max\", \"run_name\": \"StandardScalerWrapper, LightGBM\", \"run_properties\": \"<azureml.automl.runtime.shared.model_wrappers.StandardScalerWrapper object at 0x7efff5063358\", \"primary_metric\": 0.87057057, \"best_metric\": 0.88828829}, {\"run_id\": \"AutoML_4a62698f-db8a-4812-95b3-201e1b1e13d2_25\", \"run_number\": 30, \"metric\": null, \"status\": \"Completed\", \"run_type\": \"azureml.scriptrun\", \"training_percent\": \"100\", \"start_time\": \"2021-01-17T15:30:01.238567Z\", \"end_time\": \"2021-01-17T15:30:47.89543Z\", \"created_time\": \"2021-01-17T15:29:44.267254Z\", \"created_time_dt\": \"2021-01-17T15:29:44.267254Z\", \"duration\": \"0:01:03\", \"iteration\": \"25\", \"goal\": \"accuracy_max\", \"run_name\": \"PCA, XGBoostClassifier\", \"run_properties\": \"copy=True, iterated_power='auto', n_components=0.3563157894736842,\\n    random_state=None, svd_solver='auto', tol=0.0, whiten=False\", \"primary_metric\": 0.6966967, \"best_metric\": 0.88828829}, {\"run_id\": \"AutoML_4a62698f-db8a-4812-95b3-201e1b1e13d2_26\", \"run_number\": 31, \"metric\": null, \"status\": \"Completed\", \"run_type\": \"azureml.scriptrun\", \"training_percent\": \"100\", \"start_time\": \"2021-01-17T15:31:05.056036Z\", \"end_time\": \"2021-01-17T15:31:40.181187Z\", \"created_time\": \"2021-01-17T15:30:52.408738Z\", \"created_time_dt\": \"2021-01-17T15:30:52.408738Z\", \"duration\": \"0:00:47\", \"iteration\": \"26\", \"goal\": \"accuracy_max\", \"run_name\": \"StandardScalerWrapper, RandomForest\", \"run_properties\": \"<azureml.automl.runtime.shared.model_wrappers.StandardScalerWrapper object at 0x7f23442c8240\", \"primary_metric\": 0.87039039, \"best_metric\": 0.88828829}, {\"run_id\": \"AutoML_4a62698f-db8a-4812-95b3-201e1b1e13d2_27\", \"run_number\": 32, \"metric\": null, \"status\": \"Completed\", \"run_type\": \"azureml.scriptrun\", \"training_percent\": \"100\", \"start_time\": \"2021-01-17T15:31:57.380195Z\", \"end_time\": \"2021-01-17T15:32:36.534432Z\", \"created_time\": \"2021-01-17T15:31:43.348821Z\", \"created_time_dt\": \"2021-01-17T15:31:43.348821Z\", \"duration\": \"0:00:53\", \"iteration\": \"27\", \"goal\": \"accuracy_max\", \"run_name\": \"SparseNormalizer, LightGBM\", \"run_properties\": \"<azureml.automl.runtime.shared.model_wrappers.SparseNormalizer object at 0x7fb29d170eb8\", \"primary_metric\": 0.80798799, \"best_metric\": 0.88828829}, {\"run_id\": \"AutoML_4a62698f-db8a-4812-95b3-201e1b1e13d2_28\", \"run_number\": 33, \"metric\": null, \"status\": \"Completed\", \"run_type\": \"azureml.scriptrun\", \"training_percent\": \"100\", \"start_time\": \"2021-01-17T15:32:54.418533Z\", \"end_time\": \"2021-01-17T15:33:34.507651Z\", \"created_time\": \"2021-01-17T15:32:41.184367Z\", \"created_time_dt\": \"2021-01-17T15:32:41.184367Z\", \"duration\": \"0:00:53\", \"iteration\": \"28\", \"goal\": \"accuracy_max\", \"run_name\": \"SparseNormalizer, GradientBoosting\", \"run_properties\": \"<azureml.automl.runtime.shared.model_wrappers.SparseNormalizer object at 0x7fd4868f9e80\", \"primary_metric\": 0.80798799, \"best_metric\": 0.88828829}, {\"run_id\": \"AutoML_4a62698f-db8a-4812-95b3-201e1b1e13d2_29\", \"run_number\": 34, \"metric\": null, \"status\": \"Completed\", \"run_type\": \"azureml.scriptrun\", \"training_percent\": \"100\", \"start_time\": \"2021-01-17T15:33:51.051368Z\", \"end_time\": \"2021-01-17T15:34:30.433272Z\", \"created_time\": \"2021-01-17T15:33:38.665566Z\", \"created_time_dt\": \"2021-01-17T15:33:38.665566Z\", \"duration\": \"0:00:51\", \"iteration\": \"29\", \"goal\": \"accuracy_max\", \"run_name\": \"MaxAbsScaler, RandomForest\", \"run_properties\": \"copy=True\", \"primary_metric\": 0.85261261, \"best_metric\": 0.88828829}, {\"run_id\": \"AutoML_4a62698f-db8a-4812-95b3-201e1b1e13d2_30\", \"run_number\": 35, \"metric\": null, \"status\": \"Completed\", \"run_type\": \"azureml.scriptrun\", \"training_percent\": \"100\", \"start_time\": \"2021-01-17T15:34:45.877632Z\", \"end_time\": \"2021-01-17T15:36:02.073136Z\", \"created_time\": \"2021-01-17T15:34:32.947416Z\", \"created_time_dt\": \"2021-01-17T15:34:32.947416Z\", \"duration\": \"0:01:29\", \"iteration\": \"30\", \"goal\": \"accuracy_max\", \"run_name\": \"VotingEnsemble\", \"run_properties\": \"classification_labels=None,\\n                              estimators=[('16',\\n                                           Pipeline(memory=None,\\n                                                    steps=[('robustscaler',\\n                                                            RobustScaler(copy=True,\\n                                                                         quantile_range=[25,\\n                                                                                         75],\\n                                                                         with_centering=True,\\n                                                                         with_scaling=False\", \"primary_metric\": 0.90618619, \"best_metric\": 0.90618619}, {\"run_id\": \"AutoML_4a62698f-db8a-4812-95b3-201e1b1e13d2_31\", \"run_number\": 36, \"metric\": null, \"status\": \"Completed\", \"run_type\": \"azureml.scriptrun\", \"training_percent\": \"100\", \"start_time\": \"2021-01-17T15:36:19.843209Z\", \"end_time\": \"2021-01-17T15:37:26.039425Z\", \"created_time\": \"2021-01-17T15:36:06.995572Z\", \"created_time_dt\": \"2021-01-17T15:36:06.995572Z\", \"duration\": \"0:01:19\", \"iteration\": \"31\", \"goal\": \"accuracy_max\", \"run_name\": \"StackEnsemble\", \"run_properties\": \"base_learners=[('16',\\n                                        Pipeline(memory=None,\\n                                                 steps=[('robustscaler',\\n                                                         RobustScaler(copy=True,\\n                                                                      quantile_range=[25,\\n                                                                                      75],\\n                                                                      with_centering=True,\\n                                                                      with_scaling=False\", \"primary_metric\": 0.87033033, \"best_metric\": 0.90618619}], \"children_metrics\": {\"categories\": [0], \"series\": {\"recall_score_macro\": [{\"categories\": [\"0\", \"1\", \"2\", \"3\", \"4\", \"5\", \"6\", \"7\", \"8\", \"9\", \"10\", \"11\", \"12\", \"13\", \"14\", \"15\", \"16\", \"17\", \"18\", \"19\", \"20\", \"21\", \"22\", \"23\", \"24\", \"25\", \"26\", \"27\", \"28\", \"29\", \"30\", \"31\"], \"mode\": \"markers\", \"name\": \"recall_score_macro\", \"stepped\": false, \"type\": \"scatter\", \"data\": [0.8342171951773402, 0.8527526720461504, 0.8365598438062207, 0.8151381294497236, 0.8216044221479004, 0.6869735538213799, 0.8307186137802081, 0.8049537184500952, 0.7918509965611414, 0.8283741218523827, 0.8438062206178149, 0.7995228067691835, 0.7898226304023406, 0.8144564774999558, 0.7806736004199774, 0.6408837070068955, 0.8280434340216948, 0.8303870043000477, 0.798574982451794, 0.7604898456347732, 0.7863240490052084, 0.8424928701196818, 0.8016459184937444, 0.8303870043000477, 0.8237911276860551, 0.5, 0.8336481687930964, 0.7307684934496529, 0.7261125046451133, 0.8292771540054149, 0.858907631552559, 0.831791229436157]}, {\"categories\": [\"0\", \"1\", \"2\", \"3\", \"4\", \"5\", \"6\", \"7\", \"8\", \"9\", \"10\", \"11\", \"12\", \"13\", \"14\", \"15\", \"16\", \"17\", \"18\", \"19\", \"20\", \"21\", \"22\", \"23\", \"24\", \"25\", \"26\", \"27\", \"28\", \"29\", \"30\", \"31\"], \"mode\": \"lines\", \"name\": \"recall_score_macro_max\", \"stepped\": true, \"type\": \"scatter\", \"data\": [0.8342171951773402, 0.8527526720461504, 0.8527526720461504, 0.8527526720461504, 0.8527526720461504, 0.8527526720461504, 0.8527526720461504, 0.8527526720461504, 0.8527526720461504, 0.8527526720461504, 0.8527526720461504, 0.8527526720461504, 0.8527526720461504, 0.8527526720461504, 0.8527526720461504, 0.8527526720461504, 0.8527526720461504, 0.8527526720461504, 0.8527526720461504, 0.8527526720461504, 0.8527526720461504, 0.8527526720461504, 0.8527526720461504, 0.8527526720461504, 0.8527526720461504, 0.8527526720461504, 0.8527526720461504, 0.8527526720461504, 0.8527526720461504, 0.8527526720461504, 0.858907631552559, 0.858907631552559]}], \"precision_score_macro\": [{\"categories\": [\"0\", \"1\", \"2\", \"3\", \"4\", \"5\", \"6\", \"7\", \"8\", \"9\", \"10\", \"11\", \"12\", \"13\", \"14\", \"15\", \"16\", \"17\", \"18\", \"19\", \"20\", \"21\", \"22\", \"23\", \"24\", \"25\", \"26\", \"27\", \"28\", \"29\", \"30\", \"31\"], \"mode\": \"markers\", \"name\": \"precision_score_macro\", \"stepped\": false, \"type\": \"scatter\", \"data\": [0.83885290194814, 0.8709012113617377, 0.8803825243497537, 0.8490561831190279, 0.8324187784275502, 0.7817200360947837, 0.8500476449561117, 0.8362883218146376, 0.8206597587928273, 0.8750532463456192, 0.883478098737701, 0.8650323484623218, 0.8858701025831169, 0.8501849594026868, 0.8724959806023991, 0.7882059836286547, 0.8933072145995874, 0.8775872762714867, 0.8451848575687585, 0.7766298728942407, 0.8455757501055171, 0.8556837696092082, 0.8606916121512037, 0.8775872762714867, 0.8593930539294932, 0.3483483483483483, 0.848398310591293, 0.8257955303252974, 0.8124472373948056, 0.8210591382630362, 0.9085461343643693, 0.8674830553355305]}, {\"categories\": [\"0\", \"1\", \"2\", \"3\", \"4\", \"5\", \"6\", \"7\", \"8\", \"9\", \"10\", \"11\", \"12\", \"13\", \"14\", \"15\", \"16\", \"17\", \"18\", \"19\", \"20\", \"21\", \"22\", \"23\", \"24\", \"25\", \"26\", \"27\", \"28\", \"29\", \"30\", \"31\"], \"mode\": \"lines\", \"name\": \"precision_score_macro_max\", \"stepped\": true, \"type\": \"scatter\", \"data\": [0.83885290194814, 0.8709012113617377, 0.8803825243497537, 0.8803825243497537, 0.8803825243497537, 0.8803825243497537, 0.8803825243497537, 0.8803825243497537, 0.8803825243497537, 0.8803825243497537, 0.883478098737701, 0.883478098737701, 0.8858701025831169, 0.8858701025831169, 0.8858701025831169, 0.8858701025831169, 0.8933072145995874, 0.8933072145995874, 0.8933072145995874, 0.8933072145995874, 0.8933072145995874, 0.8933072145995874, 0.8933072145995874, 0.8933072145995874, 0.8933072145995874, 0.8933072145995874, 0.8933072145995874, 0.8933072145995874, 0.8933072145995874, 0.8933072145995874, 0.9085461343643693, 0.9085461343643693]}], \"balanced_accuracy\": [{\"categories\": [\"0\", \"1\", \"2\", \"3\", \"4\", \"5\", \"6\", \"7\", \"8\", \"9\", \"10\", \"11\", \"12\", \"13\", \"14\", \"15\", \"16\", \"17\", \"18\", \"19\", \"20\", \"21\", \"22\", \"23\", \"24\", \"25\", \"26\", \"27\", \"28\", \"29\", \"30\", \"31\"], \"mode\": \"markers\", \"name\": \"balanced_accuracy\", \"stepped\": false, \"type\": \"scatter\", \"data\": [0.8342171951773402, 0.8527526720461504, 0.8365598438062207, 0.8151381294497236, 0.8216044221479004, 0.6869735538213799, 0.8307186137802081, 0.8049537184500952, 0.7918509965611414, 0.8283741218523827, 0.8438062206178149, 0.7995228067691835, 0.7898226304023406, 0.8144564774999558, 0.7806736004199774, 0.6408837070068955, 0.8280434340216948, 0.8303870043000477, 0.798574982451794, 0.7604898456347732, 0.7863240490052084, 0.8424928701196818, 0.8016459184937444, 0.8303870043000477, 0.8237911276860551, 0.5, 0.8336481687930964, 0.7307684934496529, 0.7261125046451133, 0.8292771540054149, 0.858907631552559, 0.831791229436157]}, {\"categories\": [\"0\", \"1\", \"2\", \"3\", \"4\", \"5\", \"6\", \"7\", \"8\", \"9\", \"10\", \"11\", \"12\", \"13\", \"14\", \"15\", \"16\", \"17\", \"18\", \"19\", \"20\", \"21\", \"22\", \"23\", \"24\", \"25\", \"26\", \"27\", \"28\", \"29\", \"30\", \"31\"], \"mode\": \"lines\", \"name\": \"balanced_accuracy_max\", \"stepped\": true, \"type\": \"scatter\", \"data\": [0.8342171951773402, 0.8527526720461504, 0.8527526720461504, 0.8527526720461504, 0.8527526720461504, 0.8527526720461504, 0.8527526720461504, 0.8527526720461504, 0.8527526720461504, 0.8527526720461504, 0.8527526720461504, 0.8527526720461504, 0.8527526720461504, 0.8527526720461504, 0.8527526720461504, 0.8527526720461504, 0.8527526720461504, 0.8527526720461504, 0.8527526720461504, 0.8527526720461504, 0.8527526720461504, 0.8527526720461504, 0.8527526720461504, 0.8527526720461504, 0.8527526720461504, 0.8527526720461504, 0.8527526720461504, 0.8527526720461504, 0.8527526720461504, 0.8527526720461504, 0.858907631552559, 0.858907631552559]}], \"AUC_micro\": [{\"categories\": [\"0\", \"1\", \"2\", \"3\", \"4\", \"5\", \"6\", \"7\", \"8\", \"9\", \"10\", \"11\", \"12\", \"13\", \"14\", \"15\", \"16\", \"17\", \"18\", \"19\", \"20\", \"21\", \"22\", \"23\", \"24\", \"25\", \"26\", \"27\", \"28\", \"29\", \"30\", \"31\"], \"mode\": \"markers\", \"name\": \"AUC_micro\", \"stepped\": false, \"type\": \"scatter\", \"data\": [0.9343359359359359, 0.9336131374617861, 0.9392340989638287, 0.9395729242756271, 0.9411205151097043, 0.8214277304331358, 0.9407234369504639, 0.9360568676784893, 0.9343242593945297, 0.9379209263317371, 0.9438698265833402, 0.9241933284635987, 0.9133799312826341, 0.933546238130022, 0.9236716824933041, 0.8771378730081434, 0.9355553824094365, 0.9264048697345993, 0.9316511430349267, 0.8980434704975245, 0.9255998484971458, 0.9388327787246705, 0.9284833806779753, 0.9390577279982685, 0.9291561940318697, 0.7080930119308498, 0.9375532721911101, 0.9162280117955794, 0.9163666910153396, 0.9315507507507507, 0.9489415253090928, 0.9281798447095745]}, {\"categories\": [\"0\", \"1\", \"2\", \"3\", \"4\", \"5\", \"6\", \"7\", \"8\", \"9\", \"10\", \"11\", \"12\", \"13\", \"14\", \"15\", \"16\", \"17\", \"18\", \"19\", \"20\", \"21\", \"22\", \"23\", \"24\", \"25\", \"26\", \"27\", \"28\", \"29\", \"30\", \"31\"], \"mode\": \"lines\", \"name\": \"AUC_micro_max\", \"stepped\": true, \"type\": \"scatter\", \"data\": [0.9343359359359359, 0.9343359359359359, 0.9392340989638287, 0.9395729242756271, 0.9411205151097043, 0.9411205151097043, 0.9411205151097043, 0.9411205151097043, 0.9411205151097043, 0.9411205151097043, 0.9438698265833402, 0.9438698265833402, 0.9438698265833402, 0.9438698265833402, 0.9438698265833402, 0.9438698265833402, 0.9438698265833402, 0.9438698265833402, 0.9438698265833402, 0.9438698265833402, 0.9438698265833402, 0.9438698265833402, 0.9438698265833402, 0.9438698265833402, 0.9438698265833402, 0.9438698265833402, 0.9438698265833402, 0.9438698265833402, 0.9438698265833402, 0.9438698265833402, 0.9489415253090928, 0.9489415253090928]}], \"accuracy\": [{\"categories\": [\"0\", \"1\", \"2\", \"3\", \"4\", \"5\", \"6\", \"7\", \"8\", \"9\", \"10\", \"11\", \"12\", \"13\", \"14\", \"15\", \"16\", \"17\", \"18\", \"19\", \"20\", \"21\", \"22\", \"23\", \"24\", \"25\", \"26\", \"27\", \"28\", \"29\", \"30\", \"31\"], \"mode\": \"markers\", \"name\": \"accuracy\", \"stepped\": false, \"type\": \"scatter\", \"data\": [0.865945945945946, 0.8882882882882882, 0.8837837837837839, 0.8615615615615616, 0.857057057057057, 0.7724324324324324, 0.8704504504504506, 0.8526726726726727, 0.8434234234234235, 0.8792792792792793, 0.8882282282282282, 0.8571171171171171, 0.8660660660660661, 0.8612012012012012, 0.8571171171171171, 0.7545945945945945, 0.8882882882882882, 0.8793393393393393, 0.856876876876877, 0.8038438438438439, 0.847987987987988, 0.8750750750750752, 0.857057057057057, 0.8793393393393393, 0.8705705705705706, 0.6966966966966966, 0.8703903903903903, 0.807987987987988, 0.807987987987988, 0.8526126126126127, 0.9061861861861861, 0.8703303303303302]}, {\"categories\": [\"0\", \"1\", \"2\", \"3\", \"4\", \"5\", \"6\", \"7\", \"8\", \"9\", \"10\", \"11\", \"12\", \"13\", \"14\", \"15\", \"16\", \"17\", \"18\", \"19\", \"20\", \"21\", \"22\", \"23\", \"24\", \"25\", \"26\", \"27\", \"28\", \"29\", \"30\", \"31\"], \"mode\": \"lines\", \"name\": \"accuracy_max\", \"stepped\": true, \"type\": \"scatter\", \"data\": [0.865945945945946, 0.8882882882882882, 0.8882882882882882, 0.8882882882882882, 0.8882882882882882, 0.8882882882882882, 0.8882882882882882, 0.8882882882882882, 0.8882882882882882, 0.8882882882882882, 0.8882882882882882, 0.8882882882882882, 0.8882882882882882, 0.8882882882882882, 0.8882882882882882, 0.8882882882882882, 0.8882882882882882, 0.8882882882882882, 0.8882882882882882, 0.8882882882882882, 0.8882882882882882, 0.8882882882882882, 0.8882882882882882, 0.8882882882882882, 0.8882882882882882, 0.8882882882882882, 0.8882882882882882, 0.8882882882882882, 0.8882882882882882, 0.8882882882882882, 0.9061861861861861, 0.9061861861861861]}], \"f1_score_weighted\": [{\"categories\": [\"0\", \"1\", \"2\", \"3\", \"4\", \"5\", \"6\", \"7\", \"8\", \"9\", \"10\", \"11\", \"12\", \"13\", \"14\", \"15\", \"16\", \"17\", \"18\", \"19\", \"20\", \"21\", \"22\", \"23\", \"24\", \"25\", \"26\", \"27\", \"28\", \"29\", \"30\", \"31\"], \"mode\": \"markers\", \"name\": \"f1_score_weighted\", \"stepped\": false, \"type\": \"scatter\", \"data\": [0.8657238179639948, 0.886766695090705, 0.8805553832936982, 0.8584161535433396, 0.8562935887079579, 0.7479092630215508, 0.8688114812367066, 0.8493017080667188, 0.8415409919774679, 0.8760684440096204, 0.8857624063954582, 0.8507321987654329, 0.8566616445935787, 0.8605133254086303, 0.8473486260706135, 0.715093140275247, 0.8830387764109874, 0.8758123177506493, 0.85296473817986, 0.8026330758002583, 0.8428733954497503, 0.8737817182261627, 0.8517033740955493, 0.8758123177506493, 0.8671607019040648, 0.573085425322798, 0.8692210283171239, 0.7929236866620268, 0.794334290520597, 0.8533654493296016, 0.9027583704685872, 0.8689446900044238]}, {\"categories\": [\"0\", \"1\", \"2\", \"3\", \"4\", \"5\", \"6\", \"7\", \"8\", \"9\", \"10\", \"11\", \"12\", \"13\", \"14\", \"15\", \"16\", \"17\", \"18\", \"19\", \"20\", \"21\", \"22\", \"23\", \"24\", \"25\", \"26\", \"27\", \"28\", \"29\", \"30\", \"31\"], \"mode\": \"lines\", \"name\": \"f1_score_weighted_max\", \"stepped\": true, \"type\": \"scatter\", \"data\": [0.8657238179639948, 0.886766695090705, 0.886766695090705, 0.886766695090705, 0.886766695090705, 0.886766695090705, 0.886766695090705, 0.886766695090705, 0.886766695090705, 0.886766695090705, 0.886766695090705, 0.886766695090705, 0.886766695090705, 0.886766695090705, 0.886766695090705, 0.886766695090705, 0.886766695090705, 0.886766695090705, 0.886766695090705, 0.886766695090705, 0.886766695090705, 0.886766695090705, 0.886766695090705, 0.886766695090705, 0.886766695090705, 0.886766695090705, 0.886766695090705, 0.886766695090705, 0.886766695090705, 0.886766695090705, 0.9027583704685872, 0.9027583704685872]}], \"recall_score_weighted\": [{\"categories\": [\"0\", \"1\", \"2\", \"3\", \"4\", \"5\", \"6\", \"7\", \"8\", \"9\", \"10\", \"11\", \"12\", \"13\", \"14\", \"15\", \"16\", \"17\", \"18\", \"19\", \"20\", \"21\", \"22\", \"23\", \"24\", \"25\", \"26\", \"27\", \"28\", \"29\", \"30\", \"31\"], \"mode\": \"markers\", \"name\": \"recall_score_weighted\", \"stepped\": false, \"type\": \"scatter\", \"data\": [0.865945945945946, 0.8882882882882882, 0.8837837837837839, 0.8615615615615616, 0.857057057057057, 0.7724324324324324, 0.8704504504504506, 0.8526726726726727, 0.8434234234234235, 0.8792792792792793, 0.8882282282282282, 0.8571171171171171, 0.8660660660660661, 0.8612012012012012, 0.8571171171171171, 0.7545945945945945, 0.8882882882882882, 0.8793393393393393, 0.856876876876877, 0.8038438438438439, 0.847987987987988, 0.8750750750750752, 0.857057057057057, 0.8793393393393393, 0.8705705705705706, 0.6966966966966966, 0.8703903903903903, 0.807987987987988, 0.807987987987988, 0.8526126126126127, 0.9061861861861861, 0.8703303303303302]}, {\"categories\": [\"0\", \"1\", \"2\", \"3\", \"4\", \"5\", \"6\", \"7\", \"8\", \"9\", \"10\", \"11\", \"12\", \"13\", \"14\", \"15\", \"16\", \"17\", \"18\", \"19\", \"20\", \"21\", \"22\", \"23\", \"24\", \"25\", \"26\", \"27\", \"28\", \"29\", \"30\", \"31\"], \"mode\": \"lines\", \"name\": \"recall_score_weighted_max\", \"stepped\": true, \"type\": \"scatter\", \"data\": [0.865945945945946, 0.8882882882882882, 0.8882882882882882, 0.8882882882882882, 0.8882882882882882, 0.8882882882882882, 0.8882882882882882, 0.8882882882882882, 0.8882882882882882, 0.8882882882882882, 0.8882882882882882, 0.8882882882882882, 0.8882882882882882, 0.8882882882882882, 0.8882882882882882, 0.8882882882882882, 0.8882882882882882, 0.8882882882882882, 0.8882882882882882, 0.8882882882882882, 0.8882882882882882, 0.8882882882882882, 0.8882882882882882, 0.8882882882882882, 0.8882882882882882, 0.8882882882882882, 0.8882882882882882, 0.8882882882882882, 0.8882882882882882, 0.8882882882882882, 0.9061861861861861, 0.9061861861861861]}], \"average_precision_score_weighted\": [{\"categories\": [\"0\", \"1\", \"2\", \"3\", \"4\", \"5\", \"6\", \"7\", \"8\", \"9\", \"10\", \"11\", \"12\", \"13\", \"14\", \"15\", \"16\", \"17\", \"18\", \"19\", \"20\", \"21\", \"22\", \"23\", \"24\", \"25\", \"26\", \"27\", \"28\", \"29\", \"30\", \"31\"], \"mode\": \"markers\", \"name\": \"average_precision_score_weighted\", \"stepped\": false, \"type\": \"scatter\", \"data\": [0.929131096758995, 0.928200605498517, 0.9348050973323755, 0.9345764612436297, 0.9371524780142689, 0.8215567653612572, 0.9408657722755157, 0.9416366792791914, 0.9383061001762519, 0.9406986526956685, 0.9413340582495667, 0.9289386213362834, 0.9059659798686809, 0.9260595475129335, 0.9311812328333887, 0.9081155893055676, 0.9335928033419069, 0.9227716613422595, 0.9370752673970971, 0.8952294973304333, 0.937234536043558, 0.9289215411506038, 0.9343095904920361, 0.9449428688665732, 0.9276031033523592, 0.6049540591330582, 0.9330476406578846, 0.933306905499342, 0.9261084972374963, 0.9242614484485513, 0.9466815586284398, 0.9364037626407291]}, {\"categories\": [\"0\", \"1\", \"2\", \"3\", \"4\", \"5\", \"6\", \"7\", \"8\", \"9\", \"10\", \"11\", \"12\", \"13\", \"14\", \"15\", \"16\", \"17\", \"18\", \"19\", \"20\", \"21\", \"22\", \"23\", \"24\", \"25\", \"26\", \"27\", \"28\", \"29\", \"30\", \"31\"], \"mode\": \"lines\", \"name\": \"average_precision_score_weighted_max\", \"stepped\": true, \"type\": \"scatter\", \"data\": [0.929131096758995, 0.929131096758995, 0.9348050973323755, 0.9348050973323755, 0.9371524780142689, 0.9371524780142689, 0.9408657722755157, 0.9416366792791914, 0.9416366792791914, 0.9416366792791914, 0.9416366792791914, 0.9416366792791914, 0.9416366792791914, 0.9416366792791914, 0.9416366792791914, 0.9416366792791914, 0.9416366792791914, 0.9416366792791914, 0.9416366792791914, 0.9416366792791914, 0.9416366792791914, 0.9416366792791914, 0.9416366792791914, 0.9449428688665732, 0.9449428688665732, 0.9449428688665732, 0.9449428688665732, 0.9449428688665732, 0.9449428688665732, 0.9449428688665732, 0.9466815586284398, 0.9466815586284398]}], \"average_precision_score_micro\": [{\"categories\": [\"0\", \"1\", \"2\", \"3\", \"4\", \"5\", \"6\", \"7\", \"8\", \"9\", \"10\", \"11\", \"12\", \"13\", \"14\", \"15\", \"16\", \"17\", \"18\", \"19\", \"20\", \"21\", \"22\", \"23\", \"24\", \"25\", \"26\", \"27\", \"28\", \"29\", \"30\", \"31\"], \"mode\": \"markers\", \"name\": \"average_precision_score_micro\", \"stepped\": false, \"type\": \"scatter\", \"data\": [0.9335572100637132, 0.9348909299681516, 0.9365611383400356, 0.9375211384309855, 0.9419394948490272, 0.8153766621252148, 0.9427286538521645, 0.9367650610666812, 0.9372706441959225, 0.9402855388465424, 0.9411661280293945, 0.9222743349011461, 0.9076681076512019, 0.9305828069783759, 0.9252720177338666, 0.888157271239605, 0.9370987397874752, 0.9187924583930865, 0.9341092140245398, 0.903745552389486, 0.928717005632624, 0.9394408457108746, 0.9266230283273047, 0.9406635540366101, 0.9285750365613753, 0.6722228313182166, 0.935917717881539, 0.9201052452058773, 0.9187610763228141, 0.930081416437488, 0.9508789450453777, 0.9253724090878029]}, {\"categories\": [\"0\", \"1\", \"2\", \"3\", \"4\", \"5\", \"6\", \"7\", \"8\", \"9\", \"10\", \"11\", \"12\", \"13\", \"14\", \"15\", \"16\", \"17\", \"18\", \"19\", \"20\", \"21\", \"22\", \"23\", \"24\", \"25\", \"26\", \"27\", \"28\", \"29\", \"30\", \"31\"], \"mode\": \"lines\", \"name\": \"average_precision_score_micro_max\", \"stepped\": true, \"type\": \"scatter\", \"data\": [0.9335572100637132, 0.9348909299681516, 0.9365611383400356, 0.9375211384309855, 0.9419394948490272, 0.9419394948490272, 0.9427286538521645, 0.9427286538521645, 0.9427286538521645, 0.9427286538521645, 0.9427286538521645, 0.9427286538521645, 0.9427286538521645, 0.9427286538521645, 0.9427286538521645, 0.9427286538521645, 0.9427286538521645, 0.9427286538521645, 0.9427286538521645, 0.9427286538521645, 0.9427286538521645, 0.9427286538521645, 0.9427286538521645, 0.9427286538521645, 0.9427286538521645, 0.9427286538521645, 0.9427286538521645, 0.9427286538521645, 0.9427286538521645, 0.9427286538521645, 0.9508789450453777, 0.9508789450453777]}], \"AUC_macro\": [{\"categories\": [\"0\", \"1\", \"2\", \"3\", \"4\", \"5\", \"6\", \"7\", \"8\", \"9\", \"10\", \"11\", \"12\", \"13\", \"14\", \"15\", \"16\", \"17\", \"18\", \"19\", \"20\", \"21\", \"22\", \"23\", \"24\", \"25\", \"26\", \"27\", \"28\", \"29\", \"30\", \"31\"], \"mode\": \"markers\", \"name\": \"AUC_macro\", \"stepped\": false, \"type\": \"scatter\", \"data\": [0.9088255187289004, 0.9075207088492112, 0.9165067912048589, 0.9181652687087469, 0.9239545791478158, 0.7826106618377149, 0.9264397147851252, 0.9291631275326928, 0.9228235309153184, 0.9243677238846321, 0.9309899596735344, 0.914332435769634, 0.8909551041193553, 0.9133303570199706, 0.9175811887164546, 0.8969743353801326, 0.9230056488510595, 0.915085669161756, 0.9203483490923104, 0.872866811574541, 0.9178009713939664, 0.9249148150114334, 0.9170468777956701, 0.9316365889433523, 0.9145779631890743, 0.5286003192102225, 0.9180246864425609, 0.9234714504943975, 0.9065419171095499, 0.9175397759334958, 0.9341566243740157, 0.9274765089982481]}, {\"categories\": [\"0\", \"1\", \"2\", \"3\", \"4\", \"5\", \"6\", \"7\", \"8\", \"9\", \"10\", \"11\", \"12\", \"13\", \"14\", \"15\", \"16\", \"17\", \"18\", \"19\", \"20\", \"21\", \"22\", \"23\", \"24\", \"25\", \"26\", \"27\", \"28\", \"29\", \"30\", \"31\"], \"mode\": \"lines\", \"name\": \"AUC_macro_max\", \"stepped\": true, \"type\": \"scatter\", \"data\": [0.9088255187289004, 0.9088255187289004, 0.9165067912048589, 0.9181652687087469, 0.9239545791478158, 0.9239545791478158, 0.9264397147851252, 0.9291631275326928, 0.9291631275326928, 0.9291631275326928, 0.9309899596735344, 0.9309899596735344, 0.9309899596735344, 0.9309899596735344, 0.9309899596735344, 0.9309899596735344, 0.9309899596735344, 0.9309899596735344, 0.9309899596735344, 0.9309899596735344, 0.9309899596735344, 0.9309899596735344, 0.9309899596735344, 0.9316365889433523, 0.9316365889433523, 0.9316365889433523, 0.9316365889433523, 0.9316365889433523, 0.9316365889433523, 0.9316365889433523, 0.9341566243740157, 0.9341566243740157]}], \"weighted_accuracy\": [{\"categories\": [\"0\", \"1\", \"2\", \"3\", \"4\", \"5\", \"6\", \"7\", \"8\", \"9\", \"10\", \"11\", \"12\", \"13\", \"14\", \"15\", \"16\", \"17\", \"18\", \"19\", \"20\", \"21\", \"22\", \"23\", \"24\", \"25\", \"26\", \"27\", \"28\", \"29\", \"30\", \"31\"], \"mode\": \"markers\", \"name\": \"weighted_accuracy\", \"stepped\": false, \"type\": \"scatter\", \"data\": [0.8878240367739054, 0.9123041314797158, 0.9174189584247819, 0.8949762723473427, 0.8819753911560402, 0.8355270227738393, 0.8984308995540591, 0.8871574439100955, 0.8789277266534216, 0.9150888738207222, 0.91979033691741, 0.8996148041221113, 0.9189598124981826, 0.8941461868027529, 0.9105974630816488, 0.8380427985677588, 0.9295397408727454, 0.9144515993743368, 0.8973009582922918, 0.8339330463593089, 0.8918873139561557, 0.8975865203724248, 0.8977831533642848, 0.9144515993743368, 0.9034583071513959, 0.8341257274751658, 0.8960893407214404, 0.8651810825021498, 0.8671300034516887, 0.8688471435931445, 0.9389426670661211, 0.8994047517644966]}, {\"categories\": [\"0\", \"1\", \"2\", \"3\", \"4\", \"5\", \"6\", \"7\", \"8\", \"9\", \"10\", \"11\", \"12\", \"13\", \"14\", \"15\", \"16\", \"17\", \"18\", \"19\", \"20\", \"21\", \"22\", \"23\", \"24\", \"25\", \"26\", \"27\", \"28\", \"29\", \"30\", \"31\"], \"mode\": \"lines\", \"name\": \"weighted_accuracy_max\", \"stepped\": true, \"type\": \"scatter\", \"data\": [0.8878240367739054, 0.9123041314797158, 0.9174189584247819, 0.9174189584247819, 0.9174189584247819, 0.9174189584247819, 0.9174189584247819, 0.9174189584247819, 0.9174189584247819, 0.9174189584247819, 0.91979033691741, 0.91979033691741, 0.91979033691741, 0.91979033691741, 0.91979033691741, 0.91979033691741, 0.9295397408727454, 0.9295397408727454, 0.9295397408727454, 0.9295397408727454, 0.9295397408727454, 0.9295397408727454, 0.9295397408727454, 0.9295397408727454, 0.9295397408727454, 0.9295397408727454, 0.9295397408727454, 0.9295397408727454, 0.9295397408727454, 0.9295397408727454, 0.9389426670661211, 0.9389426670661211]}], \"f1_score_macro\": [{\"categories\": [\"0\", \"1\", \"2\", \"3\", \"4\", \"5\", \"6\", \"7\", \"8\", \"9\", \"10\", \"11\", \"12\", \"13\", \"14\", \"15\", \"16\", \"17\", \"18\", \"19\", \"20\", \"21\", \"22\", \"23\", \"24\", \"25\", \"26\", \"27\", \"28\", \"29\", \"30\", \"31\"], \"mode\": \"markers\", \"name\": \"f1_score_macro\", \"stepped\": false, \"type\": \"scatter\", \"data\": [0.835376917544505, 0.8595407323939993, 0.8499357046265779, 0.8260536606124842, 0.8250138796504712, 0.6865610092183715, 0.8377963677963679, 0.8147327292245331, 0.8020873341078572, 0.8439749947102889, 0.8567012541552853, 0.8154237171291531, 0.8179774908363348, 0.8252647432018723, 0.8066804825794668, 0.6373126616525769, 0.8509365436977, 0.8445560775282138, 0.8142946809556625, 0.7648735810113519, 0.8023301515029102, 0.847718253968254, 0.8157938169116559, 0.8445560775282138, 0.8370503390414895, 0.4101539840352976, 0.8382167329874761, 0.742485848680539, 0.7424390286523496, 0.8228507424258117, 0.8771133553176896, 0.838780642508978]}, {\"categories\": [\"0\", \"1\", \"2\", \"3\", \"4\", \"5\", \"6\", \"7\", \"8\", \"9\", \"10\", \"11\", \"12\", \"13\", \"14\", \"15\", \"16\", \"17\", \"18\", \"19\", \"20\", \"21\", \"22\", \"23\", \"24\", \"25\", \"26\", \"27\", \"28\", \"29\", \"30\", \"31\"], \"mode\": \"lines\", \"name\": \"f1_score_macro_max\", \"stepped\": true, \"type\": \"scatter\", \"data\": [0.835376917544505, 0.8595407323939993, 0.8595407323939993, 0.8595407323939993, 0.8595407323939993, 0.8595407323939993, 0.8595407323939993, 0.8595407323939993, 0.8595407323939993, 0.8595407323939993, 0.8595407323939993, 0.8595407323939993, 0.8595407323939993, 0.8595407323939993, 0.8595407323939993, 0.8595407323939993, 0.8595407323939993, 0.8595407323939993, 0.8595407323939993, 0.8595407323939993, 0.8595407323939993, 0.8595407323939993, 0.8595407323939993, 0.8595407323939993, 0.8595407323939993, 0.8595407323939993, 0.8595407323939993, 0.8595407323939993, 0.8595407323939993, 0.8595407323939993, 0.8771133553176896, 0.8771133553176896]}], \"log_loss\": [{\"categories\": [\"0\", \"1\", \"2\", \"3\", \"4\", \"5\", \"6\", \"7\", \"8\", \"9\", \"10\", \"11\", \"12\", \"13\", \"14\", \"15\", \"16\", \"17\", \"18\", \"19\", \"20\", \"21\", \"22\", \"23\", \"24\", \"25\", \"26\", \"27\", \"28\", \"29\", \"30\", \"31\"], \"mode\": \"markers\", \"name\": \"log_loss\", \"stepped\": false, \"type\": \"scatter\", \"data\": [0.3962466829257146, 0.3590820336836528, 0.32241440786925163, 0.3373567152870995, 0.32616209845143485, 0.5258086877888024, 0.3200919918838427, 0.3491244345783835, 0.35035916523812743, 0.33243121352565136, 0.3086410836440858, 0.4056272643145335, 0.38323951709467136, 0.4266391867524022, 0.3847136044607873, 0.47439414294146015, 0.35147965943979514, 0.37881040811742617, 0.36661230154723007, 0.41757184360397104, 0.3950465731227181, 0.35799152484824687, 0.3877721982110211, 0.3417368333979494, 0.34467969309566193, 0.6319622402683528, 0.4739981670341378, 0.4161149675594429, 0.3955951903399777, 0.4194684814520135, 0.32156822745369024, 0.3820184284549362]}, {\"categories\": [\"0\", \"1\", \"2\", \"3\", \"4\", \"5\", \"6\", \"7\", \"8\", \"9\", \"10\", \"11\", \"12\", \"13\", \"14\", \"15\", \"16\", \"17\", \"18\", \"19\", \"20\", \"21\", \"22\", \"23\", \"24\", \"25\", \"26\", \"27\", \"28\", \"29\", \"30\", \"31\"], \"mode\": \"lines\", \"name\": \"log_loss_min\", \"stepped\": true, \"type\": \"scatter\", \"data\": [0.3962466829257146, 0.3590820336836528, 0.32241440786925163, 0.32241440786925163, 0.32241440786925163, 0.32241440786925163, 0.3200919918838427, 0.3200919918838427, 0.3200919918838427, 0.3200919918838427, 0.3086410836440858, 0.3086410836440858, 0.3086410836440858, 0.3086410836440858, 0.3086410836440858, 0.3086410836440858, 0.3086410836440858, 0.3086410836440858, 0.3086410836440858, 0.3086410836440858, 0.3086410836440858, 0.3086410836440858, 0.3086410836440858, 0.3086410836440858, 0.3086410836440858, 0.3086410836440858, 0.3086410836440858, 0.3086410836440858, 0.3086410836440858, 0.3086410836440858, 0.3086410836440858, 0.3086410836440858]}], \"recall_score_micro\": [{\"categories\": [\"0\", \"1\", \"2\", \"3\", \"4\", \"5\", \"6\", \"7\", \"8\", \"9\", \"10\", \"11\", \"12\", \"13\", \"14\", \"15\", \"16\", \"17\", \"18\", \"19\", \"20\", \"21\", \"22\", \"23\", \"24\", \"25\", \"26\", \"27\", \"28\", \"29\", \"30\", \"31\"], \"mode\": \"markers\", \"name\": \"recall_score_micro\", \"stepped\": false, \"type\": \"scatter\", \"data\": [0.865945945945946, 0.8882882882882882, 0.8837837837837839, 0.8615615615615616, 0.857057057057057, 0.7724324324324324, 0.8704504504504506, 0.8526726726726727, 0.8434234234234235, 0.8792792792792793, 0.8882282282282282, 0.8571171171171171, 0.8660660660660661, 0.8612012012012012, 0.8571171171171171, 0.7545945945945945, 0.8882882882882882, 0.8793393393393393, 0.856876876876877, 0.8038438438438439, 0.847987987987988, 0.8750750750750752, 0.857057057057057, 0.8793393393393393, 0.8705705705705706, 0.6966966966966966, 0.8703903903903903, 0.807987987987988, 0.807987987987988, 0.8526126126126127, 0.9061861861861861, 0.8703303303303302]}, {\"categories\": [\"0\", \"1\", \"2\", \"3\", \"4\", \"5\", \"6\", \"7\", \"8\", \"9\", \"10\", \"11\", \"12\", \"13\", \"14\", \"15\", \"16\", \"17\", \"18\", \"19\", \"20\", \"21\", \"22\", \"23\", \"24\", \"25\", \"26\", \"27\", \"28\", \"29\", \"30\", \"31\"], \"mode\": \"lines\", \"name\": \"recall_score_micro_max\", \"stepped\": true, \"type\": \"scatter\", \"data\": [0.865945945945946, 0.8882882882882882, 0.8882882882882882, 0.8882882882882882, 0.8882882882882882, 0.8882882882882882, 0.8882882882882882, 0.8882882882882882, 0.8882882882882882, 0.8882882882882882, 0.8882882882882882, 0.8882882882882882, 0.8882882882882882, 0.8882882882882882, 0.8882882882882882, 0.8882882882882882, 0.8882882882882882, 0.8882882882882882, 0.8882882882882882, 0.8882882882882882, 0.8882882882882882, 0.8882882882882882, 0.8882882882882882, 0.8882882882882882, 0.8882882882882882, 0.8882882882882882, 0.8882882882882882, 0.8882882882882882, 0.8882882882882882, 0.8882882882882882, 0.9061861861861861, 0.9061861861861861]}], \"norm_macro_recall\": [{\"categories\": [\"0\", \"1\", \"2\", \"3\", \"4\", \"5\", \"6\", \"7\", \"8\", \"9\", \"10\", \"11\", \"12\", \"13\", \"14\", \"15\", \"16\", \"17\", \"18\", \"19\", \"20\", \"21\", \"22\", \"23\", \"24\", \"25\", \"26\", \"27\", \"28\", \"29\", \"30\", \"31\"], \"mode\": \"markers\", \"name\": \"norm_macro_recall\", \"stepped\": false, \"type\": \"scatter\", \"data\": [0.6684343903546802, 0.7055053440923006, 0.6731196876124413, 0.6302762588994474, 0.6432088442958008, 0.37394710764275985, 0.661437227560416, 0.6099074369001906, 0.583701993122283, 0.6567482437047654, 0.6876124412356296, 0.5990456135383672, 0.5796452608046812, 0.6289129549999115, 0.5613472008399545, 0.28176741401379085, 0.6560868680433897, 0.6607740086000956, 0.5971499649035882, 0.5209796912695465, 0.5726480980104168, 0.6849857402393634, 0.6032918369874891, 0.6607740086000956, 0.6475822553721103, 0.0, 0.6672963375861927, 0.4615369868993057, 0.4522250092902267, 0.6585543080108298, 0.717815263105118, 0.6635824588723139]}, {\"categories\": [\"0\", \"1\", \"2\", \"3\", \"4\", \"5\", \"6\", \"7\", \"8\", \"9\", \"10\", \"11\", \"12\", \"13\", \"14\", \"15\", \"16\", \"17\", \"18\", \"19\", \"20\", \"21\", \"22\", \"23\", \"24\", \"25\", \"26\", \"27\", \"28\", \"29\", \"30\", \"31\"], \"mode\": \"lines\", \"name\": \"norm_macro_recall_max\", \"stepped\": true, \"type\": \"scatter\", \"data\": [0.6684343903546802, 0.7055053440923006, 0.7055053440923006, 0.7055053440923006, 0.7055053440923006, 0.7055053440923006, 0.7055053440923006, 0.7055053440923006, 0.7055053440923006, 0.7055053440923006, 0.7055053440923006, 0.7055053440923006, 0.7055053440923006, 0.7055053440923006, 0.7055053440923006, 0.7055053440923006, 0.7055053440923006, 0.7055053440923006, 0.7055053440923006, 0.7055053440923006, 0.7055053440923006, 0.7055053440923006, 0.7055053440923006, 0.7055053440923006, 0.7055053440923006, 0.7055053440923006, 0.7055053440923006, 0.7055053440923006, 0.7055053440923006, 0.7055053440923006, 0.717815263105118, 0.717815263105118]}], \"precision_score_weighted\": [{\"categories\": [\"0\", \"1\", \"2\", \"3\", \"4\", \"5\", \"6\", \"7\", \"8\", \"9\", \"10\", \"11\", \"12\", \"13\", \"14\", \"15\", \"16\", \"17\", \"18\", \"19\", \"20\", \"21\", \"22\", \"23\", \"24\", \"25\", \"26\", \"27\", \"28\", \"29\", \"30\", \"31\"], \"mode\": \"markers\", \"name\": \"precision_score_weighted\", \"stepped\": false, \"type\": \"scatter\", \"data\": [0.8671452259071307, 0.8885481973201271, 0.8898561575026321, 0.8645263770205943, 0.858435691832183, 0.7973414406913756, 0.871196872478337, 0.8552258446644411, 0.8460766529220684, 0.8845162535416772, 0.8936116502835487, 0.8702079323667191, 0.8756747180996346, 0.8704641302811917, 0.8669512259176054, 0.7903683262337404, 0.8917663607917845, 0.8862782399624504, 0.8609935661741647, 0.807320736171311, 0.8580909201616708, 0.8744902797534376, 0.8693920663750978, 0.8862782399624504, 0.8705210469628569, 0.48766396666937206, 0.8721245807210719, 0.8327722388429896, 0.8214993430693021, 0.8573375352895592, 0.9089151683716267, 0.8836106262217277]}, {\"categories\": [\"0\", \"1\", \"2\", \"3\", \"4\", \"5\", \"6\", \"7\", \"8\", \"9\", \"10\", \"11\", \"12\", \"13\", \"14\", \"15\", \"16\", \"17\", \"18\", \"19\", \"20\", \"21\", \"22\", \"23\", \"24\", \"25\", \"26\", \"27\", \"28\", \"29\", \"30\", \"31\"], \"mode\": \"lines\", \"name\": \"precision_score_weighted_max\", \"stepped\": true, \"type\": \"scatter\", \"data\": [0.8671452259071307, 0.8885481973201271, 0.8898561575026321, 0.8898561575026321, 0.8898561575026321, 0.8898561575026321, 0.8898561575026321, 0.8898561575026321, 0.8898561575026321, 0.8898561575026321, 0.8936116502835487, 0.8936116502835487, 0.8936116502835487, 0.8936116502835487, 0.8936116502835487, 0.8936116502835487, 0.8936116502835487, 0.8936116502835487, 0.8936116502835487, 0.8936116502835487, 0.8936116502835487, 0.8936116502835487, 0.8936116502835487, 0.8936116502835487, 0.8936116502835487, 0.8936116502835487, 0.8936116502835487, 0.8936116502835487, 0.8936116502835487, 0.8936116502835487, 0.9089151683716267, 0.9089151683716267]}], \"f1_score_micro\": [{\"categories\": [\"0\", \"1\", \"2\", \"3\", \"4\", \"5\", \"6\", \"7\", \"8\", \"9\", \"10\", \"11\", \"12\", \"13\", \"14\", \"15\", \"16\", \"17\", \"18\", \"19\", \"20\", \"21\", \"22\", \"23\", \"24\", \"25\", \"26\", \"27\", \"28\", \"29\", \"30\", \"31\"], \"mode\": \"markers\", \"name\": \"f1_score_micro\", \"stepped\": false, \"type\": \"scatter\", \"data\": [0.865945945945946, 0.8882882882882882, 0.8837837837837839, 0.8615615615615616, 0.857057057057057, 0.7724324324324324, 0.8704504504504503, 0.8526726726726727, 0.8434234234234235, 0.8792792792792793, 0.8882282282282282, 0.8571171171171171, 0.8660660660660661, 0.8612012012012012, 0.8571171171171171, 0.7545945945945945, 0.8882882882882882, 0.8793393393393393, 0.856876876876877, 0.8038438438438439, 0.8479879879879881, 0.8750750750750752, 0.857057057057057, 0.8793393393393393, 0.8705705705705706, 0.6966966966966966, 0.8703903903903903, 0.8079879879879881, 0.807987987987988, 0.8526126126126127, 0.9061861861861861, 0.8703303303303302]}, {\"categories\": [\"0\", \"1\", \"2\", \"3\", \"4\", \"5\", \"6\", \"7\", \"8\", \"9\", \"10\", \"11\", \"12\", \"13\", \"14\", \"15\", \"16\", \"17\", \"18\", \"19\", \"20\", \"21\", \"22\", \"23\", \"24\", \"25\", \"26\", \"27\", \"28\", \"29\", \"30\", \"31\"], \"mode\": \"lines\", \"name\": \"f1_score_micro_max\", \"stepped\": true, \"type\": \"scatter\", \"data\": [0.865945945945946, 0.8882882882882882, 0.8882882882882882, 0.8882882882882882, 0.8882882882882882, 0.8882882882882882, 0.8882882882882882, 0.8882882882882882, 0.8882882882882882, 0.8882882882882882, 0.8882882882882882, 0.8882882882882882, 0.8882882882882882, 0.8882882882882882, 0.8882882882882882, 0.8882882882882882, 0.8882882882882882, 0.8882882882882882, 0.8882882882882882, 0.8882882882882882, 0.8882882882882882, 0.8882882882882882, 0.8882882882882882, 0.8882882882882882, 0.8882882882882882, 0.8882882882882882, 0.8882882882882882, 0.8882882882882882, 0.8882882882882882, 0.8882882882882882, 0.9061861861861861, 0.9061861861861861]}], \"matthews_correlation\": [{\"categories\": [\"0\", \"1\", \"2\", \"3\", \"4\", \"5\", \"6\", \"7\", \"8\", \"9\", \"10\", \"11\", \"12\", \"13\", \"14\", \"15\", \"16\", \"17\", \"18\", \"19\", \"20\", \"21\", \"22\", \"23\", \"24\", \"25\", \"26\", \"27\", \"28\", \"29\", \"30\", \"31\"], \"mode\": \"markers\", \"name\": \"matthews_correlation\", \"stepped\": false, \"type\": \"scatter\", \"data\": [0.6727576995582293, 0.7229586134338294, 0.7142166177415584, 0.6625848402035891, 0.6534847257578112, 0.44624930839383287, 0.6801638086966671, 0.6398159039511767, 0.6114512892639382, 0.7011455543350191, 0.7251877474541644, 0.6593177244082832, 0.6688187375969089, 0.662696905856594, 0.6466060640028779, 0.39102559620935334, 0.7182223250479182, 0.7050305779811845, 0.6417760412490865, 0.5364001141698077, 0.6275536342327083, 0.6977910896743316, 0.6574560904615837, 0.7050305779811845, 0.6819006543611211, 0.0, 0.6812582138111555, 0.5429980332396641, 0.5294732034446621, 0.6497423167624921, 0.7653530707572695, 0.6961611844274738]}, {\"categories\": [\"0\", \"1\", \"2\", \"3\", \"4\", \"5\", \"6\", \"7\", \"8\", \"9\", \"10\", \"11\", \"12\", \"13\", \"14\", \"15\", \"16\", \"17\", \"18\", \"19\", \"20\", \"21\", \"22\", \"23\", \"24\", \"25\", \"26\", \"27\", \"28\", \"29\", \"30\", \"31\"], \"mode\": \"lines\", \"name\": \"matthews_correlation_max\", \"stepped\": true, \"type\": \"scatter\", \"data\": [0.6727576995582293, 0.7229586134338294, 0.7229586134338294, 0.7229586134338294, 0.7229586134338294, 0.7229586134338294, 0.7229586134338294, 0.7229586134338294, 0.7229586134338294, 0.7229586134338294, 0.7251877474541644, 0.7251877474541644, 0.7251877474541644, 0.7251877474541644, 0.7251877474541644, 0.7251877474541644, 0.7251877474541644, 0.7251877474541644, 0.7251877474541644, 0.7251877474541644, 0.7251877474541644, 0.7251877474541644, 0.7251877474541644, 0.7251877474541644, 0.7251877474541644, 0.7251877474541644, 0.7251877474541644, 0.7251877474541644, 0.7251877474541644, 0.7251877474541644, 0.7653530707572695, 0.7653530707572695]}], \"precision_score_micro\": [{\"categories\": [\"0\", \"1\", \"2\", \"3\", \"4\", \"5\", \"6\", \"7\", \"8\", \"9\", \"10\", \"11\", \"12\", \"13\", \"14\", \"15\", \"16\", \"17\", \"18\", \"19\", \"20\", \"21\", \"22\", \"23\", \"24\", \"25\", \"26\", \"27\", \"28\", \"29\", \"30\", \"31\"], \"mode\": \"markers\", \"name\": \"precision_score_micro\", \"stepped\": false, \"type\": \"scatter\", \"data\": [0.865945945945946, 0.8882882882882882, 0.8837837837837839, 0.8615615615615616, 0.857057057057057, 0.7724324324324324, 0.8704504504504506, 0.8526726726726727, 0.8434234234234235, 0.8792792792792793, 0.8882282282282282, 0.8571171171171171, 0.8660660660660661, 0.8612012012012012, 0.8571171171171171, 0.7545945945945945, 0.8882882882882882, 0.8793393393393393, 0.856876876876877, 0.8038438438438439, 0.847987987987988, 0.8750750750750752, 0.857057057057057, 0.8793393393393393, 0.8705705705705706, 0.6966966966966966, 0.8703903903903903, 0.807987987987988, 0.807987987987988, 0.8526126126126127, 0.9061861861861861, 0.8703303303303302]}, {\"categories\": [\"0\", \"1\", \"2\", \"3\", \"4\", \"5\", \"6\", \"7\", \"8\", \"9\", \"10\", \"11\", \"12\", \"13\", \"14\", \"15\", \"16\", \"17\", \"18\", \"19\", \"20\", \"21\", \"22\", \"23\", \"24\", \"25\", \"26\", \"27\", \"28\", \"29\", \"30\", \"31\"], \"mode\": \"lines\", \"name\": \"precision_score_micro_max\", \"stepped\": true, \"type\": \"scatter\", \"data\": [0.865945945945946, 0.8882882882882882, 0.8882882882882882, 0.8882882882882882, 0.8882882882882882, 0.8882882882882882, 0.8882882882882882, 0.8882882882882882, 0.8882882882882882, 0.8882882882882882, 0.8882882882882882, 0.8882882882882882, 0.8882882882882882, 0.8882882882882882, 0.8882882882882882, 0.8882882882882882, 0.8882882882882882, 0.8882882882882882, 0.8882882882882882, 0.8882882882882882, 0.8882882882882882, 0.8882882882882882, 0.8882882882882882, 0.8882882882882882, 0.8882882882882882, 0.8882882882882882, 0.8882882882882882, 0.8882882882882882, 0.8882882882882882, 0.8882882882882882, 0.9061861861861861, 0.9061861861861861]}], \"average_precision_score_macro\": [{\"categories\": [\"0\", \"1\", \"2\", \"3\", \"4\", \"5\", \"6\", \"7\", \"8\", \"9\", \"10\", \"11\", \"12\", \"13\", \"14\", \"15\", \"16\", \"17\", \"18\", \"19\", \"20\", \"21\", \"22\", \"23\", \"24\", \"25\", \"26\", \"27\", \"28\", \"29\", \"30\", \"31\"], \"mode\": \"markers\", \"name\": \"average_precision_score_macro\", \"stepped\": false, \"type\": \"scatter\", \"data\": [0.9080503420614928, 0.9040286534984147, 0.9163054193635123, 0.914002959276207, 0.9160950121470254, 0.768214413835636, 0.9188064794637661, 0.9226615739863022, 0.9110513290148056, 0.9166789252703996, 0.9203393810534924, 0.9069804841052345, 0.8768722378020767, 0.8943163746638313, 0.9051428788273933, 0.8625633401713414, 0.9058689673701367, 0.8993708111465363, 0.9104000273844021, 0.860225838271194, 0.9108796386329487, 0.9038424156452143, 0.91496497213899, 0.923792077056842, 0.9008466822707554, 0.5260250695389082, 0.912545826671549, 0.9033509727778751, 0.8975635451865861, 0.9000618950754115, 0.925053941197577, 0.9177514611708256]}, {\"categories\": [\"0\", \"1\", \"2\", \"3\", \"4\", \"5\", \"6\", \"7\", \"8\", \"9\", \"10\", \"11\", \"12\", \"13\", \"14\", \"15\", \"16\", \"17\", \"18\", \"19\", \"20\", \"21\", \"22\", \"23\", \"24\", \"25\", \"26\", \"27\", \"28\", \"29\", \"30\", \"31\"], \"mode\": \"lines\", \"name\": \"average_precision_score_macro_max\", \"stepped\": true, \"type\": \"scatter\", \"data\": [0.9080503420614928, 0.9080503420614928, 0.9163054193635123, 0.9163054193635123, 0.9163054193635123, 0.9163054193635123, 0.9188064794637661, 0.9226615739863022, 0.9226615739863022, 0.9226615739863022, 0.9226615739863022, 0.9226615739863022, 0.9226615739863022, 0.9226615739863022, 0.9226615739863022, 0.9226615739863022, 0.9226615739863022, 0.9226615739863022, 0.9226615739863022, 0.9226615739863022, 0.9226615739863022, 0.9226615739863022, 0.9226615739863022, 0.923792077056842, 0.923792077056842, 0.923792077056842, 0.923792077056842, 0.923792077056842, 0.923792077056842, 0.923792077056842, 0.925053941197577, 0.925053941197577]}], \"AUC_weighted\": [{\"categories\": [\"0\", \"1\", \"2\", \"3\", \"4\", \"5\", \"6\", \"7\", \"8\", \"9\", \"10\", \"11\", \"12\", \"13\", \"14\", \"15\", \"16\", \"17\", \"18\", \"19\", \"20\", \"21\", \"22\", \"23\", \"24\", \"25\", \"26\", \"27\", \"28\", \"29\", \"30\", \"31\"], \"mode\": \"markers\", \"name\": \"AUC_weighted\", \"stepped\": false, \"type\": \"scatter\", \"data\": [0.9088255187289004, 0.9075207088492112, 0.9164798495474824, 0.9181652687087469, 0.923954579147816, 0.7826106618377149, 0.9264397147851254, 0.9291631275326928, 0.9228235309153184, 0.9243677238846321, 0.9309899596735346, 0.914332435769634, 0.8909551041193553, 0.9133303570199706, 0.9175811887164543, 0.8969743353801324, 0.9230056488510595, 0.9150856691617562, 0.9203483490923104, 0.872866811574541, 0.9178009713939667, 0.9249148150114334, 0.9170468777956701, 0.9316365889433523, 0.9145779631890744, 0.5286003192102225, 0.9180246864425609, 0.9234714504943975, 0.9065419171095499, 0.9175397759334958, 0.9341566243740157, 0.9274765089982481]}, {\"categories\": [\"0\", \"1\", \"2\", \"3\", \"4\", \"5\", \"6\", \"7\", \"8\", \"9\", \"10\", \"11\", \"12\", \"13\", \"14\", \"15\", \"16\", \"17\", \"18\", \"19\", \"20\", \"21\", \"22\", \"23\", \"24\", \"25\", \"26\", \"27\", \"28\", \"29\", \"30\", \"31\"], \"mode\": \"lines\", \"name\": \"AUC_weighted_max\", \"stepped\": true, \"type\": \"scatter\", \"data\": [0.9088255187289004, 0.9088255187289004, 0.9164798495474824, 0.9181652687087469, 0.923954579147816, 0.923954579147816, 0.9264397147851254, 0.9291631275326928, 0.9291631275326928, 0.9291631275326928, 0.9309899596735346, 0.9309899596735346, 0.9309899596735346, 0.9309899596735346, 0.9309899596735346, 0.9309899596735346, 0.9309899596735346, 0.9309899596735346, 0.9309899596735346, 0.9309899596735346, 0.9309899596735346, 0.9309899596735346, 0.9309899596735346, 0.9316365889433523, 0.9316365889433523, 0.9316365889433523, 0.9316365889433523, 0.9316365889433523, 0.9316365889433523, 0.9316365889433523, 0.9341566243740157, 0.9341566243740157]}]}, \"metricName\": null, \"primaryMetricName\": \"accuracy\", \"showLegend\": false}, \"run_metrics\": [{\"name\": \"experiment_status\", \"run_id\": \"AutoML_4a62698f-db8a-4812-95b3-201e1b1e13d2\", \"categories\": [0, 1, 2, 3, 4, 5, 6, 7, 8, 9, 10, 11, 12, 13], \"series\": [{\"data\": [\"DatasetEvaluation\", \"FeaturesGeneration\", \"DatasetFeaturization\", \"DatasetFeaturizationCompleted\", \"DatasetCrossValidationSplit\", \"ModelSelection\", \"BestRunExplainModel\", \"ModelExplanationDataSetSetup\", \"PickSurrogateModel\", \"EngineeredFeatureExplanations\", \"EngineeredFeatureExplanations\", \"RawFeaturesExplanations\", \"RawFeaturesExplanations\", \"BestRunExplainModel\"]}]}, {\"name\": \"experiment_status_description\", \"run_id\": \"AutoML_4a62698f-db8a-4812-95b3-201e1b1e13d2\", \"categories\": [0, 1, 2, 3, 4, 5, 6, 7, 8, 9, 10, 11, 12, 13], \"series\": [{\"data\": [\"Gathering dataset statistics.\", \"Generating features for the dataset.\", \"Beginning to fit featurizers and featurize the dataset.\", \"Completed fit featurizers and featurizing the dataset.\", \"Generating individually featurized CV splits.\", \"Beginning model selection.\", \"Best run model explanations started\", \"Model explanations data setup completed\", \"Choosing LightGBM as the surrogate model for explanations\", \"Computation of engineered features started\", \"Computation of engineered features completed\", \"Computation of raw features started\", \"Computation of raw features completed\", \"Best run model explanations completed\"]}]}, {\"name\": \"average_precision_score_macro\", \"run_id\": \"AutoML_4a62698f-db8a-4812-95b3-201e1b1e13d2\", \"categories\": [0], \"series\": [{\"data\": [0.925053941197577]}]}, {\"name\": \"precision_score_weighted\", \"run_id\": \"AutoML_4a62698f-db8a-4812-95b3-201e1b1e13d2\", \"categories\": [0], \"series\": [{\"data\": [0.9089151683716267]}]}, {\"name\": \"AUC_weighted\", \"run_id\": \"AutoML_4a62698f-db8a-4812-95b3-201e1b1e13d2\", \"categories\": [0], \"series\": [{\"data\": [0.9341566243740157]}]}, {\"name\": \"average_precision_score_micro\", \"run_id\": \"AutoML_4a62698f-db8a-4812-95b3-201e1b1e13d2\", \"categories\": [0], \"series\": [{\"data\": [0.9508789450453777]}]}, {\"name\": \"accuracy\", \"run_id\": \"AutoML_4a62698f-db8a-4812-95b3-201e1b1e13d2\", \"categories\": [0], \"series\": [{\"data\": [0.9061861861861861]}]}, {\"name\": \"recall_score_micro\", \"run_id\": \"AutoML_4a62698f-db8a-4812-95b3-201e1b1e13d2\", \"categories\": [0], \"series\": [{\"data\": [0.9061861861861861]}]}, {\"name\": \"matthews_correlation\", \"run_id\": \"AutoML_4a62698f-db8a-4812-95b3-201e1b1e13d2\", \"categories\": [0], \"series\": [{\"data\": [0.7653530707572695]}]}, {\"name\": \"norm_macro_recall\", \"run_id\": \"AutoML_4a62698f-db8a-4812-95b3-201e1b1e13d2\", \"categories\": [0], \"series\": [{\"data\": [0.717815263105118]}]}, {\"name\": \"recall_score_macro\", \"run_id\": \"AutoML_4a62698f-db8a-4812-95b3-201e1b1e13d2\", \"categories\": [0], \"series\": [{\"data\": [0.858907631552559]}]}, {\"name\": \"precision_score_macro\", \"run_id\": \"AutoML_4a62698f-db8a-4812-95b3-201e1b1e13d2\", \"categories\": [0], \"series\": [{\"data\": [0.9085461343643693]}]}, {\"name\": \"weighted_accuracy\", \"run_id\": \"AutoML_4a62698f-db8a-4812-95b3-201e1b1e13d2\", \"categories\": [0], \"series\": [{\"data\": [0.9389426670661211]}]}, {\"name\": \"recall_score_weighted\", \"run_id\": \"AutoML_4a62698f-db8a-4812-95b3-201e1b1e13d2\", \"categories\": [0], \"series\": [{\"data\": [0.9061861861861861]}]}, {\"name\": \"log_loss\", \"run_id\": \"AutoML_4a62698f-db8a-4812-95b3-201e1b1e13d2\", \"categories\": [0], \"series\": [{\"data\": [0.32156822745369024]}]}, {\"name\": \"AUC_macro\", \"run_id\": \"AutoML_4a62698f-db8a-4812-95b3-201e1b1e13d2\", \"categories\": [0], \"series\": [{\"data\": [0.9341566243740157]}]}, {\"name\": \"f1_score_weighted\", \"run_id\": \"AutoML_4a62698f-db8a-4812-95b3-201e1b1e13d2\", \"categories\": [0], \"series\": [{\"data\": [0.9027583704685872]}]}, {\"name\": \"balanced_accuracy\", \"run_id\": \"AutoML_4a62698f-db8a-4812-95b3-201e1b1e13d2\", \"categories\": [0], \"series\": [{\"data\": [0.858907631552559]}]}, {\"name\": \"precision_score_micro\", \"run_id\": \"AutoML_4a62698f-db8a-4812-95b3-201e1b1e13d2\", \"categories\": [0], \"series\": [{\"data\": [0.9061861861861861]}]}, {\"name\": \"f1_score_micro\", \"run_id\": \"AutoML_4a62698f-db8a-4812-95b3-201e1b1e13d2\", \"categories\": [0], \"series\": [{\"data\": [0.9061861861861861]}]}, {\"name\": \"f1_score_macro\", \"run_id\": \"AutoML_4a62698f-db8a-4812-95b3-201e1b1e13d2\", \"categories\": [0], \"series\": [{\"data\": [0.8771133553176896]}]}, {\"name\": \"average_precision_score_weighted\", \"run_id\": \"AutoML_4a62698f-db8a-4812-95b3-201e1b1e13d2\", \"categories\": [0], \"series\": [{\"data\": [0.9466815586284398]}]}, {\"name\": \"AUC_micro\", \"run_id\": \"AutoML_4a62698f-db8a-4812-95b3-201e1b1e13d2\", \"categories\": [0], \"series\": [{\"data\": [0.9489415253090928]}]}], \"run_logs\": \"\\nRun is completed.\", \"graph\": {}, \"widget_settings\": {\"childWidgetDisplay\": \"popup\", \"send_telemetry\": false, \"log_level\": \"INFO\", \"sdk_version\": \"1.19.0\"}, \"loading\": false}"
          },
          "metadata": {}
        },
        {
          "output_type": "stream",
          "name": "stdout",
          "text": [
            "\n",
            "\n",
            "****************************************************************************************************\n",
            "DATA GUARDRAILS: \n",
            "\n",
            "TYPE:         Class balancing detection\n",
            "STATUS:       PASSED\n",
            "DESCRIPTION:  Your inputs were analyzed, and all classes are balanced in your training data.\n",
            "              Learn more about imbalanced data: https://aka.ms/AutomatedMLImbalancedData\n",
            "\n",
            "****************************************************************************************************\n",
            "\n",
            "TYPE:         Missing feature values imputation\n",
            "STATUS:       PASSED\n",
            "DESCRIPTION:  No feature missing values were detected in the training data.\n",
            "              Learn more about missing value imputation: https://aka.ms/AutomatedMLFeaturization\n",
            "\n",
            "****************************************************************************************************\n",
            "\n",
            "TYPE:         High cardinality feature detection\n",
            "STATUS:       PASSED\n",
            "DESCRIPTION:  Your inputs were analyzed, and no high cardinality features were detected.\n",
            "              Learn more about high cardinality feature handling: https://aka.ms/AutomatedMLFeaturization\n",
            "\n",
            "****************************************************************************************************\n",
            "\n",
            "****************************************************************************************************\n",
            "ITERATION: The iteration being evaluated.\n",
            "PIPELINE: A summary description of the pipeline being evaluated.\n",
            "DURATION: Time taken for the current iteration.\n",
            "METRIC: The result of computing score on the fitted pipeline.\n",
            "BEST: The best observed score thus far.\n",
            "****************************************************************************************************\n",
            "\n",
            " ITERATION   PIPELINE                                       DURATION      METRIC      BEST\n",
            "         0   MaxAbsScaler LightGBM                          0:00:42       0.8659    0.8659\n",
            "         1   MaxAbsScaler XGBoostClassifier                 0:00:43       0.8883    0.8883\n",
            "         2   MinMaxScaler RandomForest                      0:00:39       0.8838    0.8883\n",
            "         3   MinMaxScaler RandomForest                      0:00:40       0.8616    0.8883\n",
            "         4   MinMaxScaler RandomForest                      0:00:41       0.8571    0.8883\n",
            "         5   MinMaxScaler SVM                               0:00:40       0.7724    0.8883\n",
            "         6   MaxAbsScaler GradientBoosting                  0:00:41       0.8705    0.8883\n",
            "         7   StandardScalerWrapper RandomForest             0:00:37       0.8527    0.8883\n",
            "         8   SparseNormalizer XGBoostClassifier             0:00:40       0.8434    0.8883\n",
            "         9   SparseNormalizer LightGBM                      0:00:40       0.8793    0.8883\n",
            "        10   RobustScaler RandomForest                      0:00:43       0.8882    0.8883\n",
            "        11   MaxAbsScaler LightGBM                          0:00:46       0.8571    0.8883\n",
            "        12   RobustScaler ExtremeRandomTrees                0:00:42       0.8661    0.8883\n",
            "        13   SparseNormalizer XGBoostClassifier             0:00:43       0.8612    0.8883\n",
            "        14   StandardScalerWrapper ExtremeRandomTrees       0:00:40       0.8571    0.8883\n",
            "        15   SparseNormalizer LightGBM                      0:00:43       0.7546    0.8883\n",
            "        16   RobustScaler ExtremeRandomTrees                0:00:39       0.8883    0.8883\n",
            "        17   StandardScalerWrapper XGBoostClassifier        0:00:38       0.8793    0.8883\n",
            "        18   SparseNormalizer XGBoostClassifier             0:00:44       0.8569    0.8883\n",
            "        19   MaxAbsScaler LogisticRegression                0:00:49       0.8038    0.8883\n",
            "        20   SparseNormalizer XGBoostClassifier             0:00:37       0.8480    0.8883\n",
            "        21   MaxAbsScaler RandomForest                      0:00:39       0.8751    0.8883\n",
            "        22   StandardScalerWrapper LightGBM                 0:00:41       0.8571    0.8883\n",
            "        23   StandardScalerWrapper XGBoostClassifier        0:00:38       0.8793    0.8883\n",
            "        24   StandardScalerWrapper LightGBM                 0:00:51       0.8706    0.8883\n",
            "        25   PCA XGBoostClassifier                          0:00:47       0.6967    0.8883\n",
            "        26   StandardScalerWrapper RandomForest             0:00:35       0.8704    0.8883\n",
            "        27   SparseNormalizer LightGBM                      0:00:39       0.8080    0.8883\n",
            "        28   SparseNormalizer GradientBoosting              0:00:40       0.8080    0.8883\n",
            "        29   MaxAbsScaler RandomForest                      0:00:39       0.8526    0.8883\n",
            "        30    VotingEnsemble                                0:01:16       0.9062    0.9062\n",
            "        31    StackEnsemble                                 0:01:06       0.8703    0.9062\n"
          ]
        },
        {
          "output_type": "execute_result",
          "execution_count": 7,
          "data": {
            "text/plain": "{'runId': 'AutoML_4a62698f-db8a-4812-95b3-201e1b1e13d2',\n 'target': 'final-compute',\n 'status': 'Completed',\n 'startTimeUtc': '2021-01-17T14:59:55.064704Z',\n 'endTimeUtc': '2021-01-17T15:37:34.621193Z',\n 'properties': {'num_iterations': '1000',\n  'training_type': 'TrainFull',\n  'acquisition_function': 'EI',\n  'primary_metric': 'accuracy',\n  'train_split': '0',\n  'acquisition_parameter': '0',\n  'num_cross_validation': '3',\n  'target': 'final-compute',\n  'AMLSettingsJsonString': '{\"path\":null,\"name\":\"capstoneproject\",\"subscription_id\":\"610d6e37-4747-4a20-80eb-3aad70a55f43\",\"resource_group\":\"aml-quickstarts-135076\",\"workspace_name\":\"quick-starts-ws-135076\",\"region\":\"southcentralus\",\"compute_target\":\"final-compute\",\"spark_service\":null,\"azure_service\":\"remote\",\"many_models\":false,\"pipeline_fetch_max_batch_size\":1,\"iterations\":1000,\"primary_metric\":\"accuracy\",\"task_type\":\"classification\",\"data_script\":null,\"validation_size\":0.0,\"n_cross_validations\":3,\"y_min\":null,\"y_max\":null,\"num_classes\":null,\"featurization\":\"auto\",\"_ignore_package_version_incompatibilities\":false,\"is_timeseries\":false,\"max_cores_per_iteration\":1,\"max_concurrent_iterations\":1,\"iteration_timeout_minutes\":null,\"mem_in_mb\":null,\"enforce_time_on_windows\":false,\"experiment_timeout_minutes\":30,\"experiment_exit_score\":null,\"whitelist_models\":null,\"blacklist_algos\":[\"TensorFlowLinearClassifier\",\"TensorFlowDNN\"],\"supported_models\":[\"LogisticRegression\",\"SGD\",\"MultinomialNaiveBayes\",\"TensorFlowDNN\",\"ExtremeRandomTrees\",\"SVM\",\"RandomForest\",\"BernoulliNaiveBayes\",\"GradientBoosting\",\"AveragedPerceptronClassifier\",\"KNN\",\"LightGBM\",\"LinearSVM\",\"TensorFlowLinearClassifier\",\"XGBoostClassifier\",\"DecisionTree\"],\"auto_blacklist\":true,\"blacklist_samples_reached\":false,\"exclude_nan_labels\":true,\"verbosity\":20,\"_debug_log\":\"azureml_automl.log\",\"show_warnings\":false,\"model_explainability\":true,\"service_url\":null,\"sdk_url\":null,\"sdk_packages\":null,\"enable_onnx_compatible_models\":false,\"enable_split_onnx_featurizer_estimator_models\":false,\"vm_type\":\"STANDARD_DS3_V2\",\"telemetry_verbosity\":20,\"send_telemetry\":true,\"enable_dnn\":false,\"scenario\":\"SDK-1.13.0\",\"environment_label\":null,\"force_text_dnn\":false,\"enable_feature_sweeping\":true,\"enable_early_stopping\":true,\"early_stopping_n_iters\":10,\"metrics\":null,\"enable_ensembling\":true,\"enable_stack_ensembling\":true,\"ensemble_iterations\":15,\"enable_tf\":false,\"enable_subsampling\":null,\"subsample_seed\":null,\"enable_nimbusml\":false,\"enable_streaming\":false,\"force_streaming\":false,\"track_child_runs\":true,\"allowed_private_models\":[],\"label_column_name\":\"DEATH_EVENT\",\"weight_column_name\":null,\"cv_split_column_names\":null,\"enable_local_managed\":false,\"_local_managed_run_id\":null,\"cost_mode\":1,\"lag_length\":0,\"metric_operation\":\"maximize\",\"preprocess\":true}',\n  'DataPrepJsonString': '{\\\\\"training_data\\\\\": \\\\\"{\\\\\\\\\\\\\"blocks\\\\\\\\\\\\\": [{\\\\\\\\\\\\\"id\\\\\\\\\\\\\": \\\\\\\\\\\\\"4432daf2-3b7c-4cba-aa3b-df311aff7897\\\\\\\\\\\\\", \\\\\\\\\\\\\"type\\\\\\\\\\\\\": \\\\\\\\\\\\\"Microsoft.DPrep.GetDatastoreFilesBlock\\\\\\\\\\\\\", \\\\\\\\\\\\\"arguments\\\\\\\\\\\\\": {\\\\\\\\\\\\\"datastores\\\\\\\\\\\\\": [{\\\\\\\\\\\\\"datastoreName\\\\\\\\\\\\\": \\\\\\\\\\\\\"workspaceblobstore\\\\\\\\\\\\\", \\\\\\\\\\\\\"path\\\\\\\\\\\\\": \\\\\\\\\\\\\"train.csv\\\\\\\\\\\\\", \\\\\\\\\\\\\"resourceGroup\\\\\\\\\\\\\": \\\\\\\\\\\\\"aml-quickstarts-135076\\\\\\\\\\\\\", \\\\\\\\\\\\\"subscription\\\\\\\\\\\\\": \\\\\\\\\\\\\"610d6e37-4747-4a20-80eb-3aad70a55f43\\\\\\\\\\\\\", \\\\\\\\\\\\\"workspaceName\\\\\\\\\\\\\": \\\\\\\\\\\\\"quick-starts-ws-135076\\\\\\\\\\\\\"}]}, \\\\\\\\\\\\\"localData\\\\\\\\\\\\\": {}, \\\\\\\\\\\\\"isEnabled\\\\\\\\\\\\\": true, \\\\\\\\\\\\\"name\\\\\\\\\\\\\": null, \\\\\\\\\\\\\"annotation\\\\\\\\\\\\\": null}, {\\\\\\\\\\\\\"id\\\\\\\\\\\\\": \\\\\\\\\\\\\"7b0e8e14-56fa-453e-aa8b-9ff191ad134e\\\\\\\\\\\\\", \\\\\\\\\\\\\"type\\\\\\\\\\\\\": \\\\\\\\\\\\\"Microsoft.DPrep.ParseDelimitedBlock\\\\\\\\\\\\\", \\\\\\\\\\\\\"arguments\\\\\\\\\\\\\": {\\\\\\\\\\\\\"columnHeadersMode\\\\\\\\\\\\\": 3, \\\\\\\\\\\\\"fileEncoding\\\\\\\\\\\\\": 0, \\\\\\\\\\\\\"handleQuotedLineBreaks\\\\\\\\\\\\\": false, \\\\\\\\\\\\\"preview\\\\\\\\\\\\\": false, \\\\\\\\\\\\\"separator\\\\\\\\\\\\\": \\\\\\\\\\\\\",\\\\\\\\\\\\\", \\\\\\\\\\\\\"skipRows\\\\\\\\\\\\\": 0, \\\\\\\\\\\\\"skipRowsMode\\\\\\\\\\\\\": 0}, \\\\\\\\\\\\\"localData\\\\\\\\\\\\\": {}, \\\\\\\\\\\\\"isEnabled\\\\\\\\\\\\\": true, \\\\\\\\\\\\\"name\\\\\\\\\\\\\": null, \\\\\\\\\\\\\"annotation\\\\\\\\\\\\\": null}, {\\\\\\\\\\\\\"id\\\\\\\\\\\\\": \\\\\\\\\\\\\"e4901d7f-6810-42db-8295-a08d8fb2af54\\\\\\\\\\\\\", \\\\\\\\\\\\\"type\\\\\\\\\\\\\": \\\\\\\\\\\\\"Microsoft.DPrep.DropColumnsBlock\\\\\\\\\\\\\", \\\\\\\\\\\\\"arguments\\\\\\\\\\\\\": {\\\\\\\\\\\\\"columns\\\\\\\\\\\\\": {\\\\\\\\\\\\\"type\\\\\\\\\\\\\": 0, \\\\\\\\\\\\\"details\\\\\\\\\\\\\": {\\\\\\\\\\\\\"selectedColumns\\\\\\\\\\\\\": [\\\\\\\\\\\\\"Path\\\\\\\\\\\\\"]}}}, \\\\\\\\\\\\\"localData\\\\\\\\\\\\\": {}, \\\\\\\\\\\\\"isEnabled\\\\\\\\\\\\\": true, \\\\\\\\\\\\\"name\\\\\\\\\\\\\": null, \\\\\\\\\\\\\"annotation\\\\\\\\\\\\\": null}, {\\\\\\\\\\\\\"id\\\\\\\\\\\\\": \\\\\\\\\\\\\"d96b6358-dc9f-4b9a-971e-b6b3936a80ba\\\\\\\\\\\\\", \\\\\\\\\\\\\"type\\\\\\\\\\\\\": \\\\\\\\\\\\\"Microsoft.DPrep.SetColumnTypesBlock\\\\\\\\\\\\\", \\\\\\\\\\\\\"arguments\\\\\\\\\\\\\": {\\\\\\\\\\\\\"columnConversion\\\\\\\\\\\\\": [{\\\\\\\\\\\\\"column\\\\\\\\\\\\\": {\\\\\\\\\\\\\"type\\\\\\\\\\\\\": 2, \\\\\\\\\\\\\"details\\\\\\\\\\\\\": {\\\\\\\\\\\\\"selectedColumn\\\\\\\\\\\\\": \\\\\\\\\\\\\"age\\\\\\\\\\\\\"}}, \\\\\\\\\\\\\"typeProperty\\\\\\\\\\\\\": 3}, {\\\\\\\\\\\\\"column\\\\\\\\\\\\\": {\\\\\\\\\\\\\"type\\\\\\\\\\\\\": 2, \\\\\\\\\\\\\"details\\\\\\\\\\\\\": {\\\\\\\\\\\\\"selectedColumn\\\\\\\\\\\\\": \\\\\\\\\\\\\"anaemia\\\\\\\\\\\\\"}}, \\\\\\\\\\\\\"typeProperty\\\\\\\\\\\\\": 2}, {\\\\\\\\\\\\\"column\\\\\\\\\\\\\": {\\\\\\\\\\\\\"type\\\\\\\\\\\\\": 2, \\\\\\\\\\\\\"details\\\\\\\\\\\\\": {\\\\\\\\\\\\\"selectedColumn\\\\\\\\\\\\\": \\\\\\\\\\\\\"creatinine_phosphokinase\\\\\\\\\\\\\"}}, \\\\\\\\\\\\\"typeProperty\\\\\\\\\\\\\": 2}, {\\\\\\\\\\\\\"column\\\\\\\\\\\\\": {\\\\\\\\\\\\\"type\\\\\\\\\\\\\": 2, \\\\\\\\\\\\\"details\\\\\\\\\\\\\": {\\\\\\\\\\\\\"selectedColumn\\\\\\\\\\\\\": \\\\\\\\\\\\\"diabetes\\\\\\\\\\\\\"}}, \\\\\\\\\\\\\"typeProperty\\\\\\\\\\\\\": 2}, {\\\\\\\\\\\\\"column\\\\\\\\\\\\\": {\\\\\\\\\\\\\"type\\\\\\\\\\\\\": 2, \\\\\\\\\\\\\"details\\\\\\\\\\\\\": {\\\\\\\\\\\\\"selectedColumn\\\\\\\\\\\\\": \\\\\\\\\\\\\"ejection_fraction\\\\\\\\\\\\\"}}, \\\\\\\\\\\\\"typeProperty\\\\\\\\\\\\\": 2}, {\\\\\\\\\\\\\"column\\\\\\\\\\\\\": {\\\\\\\\\\\\\"type\\\\\\\\\\\\\": 2, \\\\\\\\\\\\\"details\\\\\\\\\\\\\": {\\\\\\\\\\\\\"selectedColumn\\\\\\\\\\\\\": \\\\\\\\\\\\\"high_blood_pressure\\\\\\\\\\\\\"}}, \\\\\\\\\\\\\"typeProperty\\\\\\\\\\\\\": 2}, {\\\\\\\\\\\\\"column\\\\\\\\\\\\\": {\\\\\\\\\\\\\"type\\\\\\\\\\\\\": 2, \\\\\\\\\\\\\"details\\\\\\\\\\\\\": {\\\\\\\\\\\\\"selectedColumn\\\\\\\\\\\\\": \\\\\\\\\\\\\"platelets\\\\\\\\\\\\\"}}, \\\\\\\\\\\\\"typeProperty\\\\\\\\\\\\\": 3}, {\\\\\\\\\\\\\"column\\\\\\\\\\\\\": {\\\\\\\\\\\\\"type\\\\\\\\\\\\\": 2, \\\\\\\\\\\\\"details\\\\\\\\\\\\\": {\\\\\\\\\\\\\"selectedColumn\\\\\\\\\\\\\": \\\\\\\\\\\\\"serum_creatinine\\\\\\\\\\\\\"}}, \\\\\\\\\\\\\"typeProperty\\\\\\\\\\\\\": 3}, {\\\\\\\\\\\\\"column\\\\\\\\\\\\\": {\\\\\\\\\\\\\"type\\\\\\\\\\\\\": 2, \\\\\\\\\\\\\"details\\\\\\\\\\\\\": {\\\\\\\\\\\\\"selectedColumn\\\\\\\\\\\\\": \\\\\\\\\\\\\"serum_sodium\\\\\\\\\\\\\"}}, \\\\\\\\\\\\\"typeProperty\\\\\\\\\\\\\": 2}, {\\\\\\\\\\\\\"column\\\\\\\\\\\\\": {\\\\\\\\\\\\\"type\\\\\\\\\\\\\": 2, \\\\\\\\\\\\\"details\\\\\\\\\\\\\": {\\\\\\\\\\\\\"selectedColumn\\\\\\\\\\\\\": \\\\\\\\\\\\\"sex\\\\\\\\\\\\\"}}, \\\\\\\\\\\\\"typeProperty\\\\\\\\\\\\\": 2}, {\\\\\\\\\\\\\"column\\\\\\\\\\\\\": {\\\\\\\\\\\\\"type\\\\\\\\\\\\\": 2, \\\\\\\\\\\\\"details\\\\\\\\\\\\\": {\\\\\\\\\\\\\"selectedColumn\\\\\\\\\\\\\": \\\\\\\\\\\\\"smoking\\\\\\\\\\\\\"}}, \\\\\\\\\\\\\"typeProperty\\\\\\\\\\\\\": 2}, {\\\\\\\\\\\\\"column\\\\\\\\\\\\\": {\\\\\\\\\\\\\"type\\\\\\\\\\\\\": 2, \\\\\\\\\\\\\"details\\\\\\\\\\\\\": {\\\\\\\\\\\\\"selectedColumn\\\\\\\\\\\\\": \\\\\\\\\\\\\"time\\\\\\\\\\\\\"}}, \\\\\\\\\\\\\"typeProperty\\\\\\\\\\\\\": 2}, {\\\\\\\\\\\\\"column\\\\\\\\\\\\\": {\\\\\\\\\\\\\"type\\\\\\\\\\\\\": 2, \\\\\\\\\\\\\"details\\\\\\\\\\\\\": {\\\\\\\\\\\\\"selectedColumn\\\\\\\\\\\\\": \\\\\\\\\\\\\"DEATH_EVENT\\\\\\\\\\\\\"}}, \\\\\\\\\\\\\"typeProperty\\\\\\\\\\\\\": 2}]}, \\\\\\\\\\\\\"localData\\\\\\\\\\\\\": {}, \\\\\\\\\\\\\"isEnabled\\\\\\\\\\\\\": true, \\\\\\\\\\\\\"name\\\\\\\\\\\\\": null, \\\\\\\\\\\\\"annotation\\\\\\\\\\\\\": null}], \\\\\\\\\\\\\"inspectors\\\\\\\\\\\\\": [], \\\\\\\\\\\\\"meta\\\\\\\\\\\\\": {\\\\\\\\\\\\\"savedDatasetId\\\\\\\\\\\\\": \\\\\\\\\\\\\"d03a7cd9-d7d8-48bc-9604-63071abe00ff\\\\\\\\\\\\\", \\\\\\\\\\\\\"datasetType\\\\\\\\\\\\\": \\\\\\\\\\\\\"tabular\\\\\\\\\\\\\", \\\\\\\\\\\\\"subscriptionId\\\\\\\\\\\\\": \\\\\\\\\\\\\"610d6e37-4747-4a20-80eb-3aad70a55f43\\\\\\\\\\\\\", \\\\\\\\\\\\\"workspaceId\\\\\\\\\\\\\": \\\\\\\\\\\\\"2514b5b8-27e5-4c9c-a72e-35b90b044b82\\\\\\\\\\\\\", \\\\\\\\\\\\\"workspaceLocation\\\\\\\\\\\\\": \\\\\\\\\\\\\"southcentralus\\\\\\\\\\\\\"}}\\\\\", \\\\\"activities\\\\\": 0}',\n  'EnableSubsampling': None,\n  'runTemplate': 'AutoML',\n  'azureml.runsource': 'automl',\n  'display_task_type': 'classification',\n  'dependencies_versions': '{\"azureml-widgets\": \"1.19.0\", \"azureml-train\": \"1.19.0\", \"azureml-train-restclients-hyperdrive\": \"1.19.0\", \"azureml-train-core\": \"1.19.0\", \"azureml-train-automl\": \"1.19.0\", \"azureml-train-automl-runtime\": \"1.19.0\", \"azureml-train-automl-client\": \"1.19.0\", \"azureml-tensorboard\": \"1.19.0\", \"azureml-telemetry\": \"1.19.0\", \"azureml-sdk\": \"1.19.0\", \"azureml-samples\": \"0+unknown\", \"azureml-pipeline\": \"1.19.0\", \"azureml-pipeline-steps\": \"1.19.0\", \"azureml-pipeline-core\": \"1.19.0\", \"azureml-opendatasets\": \"1.19.0\", \"azureml-model-management-sdk\": \"1.0.1b6.post1\", \"azureml-mlflow\": \"1.19.0\", \"azureml-interpret\": \"1.19.0\", \"azureml-explain-model\": \"1.19.0\", \"azureml-defaults\": \"1.19.0\", \"azureml-dataset-runtime\": \"1.19.0.post1\", \"azureml-dataprep\": \"2.6.1\", \"azureml-dataprep-rslex\": \"1.4.0\", \"azureml-dataprep-native\": \"26.0.0\", \"azureml-datadrift\": \"1.19.0\", \"azureml-core\": \"1.19.0\", \"azureml-contrib-services\": \"1.19.0\", \"azureml-contrib-server\": \"1.19.0\", \"azureml-contrib-reinforcementlearning\": \"1.19.0\", \"azureml-contrib-pipeline-steps\": \"1.19.0\", \"azureml-contrib-notebook\": \"1.19.0\", \"azureml-contrib-interpret\": \"1.19.0\", \"azureml-contrib-gbdt\": \"1.19.0\", \"azureml-contrib-fairness\": \"1.19.0\", \"azureml-contrib-dataset\": \"1.19.0\", \"azureml-cli-common\": \"1.19.0\", \"azureml-automl-runtime\": \"1.19.0\", \"azureml-automl-core\": \"1.19.0\", \"azureml-accel-models\": \"1.19.0\"}',\n  '_aml_system_scenario_identification': 'Remote.Parent',\n  'ClientType': 'SDK',\n  'environment_cpu_name': 'AzureML-AutoML',\n  'environment_cpu_label': 'prod',\n  'environment_gpu_name': 'AzureML-AutoML-GPU',\n  'environment_gpu_label': 'prod',\n  'root_attribution': 'automl',\n  'attribution': 'AutoML',\n  'Orchestrator': 'AutoML',\n  'CancelUri': 'https://southcentralus.experiments.azureml.net/jasmine/v1.0/subscriptions/610d6e37-4747-4a20-80eb-3aad70a55f43/resourceGroups/aml-quickstarts-135076/providers/Microsoft.MachineLearningServices/workspaces/quick-starts-ws-135076/experimentids/872aab79-9b60-445e-b6d1-b900f872c97e/cancel/AutoML_4a62698f-db8a-4812-95b3-201e1b1e13d2',\n  'ClientSdkVersion': '1.19.0',\n  'snapshotId': '00000000-0000-0000-0000-000000000000',\n  'SetupRunId': 'AutoML_4a62698f-db8a-4812-95b3-201e1b1e13d2_setup',\n  'SetupRunContainerId': 'dcid.AutoML_4a62698f-db8a-4812-95b3-201e1b1e13d2_setup',\n  'FeaturizationRunJsonPath': 'featurizer_container.json',\n  'FeaturizationRunId': 'AutoML_4a62698f-db8a-4812-95b3-201e1b1e13d2_featurize',\n  'ProblemInfoJsonString': '{\"dataset_num_categorical\": 0, \"is_sparse\": false, \"subsampling\": false, \"dataset_classes\": 2, \"dataset_features\": 12, \"dataset_samples\": 224, \"single_frequency_class_detected\": false}',\n  'ModelExplainRunId': 'AutoML_4a62698f-db8a-4812-95b3-201e1b1e13d2_ModelExplain'},\n 'inputDatasets': [{'dataset': {'id': 'd03a7cd9-d7d8-48bc-9604-63071abe00ff'}, 'consumptionDetails': {'type': 'RunInput', 'inputName': 'training_data', 'mechanism': 'Direct'}}],\n 'outputDatasets': [],\n 'logFiles': {}}"
          },
          "metadata": {}
        }
      ],
      "execution_count": 7,
      "metadata": {
        "gather": {
          "logged": 1610898233393
        },
        "jupyter": {
          "outputs_hidden": false,
          "source_hidden": false
        },
        "nteract": {
          "transient": {
            "deleting": false
          }
        }
      }
    },
    {
      "cell_type": "markdown",
      "source": [
        "## Best Model\n",
        "\n",
        "TODO: In the cell below, get the best model from the automl experiments and display all the properties of the model.\n",
        "\n"
      ],
      "metadata": {}
    },
    {
      "cell_type": "code",
      "source": [
        "best_run, model = remote_run.get_output()\n",
        "print(best_run)\n",
        "print(model)\n",
        "best_run.get_tags()\n",
        "best_run_metrics = best_run.get_metrics()\n",
        "for metric_name in best_run_metrics:\n",
        "    metric = best_run_metrics[metric_name]\n",
        "    print(metric_name, metric)"
      ],
      "outputs": [
        {
          "output_type": "stream",
          "name": "stdout",
          "text": [
            "Run(Experiment: capstoneproject,\n",
            "Id: AutoML_4a62698f-db8a-4812-95b3-201e1b1e13d2_30,\n",
            "Type: azureml.scriptrun,\n",
            "Status: Completed)\n",
            "Pipeline(memory=None,\n",
            "         steps=[('datatransformer',\n",
            "                 DataTransformer(enable_dnn=None, enable_feature_sweeping=None,\n",
            "                                 feature_sweeping_config=None,\n",
            "                                 feature_sweeping_timeout=None,\n",
            "                                 featurization_config=None, force_text_dnn=None,\n",
            "                                 is_cross_validation=None,\n",
            "                                 is_onnx_compatible=None, logger=None,\n",
            "                                 observer=None, task=None, working_dir=None)),\n",
            "                ('prefittedsoftvotingclassifier',...\n",
            "                                                                                               objective='reg:logistic',\n",
            "                                                                                               random_state=0,\n",
            "                                                                                               reg_alpha=0,\n",
            "                                                                                               reg_lambda=0.625,\n",
            "                                                                                               scale_pos_weight=1,\n",
            "                                                                                               seed=None,\n",
            "                                                                                               silent=None,\n",
            "                                                                                               subsample=1,\n",
            "                                                                                               tree_method='auto',\n",
            "                                                                                               verbose=-10,\n",
            "                                                                                               verbosity=0))],\n",
            "                                                                     verbose=False))],\n",
            "                                               flatten_transform=None,\n",
            "                                               weights=[0.2727272727272727,\n",
            "                                                        0.09090909090909091,\n",
            "                                                        0.09090909090909091,\n",
            "                                                        0.09090909090909091,\n",
            "                                                        0.09090909090909091,\n",
            "                                                        0.18181818181818182,\n",
            "                                                        0.18181818181818182]))],\n",
            "         verbose=False)\n",
            "AUC_micro 0.9489415253090928\n",
            "balanced_accuracy 0.858907631552559\n",
            "AUC_weighted 0.9341566243740157\n",
            "average_precision_score_weighted 0.9466815586284398\n",
            "weighted_accuracy 0.9389426670661211\n",
            "recall_score_macro 0.858907631552559\n",
            "matthews_correlation 0.7653530707572695\n",
            "f1_score_micro 0.9061861861861861\n",
            "f1_score_weighted 0.9027583704685872\n",
            "AUC_macro 0.9341566243740157\n",
            "average_precision_score_macro 0.925053941197577\n",
            "recall_score_micro 0.9061861861861861\n",
            "log_loss 0.32156822745369024\n",
            "average_precision_score_micro 0.9508789450453777\n",
            "recall_score_weighted 0.9061861861861861\n",
            "precision_score_micro 0.9061861861861861\n",
            "precision_score_macro 0.9085461343643693\n",
            "accuracy 0.9061861861861861\n",
            "norm_macro_recall 0.717815263105118\n",
            "precision_score_weighted 0.9089151683716267\n",
            "f1_score_macro 0.8771133553176896\n",
            "accuracy_table aml://artifactId/ExperimentRun/dcid.AutoML_4a62698f-db8a-4812-95b3-201e1b1e13d2_30/accuracy_table\n",
            "confusion_matrix aml://artifactId/ExperimentRun/dcid.AutoML_4a62698f-db8a-4812-95b3-201e1b1e13d2_30/confusion_matrix\n"
          ]
        }
      ],
      "execution_count": 8,
      "metadata": {
        "gather": {
          "logged": 1610898322372
        },
        "jupyter": {
          "outputs_hidden": false,
          "source_hidden": false
        },
        "nteract": {
          "transient": {
            "deleting": false
          }
        }
      }
    },
    {
      "cell_type": "code",
      "source": [],
      "outputs": [
        {
          "output_type": "stream",
          "name": "stdout",
          "text": [
            "automl_model version: 1\n",
            "\t Training context : Auto ML\n",
            "\t AUC : 0.9341566243740157\n",
            "\t Accuracy : 0.9061861861861861\n",
            "\n",
            "\n"
          ]
        }
      ],
      "execution_count": 9,
      "metadata": {
        "gather": {
          "logged": 1610898330388
        },
        "jupyter": {
          "outputs_hidden": false,
          "source_hidden": false
        },
        "nteract": {
          "transient": {
            "deleting": false
          }
        }
      }
    },
    {
      "cell_type": "markdown",
      "source": [
        "## Model Deployment\n",
        "\n",
        "Remember you have to deploy only one of the two models you trained.. Perform the steps in the rest of this notebook only if you wish to deploy this model.\n",
        "\n",
        "TODO: In the cell below, register the model, create an inference config and deploy the model as a web service."
      ],
      "metadata": {}
    },
    {
      "cell_type": "code",
      "execution_count": null,
      "metadata": {},
      "outputs": [],
      "source": [
        "#TODO: Save the best model\n",
        "from azureml.core import Model\n",
        "\n",
        "# Register model\n",
        "best_run.register_model(model_path='outputs/model.pkl', model_name='automl_model',\n",
        "                        tags={'Training context':'Auto ML'},\n",
        "                        properties={'AUC': best_run_metrics['AUC_weighted'], 'Accuracy': best_run_metrics['accuracy']})\n",
        "\n",
        "# List registered models\n",
        "for model in Model.list(ws):\n",
        "    print(model.name, 'version:', model.version)\n",
        "    for tag_name in model.tags:\n",
        "        tag = model.tags[tag_name]\n",
        "        print ('\\t',tag_name, ':', tag)\n",
        "    for prop_name in model.properties:\n",
        "        prop = model.properties[prop_name]\n",
        "        print ('\\t',prop_name, ':', prop)\n",
        "    print('\\n')"
      ]
    },
    {
      "cell_type": "code",
      "source": [
        "from azureml.automl.core.shared import constants\n",
        "best_run.download_file(constants.CONDA_ENV_FILE_PATH, 'myenv.yml')\n",
        "\n",
        "# create inference_config\n",
        "from azureml.core.model import InferenceConfig\n",
        "inference_config = InferenceConfig(entry_script=\"scoring.py\", environment = my_env)"
      ],
      "outputs": [],
      "execution_count": 27,
      "metadata": {
        "collapsed": true,
        "jupyter": {
          "source_hidden": false,
          "outputs_hidden": false
        },
        "nteract": {
          "transient": {
            "deleting": false
          }
        },
        "gather": {
          "logged": 1610900514187
        }
      }
    },
    {
      "cell_type": "code",
      "source": [
        "from azureml.core.webservice import Webservice, AciWebservice\r\n",
        "deployment_config = AciWebservice.deploy_configuration(cpu_cores=1, memory_gb = 1)"
      ],
      "outputs": [],
      "execution_count": 31,
      "metadata": {
        "collapsed": true,
        "jupyter": {
          "source_hidden": false,
          "outputs_hidden": false
        },
        "nteract": {
          "transient": {
            "deleting": false
          }
        },
        "gather": {
          "logged": 1610900638614
        }
      }
    },
    {
      "cell_type": "markdown",
      "source": [
        "TODO: In the cell below, send a request to the web service you deployed to test it."
      ],
      "metadata": {
        "collapsed": true,
        "gather": {
          "logged": 1598431657736
        },
        "jupyter": {
          "outputs_hidden": false,
          "source_hidden": false
        },
        "nteract": {
          "transient": {
            "deleting": false
          }
        }
      }
    },
    {
      "cell_type": "code",
      "source": [
        "#deploy the model\n",
        "service=Model.deploy(workspace=ws,\n",
        "                    name=\"heart-deploy-service\",\n",
        "                    models=[model],\n",
        "                    inference_config=inference_config,\n",
        "                    deployment_config=deployment_config)\n",
        "service.wait_for_deployment(show_output=True)"
      ],
      "outputs": [
        {
          "output_type": "stream",
          "name": "stdout",
          "text": [
            "Tips: You can try get_logs(): https://aka.ms/debugimage#dockerlog or local deployment: https://aka.ms/debugimage#debug-locally to debug if deployment takes longer than 10 minutes.\n",
            "Running................."
          ]
        }
      ],
      "execution_count": 32,
      "metadata": {
        "gather": {
          "logged": 1598432707604
        },
        "jupyter": {
          "outputs_hidden": false,
          "source_hidden": false
        },
        "nteract": {
          "transient": {
            "deleting": false
          }
        }
      }
    },
    {
      "cell_type": "markdown",
      "source": [
        "TODO: In the cell below, print the logs of the web service and delete the service"
      ],
      "metadata": {
        "collapsed": true,
        "gather": {
          "logged": 1598432765711
        },
        "jupyter": {
          "outputs_hidden": false,
          "source_hidden": false
        },
        "nteract": {
          "transient": {
            "deleting": false
          }
        }
      }
    },
    {
      "cell_type": "code",
      "source": [
        "print(service.get_logs())"
      ],
      "outputs": [],
      "execution_count": null,
      "metadata": {
        "jupyter": {
          "outputs_hidden": false,
          "source_hidden": false
        },
        "nteract": {
          "transient": {
            "deleting": false
          }
        }
      }
    },
    {
      "cell_type": "code",
      "execution_count": null,
      "metadata": {},
      "outputs": [],
      "source": [
        "scoring_uri = service.scoring_uri\n",
        "\n",
        "print(f'\\nservice state: {service.state}\\n')\n",
        "print(f'scoring URI: \\n{service.scoring_uri}\\n')\n",
        "print(f'swagger URI: \\n{service.swagger_uri}\\n')\n",
        "\n",
        "print(service.scoring_uri)\n",
        "print(service.swagger_uri)"
      ]
    },
    {
      "cell_type": "code",
      "execution_count": null,
      "metadata": {},
      "outputs": [],
      "source": [
        "input_data={\"data\":[{'age': 75.0,\n",
        "  'anaemia': 0,\n",
        "  'creatinine_phosphokinase': 582,\n",
        "  'diabetes': 0,\n",
        "  'ejection_fraction': 20,\n",
        "  'high_blood_pressure': 1,\n",
        "  'platelets': 265000.0,\n",
        "  'serum_creatinine': 1.9,\n",
        "  'serum_sodium': 130,\n",
        "  'sex': 1,\n",
        "  'smoking': 0,\n",
        "  'time': 4}]}\n",
        "\n",
        "i=json.dumps(input_data)\n",
        "\n",
        "with open(\"data.json\",\"w\") as file:\n",
        "    file.write(i)\n",
        "\n",
        "headers={\"Content-Type\":\"application/json\"}\n",
        "\n",
        "import requests\n",
        "result=requests.post(scoring_uri,i,headers=headers)"
      ]
    },
    {
      "cell_type": "code",
      "execution_count": null,
      "metadata": {},
      "outputs": [],
      "source": [
        "result.status_code"
      ]
    },
    {
      "cell_type": "code",
      "execution_count": null,
      "metadata": {},
      "outputs": [],
      "source": [
        "service.delete()\n",
        "compute_target.delete()\n",
        "model.delete()\n",
        "run.delete()\n",
        "experiment.delete()"
      ]
    }
  ],
  "metadata": {
    "kernel_info": {
      "name": "python3"
    },
    "kernelspec": {
      "name": "python3",
      "language": "python",
      "display_name": "Python 3"
    },
    "language_info": {
      "name": "python",
      "version": "3.6.9",
      "mimetype": "text/x-python",
      "codemirror_mode": {
        "name": "ipython",
        "version": 3
      },
      "pygments_lexer": "ipython3",
      "nbconvert_exporter": "python",
      "file_extension": ".py"
    },
    "nteract": {
      "version": "nteract-front-end@1.0.0"
    }
  },
  "nbformat": 4,
  "nbformat_minor": 2
}