{
  "cells": [
    {
      "cell_type": "markdown",
      "source": [
        "# Automated ML"
      ],
      "metadata": {}
    },
    {
      "cell_type": "code",
      "source": [
        "import azureml.core\n",
        "from azureml.core.environment import Environment\n",
        "from azureml.core.conda_dependencies import CondaDependencies\n",
        "from azureml.core.experiment import Experiment\n",
        "from azureml.core.workspace import Workspace\n",
        "from azureml.core.dataset import Dataset\n",
        "from azureml.data.dataset_factory import TabularDatasetFactory\n",
        "from azureml.core.compute import AmlCompute\n",
        "from azureml.core.compute import ComputeTarget\n",
        "from azureml.core.compute_target import ComputeTargetException\n",
        "from azureml.core.model import Model\n",
        "from sklearn.model_selection import train_test_split\n",
        "from azureml.widgets import RunDetails\n",
        "from azureml.train.automl import AutoMLConfig\n",
        "import numpy as np\n",
        "import pandas as pd\n"
      ],
      "outputs": [],
      "execution_count": null,
      "metadata": {
        "gather": {
          "logged": 1610910423836
        },
        "jupyter": {
          "outputs_hidden": false,
          "source_hidden": false
        },
        "nteract": {
          "transient": {
            "deleting": false
          }
        }
      }
    },
    {
      "cell_type": "markdown",
      "source": [
        "## Setup"
      ],
      "metadata": {}
    },
    {
      "cell_type": "code",
      "source": [
        "ws = Workspace.from_config()\n",
        "experiment_name = 'capstone'\n",
        "experiment=Experiment(ws, experiment_name)"
      ],
      "outputs": [
        {
          "output_type": "stream",
          "name": "stdout",
          "text": [
            "Performing interactive authentication. Please follow the instructions on the terminal.\n",
            "To sign in, use a web browser to open the page https://microsoft.com/devicelogin and enter the code RTLM9Z7K9 to authenticate.\n",
            "You have logged in. Now let us find all the subscriptions to which you have access...\n",
            "Interactive authentication successfully completed.\n"
          ]
        }
      ],
      "execution_count": 2,
      "metadata": {
        "gather": {
          "logged": 1610910446021
        },
        "jupyter": {
          "outputs_hidden": false,
          "source_hidden": false
        },
        "nteract": {
          "transient": {
            "deleting": false
          }
        }
      }
    },
    {
      "cell_type": "code",
      "source": [
        "amlcompute_cluster_name = \"capstonecompute\"\n",
        "\n",
        "try:\n",
        "    compute_target = ComputeTarget(workspace=ws, name=amlcompute_cluster_name)\n",
        "    print('Found existing cluster')\n",
        "except ComputeTargetException:\n",
        "    compute_config = AmlCompute.provisioning_configuration(vm_size='STANDARD_DS3_V2', max_nodes=4)\n",
        "    compute_target = ComputeTarget.create(ws, amlcompute_cluster_name, compute_config)\n",
        "    compute_target.wait_for_completion(show_output=True, min_node_count = 1, timeout_in_minutes = 10)\n"
      ],
      "outputs": [
        {
          "output_type": "stream",
          "name": "stdout",
          "text": [
            "Creating\n",
            "Succeeded........................................................"
          ]
        },
        {
          "output_type": "error",
          "ename": "KeyboardInterrupt",
          "evalue": "",
          "traceback": [
            "\u001b[0;31m---------------------------------------------------------------------------\u001b[0m",
            "\u001b[0;31mComputeTargetException\u001b[0m                    Traceback (most recent call last)",
            "\u001b[0;32m<ipython-input-3-7360851a4ee1>\u001b[0m in \u001b[0;36m<module>\u001b[0;34m\u001b[0m\n\u001b[1;32m      3\u001b[0m \u001b[0;32mtry\u001b[0m\u001b[0;34m:\u001b[0m\u001b[0;34m\u001b[0m\u001b[0;34m\u001b[0m\u001b[0m\n\u001b[0;32m----> 4\u001b[0;31m     \u001b[0mcompute_target\u001b[0m \u001b[0;34m=\u001b[0m \u001b[0mComputeTarget\u001b[0m\u001b[0;34m(\u001b[0m\u001b[0mworkspace\u001b[0m\u001b[0;34m=\u001b[0m\u001b[0mws\u001b[0m\u001b[0;34m,\u001b[0m \u001b[0mname\u001b[0m\u001b[0;34m=\u001b[0m\u001b[0mamlcompute_cluster_name\u001b[0m\u001b[0;34m)\u001b[0m\u001b[0;34m\u001b[0m\u001b[0;34m\u001b[0m\u001b[0m\n\u001b[0m\u001b[1;32m      5\u001b[0m     \u001b[0mprint\u001b[0m\u001b[0;34m(\u001b[0m\u001b[0;34m'Found existing cluster'\u001b[0m\u001b[0;34m)\u001b[0m\u001b[0;34m\u001b[0m\u001b[0;34m\u001b[0m\u001b[0m\n",
            "\u001b[0;32m/anaconda/envs/azureml_py36/lib/python3.6/site-packages/azureml/core/compute/compute.py\u001b[0m in \u001b[0;36m__new__\u001b[0;34m(cls, workspace, name)\u001b[0m\n\u001b[1;32m     86\u001b[0m                 raise ComputeTargetException('ComputeTargetNotFound: Compute Target with name {} not found in '\n\u001b[0;32m---> 87\u001b[0;31m                                              'provided workspace'.format(name))\n\u001b[0m\u001b[1;32m     88\u001b[0m         \u001b[0;32melse\u001b[0m\u001b[0;34m:\u001b[0m\u001b[0;34m\u001b[0m\u001b[0;34m\u001b[0m\u001b[0m\n",
            "\u001b[0;31mComputeTargetException\u001b[0m: ComputeTargetException:\n\tMessage: ComputeTargetNotFound: Compute Target with name capstonecompute not found in provided workspace\n\tInnerException None\n\tErrorResponse \n{\n    \"error\": {\n        \"message\": \"ComputeTargetNotFound: Compute Target with name capstonecompute not found in provided workspace\"\n    }\n}",
            "\nDuring handling of the above exception, another exception occurred:\n",
            "\u001b[0;31mKeyboardInterrupt\u001b[0m                         Traceback (most recent call last)",
            "\u001b[0;32m<ipython-input-3-7360851a4ee1>\u001b[0m in \u001b[0;36m<module>\u001b[0;34m\u001b[0m\n\u001b[1;32m      7\u001b[0m     \u001b[0mcompute_config\u001b[0m \u001b[0;34m=\u001b[0m \u001b[0mAmlCompute\u001b[0m\u001b[0;34m.\u001b[0m\u001b[0mprovisioning_configuration\u001b[0m\u001b[0;34m(\u001b[0m\u001b[0mvm_size\u001b[0m\u001b[0;34m=\u001b[0m\u001b[0;34m'STANDARD_DS3_V2'\u001b[0m\u001b[0;34m,\u001b[0m \u001b[0mmax_nodes\u001b[0m\u001b[0;34m=\u001b[0m\u001b[0;36m4\u001b[0m\u001b[0;34m)\u001b[0m\u001b[0;34m\u001b[0m\u001b[0;34m\u001b[0m\u001b[0m\n\u001b[1;32m      8\u001b[0m     \u001b[0mcompute_target\u001b[0m \u001b[0;34m=\u001b[0m \u001b[0mComputeTarget\u001b[0m\u001b[0;34m.\u001b[0m\u001b[0mcreate\u001b[0m\u001b[0;34m(\u001b[0m\u001b[0mws\u001b[0m\u001b[0;34m,\u001b[0m \u001b[0mamlcompute_cluster_name\u001b[0m\u001b[0;34m,\u001b[0m \u001b[0mcompute_config\u001b[0m\u001b[0;34m)\u001b[0m\u001b[0;34m\u001b[0m\u001b[0;34m\u001b[0m\u001b[0m\n\u001b[0;32m----> 9\u001b[0;31m     \u001b[0mcompute_target\u001b[0m\u001b[0;34m.\u001b[0m\u001b[0mwait_for_completion\u001b[0m\u001b[0;34m(\u001b[0m\u001b[0mshow_output\u001b[0m\u001b[0;34m=\u001b[0m\u001b[0;32mTrue\u001b[0m\u001b[0;34m,\u001b[0m \u001b[0mmin_node_count\u001b[0m \u001b[0;34m=\u001b[0m \u001b[0;36m1\u001b[0m\u001b[0;34m,\u001b[0m \u001b[0mtimeout_in_minutes\u001b[0m \u001b[0;34m=\u001b[0m \u001b[0;36m10\u001b[0m\u001b[0;34m)\u001b[0m\u001b[0;34m\u001b[0m\u001b[0;34m\u001b[0m\u001b[0m\n\u001b[0m",
            "\u001b[0;32m/anaconda/envs/azureml_py36/lib/python3.6/site-packages/azureml/core/compute/amlcompute.py\u001b[0m in \u001b[0;36mwait_for_completion\u001b[0;34m(self, show_output, min_node_count, timeout_in_minutes, is_delete_operation)\u001b[0m\n\u001b[1;32m    369\u001b[0m         \u001b[0;32melse\u001b[0m\u001b[0;34m:\u001b[0m\u001b[0;34m\u001b[0m\u001b[0;34m\u001b[0m\u001b[0m\n\u001b[1;32m    370\u001b[0m             \u001b[0mmin_nodes_reached\u001b[0m\u001b[0;34m,\u001b[0m \u001b[0mtimeout_reached\u001b[0m\u001b[0;34m,\u001b[0m \u001b[0mterminal_state_reached\u001b[0m\u001b[0;34m,\u001b[0m \u001b[0mstatus_errors_present\u001b[0m \u001b[0;34m=\u001b[0m\u001b[0;31m \u001b[0m\u001b[0;31m\\\u001b[0m\u001b[0;34m\u001b[0m\u001b[0;34m\u001b[0m\u001b[0m\n\u001b[0;32m--> 371\u001b[0;31m                 \u001b[0mself\u001b[0m\u001b[0;34m.\u001b[0m\u001b[0m_wait_for_nodes\u001b[0m\u001b[0;34m(\u001b[0m\u001b[0mmin_node_count\u001b[0m\u001b[0;34m,\u001b[0m \u001b[0mtimeout_in_minutes\u001b[0m\u001b[0;34m,\u001b[0m \u001b[0mshow_output\u001b[0m\u001b[0;34m)\u001b[0m\u001b[0;34m\u001b[0m\u001b[0;34m\u001b[0m\u001b[0m\n\u001b[0m\u001b[1;32m    372\u001b[0m             \u001b[0;32mif\u001b[0m \u001b[0mshow_output\u001b[0m\u001b[0;34m:\u001b[0m\u001b[0;34m\u001b[0m\u001b[0;34m\u001b[0m\u001b[0m\n\u001b[1;32m    373\u001b[0m                 \u001b[0mprint\u001b[0m\u001b[0;34m(\u001b[0m\u001b[0;34m'AmlCompute wait for completion finished\\n'\u001b[0m\u001b[0;34m)\u001b[0m\u001b[0;34m\u001b[0m\u001b[0;34m\u001b[0m\u001b[0m\n",
            "\u001b[0;32m/anaconda/envs/azureml_py36/lib/python3.6/site-packages/azureml/core/compute/amlcompute.py\u001b[0m in \u001b[0;36m_wait_for_nodes\u001b[0;34m(self, min_node_count, timeout_in_minutes, show_output)\u001b[0m\n\u001b[1;32m    437\u001b[0m                                      .format(self.status.current_node_count, min_node_count))\n\u001b[1;32m    438\u001b[0m \u001b[0;34m\u001b[0m\u001b[0m\n\u001b[0;32m--> 439\u001b[0;31m             \u001b[0mtime\u001b[0m\u001b[0;34m.\u001b[0m\u001b[0msleep\u001b[0m\u001b[0;34m(\u001b[0m\u001b[0;36m5\u001b[0m\u001b[0;34m)\u001b[0m\u001b[0;34m\u001b[0m\u001b[0;34m\u001b[0m\u001b[0m\n\u001b[0m\u001b[1;32m    440\u001b[0m             \u001b[0mself\u001b[0m\u001b[0;34m.\u001b[0m\u001b[0mrefresh_state\u001b[0m\u001b[0;34m(\u001b[0m\u001b[0;34m)\u001b[0m\u001b[0;34m\u001b[0m\u001b[0;34m\u001b[0m\u001b[0m\n\u001b[1;32m    441\u001b[0m \u001b[0;34m\u001b[0m\u001b[0m\n",
            "\u001b[0;31mKeyboardInterrupt\u001b[0m: "
          ]
        }
      ],
      "execution_count": 3,
      "metadata": {}
    },
    {
      "cell_type": "markdown",
      "source": [
        "## Dataset\n",
        "\n",
        "### Overview\n",
        "TODO: In this markdown cell, give an overview of the dataset you are using. Also mention the task you will be performing.\n"
      ],
      "metadata": {}
    },
    {
      "cell_type": "code",
      "source": [
        "# test to see if dataset is in store\n",
        "key = 'heartfailuredataset'\n",
        "if key in ws.datasets.keys(): \n",
        "    dataset = ws.datasets[key] \n",
        "    print('Found dataset')\n",
        "\n",
        "# if not, load the dataset, save it to the store\n",
        "else:\n",
        "    url = 'https://archive.ics.uci.edu/ml/machine-learning-databases/00519/heart_failure_clinical_records_dataset.csv'\n",
        "    dataset = Dataset.Tabular.from_delimited_files(url)\n",
        "    dataset = dataset.register(workspace=ws, name=key)\n",
        "    \n",
        "               \n",
        "# split into data and test sets\n",
        "ds = dataset.to_pandas_dataframe()\n",
        "# use train test split\n",
        "train, test = train_test_split(ds, random_state=625, shuffle=True)\n",
        "\n",
        "# then write the train data to a file and load to datastore\n",
        "train.to_csv('train.csv', index=False)\n",
        "datastore = ws.get_default_datastore()\n",
        "datastore.upload_files(files = ['./train.csv'])\n",
        "\n",
        "# then read to tabular dataset for automl\n",
        "train = Dataset.Tabular.from_delimited_files(path = [(datastore,'train.csv')])\n"
      ],
      "outputs": [
        {
          "output_type": "stream",
          "name": "stdout",
          "text": [
            "Found dataset\n",
            "Uploading an estimated of 1 files\n",
            "Target already exists. Skipping upload for train.csv\n",
            "Uploaded 0 files\n"
          ]
        }
      ],
      "execution_count": 6,
      "metadata": {
        "gather": {
          "logged": 1610910791991
        }
      }
    },
    {
      "cell_type": "markdown",
      "source": [
        "## AutoML Configuration\n",
        "\n",
        "TODO: Explain why you chose the automl settings and cofiguration you used below."
      ],
      "metadata": {}
    },
    {
      "cell_type": "code",
      "source": [
        "automl_settings = {\n",
        "    \"experiment_timeout_minutes\":30,\n",
        "    \"enable_early_stopping\":True,    \n",
        "    \"primary_metric\":'accuracy',\n",
        "    \"n_cross_validations\":5,    \n",
        "}\n",
        "\n",
        "automl_config = AutoMLConfig(\n",
        "    compute_target=compute_target, \n",
        "    task='classification', \n",
        "    training_data=train,\n",
        "    label_column_name='DEATH_EVENT',\n",
        "    **automl_settings)"
      ],
      "outputs": [],
      "execution_count": 7,
      "metadata": {
        "gather": {
          "logged": 1610910797702
        },
        "jupyter": {
          "outputs_hidden": false,
          "source_hidden": false
        },
        "nteract": {
          "transient": {
            "deleting": false
          }
        }
      }
    },
    {
      "cell_type": "code",
      "source": [
        "run = experiment.submit(automl_config)"
      ],
      "outputs": [
        {
          "output_type": "stream",
          "name": "stdout",
          "text": [
            "Running on remote.\n"
          ]
        }
      ],
      "execution_count": 8,
      "metadata": {
        "gather": {
          "logged": 1610910810332
        },
        "jupyter": {
          "outputs_hidden": false,
          "source_hidden": false
        },
        "nteract": {
          "transient": {
            "deleting": false
          }
        }
      }
    },
    {
      "cell_type": "markdown",
      "source": [
        "## Run Details\n",
        "\n",
        "OPTIONAL: Write about the different models trained and their performance. Why do you think some models did better than others?\n"
      ],
      "metadata": {}
    },
    {
      "cell_type": "code",
      "source": [
        "RunDetails(run).show()"
      ],
      "outputs": [
        {
          "output_type": "display_data",
          "data": {
            "text/plain": "_AutoMLWidget(widget_settings={'childWidgetDisplay': 'popup', 'send_telemetry': False, 'log_level': 'INFO', 's…",
            "application/vnd.jupyter.widget-view+json": {
              "version_major": 2,
              "version_minor": 0,
              "model_id": "3cf4fe7968454bf4a63ebdfac4548667"
            }
          },
          "metadata": {}
        },
        {
          "output_type": "display_data",
          "data": {
            "application/aml.mini.widget.v1": "{\"status\": \"Completed\", \"workbench_run_details_uri\": \"https://ml.azure.com/experiments/capstone/runs/AutoML_310a2d92-67fc-46f9-bf09-209b6b134de8?wsid=/subscriptions/a24a24d5-8d87-4c8a-99b6-91ed2d2df51f/resourcegroups/aml-quickstarts-135113/workspaces/quick-starts-ws-135113\", \"run_id\": \"AutoML_310a2d92-67fc-46f9-bf09-209b6b134de8\", \"run_properties\": {\"run_id\": \"AutoML_310a2d92-67fc-46f9-bf09-209b6b134de8\", \"created_utc\": \"2021-01-17T19:13:26.591936Z\", \"properties\": {\"num_iterations\": \"1000\", \"training_type\": \"TrainFull\", \"acquisition_function\": \"EI\", \"primary_metric\": \"accuracy\", \"train_split\": \"0\", \"acquisition_parameter\": \"0\", \"num_cross_validation\": \"5\", \"target\": \"capstonecompute\", \"AMLSettingsJsonString\": \"{\\\"path\\\":null,\\\"name\\\":\\\"capstone\\\",\\\"subscription_id\\\":\\\"a24a24d5-8d87-4c8a-99b6-91ed2d2df51f\\\",\\\"resource_group\\\":\\\"aml-quickstarts-135113\\\",\\\"workspace_name\\\":\\\"quick-starts-ws-135113\\\",\\\"region\\\":\\\"southcentralus\\\",\\\"compute_target\\\":\\\"capstonecompute\\\",\\\"spark_service\\\":null,\\\"azure_service\\\":\\\"remote\\\",\\\"many_models\\\":false,\\\"pipeline_fetch_max_batch_size\\\":1,\\\"iterations\\\":1000,\\\"primary_metric\\\":\\\"accuracy\\\",\\\"task_type\\\":\\\"classification\\\",\\\"data_script\\\":null,\\\"validation_size\\\":0.0,\\\"n_cross_validations\\\":5,\\\"y_min\\\":null,\\\"y_max\\\":null,\\\"num_classes\\\":null,\\\"featurization\\\":\\\"auto\\\",\\\"_ignore_package_version_incompatibilities\\\":false,\\\"is_timeseries\\\":false,\\\"max_cores_per_iteration\\\":1,\\\"max_concurrent_iterations\\\":1,\\\"iteration_timeout_minutes\\\":null,\\\"mem_in_mb\\\":null,\\\"enforce_time_on_windows\\\":false,\\\"experiment_timeout_minutes\\\":30,\\\"experiment_exit_score\\\":null,\\\"whitelist_models\\\":null,\\\"blacklist_algos\\\":[\\\"TensorFlowLinearClassifier\\\",\\\"TensorFlowDNN\\\"],\\\"supported_models\\\":[\\\"TensorFlowDNN\\\",\\\"LogisticRegression\\\",\\\"DecisionTree\\\",\\\"XGBoostClassifier\\\",\\\"LightGBM\\\",\\\"KNN\\\",\\\"MultinomialNaiveBayes\\\",\\\"BernoulliNaiveBayes\\\",\\\"RandomForest\\\",\\\"TensorFlowLinearClassifier\\\",\\\"GradientBoosting\\\",\\\"LinearSVM\\\",\\\"SVM\\\",\\\"ExtremeRandomTrees\\\",\\\"AveragedPerceptronClassifier\\\",\\\"SGD\\\"],\\\"auto_blacklist\\\":true,\\\"blacklist_samples_reached\\\":false,\\\"exclude_nan_labels\\\":true,\\\"verbosity\\\":20,\\\"_debug_log\\\":\\\"azureml_automl.log\\\",\\\"show_warnings\\\":false,\\\"model_explainability\\\":true,\\\"service_url\\\":null,\\\"sdk_url\\\":null,\\\"sdk_packages\\\":null,\\\"enable_onnx_compatible_models\\\":false,\\\"enable_split_onnx_featurizer_estimator_models\\\":false,\\\"vm_type\\\":\\\"STANDARD_DS3_V2\\\",\\\"telemetry_verbosity\\\":20,\\\"send_telemetry\\\":true,\\\"enable_dnn\\\":false,\\\"scenario\\\":\\\"SDK-1.13.0\\\",\\\"environment_label\\\":null,\\\"force_text_dnn\\\":false,\\\"enable_feature_sweeping\\\":true,\\\"enable_early_stopping\\\":true,\\\"early_stopping_n_iters\\\":10,\\\"metrics\\\":null,\\\"enable_ensembling\\\":true,\\\"enable_stack_ensembling\\\":true,\\\"ensemble_iterations\\\":15,\\\"enable_tf\\\":false,\\\"enable_subsampling\\\":null,\\\"subsample_seed\\\":null,\\\"enable_nimbusml\\\":false,\\\"enable_streaming\\\":false,\\\"force_streaming\\\":false,\\\"track_child_runs\\\":true,\\\"allowed_private_models\\\":[],\\\"label_column_name\\\":\\\"DEATH_EVENT\\\",\\\"weight_column_name\\\":null,\\\"cv_split_column_names\\\":null,\\\"enable_local_managed\\\":false,\\\"_local_managed_run_id\\\":null,\\\"cost_mode\\\":1,\\\"lag_length\\\":0,\\\"metric_operation\\\":\\\"maximize\\\",\\\"preprocess\\\":true}\", \"DataPrepJsonString\": \"{\\\\\\\"training_data\\\\\\\": \\\\\\\"{\\\\\\\\\\\\\\\"blocks\\\\\\\\\\\\\\\": [{\\\\\\\\\\\\\\\"id\\\\\\\\\\\\\\\": \\\\\\\\\\\\\\\"3677bca7-4fff-4e86-9356-cf8f5356d6db\\\\\\\\\\\\\\\", \\\\\\\\\\\\\\\"type\\\\\\\\\\\\\\\": \\\\\\\\\\\\\\\"Microsoft.DPrep.GetDatastoreFilesBlock\\\\\\\\\\\\\\\", \\\\\\\\\\\\\\\"arguments\\\\\\\\\\\\\\\": {\\\\\\\\\\\\\\\"datastores\\\\\\\\\\\\\\\": [{\\\\\\\\\\\\\\\"datastoreName\\\\\\\\\\\\\\\": \\\\\\\\\\\\\\\"workspaceblobstore\\\\\\\\\\\\\\\", \\\\\\\\\\\\\\\"path\\\\\\\\\\\\\\\": \\\\\\\\\\\\\\\"train.csv\\\\\\\\\\\\\\\", \\\\\\\\\\\\\\\"resourceGroup\\\\\\\\\\\\\\\": \\\\\\\\\\\\\\\"aml-quickstarts-135113\\\\\\\\\\\\\\\", \\\\\\\\\\\\\\\"subscription\\\\\\\\\\\\\\\": \\\\\\\\\\\\\\\"a24a24d5-8d87-4c8a-99b6-91ed2d2df51f\\\\\\\\\\\\\\\", \\\\\\\\\\\\\\\"workspaceName\\\\\\\\\\\\\\\": \\\\\\\\\\\\\\\"quick-starts-ws-135113\\\\\\\\\\\\\\\"}]}, \\\\\\\\\\\\\\\"localData\\\\\\\\\\\\\\\": {}, \\\\\\\\\\\\\\\"isEnabled\\\\\\\\\\\\\\\": true, \\\\\\\\\\\\\\\"name\\\\\\\\\\\\\\\": null, \\\\\\\\\\\\\\\"annotation\\\\\\\\\\\\\\\": null}, {\\\\\\\\\\\\\\\"id\\\\\\\\\\\\\\\": \\\\\\\\\\\\\\\"abcab5b4-c42b-4d79-8748-1efc45a799c0\\\\\\\\\\\\\\\", \\\\\\\\\\\\\\\"type\\\\\\\\\\\\\\\": \\\\\\\\\\\\\\\"Microsoft.DPrep.ParseDelimitedBlock\\\\\\\\\\\\\\\", \\\\\\\\\\\\\\\"arguments\\\\\\\\\\\\\\\": {\\\\\\\\\\\\\\\"columnHeadersMode\\\\\\\\\\\\\\\": 3, \\\\\\\\\\\\\\\"fileEncoding\\\\\\\\\\\\\\\": 0, \\\\\\\\\\\\\\\"handleQuotedLineBreaks\\\\\\\\\\\\\\\": false, \\\\\\\\\\\\\\\"preview\\\\\\\\\\\\\\\": false, \\\\\\\\\\\\\\\"separator\\\\\\\\\\\\\\\": \\\\\\\\\\\\\\\",\\\\\\\\\\\\\\\", \\\\\\\\\\\\\\\"skipRows\\\\\\\\\\\\\\\": 0, \\\\\\\\\\\\\\\"skipRowsMode\\\\\\\\\\\\\\\": 0}, \\\\\\\\\\\\\\\"localData\\\\\\\\\\\\\\\": {}, \\\\\\\\\\\\\\\"isEnabled\\\\\\\\\\\\\\\": true, \\\\\\\\\\\\\\\"name\\\\\\\\\\\\\\\": null, \\\\\\\\\\\\\\\"annotation\\\\\\\\\\\\\\\": null}, {\\\\\\\\\\\\\\\"id\\\\\\\\\\\\\\\": \\\\\\\\\\\\\\\"b1772937-634f-452d-a1ac-3431d6c0c591\\\\\\\\\\\\\\\", \\\\\\\\\\\\\\\"type\\\\\\\\\\\\\\\": \\\\\\\\\\\\\\\"Microsoft.DPrep.DropColumnsBlock\\\\\\\\\\\\\\\", \\\\\\\\\\\\\\\"arguments\\\\\\\\\\\\\\\": {\\\\\\\\\\\\\\\"columns\\\\\\\\\\\\\\\": {\\\\\\\\\\\\\\\"type\\\\\\\\\\\\\\\": 0, \\\\\\\\\\\\\\\"details\\\\\\\\\\\\\\\": {\\\\\\\\\\\\\\\"selectedColumns\\\\\\\\\\\\\\\": [\\\\\\\\\\\\\\\"Path\\\\\\\\\\\\\\\"]}}}, \\\\\\\\\\\\\\\"localData\\\\\\\\\\\\\\\": {}, \\\\\\\\\\\\\\\"isEnabled\\\\\\\\\\\\\\\": true, \\\\\\\\\\\\\\\"name\\\\\\\\\\\\\\\": null, \\\\\\\\\\\\\\\"annotation\\\\\\\\\\\\\\\": null}, {\\\\\\\\\\\\\\\"id\\\\\\\\\\\\\\\": \\\\\\\\\\\\\\\"f5f827b1-ce92-426d-bf84-6e64af753d0b\\\\\\\\\\\\\\\", \\\\\\\\\\\\\\\"type\\\\\\\\\\\\\\\": \\\\\\\\\\\\\\\"Microsoft.DPrep.SetColumnTypesBlock\\\\\\\\\\\\\\\", \\\\\\\\\\\\\\\"arguments\\\\\\\\\\\\\\\": {\\\\\\\\\\\\\\\"columnConversion\\\\\\\\\\\\\\\": [{\\\\\\\\\\\\\\\"column\\\\\\\\\\\\\\\": {\\\\\\\\\\\\\\\"type\\\\\\\\\\\\\\\": 2, \\\\\\\\\\\\\\\"details\\\\\\\\\\\\\\\": {\\\\\\\\\\\\\\\"selectedColumn\\\\\\\\\\\\\\\": \\\\\\\\\\\\\\\"age\\\\\\\\\\\\\\\"}}, \\\\\\\\\\\\\\\"typeProperty\\\\\\\\\\\\\\\": 3}, {\\\\\\\\\\\\\\\"column\\\\\\\\\\\\\\\": {\\\\\\\\\\\\\\\"type\\\\\\\\\\\\\\\": 2, \\\\\\\\\\\\\\\"details\\\\\\\\\\\\\\\": {\\\\\\\\\\\\\\\"selectedColumn\\\\\\\\\\\\\\\": \\\\\\\\\\\\\\\"anaemia\\\\\\\\\\\\\\\"}}, \\\\\\\\\\\\\\\"typeProperty\\\\\\\\\\\\\\\": 2}, {\\\\\\\\\\\\\\\"column\\\\\\\\\\\\\\\": {\\\\\\\\\\\\\\\"type\\\\\\\\\\\\\\\": 2, \\\\\\\\\\\\\\\"details\\\\\\\\\\\\\\\": {\\\\\\\\\\\\\\\"selectedColumn\\\\\\\\\\\\\\\": \\\\\\\\\\\\\\\"creatinine_phosphokinase\\\\\\\\\\\\\\\"}}, \\\\\\\\\\\\\\\"typeProperty\\\\\\\\\\\\\\\": 2}, {\\\\\\\\\\\\\\\"column\\\\\\\\\\\\\\\": {\\\\\\\\\\\\\\\"type\\\\\\\\\\\\\\\": 2, \\\\\\\\\\\\\\\"details\\\\\\\\\\\\\\\": {\\\\\\\\\\\\\\\"selectedColumn\\\\\\\\\\\\\\\": \\\\\\\\\\\\\\\"diabetes\\\\\\\\\\\\\\\"}}, \\\\\\\\\\\\\\\"typeProperty\\\\\\\\\\\\\\\": 2}, {\\\\\\\\\\\\\\\"column\\\\\\\\\\\\\\\": {\\\\\\\\\\\\\\\"type\\\\\\\\\\\\\\\": 2, \\\\\\\\\\\\\\\"details\\\\\\\\\\\\\\\": {\\\\\\\\\\\\\\\"selectedColumn\\\\\\\\\\\\\\\": \\\\\\\\\\\\\\\"ejection_fraction\\\\\\\\\\\\\\\"}}, \\\\\\\\\\\\\\\"typeProperty\\\\\\\\\\\\\\\": 2}, {\\\\\\\\\\\\\\\"column\\\\\\\\\\\\\\\": {\\\\\\\\\\\\\\\"type\\\\\\\\\\\\\\\": 2, \\\\\\\\\\\\\\\"details\\\\\\\\\\\\\\\": {\\\\\\\\\\\\\\\"selectedColumn\\\\\\\\\\\\\\\": \\\\\\\\\\\\\\\"high_blood_pressure\\\\\\\\\\\\\\\"}}, \\\\\\\\\\\\\\\"typeProperty\\\\\\\\\\\\\\\": 2}, {\\\\\\\\\\\\\\\"column\\\\\\\\\\\\\\\": {\\\\\\\\\\\\\\\"type\\\\\\\\\\\\\\\": 2, \\\\\\\\\\\\\\\"details\\\\\\\\\\\\\\\": {\\\\\\\\\\\\\\\"selectedColumn\\\\\\\\\\\\\\\": \\\\\\\\\\\\\\\"platelets\\\\\\\\\\\\\\\"}}, \\\\\\\\\\\\\\\"typeProperty\\\\\\\\\\\\\\\": 3}, {\\\\\\\\\\\\\\\"column\\\\\\\\\\\\\\\": {\\\\\\\\\\\\\\\"type\\\\\\\\\\\\\\\": 2, \\\\\\\\\\\\\\\"details\\\\\\\\\\\\\\\": {\\\\\\\\\\\\\\\"selectedColumn\\\\\\\\\\\\\\\": \\\\\\\\\\\\\\\"serum_creatinine\\\\\\\\\\\\\\\"}}, \\\\\\\\\\\\\\\"typeProperty\\\\\\\\\\\\\\\": 3}, {\\\\\\\\\\\\\\\"column\\\\\\\\\\\\\\\": {\\\\\\\\\\\\\\\"type\\\\\\\\\\\\\\\": 2, \\\\\\\\\\\\\\\"details\\\\\\\\\\\\\\\": {\\\\\\\\\\\\\\\"selectedColumn\\\\\\\\\\\\\\\": \\\\\\\\\\\\\\\"serum_sodium\\\\\\\\\\\\\\\"}}, \\\\\\\\\\\\\\\"typeProperty\\\\\\\\\\\\\\\": 2}, {\\\\\\\\\\\\\\\"column\\\\\\\\\\\\\\\": {\\\\\\\\\\\\\\\"type\\\\\\\\\\\\\\\": 2, \\\\\\\\\\\\\\\"details\\\\\\\\\\\\\\\": {\\\\\\\\\\\\\\\"selectedColumn\\\\\\\\\\\\\\\": \\\\\\\\\\\\\\\"sex\\\\\\\\\\\\\\\"}}, \\\\\\\\\\\\\\\"typeProperty\\\\\\\\\\\\\\\": 2}, {\\\\\\\\\\\\\\\"column\\\\\\\\\\\\\\\": {\\\\\\\\\\\\\\\"type\\\\\\\\\\\\\\\": 2, \\\\\\\\\\\\\\\"details\\\\\\\\\\\\\\\": {\\\\\\\\\\\\\\\"selectedColumn\\\\\\\\\\\\\\\": \\\\\\\\\\\\\\\"smoking\\\\\\\\\\\\\\\"}}, \\\\\\\\\\\\\\\"typeProperty\\\\\\\\\\\\\\\": 2}, {\\\\\\\\\\\\\\\"column\\\\\\\\\\\\\\\": {\\\\\\\\\\\\\\\"type\\\\\\\\\\\\\\\": 2, \\\\\\\\\\\\\\\"details\\\\\\\\\\\\\\\": {\\\\\\\\\\\\\\\"selectedColumn\\\\\\\\\\\\\\\": \\\\\\\\\\\\\\\"time\\\\\\\\\\\\\\\"}}, \\\\\\\\\\\\\\\"typeProperty\\\\\\\\\\\\\\\": 2}, {\\\\\\\\\\\\\\\"column\\\\\\\\\\\\\\\": {\\\\\\\\\\\\\\\"type\\\\\\\\\\\\\\\": 2, \\\\\\\\\\\\\\\"details\\\\\\\\\\\\\\\": {\\\\\\\\\\\\\\\"selectedColumn\\\\\\\\\\\\\\\": \\\\\\\\\\\\\\\"DEATH_EVENT\\\\\\\\\\\\\\\"}}, \\\\\\\\\\\\\\\"typeProperty\\\\\\\\\\\\\\\": 2}]}, \\\\\\\\\\\\\\\"localData\\\\\\\\\\\\\\\": {}, \\\\\\\\\\\\\\\"isEnabled\\\\\\\\\\\\\\\": true, \\\\\\\\\\\\\\\"name\\\\\\\\\\\\\\\": null, \\\\\\\\\\\\\\\"annotation\\\\\\\\\\\\\\\": null}], \\\\\\\\\\\\\\\"inspectors\\\\\\\\\\\\\\\": [], \\\\\\\\\\\\\\\"meta\\\\\\\\\\\\\\\": {\\\\\\\\\\\\\\\"savedDatasetId\\\\\\\\\\\\\\\": \\\\\\\\\\\\\\\"e6cbb3e7-2637-4b2c-9b4e-36036f7c3e3d\\\\\\\\\\\\\\\", \\\\\\\\\\\\\\\"datasetType\\\\\\\\\\\\\\\": \\\\\\\\\\\\\\\"tabular\\\\\\\\\\\\\\\", \\\\\\\\\\\\\\\"subscriptionId\\\\\\\\\\\\\\\": \\\\\\\\\\\\\\\"a24a24d5-8d87-4c8a-99b6-91ed2d2df51f\\\\\\\\\\\\\\\", \\\\\\\\\\\\\\\"workspaceId\\\\\\\\\\\\\\\": \\\\\\\\\\\\\\\"7537a3db-3e9d-4571-afc0-2b4ffc15e80e\\\\\\\\\\\\\\\", \\\\\\\\\\\\\\\"workspaceLocation\\\\\\\\\\\\\\\": \\\\\\\\\\\\\\\"southcentralus\\\\\\\\\\\\\\\"}}\\\\\\\", \\\\\\\"activities\\\\\\\": 0}\", \"EnableSubsampling\": null, \"runTemplate\": \"AutoML\", \"azureml.runsource\": \"automl\", \"display_task_type\": \"classification\", \"dependencies_versions\": \"{\\\"azureml-widgets\\\": \\\"1.19.0\\\", \\\"azureml-train\\\": \\\"1.19.0\\\", \\\"azureml-train-restclients-hyperdrive\\\": \\\"1.19.0\\\", \\\"azureml-train-core\\\": \\\"1.19.0\\\", \\\"azureml-train-automl\\\": \\\"1.19.0\\\", \\\"azureml-train-automl-runtime\\\": \\\"1.19.0\\\", \\\"azureml-train-automl-client\\\": \\\"1.19.0\\\", \\\"azureml-tensorboard\\\": \\\"1.19.0\\\", \\\"azureml-telemetry\\\": \\\"1.19.0\\\", \\\"azureml-sdk\\\": \\\"1.19.0\\\", \\\"azureml-samples\\\": \\\"0+unknown\\\", \\\"azureml-pipeline\\\": \\\"1.19.0\\\", \\\"azureml-pipeline-steps\\\": \\\"1.19.0\\\", \\\"azureml-pipeline-core\\\": \\\"1.19.0\\\", \\\"azureml-opendatasets\\\": \\\"1.19.0\\\", \\\"azureml-model-management-sdk\\\": \\\"1.0.1b6.post1\\\", \\\"azureml-mlflow\\\": \\\"1.19.0\\\", \\\"azureml-interpret\\\": \\\"1.19.0\\\", \\\"azureml-explain-model\\\": \\\"1.19.0\\\", \\\"azureml-defaults\\\": \\\"1.19.0\\\", \\\"azureml-dataset-runtime\\\": \\\"1.19.0.post1\\\", \\\"azureml-dataprep\\\": \\\"2.6.1\\\", \\\"azureml-dataprep-rslex\\\": \\\"1.4.0\\\", \\\"azureml-dataprep-native\\\": \\\"26.0.0\\\", \\\"azureml-datadrift\\\": \\\"1.19.0\\\", \\\"azureml-core\\\": \\\"1.19.0\\\", \\\"azureml-contrib-services\\\": \\\"1.19.0\\\", \\\"azureml-contrib-server\\\": \\\"1.19.0\\\", \\\"azureml-contrib-reinforcementlearning\\\": \\\"1.19.0\\\", \\\"azureml-contrib-pipeline-steps\\\": \\\"1.19.0\\\", \\\"azureml-contrib-notebook\\\": \\\"1.19.0\\\", \\\"azureml-contrib-interpret\\\": \\\"1.19.0\\\", \\\"azureml-contrib-gbdt\\\": \\\"1.19.0\\\", \\\"azureml-contrib-fairness\\\": \\\"1.19.0\\\", \\\"azureml-contrib-dataset\\\": \\\"1.19.0\\\", \\\"azureml-cli-common\\\": \\\"1.19.0\\\", \\\"azureml-automl-runtime\\\": \\\"1.19.0\\\", \\\"azureml-automl-core\\\": \\\"1.19.0\\\", \\\"azureml-accel-models\\\": \\\"1.19.0\\\"}\", \"_aml_system_scenario_identification\": \"Remote.Parent\", \"ClientType\": \"SDK\", \"environment_cpu_name\": \"AzureML-AutoML\", \"environment_cpu_label\": \"prod\", \"environment_gpu_name\": \"AzureML-AutoML-GPU\", \"environment_gpu_label\": \"prod\", \"root_attribution\": \"automl\", \"attribution\": \"AutoML\", \"Orchestrator\": \"AutoML\", \"CancelUri\": \"https://southcentralus.experiments.azureml.net/jasmine/v1.0/subscriptions/a24a24d5-8d87-4c8a-99b6-91ed2d2df51f/resourceGroups/aml-quickstarts-135113/providers/Microsoft.MachineLearningServices/workspaces/quick-starts-ws-135113/experimentids/70671174-3e1a-422b-a285-b436cdd04cdd/cancel/AutoML_310a2d92-67fc-46f9-bf09-209b6b134de8\", \"ClientSdkVersion\": \"1.19.0\", \"snapshotId\": \"00000000-0000-0000-0000-000000000000\", \"SetupRunId\": \"AutoML_310a2d92-67fc-46f9-bf09-209b6b134de8_setup\", \"SetupRunContainerId\": \"dcid.AutoML_310a2d92-67fc-46f9-bf09-209b6b134de8_setup\", \"FeaturizationRunJsonPath\": \"featurizer_container.json\", \"FeaturizationRunId\": \"AutoML_310a2d92-67fc-46f9-bf09-209b6b134de8_featurize\", \"ProblemInfoJsonString\": \"{\\\"dataset_num_categorical\\\": 0, \\\"is_sparse\\\": false, \\\"subsampling\\\": false, \\\"dataset_classes\\\": 2, \\\"dataset_features\\\": 12, \\\"dataset_samples\\\": 224, \\\"single_frequency_class_detected\\\": false}\", \"ModelExplainRunId\": \"AutoML_310a2d92-67fc-46f9-bf09-209b6b134de8_ModelExplain\"}, \"tags\": {\"model_explain_run\": \"best_run\", \"_aml_system_azureml.automlComponent\": \"AutoML\", \"pipeline_id\": \"\", \"score\": \"\", \"predicted_cost\": \"\", \"fit_time\": \"\", \"training_percent\": \"\", \"iteration\": \"\", \"run_preprocessor\": \"\", \"run_algorithm\": \"\", \"dynamic_whitelisting_iterations\": \"<25>;\", \"automl_best_child_run_id\": \"AutoML_310a2d92-67fc-46f9-bf09-209b6b134de8_30\", \"model_explain_best_run_child_id\": \"AutoML_310a2d92-67fc-46f9-bf09-209b6b134de8_30\"}, \"end_time_utc\": \"2021-01-17T19:53:55.699343Z\", \"status\": \"Completed\", \"log_files\": {}, \"log_groups\": [], \"run_duration\": \"0:40:29\"}, \"child_runs\": [{\"run_id\": \"AutoML_310a2d92-67fc-46f9-bf09-209b6b134de8_0\", \"run_number\": 5, \"metric\": null, \"status\": \"Completed\", \"run_type\": \"azureml.scriptrun\", \"training_percent\": \"100\", \"start_time\": \"2021-01-17T19:21:01.49689Z\", \"end_time\": \"2021-01-17T19:21:43.307903Z\", \"created_time\": \"2021-01-17T19:20:51.305312Z\", \"created_time_dt\": \"2021-01-17T19:20:51.305312Z\", \"duration\": \"0:00:52\", \"iteration\": \"0\", \"goal\": \"accuracy_max\", \"run_name\": \"MaxAbsScaler, LightGBM\", \"run_properties\": \"copy=True\", \"primary_metric\": 0.83474747, \"best_metric\": 0.83474747}, {\"run_id\": \"AutoML_310a2d92-67fc-46f9-bf09-209b6b134de8_1\", \"run_number\": 6, \"metric\": null, \"status\": \"Completed\", \"run_type\": \"azureml.scriptrun\", \"training_percent\": \"100\", \"start_time\": \"2021-01-17T19:21:58.533782Z\", \"end_time\": \"2021-01-17T19:22:47.188066Z\", \"created_time\": \"2021-01-17T19:21:46.327046Z\", \"created_time_dt\": \"2021-01-17T19:21:46.327046Z\", \"duration\": \"0:01:00\", \"iteration\": \"1\", \"goal\": \"accuracy_max\", \"run_name\": \"MaxAbsScaler, XGBoostClassifier\", \"run_properties\": \"copy=True\", \"primary_metric\": 0.83010101, \"best_metric\": 0.83474747}, {\"run_id\": \"AutoML_310a2d92-67fc-46f9-bf09-209b6b134de8_2\", \"run_number\": 7, \"metric\": null, \"status\": \"Completed\", \"run_type\": \"azureml.scriptrun\", \"training_percent\": \"100\", \"start_time\": \"2021-01-17T19:23:00.980231Z\", \"end_time\": \"2021-01-17T19:23:39.209921Z\", \"created_time\": \"2021-01-17T19:22:48.624005Z\", \"created_time_dt\": \"2021-01-17T19:22:48.624005Z\", \"duration\": \"0:00:50\", \"iteration\": \"2\", \"goal\": \"accuracy_max\", \"run_name\": \"MinMaxScaler, RandomForest\", \"run_properties\": \"copy=True, feature_range=(0, 1\", \"primary_metric\": 0.83030303, \"best_metric\": 0.83474747}, {\"run_id\": \"AutoML_310a2d92-67fc-46f9-bf09-209b6b134de8_3\", \"run_number\": 8, \"metric\": null, \"status\": \"Completed\", \"run_type\": \"azureml.scriptrun\", \"training_percent\": \"100\", \"start_time\": \"2021-01-17T19:23:53.515236Z\", \"end_time\": \"2021-01-17T19:24:33.408864Z\", \"created_time\": \"2021-01-17T19:23:41.455496Z\", \"created_time_dt\": \"2021-01-17T19:23:41.455496Z\", \"duration\": \"0:00:51\", \"iteration\": \"3\", \"goal\": \"accuracy_max\", \"run_name\": \"MinMaxScaler, RandomForest\", \"run_properties\": \"copy=True, feature_range=(0, 1\", \"primary_metric\": 0.87050505, \"best_metric\": 0.87050505}, {\"run_id\": \"AutoML_310a2d92-67fc-46f9-bf09-209b6b134de8_4\", \"run_number\": 9, \"metric\": null, \"status\": \"Completed\", \"run_type\": \"azureml.scriptrun\", \"training_percent\": \"100\", \"start_time\": \"2021-01-17T19:24:45.583743Z\", \"end_time\": \"2021-01-17T19:25:30.204453Z\", \"created_time\": \"2021-01-17T19:24:35.768464Z\", \"created_time_dt\": \"2021-01-17T19:24:35.768464Z\", \"duration\": \"0:00:54\", \"iteration\": \"4\", \"goal\": \"accuracy_max\", \"run_name\": \"MinMaxScaler, RandomForest\", \"run_properties\": \"copy=True, feature_range=(0, 1\", \"primary_metric\": 0.83484848, \"best_metric\": 0.87050505}, {\"run_id\": \"AutoML_310a2d92-67fc-46f9-bf09-209b6b134de8_5\", \"run_number\": 10, \"metric\": null, \"status\": \"Completed\", \"run_type\": \"azureml.scriptrun\", \"training_percent\": \"100\", \"start_time\": \"2021-01-17T19:25:43.265083Z\", \"end_time\": \"2021-01-17T19:26:42.854208Z\", \"created_time\": \"2021-01-17T19:25:32.326875Z\", \"created_time_dt\": \"2021-01-17T19:25:32.326875Z\", \"duration\": \"0:01:10\", \"iteration\": \"5\", \"goal\": \"accuracy_max\", \"run_name\": \"MinMaxScaler, SVM\", \"run_properties\": \"copy=True, feature_range=(0, 1\", \"primary_metric\": 0.75020202, \"best_metric\": 0.87050505}, {\"run_id\": \"AutoML_310a2d92-67fc-46f9-bf09-209b6b134de8_6\", \"run_number\": 11, \"metric\": null, \"status\": \"Completed\", \"run_type\": \"azureml.scriptrun\", \"training_percent\": \"100\", \"start_time\": \"2021-01-17T19:26:58.029479Z\", \"end_time\": \"2021-01-17T19:28:08.407809Z\", \"created_time\": \"2021-01-17T19:26:45.308599Z\", \"created_time_dt\": \"2021-01-17T19:26:45.308599Z\", \"duration\": \"0:01:23\", \"iteration\": \"6\", \"goal\": \"accuracy_max\", \"run_name\": \"MaxAbsScaler, GradientBoosting\", \"run_properties\": \"copy=True\", \"primary_metric\": 0.84353535, \"best_metric\": 0.87050505}, {\"run_id\": \"AutoML_310a2d92-67fc-46f9-bf09-209b6b134de8_7\", \"run_number\": 12, \"metric\": null, \"status\": \"Completed\", \"run_type\": \"azureml.scriptrun\", \"training_percent\": \"100\", \"start_time\": \"2021-01-17T19:28:22.217209Z\", \"end_time\": \"2021-01-17T19:29:09.995451Z\", \"created_time\": \"2021-01-17T19:28:10.651148Z\", \"created_time_dt\": \"2021-01-17T19:28:10.651148Z\", \"duration\": \"0:00:59\", \"iteration\": \"7\", \"goal\": \"accuracy_max\", \"run_name\": \"SparseNormalizer, LightGBM\", \"run_properties\": \"<azureml.automl.runtime.shared.model_wrappers.SparseNormalizer object at 0x7f03709a5a58\", \"primary_metric\": 0.75909091, \"best_metric\": 0.87050505}, {\"run_id\": \"AutoML_310a2d92-67fc-46f9-bf09-209b6b134de8_8\", \"run_number\": 13, \"metric\": null, \"status\": \"Completed\", \"run_type\": \"azureml.scriptrun\", \"training_percent\": \"100\", \"start_time\": \"2021-01-17T19:29:22.303271Z\", \"end_time\": \"2021-01-17T19:30:03.007575Z\", \"created_time\": \"2021-01-17T19:29:11.80953Z\", \"created_time_dt\": \"2021-01-17T19:29:11.80953Z\", \"duration\": \"0:00:51\", \"iteration\": \"8\", \"goal\": \"accuracy_max\", \"run_name\": \"SparseNormalizer, XGBoostClassifier\", \"run_properties\": \"<azureml.automl.runtime.shared.model_wrappers.SparseNormalizer object at 0x7f65f7fd9f60\", \"primary_metric\": 0.84818182, \"best_metric\": 0.87050505}, {\"run_id\": \"AutoML_310a2d92-67fc-46f9-bf09-209b6b134de8_9\", \"run_number\": 14, \"metric\": null, \"status\": \"Completed\", \"run_type\": \"azureml.scriptrun\", \"training_percent\": \"100\", \"start_time\": \"2021-01-17T19:30:15.732277Z\", \"end_time\": \"2021-01-17T19:30:52.080143Z\", \"created_time\": \"2021-01-17T19:30:04.801834Z\", \"created_time_dt\": \"2021-01-17T19:30:04.801834Z\", \"duration\": \"0:00:47\", \"iteration\": \"9\", \"goal\": \"accuracy_max\", \"run_name\": \"RobustScaler, ExtremeRandomTrees\", \"run_properties\": \"copy=True, quantile_range=[25, 75], with_centering=True,\\n             with_scaling=False\", \"primary_metric\": 0.87040404, \"best_metric\": 0.87050505}, {\"run_id\": \"AutoML_310a2d92-67fc-46f9-bf09-209b6b134de8_10\", \"run_number\": 15, \"metric\": null, \"status\": \"Completed\", \"run_type\": \"azureml.scriptrun\", \"training_percent\": \"100\", \"start_time\": \"2021-01-17T19:31:04.207057Z\", \"end_time\": \"2021-01-17T19:31:45.487641Z\", \"created_time\": \"2021-01-17T19:30:53.997053Z\", \"created_time_dt\": \"2021-01-17T19:30:53.997053Z\", \"duration\": \"0:00:51\", \"iteration\": \"10\", \"goal\": \"accuracy_max\", \"run_name\": \"StandardScalerWrapper, RandomForest\", \"run_properties\": \"<azureml.automl.runtime.shared.model_wrappers.StandardScalerWrapper object at 0x7f12b80fc278\", \"primary_metric\": 0.83919192, \"best_metric\": 0.87050505}, {\"run_id\": \"AutoML_310a2d92-67fc-46f9-bf09-209b6b134de8_11\", \"run_number\": 16, \"metric\": null, \"status\": \"Completed\", \"run_type\": \"azureml.scriptrun\", \"training_percent\": \"100\", \"start_time\": \"2021-01-17T19:31:59.215259Z\", \"end_time\": \"2021-01-17T19:33:16.587174Z\", \"created_time\": \"2021-01-17T19:31:47.342854Z\", \"created_time_dt\": \"2021-01-17T19:31:47.342854Z\", \"duration\": \"0:01:29\", \"iteration\": \"11\", \"goal\": \"accuracy_max\", \"run_name\": \"StandardScalerWrapper, LightGBM\", \"run_properties\": \"<azureml.automl.runtime.shared.model_wrappers.StandardScalerWrapper object at 0x7f2cfc966c50\", \"primary_metric\": 0.81686869, \"best_metric\": 0.87050505}, {\"run_id\": \"AutoML_310a2d92-67fc-46f9-bf09-209b6b134de8_12\", \"run_number\": 17, \"metric\": null, \"status\": \"Completed\", \"run_type\": \"azureml.scriptrun\", \"training_percent\": \"100\", \"start_time\": \"2021-01-17T19:33:31.725607Z\", \"end_time\": \"2021-01-17T19:34:09.004657Z\", \"created_time\": \"2021-01-17T19:33:19.452865Z\", \"created_time_dt\": \"2021-01-17T19:33:19.452865Z\", \"duration\": \"0:00:49\", \"iteration\": \"12\", \"goal\": \"accuracy_max\", \"run_name\": \"StandardScalerWrapper, LightGBM\", \"run_properties\": \"<azureml.automl.runtime.shared.model_wrappers.StandardScalerWrapper object at 0x7efc109db668\", \"primary_metric\": 0.83464646, \"best_metric\": 0.87050505}, {\"run_id\": \"AutoML_310a2d92-67fc-46f9-bf09-209b6b134de8_13\", \"run_number\": 18, \"metric\": null, \"status\": \"Completed\", \"run_type\": \"azureml.scriptrun\", \"training_percent\": \"100\", \"start_time\": \"2021-01-17T19:34:22.234374Z\", \"end_time\": \"2021-01-17T19:34:56.600048Z\", \"created_time\": \"2021-01-17T19:34:11.218056Z\", \"created_time_dt\": \"2021-01-17T19:34:11.218056Z\", \"duration\": \"0:00:45\", \"iteration\": \"13\", \"goal\": \"accuracy_max\", \"run_name\": \"StandardScalerWrapper, RandomForest\", \"run_properties\": \"<azureml.automl.runtime.shared.model_wrappers.StandardScalerWrapper object at 0x7f61cc4de9e8\", \"primary_metric\": 0.84787879, \"best_metric\": 0.87050505}, {\"run_id\": \"AutoML_310a2d92-67fc-46f9-bf09-209b6b134de8_14\", \"run_number\": 19, \"metric\": null, \"status\": \"Completed\", \"run_type\": \"azureml.scriptrun\", \"training_percent\": \"100\", \"start_time\": \"2021-01-17T19:35:09.621812Z\", \"end_time\": \"2021-01-17T19:35:50.154297Z\", \"created_time\": \"2021-01-17T19:34:58.80895Z\", \"created_time_dt\": \"2021-01-17T19:34:58.80895Z\", \"duration\": \"0:00:51\", \"iteration\": \"14\", \"goal\": \"accuracy_max\", \"run_name\": \"SparseNormalizer, XGBoostClassifier\", \"run_properties\": \"<azureml.automl.runtime.shared.model_wrappers.SparseNormalizer object at 0x7f58da8c2eb8\", \"primary_metric\": 0.86616162, \"best_metric\": 0.87050505}, {\"run_id\": \"AutoML_310a2d92-67fc-46f9-bf09-209b6b134de8_15\", \"run_number\": 20, \"metric\": null, \"status\": \"Completed\", \"run_type\": \"azureml.scriptrun\", \"training_percent\": \"100\", \"start_time\": \"2021-01-17T19:36:03.058174Z\", \"end_time\": \"2021-01-17T19:36:44.828852Z\", \"created_time\": \"2021-01-17T19:35:52.476811Z\", \"created_time_dt\": \"2021-01-17T19:35:52.476811Z\", \"duration\": \"0:00:52\", \"iteration\": \"15\", \"goal\": \"accuracy_max\", \"run_name\": \"MinMaxScaler, RandomForest\", \"run_properties\": \"copy=True, feature_range=(0, 1\", \"primary_metric\": 0.85232323, \"best_metric\": 0.87050505}, {\"run_id\": \"AutoML_310a2d92-67fc-46f9-bf09-209b6b134de8_16\", \"run_number\": 21, \"metric\": null, \"status\": \"Completed\", \"run_type\": \"azureml.scriptrun\", \"training_percent\": \"100\", \"start_time\": \"2021-01-17T19:37:00.452964Z\", \"end_time\": \"2021-01-17T19:37:46.547979Z\", \"created_time\": \"2021-01-17T19:36:47.173205Z\", \"created_time_dt\": \"2021-01-17T19:36:47.173205Z\", \"duration\": \"0:00:59\", \"iteration\": \"16\", \"goal\": \"accuracy_max\", \"run_name\": \"RobustScaler, LightGBM\", \"run_properties\": \"copy=True, quantile_range=[25, 75], with_centering=False,\\n             with_scaling=False\", \"primary_metric\": 0.85242424, \"best_metric\": 0.87050505}, {\"run_id\": \"AutoML_310a2d92-67fc-46f9-bf09-209b6b134de8_17\", \"run_number\": 22, \"metric\": null, \"status\": \"Completed\", \"run_type\": \"azureml.scriptrun\", \"training_percent\": \"100\", \"start_time\": \"2021-01-17T19:38:01.587869Z\", \"end_time\": \"2021-01-17T19:38:47.239048Z\", \"created_time\": \"2021-01-17T19:37:48.951842Z\", \"created_time_dt\": \"2021-01-17T19:37:48.951842Z\", \"duration\": \"0:00:58\", \"iteration\": \"17\", \"goal\": \"accuracy_max\", \"run_name\": \"MaxAbsScaler, LightGBM\", \"run_properties\": \"copy=True\", \"primary_metric\": 0.83464646, \"best_metric\": 0.87050505}, {\"run_id\": \"AutoML_310a2d92-67fc-46f9-bf09-209b6b134de8_18\", \"run_number\": 23, \"metric\": null, \"status\": \"Completed\", \"run_type\": \"azureml.scriptrun\", \"training_percent\": \"100\", \"start_time\": \"2021-01-17T19:39:07.496276Z\", \"end_time\": \"2021-01-17T19:39:52.251634Z\", \"created_time\": \"2021-01-17T19:38:49.631325Z\", \"created_time_dt\": \"2021-01-17T19:38:49.631325Z\", \"duration\": \"0:01:02\", \"iteration\": \"18\", \"goal\": \"accuracy_max\", \"run_name\": \"SparseNormalizer, XGBoostClassifier\", \"run_properties\": \"<azureml.automl.runtime.shared.model_wrappers.SparseNormalizer object at 0x7fe98670fe48\", \"primary_metric\": 0.83464646, \"best_metric\": 0.87050505}, {\"run_id\": \"AutoML_310a2d92-67fc-46f9-bf09-209b6b134de8_19\", \"run_number\": 24, \"metric\": null, \"status\": \"Completed\", \"run_type\": \"azureml.scriptrun\", \"training_percent\": \"100\", \"start_time\": \"2021-01-17T19:40:07.967605Z\", \"end_time\": \"2021-01-17T19:40:53.90871Z\", \"created_time\": \"2021-01-17T19:39:54.529671Z\", \"created_time_dt\": \"2021-01-17T19:39:54.529671Z\", \"duration\": \"0:00:59\", \"iteration\": \"19\", \"goal\": \"accuracy_max\", \"run_name\": \"StandardScalerWrapper, XGBoostClassifier\", \"run_properties\": \"<azureml.automl.runtime.shared.model_wrappers.StandardScalerWrapper object at 0x7f57919b1978\", \"primary_metric\": 0.83454545, \"best_metric\": 0.87050505}, {\"run_id\": \"AutoML_310a2d92-67fc-46f9-bf09-209b6b134de8_20\", \"run_number\": 25, \"metric\": null, \"status\": \"Completed\", \"run_type\": \"azureml.scriptrun\", \"training_percent\": \"100\", \"start_time\": \"2021-01-17T19:41:07.746029Z\", \"end_time\": \"2021-01-17T19:42:04.872565Z\", \"created_time\": \"2021-01-17T19:40:56.442025Z\", \"created_time_dt\": \"2021-01-17T19:40:56.442025Z\", \"duration\": \"0:01:08\", \"iteration\": \"20\", \"goal\": \"accuracy_max\", \"run_name\": \"RobustScaler, KNN\", \"run_properties\": \"copy=True, quantile_range=[10, 90], with_centering=True,\\n             with_scaling=False\", \"primary_metric\": 0.65666667, \"best_metric\": 0.87050505}, {\"run_id\": \"AutoML_310a2d92-67fc-46f9-bf09-209b6b134de8_21\", \"run_number\": 26, \"metric\": null, \"status\": \"Completed\", \"run_type\": \"azureml.scriptrun\", \"training_percent\": \"100\", \"start_time\": \"2021-01-17T19:42:18.680342Z\", \"end_time\": \"2021-01-17T19:43:03.271481Z\", \"created_time\": \"2021-01-17T19:42:06.845369Z\", \"created_time_dt\": \"2021-01-17T19:42:06.845369Z\", \"duration\": \"0:00:56\", \"iteration\": \"21\", \"goal\": \"accuracy_max\", \"run_name\": \"MaxAbsScaler, ExtremeRandomTrees\", \"run_properties\": \"copy=True\", \"primary_metric\": 0.83020202, \"best_metric\": 0.87050505}, {\"run_id\": \"AutoML_310a2d92-67fc-46f9-bf09-209b6b134de8_22\", \"run_number\": 27, \"metric\": null, \"status\": \"Completed\", \"run_type\": \"azureml.scriptrun\", \"training_percent\": \"100\", \"start_time\": \"2021-01-17T19:43:17.309431Z\", \"end_time\": \"2021-01-17T19:44:00.023028Z\", \"created_time\": \"2021-01-17T19:43:05.128791Z\", \"created_time_dt\": \"2021-01-17T19:43:05.128791Z\", \"duration\": \"0:00:54\", \"iteration\": \"22\", \"goal\": \"accuracy_max\", \"run_name\": \"StandardScalerWrapper, LightGBM\", \"run_properties\": \"<azureml.automl.runtime.shared.model_wrappers.StandardScalerWrapper object at 0x7fa45c09d438\", \"primary_metric\": 0.83020202, \"best_metric\": 0.87050505}, {\"run_id\": \"AutoML_310a2d92-67fc-46f9-bf09-209b6b134de8_23\", \"run_number\": 28, \"metric\": null, \"status\": \"Completed\", \"run_type\": \"azureml.scriptrun\", \"training_percent\": \"100\", \"start_time\": \"2021-01-17T19:44:13.128433Z\", \"end_time\": \"2021-01-17T19:44:55.688273Z\", \"created_time\": \"2021-01-17T19:44:02.286816Z\", \"created_time_dt\": \"2021-01-17T19:44:02.286816Z\", \"duration\": \"0:00:53\", \"iteration\": \"23\", \"goal\": \"accuracy_max\", \"run_name\": \"SparseNormalizer, XGBoostClassifier\", \"run_properties\": \"<azureml.automl.runtime.shared.model_wrappers.SparseNormalizer object at 0x7efc470ee6a0\", \"primary_metric\": 0.85707071, \"best_metric\": 0.87050505}, {\"run_id\": \"AutoML_310a2d92-67fc-46f9-bf09-209b6b134de8_24\", \"run_number\": 29, \"metric\": null, \"status\": \"Completed\", \"run_type\": \"azureml.scriptrun\", \"training_percent\": \"100\", \"start_time\": \"2021-01-17T19:45:09.355267Z\", \"end_time\": \"2021-01-17T19:45:48.29098Z\", \"created_time\": \"2021-01-17T19:44:58.088812Z\", \"created_time_dt\": \"2021-01-17T19:44:58.088812Z\", \"duration\": \"0:00:50\", \"iteration\": \"24\", \"goal\": \"accuracy_max\", \"run_name\": \"StandardScalerWrapper, XGBoostClassifier\", \"run_properties\": \"<azureml.automl.runtime.shared.model_wrappers.StandardScalerWrapper object at 0x7f3ae52c9668\", \"primary_metric\": 0.8389899, \"best_metric\": 0.87050505}, {\"run_id\": \"AutoML_310a2d92-67fc-46f9-bf09-209b6b134de8_25\", \"run_number\": 30, \"metric\": null, \"status\": \"Completed\", \"run_type\": \"azureml.scriptrun\", \"training_percent\": \"100\", \"start_time\": \"2021-01-17T19:46:00.928149Z\", \"end_time\": \"2021-01-17T19:46:39.92603Z\", \"created_time\": \"2021-01-17T19:45:51.210686Z\", \"created_time_dt\": \"2021-01-17T19:45:51.210686Z\", \"duration\": \"0:00:48\", \"iteration\": \"25\", \"goal\": \"accuracy_max\", \"run_name\": \"SparseNormalizer, RandomForest\", \"run_properties\": \"<azureml.automl.runtime.shared.model_wrappers.SparseNormalizer object at 0x7f1711bdc780\", \"primary_metric\": 0.83919192, \"best_metric\": 0.87050505}, {\"run_id\": \"AutoML_310a2d92-67fc-46f9-bf09-209b6b134de8_26\", \"run_number\": 31, \"metric\": null, \"status\": \"Completed\", \"run_type\": \"azureml.scriptrun\", \"training_percent\": \"100\", \"start_time\": \"2021-01-17T19:46:53.612544Z\", \"end_time\": \"2021-01-17T19:47:35.588683Z\", \"created_time\": \"2021-01-17T19:46:41.709653Z\", \"created_time_dt\": \"2021-01-17T19:46:41.709653Z\", \"duration\": \"0:00:53\", \"iteration\": \"26\", \"goal\": \"accuracy_max\", \"run_name\": \"MinMaxScaler, LightGBM\", \"run_properties\": \"copy=True, feature_range=(0, 1\", \"primary_metric\": 0.83010101, \"best_metric\": 0.87050505}, {\"run_id\": \"AutoML_310a2d92-67fc-46f9-bf09-209b6b134de8_27\", \"run_number\": 32, \"metric\": null, \"status\": \"Completed\", \"run_type\": \"azureml.scriptrun\", \"training_percent\": \"100\", \"start_time\": \"2021-01-17T19:47:48.564693Z\", \"end_time\": \"2021-01-17T19:48:33.123798Z\", \"created_time\": \"2021-01-17T19:47:38.544581Z\", \"created_time_dt\": \"2021-01-17T19:47:38.544581Z\", \"duration\": \"0:00:54\", \"iteration\": \"27\", \"goal\": \"accuracy_max\", \"run_name\": \"StandardScalerWrapper, LightGBM\", \"run_properties\": \"<azureml.automl.runtime.shared.model_wrappers.StandardScalerWrapper object at 0x7f21780bb390\", \"primary_metric\": 0.82575758, \"best_metric\": 0.87050505}, {\"run_id\": \"AutoML_310a2d92-67fc-46f9-bf09-209b6b134de8_28\", \"run_number\": 33, \"metric\": null, \"status\": \"Completed\", \"run_type\": \"azureml.scriptrun\", \"training_percent\": \"100\", \"start_time\": \"2021-01-17T19:48:45.954938Z\", \"end_time\": \"2021-01-17T19:49:28.646788Z\", \"created_time\": \"2021-01-17T19:48:34.722929Z\", \"created_time_dt\": \"2021-01-17T19:48:34.722929Z\", \"duration\": \"0:00:53\", \"iteration\": \"28\", \"goal\": \"accuracy_max\", \"run_name\": \"StandardScalerWrapper, ExtremeRandomTrees\", \"run_properties\": \"<azureml.automl.runtime.shared.model_wrappers.StandardScalerWrapper object at 0x7f57bbda7d30\", \"primary_metric\": 0.84808081, \"best_metric\": 0.87050505}, {\"run_id\": \"AutoML_310a2d92-67fc-46f9-bf09-209b6b134de8_29\", \"run_number\": 34, \"metric\": null, \"status\": \"Completed\", \"run_type\": \"azureml.scriptrun\", \"training_percent\": \"100\", \"start_time\": \"2021-01-17T19:49:58.687679Z\", \"end_time\": \"2021-01-17T19:50:43.48638Z\", \"created_time\": \"2021-01-17T19:49:30.495649Z\", \"created_time_dt\": \"2021-01-17T19:49:30.495649Z\", \"duration\": \"0:01:12\", \"iteration\": \"29\", \"goal\": \"accuracy_max\", \"run_name\": \"StandardScalerWrapper, LightGBM\", \"run_properties\": \"<azureml.automl.runtime.shared.model_wrappers.StandardScalerWrapper object at 0x7f7cc67ea240\", \"primary_metric\": 0.83454545, \"best_metric\": 0.87050505}, {\"run_id\": \"AutoML_310a2d92-67fc-46f9-bf09-209b6b134de8_30\", \"run_number\": 35, \"metric\": null, \"status\": \"Completed\", \"run_type\": \"azureml.scriptrun\", \"training_percent\": \"100\", \"start_time\": \"2021-01-17T19:50:56.332212Z\", \"end_time\": \"2021-01-17T19:52:13.458713Z\", \"created_time\": \"2021-01-17T19:50:44.383968Z\", \"created_time_dt\": \"2021-01-17T19:50:44.383968Z\", \"duration\": \"0:01:29\", \"iteration\": \"30\", \"goal\": \"accuracy_max\", \"run_name\": \"VotingEnsemble\", \"run_properties\": \"classification_labels=None,\\n                              estimators=[('3',\\n                                           Pipeline(memory=None,\\n                                                    steps=[('minmaxscaler',\\n                                                            MinMaxScaler(copy=True,\\n                                                                         feature_range=(0,\\n                                                                                        1\", \"primary_metric\": 0.88828283, \"best_metric\": 0.88828283}, {\"run_id\": \"AutoML_310a2d92-67fc-46f9-bf09-209b6b134de8_31\", \"run_number\": 36, \"metric\": null, \"status\": \"Completed\", \"run_type\": \"azureml.scriptrun\", \"training_percent\": \"100\", \"start_time\": \"2021-01-17T19:52:27.354044Z\", \"end_time\": \"2021-01-17T19:53:41.778407Z\", \"created_time\": \"2021-01-17T19:52:14.173468Z\", \"created_time_dt\": \"2021-01-17T19:52:14.173468Z\", \"duration\": \"0:01:27\", \"iteration\": \"31\", \"goal\": \"accuracy_max\", \"run_name\": \"StackEnsemble\", \"run_properties\": \"base_learners=[('3',\\n                                        Pipeline(memory=None,\\n                                                 steps=[('minmaxscaler',\\n                                                         MinMaxScaler(copy=True,\\n                                                                      feature_range=(0,\\n                                                                                     1\", \"primary_metric\": 0.87929293, \"best_metric\": 0.88828283}], \"children_metrics\": {\"categories\": [0], \"series\": {\"f1_score_weighted\": [{\"categories\": [\"0\", \"1\", \"2\", \"3\", \"4\", \"5\", \"6\", \"7\", \"8\", \"9\", \"10\", \"11\", \"12\", \"13\", \"14\", \"15\", \"16\", \"17\", \"18\", \"19\", \"20\", \"21\", \"22\", \"23\", \"24\", \"25\", \"26\", \"27\", \"28\", \"29\", \"30\", \"31\"], \"mode\": \"markers\", \"name\": \"f1_score_weighted\", \"stepped\": false, \"type\": \"scatter\", \"data\": [0.8335436758943086, 0.829802471117889, 0.8279829689274741, 0.8655353975128772, 0.8319371954379544, 0.7157524789693255, 0.8424242066418163, 0.7168866904453564, 0.843015298515075, 0.8637388835967119, 0.8313275205417658, 0.803216127662753, 0.8297085443878569, 0.8432491622332241, 0.8615783753902642, 0.8494784137847831, 0.8505069508304292, 0.8256537145684579, 0.8225462348519782, 0.8309399569189312, 0.5927963595955102, 0.8327516133276264, 0.8194578493360947, 0.850981979304063, 0.8381671549539345, 0.8260786631226313, 0.8292728776674576, 0.8145574382040636, 0.8379734564402497, 0.8327300807231243, 0.8851297236182294, 0.8773081209509763]}, {\"categories\": [\"0\", \"1\", \"2\", \"3\", \"4\", \"5\", \"6\", \"7\", \"8\", \"9\", \"10\", \"11\", \"12\", \"13\", \"14\", \"15\", \"16\", \"17\", \"18\", \"19\", \"20\", \"21\", \"22\", \"23\", \"24\", \"25\", \"26\", \"27\", \"28\", \"29\", \"30\", \"31\"], \"mode\": \"lines\", \"name\": \"f1_score_weighted_max\", \"stepped\": true, \"type\": \"scatter\", \"data\": [0.8335436758943086, 0.8335436758943086, 0.8335436758943086, 0.8655353975128772, 0.8655353975128772, 0.8655353975128772, 0.8655353975128772, 0.8655353975128772, 0.8655353975128772, 0.8655353975128772, 0.8655353975128772, 0.8655353975128772, 0.8655353975128772, 0.8655353975128772, 0.8655353975128772, 0.8655353975128772, 0.8655353975128772, 0.8655353975128772, 0.8655353975128772, 0.8655353975128772, 0.8655353975128772, 0.8655353975128772, 0.8655353975128772, 0.8655353975128772, 0.8655353975128772, 0.8655353975128772, 0.8655353975128772, 0.8655353975128772, 0.8655353975128772, 0.8655353975128772, 0.8851297236182294, 0.8851297236182294]}], \"f1_score_macro\": [{\"categories\": [\"0\", \"1\", \"2\", \"3\", \"4\", \"5\", \"6\", \"7\", \"8\", \"9\", \"10\", \"11\", \"12\", \"13\", \"14\", \"15\", \"16\", \"17\", \"18\", \"19\", \"20\", \"21\", \"22\", \"23\", \"24\", \"25\", \"26\", \"27\", \"28\", \"29\", \"30\", \"31\"], \"mode\": \"markers\", \"name\": \"f1_score_macro\", \"stepped\": false, \"type\": \"scatter\", \"data\": [0.8019589493152754, 0.7977983618411308, 0.7933725819469395, 0.834750163762885, 0.7996078031419497, 0.644821259786332, 0.8110339332306875, 0.639191714777629, 0.8075996307389449, 0.8300382895485132, 0.7898874002553382, 0.7580313283888537, 0.7912941664386435, 0.8051432503227629, 0.8330859534900965, 0.8137008207594338, 0.817999640942363, 0.7848133498683405, 0.7766333291952663, 0.7927666656298976, 0.47302137786039233, 0.8026565659917306, 0.7785132819478331, 0.8152325008759156, 0.8050545758446805, 0.7787108857492477, 0.7933985884777615, 0.771335357692883, 0.7971148733198069, 0.7936987573833113, 0.8578488387692241, 0.8495256431761005]}, {\"categories\": [\"0\", \"1\", \"2\", \"3\", \"4\", \"5\", \"6\", \"7\", \"8\", \"9\", \"10\", \"11\", \"12\", \"13\", \"14\", \"15\", \"16\", \"17\", \"18\", \"19\", \"20\", \"21\", \"22\", \"23\", \"24\", \"25\", \"26\", \"27\", \"28\", \"29\", \"30\", \"31\"], \"mode\": \"lines\", \"name\": \"f1_score_macro_max\", \"stepped\": true, \"type\": \"scatter\", \"data\": [0.8019589493152754, 0.8019589493152754, 0.8019589493152754, 0.834750163762885, 0.834750163762885, 0.834750163762885, 0.834750163762885, 0.834750163762885, 0.834750163762885, 0.834750163762885, 0.834750163762885, 0.834750163762885, 0.834750163762885, 0.834750163762885, 0.834750163762885, 0.834750163762885, 0.834750163762885, 0.834750163762885, 0.834750163762885, 0.834750163762885, 0.834750163762885, 0.834750163762885, 0.834750163762885, 0.834750163762885, 0.834750163762885, 0.834750163762885, 0.834750163762885, 0.834750163762885, 0.834750163762885, 0.834750163762885, 0.8578488387692241, 0.8578488387692241]}], \"norm_macro_recall\": [{\"categories\": [\"0\", \"1\", \"2\", \"3\", \"4\", \"5\", \"6\", \"7\", \"8\", \"9\", \"10\", \"11\", \"12\", \"13\", \"14\", \"15\", \"16\", \"17\", \"18\", \"19\", \"20\", \"21\", \"22\", \"23\", \"24\", \"25\", \"26\", \"27\", \"28\", \"29\", \"30\", \"31\"], \"mode\": \"markers\", \"name\": \"norm_macro_recall\", \"stepped\": false, \"type\": \"scatter\", \"data\": [0.5997682709447416, 0.5897147950089127, 0.5822307104660046, 0.6333537051184109, 0.5879449961802903, 0.2813598166539343, 0.610916730328495, 0.2742704354469061, 0.5862923351158644, 0.6130710466004583, 0.5442169595110772, 0.4864043799337917, 0.5560402342755284, 0.5813063407181054, 0.6367405143875733, 0.6008301502419149, 0.617275273745862, 0.5350318309141839, 0.5085892538833715, 0.5619225872167048, 0.04288515406162467, 0.6190399796282149, 0.5220066208301501, 0.595956200662083, 0.6032161955691367, 0.5080544945250828, 0.5807206518971225, 0.5099337916984975, 0.5474968169085817, 0.5737687802393684, 0.68122230710466, 0.6789279348102877]}, {\"categories\": [\"0\", \"1\", \"2\", \"3\", \"4\", \"5\", \"6\", \"7\", \"8\", \"9\", \"10\", \"11\", \"12\", \"13\", \"14\", \"15\", \"16\", \"17\", \"18\", \"19\", \"20\", \"21\", \"22\", \"23\", \"24\", \"25\", \"26\", \"27\", \"28\", \"29\", \"30\", \"31\"], \"mode\": \"lines\", \"name\": \"norm_macro_recall_max\", \"stepped\": true, \"type\": \"scatter\", \"data\": [0.5997682709447416, 0.5997682709447416, 0.5997682709447416, 0.6333537051184109, 0.6333537051184109, 0.6333537051184109, 0.6333537051184109, 0.6333537051184109, 0.6333537051184109, 0.6333537051184109, 0.6333537051184109, 0.6333537051184109, 0.6333537051184109, 0.6333537051184109, 0.6367405143875733, 0.6367405143875733, 0.6367405143875733, 0.6367405143875733, 0.6367405143875733, 0.6367405143875733, 0.6367405143875733, 0.6367405143875733, 0.6367405143875733, 0.6367405143875733, 0.6367405143875733, 0.6367405143875733, 0.6367405143875733, 0.6367405143875733, 0.6367405143875733, 0.6367405143875733, 0.68122230710466, 0.68122230710466]}], \"f1_score_micro\": [{\"categories\": [\"0\", \"1\", \"2\", \"3\", \"4\", \"5\", \"6\", \"7\", \"8\", \"9\", \"10\", \"11\", \"12\", \"13\", \"14\", \"15\", \"16\", \"17\", \"18\", \"19\", \"20\", \"21\", \"22\", \"23\", \"24\", \"25\", \"26\", \"27\", \"28\", \"29\", \"30\", \"31\"], \"mode\": \"markers\", \"name\": \"f1_score_micro\", \"stepped\": false, \"type\": \"scatter\", \"data\": [0.8347474747474747, 0.8301010101010101, 0.8303030303030303, 0.8705050505050504, 0.8348484848484847, 0.7502020202020201, 0.8435353535353537, 0.759090909090909, 0.8481818181818183, 0.8704040404040404, 0.8391919191919192, 0.816868686868687, 0.8346464646464646, 0.8478787878787879, 0.8661616161616161, 0.8523232323232323, 0.8524242424242425, 0.8346464646464646, 0.8346464646464646, 0.8345454545454544, 0.6566666666666666, 0.8302020202020202, 0.8302020202020202, 0.8570707070707071, 0.838989898989899, 0.8391919191919192, 0.83010101010101, 0.8257575757575758, 0.8480808080808082, 0.8345454545454546, 0.8882828282828281, 0.8792929292929292]}, {\"categories\": [\"0\", \"1\", \"2\", \"3\", \"4\", \"5\", \"6\", \"7\", \"8\", \"9\", \"10\", \"11\", \"12\", \"13\", \"14\", \"15\", \"16\", \"17\", \"18\", \"19\", \"20\", \"21\", \"22\", \"23\", \"24\", \"25\", \"26\", \"27\", \"28\", \"29\", \"30\", \"31\"], \"mode\": \"lines\", \"name\": \"f1_score_micro_max\", \"stepped\": true, \"type\": \"scatter\", \"data\": [0.8347474747474747, 0.8347474747474747, 0.8347474747474747, 0.8705050505050504, 0.8705050505050504, 0.8705050505050504, 0.8705050505050504, 0.8705050505050504, 0.8705050505050504, 0.8705050505050504, 0.8705050505050504, 0.8705050505050504, 0.8705050505050504, 0.8705050505050504, 0.8705050505050504, 0.8705050505050504, 0.8705050505050504, 0.8705050505050504, 0.8705050505050504, 0.8705050505050504, 0.8705050505050504, 0.8705050505050504, 0.8705050505050504, 0.8705050505050504, 0.8705050505050504, 0.8705050505050504, 0.8705050505050504, 0.8705050505050504, 0.8705050505050504, 0.8705050505050504, 0.8882828282828281, 0.8882828282828281]}], \"matthews_correlation\": [{\"categories\": [\"0\", \"1\", \"2\", \"3\", \"4\", \"5\", \"6\", \"7\", \"8\", \"9\", \"10\", \"11\", \"12\", \"13\", \"14\", \"15\", \"16\", \"17\", \"18\", \"19\", \"20\", \"21\", \"22\", \"23\", \"24\", \"25\", \"26\", \"27\", \"28\", \"29\", \"30\", \"31\"], \"mode\": \"markers\", \"name\": \"matthews_correlation\", \"stepped\": false, \"type\": \"scatter\", \"data\": [0.6085785128697768, 0.5988981844275643, 0.59851757711969, 0.6844717704482547, 0.6104004721023133, 0.3704624156725407, 0.6300975086771307, 0.38847992796745967, 0.6329258250855248, 0.6880428661140565, 0.6048049315660515, 0.56922960421513, 0.5978211879613423, 0.6321619187071555, 0.6829452290122844, 0.6427673710910222, 0.6420796131887504, 0.6079887149113663, 0.5904594989533861, 0.5996820443114057, 0.012424345839036885, 0.6124803350691554, 0.5995312548616095, 0.6498001074989144, 0.6155450013818801, 0.5993340634170685, 0.5924954487928893, 0.5890038422703998, 0.6309339499422435, 0.5935445212447623, 0.728711764198747, 0.7066605913910303]}, {\"categories\": [\"0\", \"1\", \"2\", \"3\", \"4\", \"5\", \"6\", \"7\", \"8\", \"9\", \"10\", \"11\", \"12\", \"13\", \"14\", \"15\", \"16\", \"17\", \"18\", \"19\", \"20\", \"21\", \"22\", \"23\", \"24\", \"25\", \"26\", \"27\", \"28\", \"29\", \"30\", \"31\"], \"mode\": \"lines\", \"name\": \"matthews_correlation_max\", \"stepped\": true, \"type\": \"scatter\", \"data\": [0.6085785128697768, 0.6085785128697768, 0.6085785128697768, 0.6844717704482547, 0.6844717704482547, 0.6844717704482547, 0.6844717704482547, 0.6844717704482547, 0.6844717704482547, 0.6880428661140565, 0.6880428661140565, 0.6880428661140565, 0.6880428661140565, 0.6880428661140565, 0.6880428661140565, 0.6880428661140565, 0.6880428661140565, 0.6880428661140565, 0.6880428661140565, 0.6880428661140565, 0.6880428661140565, 0.6880428661140565, 0.6880428661140565, 0.6880428661140565, 0.6880428661140565, 0.6880428661140565, 0.6880428661140565, 0.6880428661140565, 0.6880428661140565, 0.6880428661140565, 0.728711764198747, 0.728711764198747]}], \"average_precision_score_weighted\": [{\"categories\": [\"0\", \"1\", \"2\", \"3\", \"4\", \"5\", \"6\", \"7\", \"8\", \"9\", \"10\", \"11\", \"12\", \"13\", \"14\", \"15\", \"16\", \"17\", \"18\", \"19\", \"20\", \"21\", \"22\", \"23\", \"24\", \"25\", \"26\", \"27\", \"28\", \"29\", \"30\", \"31\"], \"mode\": \"markers\", \"name\": \"average_precision_score_weighted\", \"stepped\": false, \"type\": \"scatter\", \"data\": [0.9115510503165034, 0.9122144311303849, 0.9253567570973509, 0.9177364584244152, 0.9052792280670419, 0.8053111002927871, 0.9347885334544586, 0.8713516128416849, 0.9075700519277394, 0.9233626374585189, 0.9154264367724064, 0.9212812869029985, 0.9277701617958265, 0.9106621615823945, 0.9081280351007754, 0.9281445203035146, 0.9319592887496843, 0.9065841633998843, 0.8883682930123848, 0.9312617801918386, 0.5900992653295787, 0.9187969565793619, 0.9318873490851864, 0.9082598395689914, 0.9166826173091819, 0.8096695388508064, 0.9070446258590824, 0.9297174637747421, 0.9132013987813977, 0.9009643265543279, 0.943185676242712, 0.9254994441830464]}, {\"categories\": [\"0\", \"1\", \"2\", \"3\", \"4\", \"5\", \"6\", \"7\", \"8\", \"9\", \"10\", \"11\", \"12\", \"13\", \"14\", \"15\", \"16\", \"17\", \"18\", \"19\", \"20\", \"21\", \"22\", \"23\", \"24\", \"25\", \"26\", \"27\", \"28\", \"29\", \"30\", \"31\"], \"mode\": \"lines\", \"name\": \"average_precision_score_weighted_max\", \"stepped\": true, \"type\": \"scatter\", \"data\": [0.9115510503165034, 0.9122144311303849, 0.9253567570973509, 0.9253567570973509, 0.9253567570973509, 0.9253567570973509, 0.9347885334544586, 0.9347885334544586, 0.9347885334544586, 0.9347885334544586, 0.9347885334544586, 0.9347885334544586, 0.9347885334544586, 0.9347885334544586, 0.9347885334544586, 0.9347885334544586, 0.9347885334544586, 0.9347885334544586, 0.9347885334544586, 0.9347885334544586, 0.9347885334544586, 0.9347885334544586, 0.9347885334544586, 0.9347885334544586, 0.9347885334544586, 0.9347885334544586, 0.9347885334544586, 0.9347885334544586, 0.9347885334544586, 0.9347885334544586, 0.943185676242712, 0.943185676242712]}], \"AUC_micro\": [{\"categories\": [\"0\", \"1\", \"2\", \"3\", \"4\", \"5\", \"6\", \"7\", \"8\", \"9\", \"10\", \"11\", \"12\", \"13\", \"14\", \"15\", \"16\", \"17\", \"18\", \"19\", \"20\", \"21\", \"22\", \"23\", \"24\", \"25\", \"26\", \"27\", \"28\", \"29\", \"30\", \"31\"], \"mode\": \"markers\", \"name\": \"AUC_micro\", \"stepped\": false, \"type\": \"scatter\", \"data\": [0.9107785940210181, 0.9141173349658198, 0.92171431486583, 0.9252993572084481, 0.910494796449342, 0.8174566370778493, 0.9289468931741659, 0.8603684828078768, 0.9108841444750535, 0.9132420671360066, 0.9196322824201613, 0.8923548617488011, 0.918970462197735, 0.9144977043158861, 0.9162901234567901, 0.9272008978675647, 0.9288129272523211, 0.8979345474951537, 0.907169676563616, 0.9235272931333538, 0.6615288746046322, 0.9027423222120191, 0.9199524028160392, 0.9146190694827059, 0.9166943169064382, 0.8521346801346802, 0.9113609835731047, 0.9104436792164066, 0.9059822467095193, 0.9064851545760637, 0.9390549943883277, 0.9281045301499846]}, {\"categories\": [\"0\", \"1\", \"2\", \"3\", \"4\", \"5\", \"6\", \"7\", \"8\", \"9\", \"10\", \"11\", \"12\", \"13\", \"14\", \"15\", \"16\", \"17\", \"18\", \"19\", \"20\", \"21\", \"22\", \"23\", \"24\", \"25\", \"26\", \"27\", \"28\", \"29\", \"30\", \"31\"], \"mode\": \"lines\", \"name\": \"AUC_micro_max\", \"stepped\": true, \"type\": \"scatter\", \"data\": [0.9107785940210181, 0.9141173349658198, 0.92171431486583, 0.9252993572084481, 0.9252993572084481, 0.9252993572084481, 0.9289468931741659, 0.9289468931741659, 0.9289468931741659, 0.9289468931741659, 0.9289468931741659, 0.9289468931741659, 0.9289468931741659, 0.9289468931741659, 0.9289468931741659, 0.9289468931741659, 0.9289468931741659, 0.9289468931741659, 0.9289468931741659, 0.9289468931741659, 0.9289468931741659, 0.9289468931741659, 0.9289468931741659, 0.9289468931741659, 0.9289468931741659, 0.9289468931741659, 0.9289468931741659, 0.9289468931741659, 0.9289468931741659, 0.9289468931741659, 0.9390549943883277, 0.9390549943883277]}], \"recall_score_macro\": [{\"categories\": [\"0\", \"1\", \"2\", \"3\", \"4\", \"5\", \"6\", \"7\", \"8\", \"9\", \"10\", \"11\", \"12\", \"13\", \"14\", \"15\", \"16\", \"17\", \"18\", \"19\", \"20\", \"21\", \"22\", \"23\", \"24\", \"25\", \"26\", \"27\", \"28\", \"29\", \"30\", \"31\"], \"mode\": \"markers\", \"name\": \"recall_score_macro\", \"stepped\": false, \"type\": \"scatter\", \"data\": [0.7998841354723708, 0.7948573975044564, 0.7911153552330024, 0.8166768525592054, 0.7939724980901453, 0.6406799083269672, 0.8054583651642476, 0.637135217723453, 0.7931461675579322, 0.8065355233002292, 0.7721084797555386, 0.7432021899668959, 0.7780201171377643, 0.7906531703590527, 0.8183702571937866, 0.8004150751209576, 0.808637636872931, 0.767515915457092, 0.7542946269416858, 0.7809612936083525, 0.5077871148459383, 0.8095199898141076, 0.7610033104150752, 0.7979781003310416, 0.8016080977845684, 0.7540272472625414, 0.7903603259485614, 0.7549668958492488, 0.7737484084542908, 0.7868843901196841, 0.8406111535523302, 0.8394639674051438]}, {\"categories\": [\"0\", \"1\", \"2\", \"3\", \"4\", \"5\", \"6\", \"7\", \"8\", \"9\", \"10\", \"11\", \"12\", \"13\", \"14\", \"15\", \"16\", \"17\", \"18\", \"19\", \"20\", \"21\", \"22\", \"23\", \"24\", \"25\", \"26\", \"27\", \"28\", \"29\", \"30\", \"31\"], \"mode\": \"lines\", \"name\": \"recall_score_macro_max\", \"stepped\": true, \"type\": \"scatter\", \"data\": [0.7998841354723708, 0.7998841354723708, 0.7998841354723708, 0.8166768525592054, 0.8166768525592054, 0.8166768525592054, 0.8166768525592054, 0.8166768525592054, 0.8166768525592054, 0.8166768525592054, 0.8166768525592054, 0.8166768525592054, 0.8166768525592054, 0.8166768525592054, 0.8183702571937866, 0.8183702571937866, 0.8183702571937866, 0.8183702571937866, 0.8183702571937866, 0.8183702571937866, 0.8183702571937866, 0.8183702571937866, 0.8183702571937866, 0.8183702571937866, 0.8183702571937866, 0.8183702571937866, 0.8183702571937866, 0.8183702571937866, 0.8183702571937866, 0.8183702571937866, 0.8406111535523302, 0.8406111535523302]}], \"recall_score_micro\": [{\"categories\": [\"0\", \"1\", \"2\", \"3\", \"4\", \"5\", \"6\", \"7\", \"8\", \"9\", \"10\", \"11\", \"12\", \"13\", \"14\", \"15\", \"16\", \"17\", \"18\", \"19\", \"20\", \"21\", \"22\", \"23\", \"24\", \"25\", \"26\", \"27\", \"28\", \"29\", \"30\", \"31\"], \"mode\": \"markers\", \"name\": \"recall_score_micro\", \"stepped\": false, \"type\": \"scatter\", \"data\": [0.8347474747474747, 0.83010101010101, 0.8303030303030303, 0.8705050505050504, 0.8348484848484847, 0.7502020202020201, 0.8435353535353535, 0.759090909090909, 0.8481818181818183, 0.8704040404040404, 0.8391919191919192, 0.816868686868687, 0.8346464646464646, 0.8478787878787879, 0.8661616161616161, 0.8523232323232323, 0.8524242424242423, 0.8346464646464646, 0.8346464646464646, 0.8345454545454544, 0.6566666666666666, 0.8302020202020202, 0.8302020202020202, 0.8570707070707071, 0.838989898989899, 0.8391919191919192, 0.83010101010101, 0.8257575757575758, 0.8480808080808082, 0.8345454545454546, 0.8882828282828281, 0.8792929292929292]}, {\"categories\": [\"0\", \"1\", \"2\", \"3\", \"4\", \"5\", \"6\", \"7\", \"8\", \"9\", \"10\", \"11\", \"12\", \"13\", \"14\", \"15\", \"16\", \"17\", \"18\", \"19\", \"20\", \"21\", \"22\", \"23\", \"24\", \"25\", \"26\", \"27\", \"28\", \"29\", \"30\", \"31\"], \"mode\": \"lines\", \"name\": \"recall_score_micro_max\", \"stepped\": true, \"type\": \"scatter\", \"data\": [0.8347474747474747, 0.8347474747474747, 0.8347474747474747, 0.8705050505050504, 0.8705050505050504, 0.8705050505050504, 0.8705050505050504, 0.8705050505050504, 0.8705050505050504, 0.8705050505050504, 0.8705050505050504, 0.8705050505050504, 0.8705050505050504, 0.8705050505050504, 0.8705050505050504, 0.8705050505050504, 0.8705050505050504, 0.8705050505050504, 0.8705050505050504, 0.8705050505050504, 0.8705050505050504, 0.8705050505050504, 0.8705050505050504, 0.8705050505050504, 0.8705050505050504, 0.8705050505050504, 0.8705050505050504, 0.8705050505050504, 0.8705050505050504, 0.8705050505050504, 0.8882828282828281, 0.8882828282828281]}], \"average_precision_score_macro\": [{\"categories\": [\"0\", \"1\", \"2\", \"3\", \"4\", \"5\", \"6\", \"7\", \"8\", \"9\", \"10\", \"11\", \"12\", \"13\", \"14\", \"15\", \"16\", \"17\", \"18\", \"19\", \"20\", \"21\", \"22\", \"23\", \"24\", \"25\", \"26\", \"27\", \"28\", \"29\", \"30\", \"31\"], \"mode\": \"markers\", \"name\": \"average_precision_score_macro\", \"stepped\": false, \"type\": \"scatter\", \"data\": [0.8894057129775088, 0.8856496302113536, 0.8994039161759397, 0.8998844223783437, 0.8825076899741955, 0.7609391515457808, 0.9157158947685271, 0.8395909451221962, 0.8820832848524225, 0.8951032733560194, 0.889460821152668, 0.8990071001841471, 0.9032589955912705, 0.8783500456107234, 0.8869434902537889, 0.9067628354061824, 0.9118157828181376, 0.8838266960843925, 0.8604833150467046, 0.9085749129178888, 0.523056688926429, 0.8935252483796351, 0.9109748283830001, 0.8872967842493207, 0.8919966137128462, 0.7726645886060297, 0.8804040032922934, 0.9089457413226285, 0.8896452242552624, 0.87095987466077, 0.9265853637308444, 0.9066359889621471]}, {\"categories\": [\"0\", \"1\", \"2\", \"3\", \"4\", \"5\", \"6\", \"7\", \"8\", \"9\", \"10\", \"11\", \"12\", \"13\", \"14\", \"15\", \"16\", \"17\", \"18\", \"19\", \"20\", \"21\", \"22\", \"23\", \"24\", \"25\", \"26\", \"27\", \"28\", \"29\", \"30\", \"31\"], \"mode\": \"lines\", \"name\": \"average_precision_score_macro_max\", \"stepped\": true, \"type\": \"scatter\", \"data\": [0.8894057129775088, 0.8894057129775088, 0.8994039161759397, 0.8998844223783437, 0.8998844223783437, 0.8998844223783437, 0.9157158947685271, 0.9157158947685271, 0.9157158947685271, 0.9157158947685271, 0.9157158947685271, 0.9157158947685271, 0.9157158947685271, 0.9157158947685271, 0.9157158947685271, 0.9157158947685271, 0.9157158947685271, 0.9157158947685271, 0.9157158947685271, 0.9157158947685271, 0.9157158947685271, 0.9157158947685271, 0.9157158947685271, 0.9157158947685271, 0.9157158947685271, 0.9157158947685271, 0.9157158947685271, 0.9157158947685271, 0.9157158947685271, 0.9157158947685271, 0.9265853637308444, 0.9265853637308444]}], \"balanced_accuracy\": [{\"categories\": [\"0\", \"1\", \"2\", \"3\", \"4\", \"5\", \"6\", \"7\", \"8\", \"9\", \"10\", \"11\", \"12\", \"13\", \"14\", \"15\", \"16\", \"17\", \"18\", \"19\", \"20\", \"21\", \"22\", \"23\", \"24\", \"25\", \"26\", \"27\", \"28\", \"29\", \"30\", \"31\"], \"mode\": \"markers\", \"name\": \"balanced_accuracy\", \"stepped\": false, \"type\": \"scatter\", \"data\": [0.7998841354723708, 0.7948573975044564, 0.7911153552330024, 0.8166768525592054, 0.7939724980901453, 0.6406799083269672, 0.8054583651642476, 0.637135217723453, 0.7931461675579322, 0.8065355233002292, 0.7721084797555386, 0.7432021899668959, 0.7780201171377643, 0.7906531703590527, 0.8183702571937866, 0.8004150751209576, 0.808637636872931, 0.767515915457092, 0.7542946269416858, 0.7809612936083525, 0.5077871148459383, 0.8095199898141076, 0.7610033104150752, 0.7979781003310416, 0.8016080977845684, 0.7540272472625414, 0.7903603259485614, 0.7549668958492488, 0.7737484084542908, 0.7868843901196841, 0.8406111535523302, 0.8394639674051438]}, {\"categories\": [\"0\", \"1\", \"2\", \"3\", \"4\", \"5\", \"6\", \"7\", \"8\", \"9\", \"10\", \"11\", \"12\", \"13\", \"14\", \"15\", \"16\", \"17\", \"18\", \"19\", \"20\", \"21\", \"22\", \"23\", \"24\", \"25\", \"26\", \"27\", \"28\", \"29\", \"30\", \"31\"], \"mode\": \"lines\", \"name\": \"balanced_accuracy_max\", \"stepped\": true, \"type\": \"scatter\", \"data\": [0.7998841354723708, 0.7998841354723708, 0.7998841354723708, 0.8166768525592054, 0.8166768525592054, 0.8166768525592054, 0.8166768525592054, 0.8166768525592054, 0.8166768525592054, 0.8166768525592054, 0.8166768525592054, 0.8166768525592054, 0.8166768525592054, 0.8166768525592054, 0.8183702571937866, 0.8183702571937866, 0.8183702571937866, 0.8183702571937866, 0.8183702571937866, 0.8183702571937866, 0.8183702571937866, 0.8183702571937866, 0.8183702571937866, 0.8183702571937866, 0.8183702571937866, 0.8183702571937866, 0.8183702571937866, 0.8183702571937866, 0.8183702571937866, 0.8183702571937866, 0.8406111535523302, 0.8406111535523302]}], \"weighted_accuracy\": [{\"categories\": [\"0\", \"1\", \"2\", \"3\", \"4\", \"5\", \"6\", \"7\", \"8\", \"9\", \"10\", \"11\", \"12\", \"13\", \"14\", \"15\", \"16\", \"17\", \"18\", \"19\", \"20\", \"21\", \"22\", \"23\", \"24\", \"25\", \"26\", \"27\", \"28\", \"29\", \"30\", \"31\"], \"mode\": \"markers\", \"name\": \"weighted_accuracy\", \"stepped\": false, \"type\": \"scatter\", \"data\": [0.8591105594414078, 0.8543206441486972, 0.8590585045472487, 0.9069149821882142, 0.8641907875505341, 0.8259483514624077, 0.8704635898778278, 0.8443709504446157, 0.8846231645794408, 0.9144228265804368, 0.8855733475919783, 0.870755685855384, 0.8739964438547627, 0.8880244938683168, 0.8997858562035148, 0.8881388150860863, 0.8821709247110139, 0.8829284103039706, 0.8891293837855663, 0.8717511170432157, 0.7590521842098554, 0.8433473003644331, 0.8798656926839662, 0.8971115149988258, 0.8652690405509322, 0.8959892946678579, 0.8577192530835577, 0.8770930577099973, 0.8991094385163351, 0.8659360297933002, 0.9203022289346909, 0.9065690307019159]}, {\"categories\": [\"0\", \"1\", \"2\", \"3\", \"4\", \"5\", \"6\", \"7\", \"8\", \"9\", \"10\", \"11\", \"12\", \"13\", \"14\", \"15\", \"16\", \"17\", \"18\", \"19\", \"20\", \"21\", \"22\", \"23\", \"24\", \"25\", \"26\", \"27\", \"28\", \"29\", \"30\", \"31\"], \"mode\": \"lines\", \"name\": \"weighted_accuracy_max\", \"stepped\": true, \"type\": \"scatter\", \"data\": [0.8591105594414078, 0.8591105594414078, 0.8591105594414078, 0.9069149821882142, 0.9069149821882142, 0.9069149821882142, 0.9069149821882142, 0.9069149821882142, 0.9069149821882142, 0.9144228265804368, 0.9144228265804368, 0.9144228265804368, 0.9144228265804368, 0.9144228265804368, 0.9144228265804368, 0.9144228265804368, 0.9144228265804368, 0.9144228265804368, 0.9144228265804368, 0.9144228265804368, 0.9144228265804368, 0.9144228265804368, 0.9144228265804368, 0.9144228265804368, 0.9144228265804368, 0.9144228265804368, 0.9144228265804368, 0.9144228265804368, 0.9144228265804368, 0.9144228265804368, 0.9203022289346909, 0.9203022289346909]}], \"recall_score_weighted\": [{\"categories\": [\"0\", \"1\", \"2\", \"3\", \"4\", \"5\", \"6\", \"7\", \"8\", \"9\", \"10\", \"11\", \"12\", \"13\", \"14\", \"15\", \"16\", \"17\", \"18\", \"19\", \"20\", \"21\", \"22\", \"23\", \"24\", \"25\", \"26\", \"27\", \"28\", \"29\", \"30\", \"31\"], \"mode\": \"markers\", \"name\": \"recall_score_weighted\", \"stepped\": false, \"type\": \"scatter\", \"data\": [0.8347474747474747, 0.83010101010101, 0.8303030303030303, 0.8705050505050504, 0.8348484848484847, 0.7502020202020201, 0.8435353535353535, 0.759090909090909, 0.8481818181818183, 0.8704040404040404, 0.8391919191919192, 0.816868686868687, 0.8346464646464646, 0.8478787878787879, 0.8661616161616161, 0.8523232323232323, 0.8524242424242423, 0.8346464646464646, 0.8346464646464646, 0.8345454545454544, 0.6566666666666666, 0.8302020202020202, 0.8302020202020202, 0.8570707070707071, 0.838989898989899, 0.8391919191919192, 0.83010101010101, 0.8257575757575758, 0.8480808080808082, 0.8345454545454546, 0.8882828282828281, 0.8792929292929292]}, {\"categories\": [\"0\", \"1\", \"2\", \"3\", \"4\", \"5\", \"6\", \"7\", \"8\", \"9\", \"10\", \"11\", \"12\", \"13\", \"14\", \"15\", \"16\", \"17\", \"18\", \"19\", \"20\", \"21\", \"22\", \"23\", \"24\", \"25\", \"26\", \"27\", \"28\", \"29\", \"30\", \"31\"], \"mode\": \"lines\", \"name\": \"recall_score_weighted_max\", \"stepped\": true, \"type\": \"scatter\", \"data\": [0.8347474747474747, 0.8347474747474747, 0.8347474747474747, 0.8705050505050504, 0.8705050505050504, 0.8705050505050504, 0.8705050505050504, 0.8705050505050504, 0.8705050505050504, 0.8705050505050504, 0.8705050505050504, 0.8705050505050504, 0.8705050505050504, 0.8705050505050504, 0.8705050505050504, 0.8705050505050504, 0.8705050505050504, 0.8705050505050504, 0.8705050505050504, 0.8705050505050504, 0.8705050505050504, 0.8705050505050504, 0.8705050505050504, 0.8705050505050504, 0.8705050505050504, 0.8705050505050504, 0.8705050505050504, 0.8705050505050504, 0.8705050505050504, 0.8705050505050504, 0.8882828282828281, 0.8882828282828281]}], \"precision_score_micro\": [{\"categories\": [\"0\", \"1\", \"2\", \"3\", \"4\", \"5\", \"6\", \"7\", \"8\", \"9\", \"10\", \"11\", \"12\", \"13\", \"14\", \"15\", \"16\", \"17\", \"18\", \"19\", \"20\", \"21\", \"22\", \"23\", \"24\", \"25\", \"26\", \"27\", \"28\", \"29\", \"30\", \"31\"], \"mode\": \"markers\", \"name\": \"precision_score_micro\", \"stepped\": false, \"type\": \"scatter\", \"data\": [0.8347474747474747, 0.83010101010101, 0.8303030303030303, 0.8705050505050504, 0.8348484848484847, 0.7502020202020201, 0.8435353535353535, 0.759090909090909, 0.8481818181818183, 0.8704040404040404, 0.8391919191919192, 0.816868686868687, 0.8346464646464646, 0.8478787878787879, 0.8661616161616161, 0.8523232323232323, 0.8524242424242423, 0.8346464646464646, 0.8346464646464646, 0.8345454545454544, 0.6566666666666666, 0.8302020202020202, 0.8302020202020202, 0.8570707070707071, 0.838989898989899, 0.8391919191919192, 0.83010101010101, 0.8257575757575758, 0.8480808080808082, 0.8345454545454546, 0.8882828282828281, 0.8792929292929292]}, {\"categories\": [\"0\", \"1\", \"2\", \"3\", \"4\", \"5\", \"6\", \"7\", \"8\", \"9\", \"10\", \"11\", \"12\", \"13\", \"14\", \"15\", \"16\", \"17\", \"18\", \"19\", \"20\", \"21\", \"22\", \"23\", \"24\", \"25\", \"26\", \"27\", \"28\", \"29\", \"30\", \"31\"], \"mode\": \"lines\", \"name\": \"precision_score_micro_max\", \"stepped\": true, \"type\": \"scatter\", \"data\": [0.8347474747474747, 0.8347474747474747, 0.8347474747474747, 0.8705050505050504, 0.8705050505050504, 0.8705050505050504, 0.8705050505050504, 0.8705050505050504, 0.8705050505050504, 0.8705050505050504, 0.8705050505050504, 0.8705050505050504, 0.8705050505050504, 0.8705050505050504, 0.8705050505050504, 0.8705050505050504, 0.8705050505050504, 0.8705050505050504, 0.8705050505050504, 0.8705050505050504, 0.8705050505050504, 0.8705050505050504, 0.8705050505050504, 0.8705050505050504, 0.8705050505050504, 0.8705050505050504, 0.8705050505050504, 0.8705050505050504, 0.8705050505050504, 0.8705050505050504, 0.8882828282828281, 0.8882828282828281]}], \"AUC_weighted\": [{\"categories\": [\"0\", \"1\", \"2\", \"3\", \"4\", \"5\", \"6\", \"7\", \"8\", \"9\", \"10\", \"11\", \"12\", \"13\", \"14\", \"15\", \"16\", \"17\", \"18\", \"19\", \"20\", \"21\", \"22\", \"23\", \"24\", \"25\", \"26\", \"27\", \"28\", \"29\", \"30\", \"31\"], \"mode\": \"markers\", \"name\": \"AUC_weighted\", \"stepped\": false, \"type\": \"scatter\", \"data\": [0.890215601392072, 0.8973908836261778, 0.9141127238774297, 0.8990069886540475, 0.8898915202444615, 0.7805729564553094, 0.9226541040658688, 0.8612908921144216, 0.8886666666666668, 0.907054918937272, 0.9111423478482303, 0.9076723537900007, 0.9201358119005179, 0.9004519140989728, 0.8955750785162548, 0.9136265172735761, 0.9177536711654358, 0.8965584415584417, 0.8751105169340464, 0.9210462609286137, 0.4841549953314659, 0.8943823104999578, 0.9154419828537474, 0.8865614973262034, 0.907949919361684, 0.795606824548001, 0.8897585943468297, 0.9179244546303369, 0.8872129700364993, 0.8824396910279264, 0.9307043544690604, 0.9101497326203208]}, {\"categories\": [\"0\", \"1\", \"2\", \"3\", \"4\", \"5\", \"6\", \"7\", \"8\", \"9\", \"10\", \"11\", \"12\", \"13\", \"14\", \"15\", \"16\", \"17\", \"18\", \"19\", \"20\", \"21\", \"22\", \"23\", \"24\", \"25\", \"26\", \"27\", \"28\", \"29\", \"30\", \"31\"], \"mode\": \"lines\", \"name\": \"AUC_weighted_max\", \"stepped\": true, \"type\": \"scatter\", \"data\": [0.890215601392072, 0.8973908836261778, 0.9141127238774297, 0.9141127238774297, 0.9141127238774297, 0.9141127238774297, 0.9226541040658688, 0.9226541040658688, 0.9226541040658688, 0.9226541040658688, 0.9226541040658688, 0.9226541040658688, 0.9226541040658688, 0.9226541040658688, 0.9226541040658688, 0.9226541040658688, 0.9226541040658688, 0.9226541040658688, 0.9226541040658688, 0.9226541040658688, 0.9226541040658688, 0.9226541040658688, 0.9226541040658688, 0.9226541040658688, 0.9226541040658688, 0.9226541040658688, 0.9226541040658688, 0.9226541040658688, 0.9226541040658688, 0.9226541040658688, 0.9307043544690604, 0.9307043544690604]}], \"log_loss\": [{\"categories\": [\"0\", \"1\", \"2\", \"3\", \"4\", \"5\", \"6\", \"7\", \"8\", \"9\", \"10\", \"11\", \"12\", \"13\", \"14\", \"15\", \"16\", \"17\", \"18\", \"19\", \"20\", \"21\", \"22\", \"23\", \"24\", \"25\", \"26\", \"27\", \"28\", \"29\", \"30\", \"31\"], \"mode\": \"markers\", \"name\": \"log_loss\", \"stepped\": false, \"type\": \"scatter\", \"data\": [0.45849672220591664, 0.4173490000249826, 0.36251682484220116, 0.3827566838452364, 0.39100754543597105, 0.5401612457098783, 0.3478559978369512, 0.48693299178602656, 0.38109563975656396, 0.3890989019014532, 0.39222947370796846, 0.4559347727508053, 0.3822447142027037, 0.3843837713476462, 0.36654635921165146, 0.3684148779904249, 0.3381483478519178, 0.4360840289475164, 0.46839687609782626, 0.3678836877554993, 0.7105896740213365, 0.4598628750829047, 0.4098356355560365, 0.38500246757916223, 0.3829194763317062, 0.46069171358699174, 0.3781631807866697, 0.420491666104707, 0.41374125860400923, 0.39911123036867946, 0.35207689442161655, 0.3466560148018298]}, {\"categories\": [\"0\", \"1\", \"2\", \"3\", \"4\", \"5\", \"6\", \"7\", \"8\", \"9\", \"10\", \"11\", \"12\", \"13\", \"14\", \"15\", \"16\", \"17\", \"18\", \"19\", \"20\", \"21\", \"22\", \"23\", \"24\", \"25\", \"26\", \"27\", \"28\", \"29\", \"30\", \"31\"], \"mode\": \"lines\", \"name\": \"log_loss_min\", \"stepped\": true, \"type\": \"scatter\", \"data\": [0.45849672220591664, 0.4173490000249826, 0.36251682484220116, 0.36251682484220116, 0.36251682484220116, 0.36251682484220116, 0.3478559978369512, 0.3478559978369512, 0.3478559978369512, 0.3478559978369512, 0.3478559978369512, 0.3478559978369512, 0.3478559978369512, 0.3478559978369512, 0.3478559978369512, 0.3478559978369512, 0.3381483478519178, 0.3381483478519178, 0.3381483478519178, 0.3381483478519178, 0.3381483478519178, 0.3381483478519178, 0.3381483478519178, 0.3381483478519178, 0.3381483478519178, 0.3381483478519178, 0.3381483478519178, 0.3381483478519178, 0.3381483478519178, 0.3381483478519178, 0.3381483478519178, 0.3381483478519178]}], \"precision_score_weighted\": [{\"categories\": [\"0\", \"1\", \"2\", \"3\", \"4\", \"5\", \"6\", \"7\", \"8\", \"9\", \"10\", \"11\", \"12\", \"13\", \"14\", \"15\", \"16\", \"17\", \"18\", \"19\", \"20\", \"21\", \"22\", \"23\", \"24\", \"25\", \"26\", \"27\", \"28\", \"29\", \"30\", \"31\"], \"mode\": \"markers\", \"name\": \"precision_score_weighted\", \"stepped\": false, \"type\": \"scatter\", \"data\": [0.8364118283922233, 0.8323193952876935, 0.8355407455945091, 0.8736857308362683, 0.8382762577601287, 0.7550618318360254, 0.8480099573863015, 0.7771045046492201, 0.8534229395340507, 0.8818402976452513, 0.8455907445381129, 0.8393560386542843, 0.8382616800263859, 0.8580621355621355, 0.8711827407042719, 0.8601180945725538, 0.8539276215620302, 0.8520444990444991, 0.8432066175255031, 0.8396427989075048, 0.5815462044730337, 0.8415334814796778, 0.8474737656316604, 0.8619814724653434, 0.8421464491303201, 0.8487568669147617, 0.8335556850556852, 0.8464341167323625, 0.8605952415317741, 0.8358703073703074, 0.8928814460393408, 0.8819561663175086]}, {\"categories\": [\"0\", \"1\", \"2\", \"3\", \"4\", \"5\", \"6\", \"7\", \"8\", \"9\", \"10\", \"11\", \"12\", \"13\", \"14\", \"15\", \"16\", \"17\", \"18\", \"19\", \"20\", \"21\", \"22\", \"23\", \"24\", \"25\", \"26\", \"27\", \"28\", \"29\", \"30\", \"31\"], \"mode\": \"lines\", \"name\": \"precision_score_weighted_max\", \"stepped\": true, \"type\": \"scatter\", \"data\": [0.8364118283922233, 0.8364118283922233, 0.8364118283922233, 0.8736857308362683, 0.8736857308362683, 0.8736857308362683, 0.8736857308362683, 0.8736857308362683, 0.8736857308362683, 0.8818402976452513, 0.8818402976452513, 0.8818402976452513, 0.8818402976452513, 0.8818402976452513, 0.8818402976452513, 0.8818402976452513, 0.8818402976452513, 0.8818402976452513, 0.8818402976452513, 0.8818402976452513, 0.8818402976452513, 0.8818402976452513, 0.8818402976452513, 0.8818402976452513, 0.8818402976452513, 0.8818402976452513, 0.8818402976452513, 0.8818402976452513, 0.8818402976452513, 0.8818402976452513, 0.8928814460393408, 0.8928814460393408]}], \"AUC_macro\": [{\"categories\": [\"0\", \"1\", \"2\", \"3\", \"4\", \"5\", \"6\", \"7\", \"8\", \"9\", \"10\", \"11\", \"12\", \"13\", \"14\", \"15\", \"16\", \"17\", \"18\", \"19\", \"20\", \"21\", \"22\", \"23\", \"24\", \"25\", \"26\", \"27\", \"28\", \"29\", \"30\", \"31\"], \"mode\": \"markers\", \"name\": \"AUC_macro\", \"stepped\": false, \"type\": \"scatter\", \"data\": [0.890215601392072, 0.8973908836261778, 0.9141127238774297, 0.8990810627281217, 0.8898915202444615, 0.7805729564553093, 0.9226541040658688, 0.8612908921144214, 0.8886666666666667, 0.907054918937272, 0.9111423478482301, 0.9076723537900009, 0.9201358119005179, 0.9004519140989728, 0.8955750785162551, 0.9136265172735761, 0.9177536711654358, 0.8965584415584417, 0.8751105169340464, 0.921046260928614, 0.4841549953314659, 0.8943823104999578, 0.9154419828537474, 0.8865614973262034, 0.907949919361684, 0.795606824548001, 0.8897585943468297, 0.9179244546303369, 0.8872129700364993, 0.8824396910279264, 0.9307043544690604, 0.9101497326203208]}, {\"categories\": [\"0\", \"1\", \"2\", \"3\", \"4\", \"5\", \"6\", \"7\", \"8\", \"9\", \"10\", \"11\", \"12\", \"13\", \"14\", \"15\", \"16\", \"17\", \"18\", \"19\", \"20\", \"21\", \"22\", \"23\", \"24\", \"25\", \"26\", \"27\", \"28\", \"29\", \"30\", \"31\"], \"mode\": \"lines\", \"name\": \"AUC_macro_max\", \"stepped\": true, \"type\": \"scatter\", \"data\": [0.890215601392072, 0.8973908836261778, 0.9141127238774297, 0.9141127238774297, 0.9141127238774297, 0.9141127238774297, 0.9226541040658688, 0.9226541040658688, 0.9226541040658688, 0.9226541040658688, 0.9226541040658688, 0.9226541040658688, 0.9226541040658688, 0.9226541040658688, 0.9226541040658688, 0.9226541040658688, 0.9226541040658688, 0.9226541040658688, 0.9226541040658688, 0.9226541040658688, 0.9226541040658688, 0.9226541040658688, 0.9226541040658688, 0.9226541040658688, 0.9226541040658688, 0.9226541040658688, 0.9226541040658688, 0.9226541040658688, 0.9226541040658688, 0.9226541040658688, 0.9307043544690604, 0.9307043544690604]}], \"accuracy\": [{\"categories\": [\"0\", \"1\", \"2\", \"3\", \"4\", \"5\", \"6\", \"7\", \"8\", \"9\", \"10\", \"11\", \"12\", \"13\", \"14\", \"15\", \"16\", \"17\", \"18\", \"19\", \"20\", \"21\", \"22\", \"23\", \"24\", \"25\", \"26\", \"27\", \"28\", \"29\", \"30\", \"31\"], \"mode\": \"markers\", \"name\": \"accuracy\", \"stepped\": false, \"type\": \"scatter\", \"data\": [0.8347474747474747, 0.83010101010101, 0.8303030303030303, 0.8705050505050504, 0.8348484848484847, 0.7502020202020201, 0.8435353535353535, 0.759090909090909, 0.8481818181818183, 0.8704040404040404, 0.8391919191919192, 0.816868686868687, 0.8346464646464646, 0.8478787878787879, 0.8661616161616161, 0.8523232323232323, 0.8524242424242423, 0.8346464646464646, 0.8346464646464646, 0.8345454545454544, 0.6566666666666666, 0.8302020202020202, 0.8302020202020202, 0.8570707070707071, 0.838989898989899, 0.8391919191919192, 0.83010101010101, 0.8257575757575758, 0.8480808080808082, 0.8345454545454546, 0.8882828282828281, 0.8792929292929292]}, {\"categories\": [\"0\", \"1\", \"2\", \"3\", \"4\", \"5\", \"6\", \"7\", \"8\", \"9\", \"10\", \"11\", \"12\", \"13\", \"14\", \"15\", \"16\", \"17\", \"18\", \"19\", \"20\", \"21\", \"22\", \"23\", \"24\", \"25\", \"26\", \"27\", \"28\", \"29\", \"30\", \"31\"], \"mode\": \"lines\", \"name\": \"accuracy_max\", \"stepped\": true, \"type\": \"scatter\", \"data\": [0.8347474747474747, 0.8347474747474747, 0.8347474747474747, 0.8705050505050504, 0.8705050505050504, 0.8705050505050504, 0.8705050505050504, 0.8705050505050504, 0.8705050505050504, 0.8705050505050504, 0.8705050505050504, 0.8705050505050504, 0.8705050505050504, 0.8705050505050504, 0.8705050505050504, 0.8705050505050504, 0.8705050505050504, 0.8705050505050504, 0.8705050505050504, 0.8705050505050504, 0.8705050505050504, 0.8705050505050504, 0.8705050505050504, 0.8705050505050504, 0.8705050505050504, 0.8705050505050504, 0.8705050505050504, 0.8705050505050504, 0.8705050505050504, 0.8705050505050504, 0.8882828282828281, 0.8882828282828281]}], \"precision_score_macro\": [{\"categories\": [\"0\", \"1\", \"2\", \"3\", \"4\", \"5\", \"6\", \"7\", \"8\", \"9\", \"10\", \"11\", \"12\", \"13\", \"14\", \"15\", \"16\", \"17\", \"18\", \"19\", \"20\", \"21\", \"22\", \"23\", \"24\", \"25\", \"26\", \"27\", \"28\", \"29\", \"30\", \"31\"], \"mode\": \"markers\", \"name\": \"precision_score_macro\", \"stepped\": false, \"type\": \"scatter\", \"data\": [0.8092304687340839, 0.8044291276020974, 0.8089630329348072, 0.8706963645673322, 0.8183392662626534, 0.7532411674347159, 0.8258246950182432, 0.7810582506923971, 0.8437491062491063, 0.8870807462661178, 0.837205826509232, 0.8363115507852351, 0.8220884590369885, 0.8451648107898109, 0.8681962116830538, 0.844826136050045, 0.8342656895076249, 0.8473373698373698, 0.8443191559193883, 0.8209083891069187, 0.500874877155365, 0.8035319615316411, 0.8469368291736712, 0.85592695229792, 0.814536233848378, 0.8558079530119004, 0.8027178458796106, 0.8429814349551192, 0.8652504895345453, 0.8077685377685377, 0.8910289426775495, 0.8684133081216441]}, {\"categories\": [\"0\", \"1\", \"2\", \"3\", \"4\", \"5\", \"6\", \"7\", \"8\", \"9\", \"10\", \"11\", \"12\", \"13\", \"14\", \"15\", \"16\", \"17\", \"18\", \"19\", \"20\", \"21\", \"22\", \"23\", \"24\", \"25\", \"26\", \"27\", \"28\", \"29\", \"30\", \"31\"], \"mode\": \"lines\", \"name\": \"precision_score_macro_max\", \"stepped\": true, \"type\": \"scatter\", \"data\": [0.8092304687340839, 0.8092304687340839, 0.8092304687340839, 0.8706963645673322, 0.8706963645673322, 0.8706963645673322, 0.8706963645673322, 0.8706963645673322, 0.8706963645673322, 0.8870807462661178, 0.8870807462661178, 0.8870807462661178, 0.8870807462661178, 0.8870807462661178, 0.8870807462661178, 0.8870807462661178, 0.8870807462661178, 0.8870807462661178, 0.8870807462661178, 0.8870807462661178, 0.8870807462661178, 0.8870807462661178, 0.8870807462661178, 0.8870807462661178, 0.8870807462661178, 0.8870807462661178, 0.8870807462661178, 0.8870807462661178, 0.8870807462661178, 0.8870807462661178, 0.8910289426775495, 0.8910289426775495]}], \"average_precision_score_micro\": [{\"categories\": [\"0\", \"1\", \"2\", \"3\", \"4\", \"5\", \"6\", \"7\", \"8\", \"9\", \"10\", \"11\", \"12\", \"13\", \"14\", \"15\", \"16\", \"17\", \"18\", \"19\", \"20\", \"21\", \"22\", \"23\", \"24\", \"25\", \"26\", \"27\", \"28\", \"29\", \"30\", \"31\"], \"mode\": \"markers\", \"name\": \"average_precision_score_micro\", \"stepped\": false, \"type\": \"scatter\", \"data\": [0.9125943896818152, 0.9185875865131787, 0.9269285589378597, 0.9195544129987475, 0.9092595864900501, 0.8116387315943305, 0.9322065404688118, 0.8564728153760891, 0.9098452857273692, 0.9146589254696004, 0.9154387396029277, 0.8958645704318459, 0.9233486034105329, 0.9122664313613168, 0.9110724953840329, 0.9287115559253831, 0.9319225604629336, 0.8934269413863541, 0.8969824229266365, 0.9278447491126652, 0.6399743519157606, 0.9050729759441009, 0.9227958274116205, 0.90929379595098, 0.9207051731365615, 0.8168770100056651, 0.9147601273132434, 0.9144724818563041, 0.9036028839890371, 0.909467395315988, 0.9414004141459289, 0.9290331398669014]}, {\"categories\": [\"0\", \"1\", \"2\", \"3\", \"4\", \"5\", \"6\", \"7\", \"8\", \"9\", \"10\", \"11\", \"12\", \"13\", \"14\", \"15\", \"16\", \"17\", \"18\", \"19\", \"20\", \"21\", \"22\", \"23\", \"24\", \"25\", \"26\", \"27\", \"28\", \"29\", \"30\", \"31\"], \"mode\": \"lines\", \"name\": \"average_precision_score_micro_max\", \"stepped\": true, \"type\": \"scatter\", \"data\": [0.9125943896818152, 0.9185875865131787, 0.9269285589378597, 0.9269285589378597, 0.9269285589378597, 0.9269285589378597, 0.9322065404688118, 0.9322065404688118, 0.9322065404688118, 0.9322065404688118, 0.9322065404688118, 0.9322065404688118, 0.9322065404688118, 0.9322065404688118, 0.9322065404688118, 0.9322065404688118, 0.9322065404688118, 0.9322065404688118, 0.9322065404688118, 0.9322065404688118, 0.9322065404688118, 0.9322065404688118, 0.9322065404688118, 0.9322065404688118, 0.9322065404688118, 0.9322065404688118, 0.9322065404688118, 0.9322065404688118, 0.9322065404688118, 0.9322065404688118, 0.9414004141459289, 0.9414004141459289]}]}, \"metricName\": null, \"primaryMetricName\": \"accuracy\", \"showLegend\": false}, \"run_metrics\": [{\"name\": \"experiment_status\", \"run_id\": \"AutoML_310a2d92-67fc-46f9-bf09-209b6b134de8\", \"categories\": [0, 1, 2, 3, 4, 5, 6, 7, 8, 9, 10, 11, 12, 13], \"series\": [{\"data\": [\"DatasetEvaluation\", \"FeaturesGeneration\", \"DatasetFeaturization\", \"DatasetFeaturizationCompleted\", \"DatasetCrossValidationSplit\", \"ModelSelection\", \"BestRunExplainModel\", \"ModelExplanationDataSetSetup\", \"PickSurrogateModel\", \"EngineeredFeatureExplanations\", \"EngineeredFeatureExplanations\", \"RawFeaturesExplanations\", \"RawFeaturesExplanations\", \"BestRunExplainModel\"]}]}, {\"name\": \"experiment_status_description\", \"run_id\": \"AutoML_310a2d92-67fc-46f9-bf09-209b6b134de8\", \"categories\": [0, 1, 2, 3, 4, 5, 6, 7, 8, 9, 10, 11, 12, 13], \"series\": [{\"data\": [\"Gathering dataset statistics.\", \"Generating features for the dataset.\", \"Beginning to fit featurizers and featurize the dataset.\", \"Completed fit featurizers and featurizing the dataset.\", \"Generating individually featurized CV splits.\", \"Beginning model selection.\", \"Best run model explanations started\", \"Model explanations data setup completed\", \"Choosing LightGBM as the surrogate model for explanations\", \"Computation of engineered features started\", \"Computation of engineered features completed\", \"Computation of raw features started\", \"Computation of raw features completed\", \"Best run model explanations completed\"]}]}, {\"name\": \"AUC_macro\", \"run_id\": \"AutoML_310a2d92-67fc-46f9-bf09-209b6b134de8\", \"categories\": [0], \"series\": [{\"data\": [0.9307043544690604]}]}, {\"name\": \"recall_score_micro\", \"run_id\": \"AutoML_310a2d92-67fc-46f9-bf09-209b6b134de8\", \"categories\": [0], \"series\": [{\"data\": [0.8882828282828281]}]}, {\"name\": \"recall_score_macro\", \"run_id\": \"AutoML_310a2d92-67fc-46f9-bf09-209b6b134de8\", \"categories\": [0], \"series\": [{\"data\": [0.8406111535523302]}]}, {\"name\": \"average_precision_score_micro\", \"run_id\": \"AutoML_310a2d92-67fc-46f9-bf09-209b6b134de8\", \"categories\": [0], \"series\": [{\"data\": [0.9414004141459289]}]}, {\"name\": \"AUC_weighted\", \"run_id\": \"AutoML_310a2d92-67fc-46f9-bf09-209b6b134de8\", \"categories\": [0], \"series\": [{\"data\": [0.9307043544690604]}]}, {\"name\": \"weighted_accuracy\", \"run_id\": \"AutoML_310a2d92-67fc-46f9-bf09-209b6b134de8\", \"categories\": [0], \"series\": [{\"data\": [0.9203022289346909]}]}, {\"name\": \"f1_score_micro\", \"run_id\": \"AutoML_310a2d92-67fc-46f9-bf09-209b6b134de8\", \"categories\": [0], \"series\": [{\"data\": [0.8882828282828281]}]}, {\"name\": \"precision_score_weighted\", \"run_id\": \"AutoML_310a2d92-67fc-46f9-bf09-209b6b134de8\", \"categories\": [0], \"series\": [{\"data\": [0.8928814460393408]}]}, {\"name\": \"f1_score_macro\", \"run_id\": \"AutoML_310a2d92-67fc-46f9-bf09-209b6b134de8\", \"categories\": [0], \"series\": [{\"data\": [0.8578488387692241]}]}, {\"name\": \"average_precision_score_macro\", \"run_id\": \"AutoML_310a2d92-67fc-46f9-bf09-209b6b134de8\", \"categories\": [0], \"series\": [{\"data\": [0.9265853637308444]}]}, {\"name\": \"AUC_micro\", \"run_id\": \"AutoML_310a2d92-67fc-46f9-bf09-209b6b134de8\", \"categories\": [0], \"series\": [{\"data\": [0.9390549943883277]}]}, {\"name\": \"recall_score_weighted\", \"run_id\": \"AutoML_310a2d92-67fc-46f9-bf09-209b6b134de8\", \"categories\": [0], \"series\": [{\"data\": [0.8882828282828281]}]}, {\"name\": \"precision_score_macro\", \"run_id\": \"AutoML_310a2d92-67fc-46f9-bf09-209b6b134de8\", \"categories\": [0], \"series\": [{\"data\": [0.8910289426775495]}]}, {\"name\": \"precision_score_micro\", \"run_id\": \"AutoML_310a2d92-67fc-46f9-bf09-209b6b134de8\", \"categories\": [0], \"series\": [{\"data\": [0.8882828282828281]}]}, {\"name\": \"average_precision_score_weighted\", \"run_id\": \"AutoML_310a2d92-67fc-46f9-bf09-209b6b134de8\", \"categories\": [0], \"series\": [{\"data\": [0.943185676242712]}]}, {\"name\": \"accuracy\", \"run_id\": \"AutoML_310a2d92-67fc-46f9-bf09-209b6b134de8\", \"categories\": [0], \"series\": [{\"data\": [0.8882828282828281]}]}, {\"name\": \"balanced_accuracy\", \"run_id\": \"AutoML_310a2d92-67fc-46f9-bf09-209b6b134de8\", \"categories\": [0], \"series\": [{\"data\": [0.8406111535523302]}]}, {\"name\": \"log_loss\", \"run_id\": \"AutoML_310a2d92-67fc-46f9-bf09-209b6b134de8\", \"categories\": [0], \"series\": [{\"data\": [0.35207689442161655]}]}, {\"name\": \"f1_score_weighted\", \"run_id\": \"AutoML_310a2d92-67fc-46f9-bf09-209b6b134de8\", \"categories\": [0], \"series\": [{\"data\": [0.8851297236182294]}]}, {\"name\": \"matthews_correlation\", \"run_id\": \"AutoML_310a2d92-67fc-46f9-bf09-209b6b134de8\", \"categories\": [0], \"series\": [{\"data\": [0.728711764198747]}]}, {\"name\": \"norm_macro_recall\", \"run_id\": \"AutoML_310a2d92-67fc-46f9-bf09-209b6b134de8\", \"categories\": [0], \"series\": [{\"data\": [0.68122230710466]}]}], \"run_logs\": \"\\nRun is completed.\", \"graph\": {}, \"widget_settings\": {\"childWidgetDisplay\": \"popup\", \"send_telemetry\": false, \"log_level\": \"INFO\", \"sdk_version\": \"1.19.0\"}, \"loading\": false}"
          },
          "metadata": {}
        }
      ],
      "execution_count": 9,
      "metadata": {
        "gather": {
          "logged": 1610910814780
        },
        "jupyter": {
          "outputs_hidden": false,
          "source_hidden": false
        },
        "nteract": {
          "transient": {
            "deleting": false
          }
        }
      }
    },
    {
      "cell_type": "code",
      "source": [
        "run.wait_for_completion()"
      ],
      "outputs": [],
      "execution_count": null,
      "metadata": {}
    },
    {
      "cell_type": "markdown",
      "source": [
        "## Best Model"
      ],
      "metadata": {}
    },
    {
      "cell_type": "code",
      "source": [
        "best_run, model = run.get_output()"
      ],
      "outputs": [],
      "execution_count": 12,
      "metadata": {
        "gather": {
          "logged": 1610913296988
        },
        "jupyter": {
          "outputs_hidden": false,
          "source_hidden": false
        },
        "nteract": {
          "transient": {
            "deleting": false
          }
        }
      }
    },
    {
      "cell_type": "code",
      "source": [
        "print(best_run)"
      ],
      "outputs": [
        {
          "output_type": "stream",
          "name": "stdout",
          "text": [
            "Run(Experiment: capstone,\n",
            "Id: AutoML_310a2d92-67fc-46f9-bf09-209b6b134de8_30,\n",
            "Type: azureml.scriptrun,\n",
            "Status: Completed)\n"
          ]
        }
      ],
      "execution_count": 13,
      "metadata": {
        "gather": {
          "logged": 1610913305270
        }
      }
    },
    {
      "cell_type": "code",
      "source": [
        "print(model)"
      ],
      "outputs": [
        {
          "output_type": "stream",
          "name": "stdout",
          "text": [
            "Pipeline(memory=None,\n",
            "         steps=[('datatransformer',\n",
            "                 DataTransformer(enable_dnn=None, enable_feature_sweeping=None,\n",
            "                                 feature_sweeping_config=None,\n",
            "                                 feature_sweeping_timeout=None,\n",
            "                                 featurization_config=None, force_text_dnn=None,\n",
            "                                 is_cross_validation=None,\n",
            "                                 is_onnx_compatible=None, logger=None,\n",
            "                                 observer=None, task=None, working_dir=None)),\n",
            "                ('prefittedsoftvotingclassifier',...\n",
            "                                                                                                  max_samples=None,\n",
            "                                                                                                  min_impurity_decrease=0.0,\n",
            "                                                                                                  min_impurity_split=None,\n",
            "                                                                                                  min_samples_leaf=0.06157894736842105,\n",
            "                                                                                                  min_samples_split=0.2442105263157895,\n",
            "                                                                                                  min_weight_fraction_leaf=0.0,\n",
            "                                                                                                  n_estimators=100,\n",
            "                                                                                                  n_jobs=1,\n",
            "                                                                                                  oob_score=False,\n",
            "                                                                                                  random_state=None,\n",
            "                                                                                                  verbose=0,\n",
            "                                                                                                  warm_start=False))],\n",
            "                                                                     verbose=False))],\n",
            "                                               flatten_transform=None,\n",
            "                                               weights=[0.1, 0.1, 0.2, 0.1, 0.2,\n",
            "                                                        0.1, 0.1, 0.1]))],\n",
            "         verbose=False)\n"
          ]
        }
      ],
      "execution_count": 14,
      "metadata": {
        "gather": {
          "logged": 1610913308699
        }
      }
    },
    {
      "cell_type": "code",
      "source": [
        "best_run.get_tags()"
      ],
      "outputs": [
        {
          "output_type": "execute_result",
          "execution_count": 15,
          "data": {
            "text/plain": "{'_aml_system_azureml.automlComponent': 'AutoML',\n '_aml_system_ComputeTargetStatus': '{\"AllocationState\":\"steady\",\"PreparingNodeCount\":0,\"RunningNodeCount\":0,\"CurrentNodeCount\":1}',\n 'ensembled_iterations': '[3, 9, 14, 23, 16, 6, 2, 21]',\n 'ensembled_algorithms': \"['RandomForest', 'ExtremeRandomTrees', 'XGBoostClassifier', 'XGBoostClassifier', 'LightGBM', 'GradientBoosting', 'RandomForest', 'ExtremeRandomTrees']\",\n 'ensemble_weights': '[0.1, 0.1, 0.2, 0.1, 0.2, 0.1, 0.1, 0.1]',\n 'best_individual_pipeline_score': '0.8705050505050504',\n 'best_individual_iteration': '3',\n '_aml_system_automl_is_child_run_end_telemetry_event_logged': 'True'}"
          },
          "metadata": {}
        }
      ],
      "execution_count": 15,
      "metadata": {
        "gather": {
          "logged": 1610913315531
        }
      }
    },
    {
      "cell_type": "code",
      "source": [
        "best_run.get_metrics(name='accuracy')"
      ],
      "outputs": [
        {
          "output_type": "execute_result",
          "execution_count": 16,
          "data": {
            "text/plain": "{'accuracy': 0.8882828282828281}"
          },
          "metadata": {}
        }
      ],
      "execution_count": 16,
      "metadata": {
        "gather": {
          "logged": 1610913318719
        }
      }
    },
    {
      "cell_type": "markdown",
      "source": [
        "### Test the model"
      ],
      "metadata": {}
    },
    {
      "cell_type": "code",
      "source": [
        "#save the first two rows in a variable called tosend to use to test deployment and drop the output value\n",
        "tosend = test[:2].values.tolist()\n",
        "tosend = [tosend[0][:-1],tosend[1][:-1]]"
      ],
      "outputs": [],
      "execution_count": 17,
      "metadata": {
        "gather": {
          "logged": 1610913323443
        }
      }
    },
    {
      "cell_type": "code",
      "source": [
        "# Split into x and y tests\n",
        "y_test = test['DEATH_EVENT']\n",
        "x_test = test.drop(['DEATH_EVENT'],axis=1)"
      ],
      "outputs": [],
      "execution_count": 18,
      "metadata": {
        "gather": {
          "logged": 1610913325568
        }
      }
    },
    {
      "cell_type": "code",
      "source": [
        "# test the model and create a confusion matrix\n",
        "from sklearn.metrics import confusion_matrix\n",
        "ypred = model.predict(x_test)\n",
        "cmatrix = confusion_matrix(y_test, ypred)\n",
        "pd.DataFrame(cmatrix)"
      ],
      "outputs": [
        {
          "output_type": "execute_result",
          "execution_count": 19,
          "data": {
            "text/plain": "    0   1\n0  44   5\n1   8  18",
            "text/html": "<div>\n<style scoped>\n    .dataframe tbody tr th:only-of-type {\n        vertical-align: middle;\n    }\n\n    .dataframe tbody tr th {\n        vertical-align: top;\n    }\n\n    .dataframe thead th {\n        text-align: right;\n    }\n</style>\n<table border=\"1\" class=\"dataframe\">\n  <thead>\n    <tr style=\"text-align: right;\">\n      <th></th>\n      <th>0</th>\n      <th>1</th>\n    </tr>\n  </thead>\n  <tbody>\n    <tr>\n      <th>0</th>\n      <td>44</td>\n      <td>5</td>\n    </tr>\n    <tr>\n      <th>1</th>\n      <td>8</td>\n      <td>18</td>\n    </tr>\n  </tbody>\n</table>\n</div>"
          },
          "metadata": {}
        }
      ],
      "execution_count": 19,
      "metadata": {
        "gather": {
          "logged": 1610913327736
        }
      }
    },
    {
      "cell_type": "markdown",
      "source": [
        "### Register the model"
      ],
      "metadata": {}
    },
    {
      "cell_type": "code",
      "source": [
        "#registering the model\n",
        "# need to add properties, do later.\n",
        "\n",
        "model = run.register_model(model_name ='automl_model')\n",
        "\n"
      ],
      "outputs": [],
      "execution_count": 20,
      "metadata": {
        "gather": {
          "logged": 1610913332675
        },
        "jupyter": {
          "outputs_hidden": false,
          "source_hidden": false
        },
        "nteract": {
          "transient": {
            "deleting": false
          }
        }
      }
    },
    {
      "cell_type": "code",
      "source": [
        "print(model)"
      ],
      "outputs": [
        {
          "output_type": "stream",
          "name": "stdout",
          "text": [
            "Model(workspace=Workspace.create(name='quick-starts-ws-135113', subscription_id='a24a24d5-8d87-4c8a-99b6-91ed2d2df51f', resource_group='aml-quickstarts-135113'), name=automl_model, id=automl_model:1, version=1, tags={}, properties={})\n"
          ]
        }
      ],
      "execution_count": 21,
      "metadata": {
        "gather": {
          "logged": 1610913346113
        }
      }
    },
    {
      "cell_type": "code",
      "source": [
        "# print the model path\n",
        "model.get_model_path(model_name='automl_model',version=1)"
      ],
      "outputs": [
        {
          "output_type": "stream",
          "name": "stderr",
          "text": [
            "ERROR:azureml.core.model:Model automl_model not found in cache at azureml-models or in current working directory /mnt/batch/tasks/shared/LS_root/mounts/clusters/final/code/Users/odl_user_135113. For more info, set logging level to DEBUG.\n",
            "\n"
          ]
        },
        {
          "output_type": "error",
          "ename": "WebserviceException",
          "evalue": "WebserviceException:\n\tMessage: Model automl_model not found in cache at azureml-models or in current working directory /mnt/batch/tasks/shared/LS_root/mounts/clusters/final/code/Users/odl_user_135113. For more info, set logging level to DEBUG.\n\tInnerException None\n\tErrorResponse \n{\n    \"error\": {\n        \"message\": \"Model automl_model not found in cache at azureml-models or in current working directory /mnt/batch/tasks/shared/LS_root/mounts/clusters/final/code/Users/odl_user_135113. For more info, set logging level to DEBUG.\"\n    }\n}",
          "traceback": [
            "\u001b[0;31m---------------------------------------------------------------------------\u001b[0m",
            "\u001b[0;31mModelNotFoundException\u001b[0m                    Traceback (most recent call last)",
            "\u001b[0;32m/anaconda/envs/azureml_py36/lib/python3.6/site-packages/azureml/core/model.py\u001b[0m in \u001b[0;36mget_model_path\u001b[0;34m(model_name, version, _workspace)\u001b[0m\n\u001b[1;32m    780\u001b[0m             \u001b[0;32mtry\u001b[0m\u001b[0;34m:\u001b[0m\u001b[0;34m\u001b[0m\u001b[0;34m\u001b[0m\u001b[0m\n\u001b[0;32m--> 781\u001b[0;31m                 \u001b[0;32mreturn\u001b[0m \u001b[0mModel\u001b[0m\u001b[0;34m.\u001b[0m\u001b[0m_get_model_path_local\u001b[0m\u001b[0;34m(\u001b[0m\u001b[0mmodel_name\u001b[0m\u001b[0;34m,\u001b[0m \u001b[0mversion\u001b[0m\u001b[0;34m)\u001b[0m\u001b[0;34m\u001b[0m\u001b[0;34m\u001b[0m\u001b[0m\n\u001b[0m\u001b[1;32m    782\u001b[0m             \u001b[0;32mexcept\u001b[0m \u001b[0mModelNotFoundException\u001b[0m \u001b[0;32mas\u001b[0m \u001b[0mee\u001b[0m\u001b[0;34m:\u001b[0m\u001b[0;34m\u001b[0m\u001b[0;34m\u001b[0m\u001b[0m\n",
            "\u001b[0;32m/anaconda/envs/azureml_py36/lib/python3.6/site-packages/azureml/core/model.py\u001b[0m in \u001b[0;36m_get_model_path_local\u001b[0;34m(model_name, version)\u001b[0m\n\u001b[1;32m    812\u001b[0m         \u001b[0;32mif\u001b[0m \u001b[0;32mnot\u001b[0m \u001b[0mos\u001b[0m\u001b[0;34m.\u001b[0m\u001b[0mpath\u001b[0m\u001b[0;34m.\u001b[0m\u001b[0mexists\u001b[0m\u001b[0;34m(\u001b[0m\u001b[0mcandidate_model_path\u001b[0m\u001b[0;34m)\u001b[0m\u001b[0;34m:\u001b[0m\u001b[0;34m\u001b[0m\u001b[0;34m\u001b[0m\u001b[0m\n\u001b[0;32m--> 813\u001b[0;31m             \u001b[0;32mreturn\u001b[0m \u001b[0mModel\u001b[0m\u001b[0;34m.\u001b[0m\u001b[0m_get_model_path_local_from_root\u001b[0m\u001b[0;34m(\u001b[0m\u001b[0mmodel_name\u001b[0m\u001b[0;34m)\u001b[0m\u001b[0;34m\u001b[0m\u001b[0;34m\u001b[0m\u001b[0m\n\u001b[0m\u001b[1;32m    814\u001b[0m         \u001b[0;32melse\u001b[0m\u001b[0;34m:\u001b[0m\u001b[0;34m\u001b[0m\u001b[0;34m\u001b[0m\u001b[0m\n",
            "\u001b[0;32m/anaconda/envs/azureml_py36/lib/python3.6/site-packages/azureml/core/model.py\u001b[0m in \u001b[0;36m_get_model_path_local_from_root\u001b[0;34m(model_name)\u001b[0m\n\u001b[1;32m    856\u001b[0m                                      \"For more info, set logging level to DEBUG.\".format(model_name, MODELS_DIR,\n\u001b[0;32m--> 857\u001b[0;31m                                                                                          os.getcwd()))\n\u001b[0m\u001b[1;32m    858\u001b[0m \u001b[0;34m\u001b[0m\u001b[0m\n",
            "\u001b[0;31mModelNotFoundException\u001b[0m: ModelNotFoundException:\n\tMessage: Model automl_model not found in cache at azureml-models or in current working directory /mnt/batch/tasks/shared/LS_root/mounts/clusters/final/code/Users/odl_user_135113. For more info, set logging level to DEBUG.\n\tInnerException None\n\tErrorResponse \n{\n    \"error\": {\n        \"message\": \"Model automl_model not found in cache at azureml-models or in current working directory /mnt/batch/tasks/shared/LS_root/mounts/clusters/final/code/Users/odl_user_135113. For more info, set logging level to DEBUG.\"\n    }\n}",
            "\nDuring handling of the above exception, another exception occurred:\n",
            "\u001b[0;31mWebserviceException\u001b[0m                       Traceback (most recent call last)",
            "\u001b[0;32m<ipython-input-23-b724984f1625>\u001b[0m in \u001b[0;36m<module>\u001b[0;34m\u001b[0m\n\u001b[1;32m      1\u001b[0m \u001b[0;31m# print the model path\u001b[0m\u001b[0;34m\u001b[0m\u001b[0;34m\u001b[0m\u001b[0;34m\u001b[0m\u001b[0m\n\u001b[0;32m----> 2\u001b[0;31m \u001b[0mmodel\u001b[0m\u001b[0;34m.\u001b[0m\u001b[0mget_model_path\u001b[0m\u001b[0;34m(\u001b[0m\u001b[0mmodel_name\u001b[0m\u001b[0;34m=\u001b[0m\u001b[0;34m'automl_model'\u001b[0m\u001b[0;34m,\u001b[0m\u001b[0mversion\u001b[0m\u001b[0;34m=\u001b[0m\u001b[0;36m1\u001b[0m\u001b[0;34m)\u001b[0m\u001b[0;34m\u001b[0m\u001b[0;34m\u001b[0m\u001b[0m\n\u001b[0m",
            "\u001b[0;32m/anaconda/envs/azureml_py36/lib/python3.6/site-packages/azureml/core/model.py\u001b[0m in \u001b[0;36mget_model_path\u001b[0;34m(model_name, version, _workspace)\u001b[0m\n\u001b[1;32m    785\u001b[0m                     \u001b[0mmodule_logger\u001b[0m\u001b[0;34m.\u001b[0m\u001b[0mdebug\u001b[0m\u001b[0;34m(\u001b[0m\u001b[0;34m\"Getting model from remote\"\u001b[0m\u001b[0;34m)\u001b[0m\u001b[0;34m\u001b[0m\u001b[0;34m\u001b[0m\u001b[0m\n\u001b[1;32m    786\u001b[0m                     \u001b[0;32mreturn\u001b[0m \u001b[0mModel\u001b[0m\u001b[0;34m.\u001b[0m\u001b[0m_get_model_path_remote\u001b[0m\u001b[0;34m(\u001b[0m\u001b[0mmodel_name\u001b[0m\u001b[0;34m,\u001b[0m \u001b[0mversion\u001b[0m\u001b[0;34m,\u001b[0m \u001b[0mactive_workspace\u001b[0m\u001b[0;34m)\u001b[0m\u001b[0;34m\u001b[0m\u001b[0;34m\u001b[0m\u001b[0m\n\u001b[0;32m--> 787\u001b[0;31m                 \u001b[0;32mraise\u001b[0m \u001b[0mWebserviceException\u001b[0m\u001b[0;34m(\u001b[0m\u001b[0mee\u001b[0m\u001b[0;34m.\u001b[0m\u001b[0mmessage\u001b[0m\u001b[0;34m,\u001b[0m \u001b[0mlogger\u001b[0m\u001b[0;34m=\u001b[0m\u001b[0mmodule_logger\u001b[0m\u001b[0;34m)\u001b[0m\u001b[0;34m\u001b[0m\u001b[0;34m\u001b[0m\u001b[0m\n\u001b[0m\u001b[1;32m    788\u001b[0m         \u001b[0;32melse\u001b[0m\u001b[0;34m:\u001b[0m\u001b[0;34m\u001b[0m\u001b[0;34m\u001b[0m\u001b[0m\n\u001b[1;32m    789\u001b[0m             \u001b[0;32mif\u001b[0m \u001b[0mactive_workspace\u001b[0m \u001b[0;32mis\u001b[0m \u001b[0;32mnot\u001b[0m \u001b[0;32mNone\u001b[0m\u001b[0;34m:\u001b[0m\u001b[0;34m\u001b[0m\u001b[0;34m\u001b[0m\u001b[0m\n",
            "\u001b[0;31mWebserviceException\u001b[0m: WebserviceException:\n\tMessage: Model automl_model not found in cache at azureml-models or in current working directory /mnt/batch/tasks/shared/LS_root/mounts/clusters/final/code/Users/odl_user_135113. For more info, set logging level to DEBUG.\n\tInnerException None\n\tErrorResponse \n{\n    \"error\": {\n        \"message\": \"Model automl_model not found in cache at azureml-models or in current working directory /mnt/batch/tasks/shared/LS_root/mounts/clusters/final/code/Users/odl_user_135113. For more info, set logging level to DEBUG.\"\n    }\n}"
          ]
        }
      ],
      "execution_count": 23,
      "metadata": {}
    },
    {
      "cell_type": "markdown",
      "source": [
        "## Model Deployment\n",
        "\n",
        "Remember you have to deploy only one of the two models you trained.. Perform the steps in the rest of this notebook only if you wish to deploy this model.\n",
        "\n",
        "TODO: In the cell below, register the model, create an inference config and deploy the model as a web service."
      ],
      "metadata": {}
    },
    {
      "cell_type": "markdown",
      "source": [
        "### Save the environment"
      ],
      "metadata": {}
    },
    {
      "cell_type": "code",
      "source": [
        "# get the list of environments\n",
        "Environment.list(workspace=ws).keys()\n"
      ],
      "outputs": [
        {
          "output_type": "execute_result",
          "execution_count": 24,
          "data": {
            "text/plain": "dict_keys(['AzureML-VowpalWabbit-8.8.0', 'AzureML-AutoML', 'AzureML-Hyperdrive-ForecastDNN', 'AzureML-PyTorch-1.4-CPU', 'AzureML-PyTorch-1.4-GPU', 'AzureML-AutoML-DNN', 'AzureML-AutoML-DNN-GPU', 'AzureML-Designer-Transform', 'AzureML-Designer', 'AzureML-AutoML-GPU', 'AzureML-Designer-IO', 'AzureML-Dask-CPU', 'AzureML-Designer-R', 'AzureML-Dask-GPU', 'AzureML-Designer-Recommender', 'AzureML-PyTorch-1.5-CPU', 'AzureML-PyTorch-1.5-GPU', 'AzureML-Sidecar', 'AzureML-Designer-CV-Transform', 'AzureML-Designer-Score', 'AzureML-Designer-PyTorch', 'AzureML-Designer-CV', 'AzureML-TensorFlow-2.1-GPU', 'AzureML-TensorFlow-2.1-CPU', 'AzureML-Designer-PyTorch-Train', 'AzureML-AutoML-DNN-Vision-GPU', 'AzureML-Designer-VowpalWabbit', 'AzureML-TensorFlow-2.2-GPU', 'AzureML-TensorFlow-2.2-CPU', 'AzureML-PyTorch-1.6-CPU', 'AzureML-PyTorch-1.6-GPU', 'AzureML-Triton', 'AzureML-TensorFlow-2.3-CPU', 'AzureML-TensorFlow-2.3-GPU', 'AzureML-DeepSpeed-0.3-GPU', 'AzureML-TensorFlow-2.0-CPU', 'AzureML-Chainer-5.1.0-GPU', 'AzureML-TensorFlow-1.12-CPU', 'AzureML-TensorFlow-2.0-GPU', 'AzureML-PyTorch-1.1-CPU', 'AzureML-PyTorch-1.1-GPU', 'AzureML-PyTorch-1.2-CPU', 'AzureML-Minimal', 'AzureML-TensorFlow-1.10-CPU', 'AzureML-PyTorch-1.3-CPU', 'AzureML-PyTorch-1.0-CPU', 'AzureML-Tutorial', 'AzureML-PyTorch-1.2-GPU', 'AzureML-Scikit-learn-0.20.3', 'AzureML-TensorFlow-1.13-CPU', 'AzureML-TensorFlow-1.12-GPU', 'AzureML-PyTorch-1.3-GPU', 'AzureML-PyTorch-1.0-GPU', 'AzureML-Chainer-5.1.0-CPU', 'AzureML-TensorFlow-1.13-GPU', 'AzureML-TensorFlow-1.10-GPU', 'AzureML-PySpark-MmlSpark-0.15', 'AzureML-Designer-NLP'])"
          },
          "metadata": {}
        }
      ],
      "execution_count": 24,
      "metadata": {
        "gather": {
          "logged": 1610913401369
        },
        "jupyter": {
          "outputs_hidden": false,
          "source_hidden": false
        },
        "nteract": {
          "transient": {
            "deleting": false
          }
        }
      }
    },
    {
      "cell_type": "code",
      "source": [
        "from azureml.automl.core.shared import constants\r\n",
        "\r\n",
        "best_run.download_file(constants.CONDA_ENV_FILE_PATH, 'myenv.yml')"
      ],
      "outputs": [],
      "execution_count": 37,
      "metadata": {
        "collapsed": true,
        "jupyter": {
          "source_hidden": false,
          "outputs_hidden": false
        },
        "nteract": {
          "transient": {
            "deleting": false
          }
        },
        "gather": {
          "logged": 1610914846136
        }
      }
    },
    {
      "cell_type": "code",
      "source": [
        "#remember to insert environment name\n",
        "my_env = Environment.get(workspace=ws, name=\"AzureML-AutoML\")\n",
        "\n",
        "#conda_dependencies = CondaDependencies()\n",
        "#conda_dependencies.add_pip_package(\"azureml-defaults\")\n",
        "#conda_dependencies.add_conda_package(\"py-xgboost\")\n",
        "\n",
        "# writing the environment file\n",
        "with open('automl_env.yml',\"w\") as f:\n",
        "    f.write(my_env.serialize_to_string())\n",
        "    \n"
      ],
      "outputs": [
        {
          "output_type": "error",
          "ename": "AttributeError",
          "evalue": "'Environment' object has no attribute 'serialize_to_string'",
          "traceback": [
            "\u001b[0;31m---------------------------------------------------------------------------\u001b[0m",
            "\u001b[0;31mAttributeError\u001b[0m                            Traceback (most recent call last)",
            "\u001b[0;32m<ipython-input-26-841b682bef0c>\u001b[0m in \u001b[0;36m<module>\u001b[0;34m\u001b[0m\n\u001b[1;32m      8\u001b[0m \u001b[0;31m# writing the environment file\u001b[0m\u001b[0;34m\u001b[0m\u001b[0;34m\u001b[0m\u001b[0;34m\u001b[0m\u001b[0m\n\u001b[1;32m      9\u001b[0m \u001b[0;32mwith\u001b[0m \u001b[0mopen\u001b[0m\u001b[0;34m(\u001b[0m\u001b[0;34m'automl_env.yml'\u001b[0m\u001b[0;34m,\u001b[0m\u001b[0;34m\"w\"\u001b[0m\u001b[0;34m)\u001b[0m \u001b[0;32mas\u001b[0m \u001b[0mf\u001b[0m\u001b[0;34m:\u001b[0m\u001b[0;34m\u001b[0m\u001b[0;34m\u001b[0m\u001b[0m\n\u001b[0;32m---> 10\u001b[0;31m     \u001b[0mf\u001b[0m\u001b[0;34m.\u001b[0m\u001b[0mwrite\u001b[0m\u001b[0;34m(\u001b[0m\u001b[0mmy_env\u001b[0m\u001b[0;34m.\u001b[0m\u001b[0mserialize_to_string\u001b[0m\u001b[0;34m(\u001b[0m\u001b[0;34m)\u001b[0m\u001b[0;34m)\u001b[0m\u001b[0;34m\u001b[0m\u001b[0;34m\u001b[0m\u001b[0m\n\u001b[0m\u001b[1;32m     11\u001b[0m \u001b[0;34m\u001b[0m\u001b[0m\n",
            "\u001b[0;31mAttributeError\u001b[0m: 'Environment' object has no attribute 'serialize_to_string'"
          ]
        }
      ],
      "execution_count": 26,
      "metadata": {}
    },
    {
      "cell_type": "code",
      "source": [
        "os.listdir(os.curdir), os.getcwd()"
      ],
      "outputs": [
        {
          "output_type": "execute_result",
          "execution_count": 38,
          "data": {
            "text/plain": "(['.azureml',\n  '.config',\n  '.ipynb_aml_checkpoints',\n  'automl.ipynb',\n  'automl.log',\n  'automl_env.yml',\n  'azureml_automl.log',\n  'heart_failure_clinical_records_dataset.csv',\n  'hyperparameter_tuning.ipynb',\n  'model.pkl',\n  'myenv.yml',\n  'README.md',\n  'score.py',\n  'scoring.py',\n  'sla_weekday_preprocessed_azure.csv',\n  'someone.ipynb',\n  'someone.ipynb.amltemp',\n  'train.csv'],\n '/mnt/batch/tasks/shared/LS_root/mounts/clusters/final/code/Users/odl_user_135113')"
          },
          "metadata": {}
        }
      ],
      "execution_count": 38,
      "metadata": {
        "collapsed": true,
        "jupyter": {
          "source_hidden": false,
          "outputs_hidden": false
        },
        "nteract": {
          "transient": {
            "deleting": false
          }
        },
        "gather": {
          "logged": 1610914969678
        }
      }
    },
    {
      "cell_type": "markdown",
      "source": [
        "### Create a scoring script"
      ],
      "metadata": {}
    },
    {
      "cell_type": "code",
      "source": [
        "%%writefile score.py\n",
        "\n",
        "import os\n",
        "import numpy as np\n",
        "import json\n",
        "import joblib\n",
        "\n",
        "def init():\n",
        "    global model\n",
        "    model_path = ('./model.pkl')\n",
        "    model = joblib.load(model_path)\n",
        "\n",
        "def run(data):\n",
        "    try:\n",
        "        data = np.array(json.loads(data))\n",
        "        result = model.predict(data)\n",
        "        return result.tolist()\n",
        "    except Exception as err:\n",
        "        return str(err)"
      ],
      "outputs": [
        {
          "output_type": "stream",
          "name": "stdout",
          "text": [
            "Overwriting score.py\n"
          ]
        }
      ],
      "execution_count": 39,
      "metadata": {}
    },
    {
      "cell_type": "code",
      "source": [
        "# create inference_config\n",
        "from azureml.core.model import InferenceConfig\n",
        "inference_config = InferenceConfig(entry_script=\"score.py\", environment = my_env)"
      ],
      "outputs": [],
      "execution_count": 40,
      "metadata": {
        "gather": {
          "logged": 1610915136464
        }
      }
    },
    {
      "cell_type": "markdown",
      "source": [
        "### Deploy locally and test for testing purposes"
      ],
      "metadata": {}
    },
    {
      "cell_type": "code",
      "source": [
        "from azureml.core.webservice import LocalWebService\n",
        "deployment_config = LocalWebService.deploy_configuration(port=9000)\n",
        "\n",
        "# can I use Model or do I have to use model\n",
        "service = Model.deploy(workspace=ws, name=\"test-service\",\n",
        "                       models=[model],\n",
        "                       inference_config=inference_config, deployment_config=deployment_config)"
      ],
      "outputs": [
        {
          "output_type": "error",
          "ename": "ImportError",
          "evalue": "cannot import name 'LocalWebService'",
          "traceback": [
            "\u001b[0;31m---------------------------------------------------------------------------\u001b[0m",
            "\u001b[0;31mImportError\u001b[0m                               Traceback (most recent call last)",
            "\u001b[0;32m<ipython-input-29-a299c81f6fcc>\u001b[0m in \u001b[0;36m<module>\u001b[0;34m\u001b[0m\n\u001b[0;32m----> 1\u001b[0;31m \u001b[0;32mfrom\u001b[0m \u001b[0mazureml\u001b[0m\u001b[0;34m.\u001b[0m\u001b[0mcore\u001b[0m\u001b[0;34m.\u001b[0m\u001b[0mwebservice\u001b[0m \u001b[0;32mimport\u001b[0m \u001b[0mLocalWebService\u001b[0m\u001b[0;34m\u001b[0m\u001b[0;34m\u001b[0m\u001b[0m\n\u001b[0m\u001b[1;32m      2\u001b[0m \u001b[0mdeployment_config\u001b[0m \u001b[0;34m=\u001b[0m \u001b[0mLocalWebService\u001b[0m\u001b[0;34m.\u001b[0m\u001b[0mdeploy_configuration\u001b[0m\u001b[0;34m(\u001b[0m\u001b[0mport\u001b[0m\u001b[0;34m=\u001b[0m\u001b[0;36m9000\u001b[0m\u001b[0;34m)\u001b[0m\u001b[0;34m\u001b[0m\u001b[0;34m\u001b[0m\u001b[0m\n\u001b[1;32m      3\u001b[0m \u001b[0;34m\u001b[0m\u001b[0m\n\u001b[1;32m      4\u001b[0m \u001b[0;31m# can I use Model or do I have to use model\u001b[0m\u001b[0;34m\u001b[0m\u001b[0;34m\u001b[0m\u001b[0;34m\u001b[0m\u001b[0m\n\u001b[1;32m      5\u001b[0m service = Model.deploy(workspace=ws, name=\"test-service\",\n",
            "\u001b[0;31mImportError\u001b[0m: cannot import name 'LocalWebService'"
          ]
        }
      ],
      "execution_count": 29,
      "metadata": {}
    },
    {
      "cell_type": "code",
      "source": [
        "data = json.dumps({\"data\":tosend})\n",
        "print(service.run(input_data=data))"
      ],
      "outputs": [
        {
          "output_type": "error",
          "ename": "NameError",
          "evalue": "name 'json' is not defined",
          "traceback": [
            "\u001b[0;31m---------------------------------------------------------------------------\u001b[0m",
            "\u001b[0;31mNameError\u001b[0m                                 Traceback (most recent call last)",
            "\u001b[0;32m<ipython-input-30-a539eaaaf3f6>\u001b[0m in \u001b[0;36m<module>\u001b[0;34m\u001b[0m\n\u001b[0;32m----> 1\u001b[0;31m \u001b[0mdata\u001b[0m \u001b[0;34m=\u001b[0m \u001b[0mjson\u001b[0m\u001b[0;34m.\u001b[0m\u001b[0mdumps\u001b[0m\u001b[0;34m(\u001b[0m\u001b[0;34m{\u001b[0m\u001b[0;34m\"data\"\u001b[0m\u001b[0;34m:\u001b[0m\u001b[0mtosend\u001b[0m\u001b[0;34m}\u001b[0m\u001b[0;34m)\u001b[0m\u001b[0;34m\u001b[0m\u001b[0;34m\u001b[0m\u001b[0m\n\u001b[0m\u001b[1;32m      2\u001b[0m \u001b[0mprint\u001b[0m\u001b[0;34m(\u001b[0m\u001b[0mservice\u001b[0m\u001b[0;34m.\u001b[0m\u001b[0mrun\u001b[0m\u001b[0;34m(\u001b[0m\u001b[0minput_data\u001b[0m\u001b[0;34m=\u001b[0m\u001b[0mdata\u001b[0m\u001b[0;34m)\u001b[0m\u001b[0;34m)\u001b[0m\u001b[0;34m\u001b[0m\u001b[0;34m\u001b[0m\u001b[0m\n",
            "\u001b[0;31mNameError\u001b[0m: name 'json' is not defined"
          ]
        }
      ],
      "execution_count": 30,
      "metadata": {}
    },
    {
      "cell_type": "code",
      "source": [
        "service.delete()"
      ],
      "outputs": [
        {
          "output_type": "error",
          "ename": "NameError",
          "evalue": "name 'service' is not defined",
          "traceback": [
            "\u001b[0;31m---------------------------------------------------------------------------\u001b[0m",
            "\u001b[0;31mNameError\u001b[0m                                 Traceback (most recent call last)",
            "\u001b[0;32m<ipython-input-31-48e779d30f0a>\u001b[0m in \u001b[0;36m<module>\u001b[0;34m\u001b[0m\n\u001b[0;32m----> 1\u001b[0;31m \u001b[0mservice\u001b[0m\u001b[0;34m.\u001b[0m\u001b[0mdelete\u001b[0m\u001b[0;34m(\u001b[0m\u001b[0;34m)\u001b[0m\u001b[0;34m\u001b[0m\u001b[0;34m\u001b[0m\u001b[0m\n\u001b[0m",
            "\u001b[0;31mNameError\u001b[0m: name 'service' is not defined"
          ]
        }
      ],
      "execution_count": 31,
      "metadata": {}
    },
    {
      "cell_type": "markdown",
      "source": [
        "### Deploy as a webservice"
      ],
      "metadata": {}
    },
    {
      "cell_type": "code",
      "source": [
        "#set deployment_config for webservice deployment\n",
        "from azureml.core.webservice import Webservice, AciWebservice\n",
        "deployment_config = AciWebservice.deploy_configuration(cpu_cores=1, memory_gb = 1)"
      ],
      "outputs": [],
      "execution_count": 41,
      "metadata": {
        "gather": {
          "logged": 1610915148259
        }
      }
    },
    {
      "cell_type": "code",
      "source": [
        "from azureml.core.model import InferenceConfig\n",
        "from azureml.core.webservice import AciWebservice\n",
        "\n",
        "\n",
        "service_name = 'my-custom-env-service2'\n",
        "\n",
        "inference_config = InferenceConfig(entry_script='score.py', environment=best_run.get_environment())\n",
        "aci_config = AciWebservice.deploy_configuration(cpu_cores=1, memory_gb=1)\n",
        "\n",
        "service = Model.deploy(workspace=ws,\n",
        "                       name=service_name,\n",
        "                       models=[model],\n",
        "                       inference_config=inference_config,\n",
        "                       deployment_config=aci_config,\n",
        "                       overwrite=True)\n",
        "service.wait_for_deployment(show_output=True)"
      ],
      "outputs": [
        {
          "output_type": "stream",
          "name": "stdout",
          "text": [
            "Tips: You can try get_logs(): https://aka.ms/debugimage#dockerlog or local deployment: https://aka.ms/debugimage#debug-locally to debug if deployment takes longer than 10 minutes.\n",
            "Running................\n",
            "Succeeded\n",
            "ACI service creation operation finished, operation \"Succeeded\"\n"
          ]
        }
      ],
      "execution_count": 46,
      "metadata": {
        "scrolled": false,
        "gather": {
          "logged": 1610916107475
        }
      }
    },
    {
      "cell_type": "code",
      "source": [
        "print(service.get_logs())"
      ],
      "outputs": [
        {
          "output_type": "stream",
          "name": "stdout",
          "text": [
            "2021-01-17T20:41:23,274415900+00:00 - gunicorn/run \n",
            "2021-01-17T20:41:23,283700400+00:00 - rsyslog/run \n",
            "2021-01-17T20:41:23,318317900+00:00 - iot-server/run \n",
            "2021-01-17T20:41:23,355320900+00:00 - nginx/run \n",
            "/usr/sbin/nginx: /azureml-envs/azureml_8eff28b157f42edcd2424a5aae6c8074/lib/libcrypto.so.1.0.0: no version information available (required by /usr/sbin/nginx)\n",
            "/usr/sbin/nginx: /azureml-envs/azureml_8eff28b157f42edcd2424a5aae6c8074/lib/libcrypto.so.1.0.0: no version information available (required by /usr/sbin/nginx)\n",
            "/usr/sbin/nginx: /azureml-envs/azureml_8eff28b157f42edcd2424a5aae6c8074/lib/libssl.so.1.0.0: no version information available (required by /usr/sbin/nginx)\n",
            "/usr/sbin/nginx: /azureml-envs/azureml_8eff28b157f42edcd2424a5aae6c8074/lib/libssl.so.1.0.0: no version information available (required by /usr/sbin/nginx)\n",
            "/usr/sbin/nginx: /azureml-envs/azureml_8eff28b157f42edcd2424a5aae6c8074/lib/libssl.so.1.0.0: no version information available (required by /usr/sbin/nginx)\n",
            "rsyslogd: /azureml-envs/azureml_8eff28b157f42edcd2424a5aae6c8074/lib/libuuid.so.1: no version information available (required by rsyslogd)\n",
            "EdgeHubConnectionString and IOTEDGE_IOTHUBHOSTNAME are not set. Exiting...\n",
            "2021-01-17T20:41:25,272771000+00:00 - iot-server/finish 1 0\n",
            "2021-01-17T20:41:25,291269900+00:00 - Exit code 1 is normal. Not restarting iot-server.\n",
            "Starting gunicorn 19.9.0\n",
            "Listening at: http://127.0.0.1:31311 (67)\n",
            "Using worker: sync\n",
            "worker timeout is set to 300\n",
            "Booting worker with pid: 98\n",
            "SPARK_HOME not set. Skipping PySpark Initialization.\n",
            "Initializing logger\n",
            "2021-01-17 20:41:27,672 | root | INFO | Starting up app insights client\n",
            "Starting up app insights client\n",
            "2021-01-17 20:41:27,673 | root | INFO | Starting up request id generator\n",
            "Starting up request id generator\n",
            "2021-01-17 20:41:27,673 | root | INFO | Starting up app insight hooks\n",
            "Starting up app insight hooks\n",
            "2021-01-17 20:41:27,674 | root | INFO | Invoking user's init function\n",
            "Invoking user's init function\n",
            "Generating new fontManager, this may take some time...\n",
            "2021-01-17 20:41:39,634 | root | INFO | Users's init has completed successfully\n",
            "Users's init has completed successfully\n",
            "2021-01-17 20:41:39,637 | root | INFO | Skipping middleware: dbg_model_info as it's not enabled.\n",
            "Skipping middleware: dbg_model_info as it's not enabled.\n",
            "2021-01-17 20:41:39,638 | root | INFO | Skipping middleware: dbg_resource_usage as it's not enabled.\n",
            "Skipping middleware: dbg_resource_usage as it's not enabled.\n",
            "2021-01-17 20:41:39,644 | root | INFO | Scoring timeout is found from os.environ: 60000 ms\n",
            "Scoring timeout is found from os.environ: 60000 ms\n",
            "2021-01-17 20:41:42,976 | root | INFO | Swagger file not present\n",
            "Swagger file not present\n",
            "2021-01-17 20:41:42,980 | root | INFO | 404\n",
            "404\n",
            "127.0.0.1 - - [17/Jan/2021:20:41:42 +0000] \"GET /swagger.json HTTP/1.0\" 404 19 \"-\" \"Go-http-client/1.1\"\n",
            "2021-01-17 20:41:46,491 | root | INFO | Swagger file not present\n",
            "Swagger file not present\n",
            "2021-01-17 20:41:46,492 | root | INFO | 404\n",
            "404\n",
            "127.0.0.1 - - [17/Jan/2021:20:41:46 +0000] \"GET /swagger.json HTTP/1.0\" 404 19 \"-\" \"Go-http-client/1.1\"\n",
            "\n"
          ]
        }
      ],
      "execution_count": 47,
      "metadata": {
        "gather": {
          "logged": 1610916115199
        }
      }
    },
    {
      "cell_type": "code",
      "source": [
        "key, _ = service.get_keys()"
      ],
      "outputs": [
        {
          "output_type": "stream",
          "name": "stderr",
          "text": [
            "ERROR:azureml.core.webservice.webservice:Received bad response from Model Management Service:\n",
            "Response Code: 400\n",
            "Headers: {'Date': 'Sun, 17 Jan 2021 20:42:03 GMT', 'Content-Type': 'application/json', 'Transfer-Encoding': 'chunked', 'Connection': 'keep-alive', 'x-ms-client-request-id': 'b68424f2f56e4b1f8135ba513ab88570', 'x-ms-client-session-id': '84188a7c-f1a1-47ee-ac02-2ae4c9c14425', 'api-supported-versions': '1.0, 2018-03-01-preview, 2018-11-19', 'X-Content-Type-Options': 'nosniff', 'x-request-time': '0.091', 'Strict-Transport-Security': 'max-age=15724800; includeSubDomains; preload'}\n",
            "Content: b'{\"code\":\"BadRequest\",\"statusCode\":400,\"message\":\"The request is invalid.\",\"details\":[{\"code\":\"AuthDisabled\",\"message\":\"Authentication is disabled (authEnabled set to false). Enable service authentication to list/regenerate keys. Subscription: a24a24d5-8d87-4c8a-99b6-91ed2d2df51f, ResourceGroup: aml-quickstarts-135113, Workspace: quick-starts-ws-135113, ACR: /subscriptions/a24a24d5-8d87-4c8a-99b6-91ed2d2df51f/resourceGroups/aml-quickstarts-135113/providers/Microsoft.ContainerRegistry/registries/7537a3db3e9d4571afc02b4ffc15e80e\"}],\"correlation\":{\"RequestId\":\"b68424f2f56e4b1f8135ba513ab88570\"}}'\n",
            "\n"
          ]
        },
        {
          "output_type": "error",
          "ename": "WebserviceException",
          "evalue": "WebserviceException:\n\tMessage: Received bad response from Model Management Service:\nResponse Code: 400\nHeaders: {'Date': 'Sun, 17 Jan 2021 20:42:03 GMT', 'Content-Type': 'application/json', 'Transfer-Encoding': 'chunked', 'Connection': 'keep-alive', 'x-ms-client-request-id': 'b68424f2f56e4b1f8135ba513ab88570', 'x-ms-client-session-id': '84188a7c-f1a1-47ee-ac02-2ae4c9c14425', 'api-supported-versions': '1.0, 2018-03-01-preview, 2018-11-19', 'X-Content-Type-Options': 'nosniff', 'x-request-time': '0.091', 'Strict-Transport-Security': 'max-age=15724800; includeSubDomains; preload'}\nContent: b'{\"code\":\"BadRequest\",\"statusCode\":400,\"message\":\"The request is invalid.\",\"details\":[{\"code\":\"AuthDisabled\",\"message\":\"Authentication is disabled (authEnabled set to false). Enable service authentication to list/regenerate keys. Subscription: a24a24d5-8d87-4c8a-99b6-91ed2d2df51f, ResourceGroup: aml-quickstarts-135113, Workspace: quick-starts-ws-135113, ACR: /subscriptions/a24a24d5-8d87-4c8a-99b6-91ed2d2df51f/resourceGroups/aml-quickstarts-135113/providers/Microsoft.ContainerRegistry/registries/7537a3db3e9d4571afc02b4ffc15e80e\"}],\"correlation\":{\"RequestId\":\"b68424f2f56e4b1f8135ba513ab88570\"}}'\n\tInnerException None\n\tErrorResponse \n{\n    \"error\": {\n        \"message\": \"Received bad response from Model Management Service:\\nResponse Code: 400\\nHeaders: {'Date': 'Sun, 17 Jan 2021 20:42:03 GMT', 'Content-Type': 'application/json', 'Transfer-Encoding': 'chunked', 'Connection': 'keep-alive', 'x-ms-client-request-id': 'b68424f2f56e4b1f8135ba513ab88570', 'x-ms-client-session-id': '84188a7c-f1a1-47ee-ac02-2ae4c9c14425', 'api-supported-versions': '1.0, 2018-03-01-preview, 2018-11-19', 'X-Content-Type-Options': 'nosniff', 'x-request-time': '0.091', 'Strict-Transport-Security': 'max-age=15724800; includeSubDomains; preload'}\\nContent: b'{\\\"code\\\":\\\"BadRequest\\\",\\\"statusCode\\\":400,\\\"message\\\":\\\"The request is invalid.\\\",\\\"details\\\":[{\\\"code\\\":\\\"AuthDisabled\\\",\\\"message\\\":\\\"Authentication is disabled (authEnabled set to false). Enable service authentication to list/regenerate keys. Subscription: a24a24d5-8d87-4c8a-99b6-91ed2d2df51f, ResourceGroup: aml-quickstarts-135113, Workspace: quick-starts-ws-135113, ACR: /subscriptions/a24a24d5-8d87-4c8a-99b6-91ed2d2df51f/resourceGroups/aml-quickstarts-135113/providers/Microsoft.ContainerRegistry/registries/7537a3db3e9d4571afc02b4ffc15e80e\\\"}],\\\"correlation\\\":{\\\"RequestId\\\":\\\"b68424f2f56e4b1f8135ba513ab88570\\\"}}'\"\n    }\n}",
          "traceback": [
            "\u001b[0;31m---------------------------------------------------------------------------\u001b[0m",
            "\u001b[0;31mHTTPError\u001b[0m                                 Traceback (most recent call last)",
            "\u001b[0;32m/anaconda/envs/azureml_py36/lib/python3.6/site-packages/azureml/core/webservice/webservice.py\u001b[0m in \u001b[0;36mget_keys\u001b[0;34m(self)\u001b[0m\n\u001b[1;32m   1237\u001b[0m             \u001b[0mresp\u001b[0m \u001b[0;34m=\u001b[0m \u001b[0mClientBase\u001b[0m\u001b[0;34m.\u001b[0m\u001b[0m_execute_func\u001b[0m\u001b[0;34m(\u001b[0m\u001b[0mget_requests_session\u001b[0m\u001b[0;34m(\u001b[0m\u001b[0;34m)\u001b[0m\u001b[0;34m.\u001b[0m\u001b[0mpost\u001b[0m\u001b[0;34m,\u001b[0m \u001b[0mlist_keys_url\u001b[0m\u001b[0;34m,\u001b[0m \u001b[0mparams\u001b[0m\u001b[0;34m=\u001b[0m\u001b[0mparams\u001b[0m\u001b[0;34m,\u001b[0m \u001b[0mheaders\u001b[0m\u001b[0;34m=\u001b[0m\u001b[0mheaders\u001b[0m\u001b[0;34m)\u001b[0m\u001b[0;34m\u001b[0m\u001b[0;34m\u001b[0m\u001b[0m\n\u001b[0;32m-> 1238\u001b[0;31m             \u001b[0mresp\u001b[0m\u001b[0;34m.\u001b[0m\u001b[0mraise_for_status\u001b[0m\u001b[0;34m(\u001b[0m\u001b[0;34m)\u001b[0m\u001b[0;34m\u001b[0m\u001b[0;34m\u001b[0m\u001b[0m\n\u001b[0m\u001b[1;32m   1239\u001b[0m         \u001b[0;32mexcept\u001b[0m \u001b[0mrequests\u001b[0m\u001b[0;34m.\u001b[0m\u001b[0mexceptions\u001b[0m\u001b[0;34m.\u001b[0m\u001b[0mHTTPError\u001b[0m\u001b[0;34m:\u001b[0m\u001b[0;34m\u001b[0m\u001b[0;34m\u001b[0m\u001b[0m\n",
            "\u001b[0;32m/anaconda/envs/azureml_py36/lib/python3.6/site-packages/requests/models.py\u001b[0m in \u001b[0;36mraise_for_status\u001b[0;34m(self)\u001b[0m\n\u001b[1;32m    942\u001b[0m         \u001b[0;32mif\u001b[0m \u001b[0mhttp_error_msg\u001b[0m\u001b[0;34m:\u001b[0m\u001b[0;34m\u001b[0m\u001b[0;34m\u001b[0m\u001b[0m\n\u001b[0;32m--> 943\u001b[0;31m             \u001b[0;32mraise\u001b[0m \u001b[0mHTTPError\u001b[0m\u001b[0;34m(\u001b[0m\u001b[0mhttp_error_msg\u001b[0m\u001b[0;34m,\u001b[0m \u001b[0mresponse\u001b[0m\u001b[0;34m=\u001b[0m\u001b[0mself\u001b[0m\u001b[0;34m)\u001b[0m\u001b[0;34m\u001b[0m\u001b[0;34m\u001b[0m\u001b[0m\n\u001b[0m\u001b[1;32m    944\u001b[0m \u001b[0;34m\u001b[0m\u001b[0m\n",
            "\u001b[0;31mHTTPError\u001b[0m: 400 Client Error: Bad Request for url: https://southcentralus.modelmanagement.azureml.net/modelmanagement/v1.0/subscriptions/a24a24d5-8d87-4c8a-99b6-91ed2d2df51f/resourceGroups/aml-quickstarts-135113/providers/Microsoft.MachineLearningServices/workspaces/quick-starts-ws-135113/services/my-custom-env-service2/listkeys",
            "\nDuring handling of the above exception, another exception occurred:\n",
            "\u001b[0;31mWebserviceException\u001b[0m                       Traceback (most recent call last)",
            "\u001b[0;32m<ipython-input-48-9af80609f787>\u001b[0m in \u001b[0;36m<module>\u001b[0;34m\u001b[0m\n\u001b[0;32m----> 1\u001b[0;31m \u001b[0mkey\u001b[0m\u001b[0;34m,\u001b[0m \u001b[0m_\u001b[0m \u001b[0;34m=\u001b[0m \u001b[0mservice\u001b[0m\u001b[0;34m.\u001b[0m\u001b[0mget_keys\u001b[0m\u001b[0;34m(\u001b[0m\u001b[0;34m)\u001b[0m\u001b[0;34m\u001b[0m\u001b[0;34m\u001b[0m\u001b[0m\n\u001b[0m",
            "\u001b[0;32m/anaconda/envs/azureml_py36/lib/python3.6/site-packages/azureml/core/webservice/webservice.py\u001b[0m in \u001b[0;36mget_keys\u001b[0;34m(self)\u001b[0m\n\u001b[1;32m   1242\u001b[0m                                       \u001b[0;34m'Headers: {}\\n'\u001b[0m\u001b[0;34m\u001b[0m\u001b[0;34m\u001b[0m\u001b[0m\n\u001b[1;32m   1243\u001b[0m                                       \u001b[0;34m'Content: {}'\u001b[0m\u001b[0;34m.\u001b[0m\u001b[0mformat\u001b[0m\u001b[0;34m(\u001b[0m\u001b[0mresp\u001b[0m\u001b[0;34m.\u001b[0m\u001b[0mstatus_code\u001b[0m\u001b[0;34m,\u001b[0m \u001b[0mresp\u001b[0m\u001b[0;34m.\u001b[0m\u001b[0mheaders\u001b[0m\u001b[0;34m,\u001b[0m \u001b[0mresp\u001b[0m\u001b[0;34m.\u001b[0m\u001b[0mcontent\u001b[0m\u001b[0;34m)\u001b[0m\u001b[0;34m,\u001b[0m\u001b[0;34m\u001b[0m\u001b[0;34m\u001b[0m\u001b[0m\n\u001b[0;32m-> 1244\u001b[0;31m                                       logger=module_logger)\n\u001b[0m\u001b[1;32m   1245\u001b[0m \u001b[0;34m\u001b[0m\u001b[0m\n\u001b[1;32m   1246\u001b[0m         \u001b[0mcontent\u001b[0m \u001b[0;34m=\u001b[0m \u001b[0mresp\u001b[0m\u001b[0;34m.\u001b[0m\u001b[0mcontent\u001b[0m\u001b[0;34m\u001b[0m\u001b[0;34m\u001b[0m\u001b[0m\n",
            "\u001b[0;31mWebserviceException\u001b[0m: WebserviceException:\n\tMessage: Received bad response from Model Management Service:\nResponse Code: 400\nHeaders: {'Date': 'Sun, 17 Jan 2021 20:42:03 GMT', 'Content-Type': 'application/json', 'Transfer-Encoding': 'chunked', 'Connection': 'keep-alive', 'x-ms-client-request-id': 'b68424f2f56e4b1f8135ba513ab88570', 'x-ms-client-session-id': '84188a7c-f1a1-47ee-ac02-2ae4c9c14425', 'api-supported-versions': '1.0, 2018-03-01-preview, 2018-11-19', 'X-Content-Type-Options': 'nosniff', 'x-request-time': '0.091', 'Strict-Transport-Security': 'max-age=15724800; includeSubDomains; preload'}\nContent: b'{\"code\":\"BadRequest\",\"statusCode\":400,\"message\":\"The request is invalid.\",\"details\":[{\"code\":\"AuthDisabled\",\"message\":\"Authentication is disabled (authEnabled set to false). Enable service authentication to list/regenerate keys. Subscription: a24a24d5-8d87-4c8a-99b6-91ed2d2df51f, ResourceGroup: aml-quickstarts-135113, Workspace: quick-starts-ws-135113, ACR: /subscriptions/a24a24d5-8d87-4c8a-99b6-91ed2d2df51f/resourceGroups/aml-quickstarts-135113/providers/Microsoft.ContainerRegistry/registries/7537a3db3e9d4571afc02b4ffc15e80e\"}],\"correlation\":{\"RequestId\":\"b68424f2f56e4b1f8135ba513ab88570\"}}'\n\tInnerException None\n\tErrorResponse \n{\n    \"error\": {\n        \"message\": \"Received bad response from Model Management Service:\\nResponse Code: 400\\nHeaders: {'Date': 'Sun, 17 Jan 2021 20:42:03 GMT', 'Content-Type': 'application/json', 'Transfer-Encoding': 'chunked', 'Connection': 'keep-alive', 'x-ms-client-request-id': 'b68424f2f56e4b1f8135ba513ab88570', 'x-ms-client-session-id': '84188a7c-f1a1-47ee-ac02-2ae4c9c14425', 'api-supported-versions': '1.0, 2018-03-01-preview, 2018-11-19', 'X-Content-Type-Options': 'nosniff', 'x-request-time': '0.091', 'Strict-Transport-Security': 'max-age=15724800; includeSubDomains; preload'}\\nContent: b'{\\\"code\\\":\\\"BadRequest\\\",\\\"statusCode\\\":400,\\\"message\\\":\\\"The request is invalid.\\\",\\\"details\\\":[{\\\"code\\\":\\\"AuthDisabled\\\",\\\"message\\\":\\\"Authentication is disabled (authEnabled set to false). Enable service authentication to list/regenerate keys. Subscription: a24a24d5-8d87-4c8a-99b6-91ed2d2df51f, ResourceGroup: aml-quickstarts-135113, Workspace: quick-starts-ws-135113, ACR: /subscriptions/a24a24d5-8d87-4c8a-99b6-91ed2d2df51f/resourceGroups/aml-quickstarts-135113/providers/Microsoft.ContainerRegistry/registries/7537a3db3e9d4571afc02b4ffc15e80e\\\"}],\\\"correlation\\\":{\\\"RequestId\\\":\\\"b68424f2f56e4b1f8135ba513ab88570\\\"}}'\"\n    }\n}"
          ]
        }
      ],
      "execution_count": 48,
      "metadata": {}
    },
    {
      "cell_type": "markdown",
      "source": [
        "TODO: In the cell below, send a request to the web service you deployed to test it."
      ],
      "metadata": {
        "collapsed": true,
        "gather": {
          "logged": 1598431657736
        },
        "jupyter": {
          "outputs_hidden": false,
          "source_hidden": false
        },
        "nteract": {
          "transient": {
            "deleting": false
          }
        }
      }
    },
    {
      "cell_type": "code",
      "source": [
        "url = service.scoring_uri"
      ],
      "outputs": [],
      "execution_count": 49,
      "metadata": {
        "gather": {
          "logged": 1610916131901
        },
        "jupyter": {
          "outputs_hidden": false,
          "source_hidden": false
        },
        "nteract": {
          "transient": {
            "deleting": false
          }
        }
      }
    },
    {
      "cell_type": "code",
      "source": [
        "import requests\n",
        "import json\n",
        "\n",
        "data = json.dumps({\"data\":tosend})\n",
        "headers = {'Content-Type':'application/json'}\n",
        "headers['Authorization'] = f'Bearer {key}'\n",
        "response = requests.post(url,data,headers=headers)\n",
        "print(response.text)\n"
      ],
      "outputs": [
        {
          "output_type": "stream",
          "name": "stdout",
          "text": [
            "\"Must pass 2-d input\"\n"
          ]
        }
      ],
      "execution_count": 51,
      "metadata": {
        "gather": {
          "logged": 1610916151322
        }
      }
    },
    {
      "cell_type": "markdown",
      "source": [
        "### Remove the webservice, models, and shut down the compute cluster"
      ],
      "metadata": {
        "collapsed": true,
        "gather": {
          "logged": 1598432765711
        },
        "jupyter": {
          "outputs_hidden": false,
          "source_hidden": false
        },
        "nteract": {
          "transient": {
            "deleting": false
          }
        }
      }
    },
    {
      "cell_type": "code",
      "source": [
        "service.delete()\n",
        "model.delete()\n",
        "run.delete()\n",
        "experiment.delete()"
      ],
      "outputs": [
        {
          "output_type": "stream",
          "name": "stderr",
          "text": [
            "ERROR:azureml._restclient.models_client:Received bad response from Model Management Service:\n",
            "Response Code: 412\n",
            "Correlation: {'operation': '5b63fed83d543d4ca46dbd0150d5ed05', 'request': '584b5f4b3d01254a', 'RequestId': '584b5f4b3d01254a'}\n",
            "Content: [<azureml._restclient.models.error_details.ErrorDetails object at 0x7fc22067e438>]\n",
            "\n"
          ]
        },
        {
          "output_type": "error",
          "ename": "WebserviceException",
          "evalue": "WebserviceException:\n\tMessage: Received bad response from Model Management Service:\nResponse Code: 412\nCorrelation: {'operation': '5b63fed83d543d4ca46dbd0150d5ed05', 'request': '584b5f4b3d01254a', 'RequestId': '584b5f4b3d01254a'}\nContent: [<azureml._restclient.models.error_details.ErrorDetails object at 0x7fc22067e438>]\n\tInnerException None\n\tErrorResponse \n{\n    \"error\": {\n        \"message\": \"Received bad response from Model Management Service:\\nResponse Code: 412\\nCorrelation: {'operation': '5b63fed83d543d4ca46dbd0150d5ed05', 'request': '584b5f4b3d01254a', 'RequestId': '584b5f4b3d01254a'}\\nContent: [<azureml._restclient.models.error_details.ErrorDetails object at 0x7fc22067e438>]\"\n    }\n}",
          "traceback": [
            "\u001b[0;31m---------------------------------------------------------------------------\u001b[0m",
            "\u001b[0;31mModelErrorResponseException\u001b[0m               Traceback (most recent call last)",
            "\u001b[0;32m/anaconda/envs/azureml_py36/lib/python3.6/site-packages/azureml/_restclient/models_client.py\u001b[0m in \u001b[0;36mwrapper\u001b[0;34m(self, model_id, *args, **kwargs)\u001b[0m\n\u001b[1;32m     30\u001b[0m             \u001b[0;32mtry\u001b[0m\u001b[0;34m:\u001b[0m\u001b[0;34m\u001b[0m\u001b[0;34m\u001b[0m\u001b[0m\n\u001b[0;32m---> 31\u001b[0;31m                 \u001b[0;32mreturn\u001b[0m \u001b[0mfunc\u001b[0m\u001b[0;34m(\u001b[0m\u001b[0mself\u001b[0m\u001b[0;34m,\u001b[0m \u001b[0mmodel_id\u001b[0m\u001b[0;34m,\u001b[0m \u001b[0;34m*\u001b[0m\u001b[0margs\u001b[0m\u001b[0;34m,\u001b[0m \u001b[0;34m**\u001b[0m\u001b[0mkwargs\u001b[0m\u001b[0;34m)\u001b[0m\u001b[0;34m\u001b[0m\u001b[0;34m\u001b[0m\u001b[0m\n\u001b[0m\u001b[1;32m     32\u001b[0m             \u001b[0;32mexcept\u001b[0m \u001b[0mModelErrorResponseException\u001b[0m \u001b[0;32mas\u001b[0m \u001b[0mex\u001b[0m\u001b[0;34m:\u001b[0m\u001b[0;34m\u001b[0m\u001b[0;34m\u001b[0m\u001b[0m\n",
            "\u001b[0;32m/anaconda/envs/azureml_py36/lib/python3.6/site-packages/azureml/_restclient/models_client.py\u001b[0m in \u001b[0;36mdelete\u001b[0;34m(self, model_id)\u001b[0m\n\u001b[1;32m    101\u001b[0m             _execute_with_workspace_arguments(self._client.ml_models.delete, id=model_id,\n\u001b[0;32m--> 102\u001b[0;31m                                               custom_headers=ModelsClient.get_modelmanagement_custom_headers())\n\u001b[0m\u001b[1;32m    103\u001b[0m \u001b[0;34m\u001b[0m\u001b[0m\n",
            "\u001b[0;32m/anaconda/envs/azureml_py36/lib/python3.6/site-packages/azureml/_restclient/workspace_client.py\u001b[0m in \u001b[0;36m_execute_with_workspace_arguments\u001b[0;34m(self, func, *args, **kwargs)\u001b[0m\n\u001b[1;32m     68\u001b[0m     \u001b[0;32mdef\u001b[0m \u001b[0m_execute_with_workspace_arguments\u001b[0m\u001b[0;34m(\u001b[0m\u001b[0mself\u001b[0m\u001b[0;34m,\u001b[0m \u001b[0mfunc\u001b[0m\u001b[0;34m,\u001b[0m \u001b[0;34m*\u001b[0m\u001b[0margs\u001b[0m\u001b[0;34m,\u001b[0m \u001b[0;34m**\u001b[0m\u001b[0mkwargs\u001b[0m\u001b[0;34m)\u001b[0m\u001b[0;34m:\u001b[0m\u001b[0;34m\u001b[0m\u001b[0;34m\u001b[0m\u001b[0m\n\u001b[0;32m---> 69\u001b[0;31m         \u001b[0;32mreturn\u001b[0m \u001b[0mself\u001b[0m\u001b[0;34m.\u001b[0m\u001b[0m_execute_with_arguments\u001b[0m\u001b[0;34m(\u001b[0m\u001b[0mfunc\u001b[0m\u001b[0;34m,\u001b[0m \u001b[0mcopy\u001b[0m\u001b[0;34m.\u001b[0m\u001b[0mdeepcopy\u001b[0m\u001b[0;34m(\u001b[0m\u001b[0mself\u001b[0m\u001b[0;34m.\u001b[0m\u001b[0m_workspace_arguments\u001b[0m\u001b[0;34m)\u001b[0m\u001b[0;34m,\u001b[0m \u001b[0;34m*\u001b[0m\u001b[0margs\u001b[0m\u001b[0;34m,\u001b[0m \u001b[0;34m**\u001b[0m\u001b[0mkwargs\u001b[0m\u001b[0;34m)\u001b[0m\u001b[0;34m\u001b[0m\u001b[0;34m\u001b[0m\u001b[0m\n\u001b[0m\u001b[1;32m     70\u001b[0m \u001b[0;34m\u001b[0m\u001b[0m\n",
            "\u001b[0;32m/anaconda/envs/azureml_py36/lib/python3.6/site-packages/azureml/_restclient/clientbase.py\u001b[0m in \u001b[0;36m_execute_with_arguments\u001b[0;34m(self, func, args_list, *args, **kwargs)\u001b[0m\n\u001b[1;32m    580\u001b[0m             \u001b[0;32melse\u001b[0m\u001b[0;34m:\u001b[0m\u001b[0;34m\u001b[0m\u001b[0;34m\u001b[0m\u001b[0m\n\u001b[0;32m--> 581\u001b[0;31m                 \u001b[0;32mreturn\u001b[0m \u001b[0mself\u001b[0m\u001b[0;34m.\u001b[0m\u001b[0m_call_api\u001b[0m\u001b[0;34m(\u001b[0m\u001b[0mfunc\u001b[0m\u001b[0;34m,\u001b[0m \u001b[0;34m*\u001b[0m\u001b[0margs_list\u001b[0m\u001b[0;34m,\u001b[0m \u001b[0;34m**\u001b[0m\u001b[0mkwargs\u001b[0m\u001b[0;34m)\u001b[0m\u001b[0;34m\u001b[0m\u001b[0;34m\u001b[0m\u001b[0m\n\u001b[0m\u001b[1;32m    582\u001b[0m         \u001b[0;32mexcept\u001b[0m \u001b[0mErrorResponseException\u001b[0m \u001b[0;32mas\u001b[0m \u001b[0me\u001b[0m\u001b[0;34m:\u001b[0m\u001b[0;34m\u001b[0m\u001b[0;34m\u001b[0m\u001b[0m\n",
            "\u001b[0;32m/anaconda/envs/azureml_py36/lib/python3.6/site-packages/azureml/_restclient/clientbase.py\u001b[0m in \u001b[0;36m_call_api\u001b[0;34m(self, func, *args, **kwargs)\u001b[0m\n\u001b[1;32m    238\u001b[0m             \u001b[0;32melse\u001b[0m\u001b[0;34m:\u001b[0m\u001b[0;34m\u001b[0m\u001b[0;34m\u001b[0m\u001b[0m\n\u001b[0;32m--> 239\u001b[0;31m                 \u001b[0;32mreturn\u001b[0m \u001b[0mself\u001b[0m\u001b[0;34m.\u001b[0m\u001b[0m_execute_with_base_arguments\u001b[0m\u001b[0;34m(\u001b[0m\u001b[0mfunc\u001b[0m\u001b[0;34m,\u001b[0m \u001b[0;34m*\u001b[0m\u001b[0margs\u001b[0m\u001b[0;34m,\u001b[0m \u001b[0;34m**\u001b[0m\u001b[0mkwargs\u001b[0m\u001b[0;34m)\u001b[0m\u001b[0;34m\u001b[0m\u001b[0;34m\u001b[0m\u001b[0m\n\u001b[0m\u001b[1;32m    240\u001b[0m \u001b[0;34m\u001b[0m\u001b[0m\n",
            "\u001b[0;32m/anaconda/envs/azureml_py36/lib/python3.6/site-packages/azureml/_restclient/clientbase.py\u001b[0m in \u001b[0;36m_execute_with_base_arguments\u001b[0;34m(self, func, *args, **kwargs)\u001b[0m\n\u001b[1;32m    327\u001b[0m         return ClientBase._execute_func_internal(\n\u001b[0;32m--> 328\u001b[0;31m             back_off, total_retry, self._logger, func, _noop_reset, *args, **kwargs)\n\u001b[0m\u001b[1;32m    329\u001b[0m \u001b[0;34m\u001b[0m\u001b[0m\n",
            "\u001b[0;32m/anaconda/envs/azureml_py36/lib/python3.6/site-packages/azureml/_restclient/clientbase.py\u001b[0m in \u001b[0;36m_execute_func_internal\u001b[0;34m(cls, back_off, total_retry, logger, func, reset_func, *args, **kwargs)\u001b[0m\n\u001b[1;32m    360\u001b[0m             \u001b[0;32mexcept\u001b[0m \u001b[0mException\u001b[0m \u001b[0;32mas\u001b[0m \u001b[0merror\u001b[0m\u001b[0;34m:\u001b[0m\u001b[0;34m\u001b[0m\u001b[0;34m\u001b[0m\u001b[0m\n\u001b[0;32m--> 361\u001b[0;31m                 \u001b[0mleft_retry\u001b[0m \u001b[0;34m=\u001b[0m \u001b[0mcls\u001b[0m\u001b[0;34m.\u001b[0m\u001b[0m_handle_retry\u001b[0m\u001b[0;34m(\u001b[0m\u001b[0mback_off\u001b[0m\u001b[0;34m,\u001b[0m \u001b[0mleft_retry\u001b[0m\u001b[0;34m,\u001b[0m \u001b[0mtotal_retry\u001b[0m\u001b[0;34m,\u001b[0m \u001b[0merror\u001b[0m\u001b[0;34m,\u001b[0m \u001b[0mlogger\u001b[0m\u001b[0;34m,\u001b[0m \u001b[0mfunc\u001b[0m\u001b[0;34m)\u001b[0m\u001b[0;34m\u001b[0m\u001b[0;34m\u001b[0m\u001b[0m\n\u001b[0m\u001b[1;32m    362\u001b[0m \u001b[0;34m\u001b[0m\u001b[0m\n",
            "\u001b[0;32m/anaconda/envs/azureml_py36/lib/python3.6/site-packages/azureml/_restclient/clientbase.py\u001b[0m in \u001b[0;36m_handle_retry\u001b[0;34m(cls, back_off, left_retry, total_retry, error, logger, func)\u001b[0m\n\u001b[1;32m    415\u001b[0m             \u001b[0;32melif\u001b[0m \u001b[0merror\u001b[0m\u001b[0;34m.\u001b[0m\u001b[0mresponse\u001b[0m\u001b[0;34m.\u001b[0m\u001b[0mstatus_code\u001b[0m \u001b[0;34m<\u001b[0m \u001b[0;36m500\u001b[0m \u001b[0;32mand\u001b[0m \u001b[0merror\u001b[0m\u001b[0;34m.\u001b[0m\u001b[0mresponse\u001b[0m\u001b[0;34m.\u001b[0m\u001b[0mstatus_code\u001b[0m \u001b[0;34m!=\u001b[0m \u001b[0;36m408\u001b[0m\u001b[0;34m:\u001b[0m\u001b[0;34m\u001b[0m\u001b[0;34m\u001b[0m\u001b[0m\n\u001b[0;32m--> 416\u001b[0;31m                 \u001b[0;32mraise\u001b[0m \u001b[0merror\u001b[0m\u001b[0;34m\u001b[0m\u001b[0;34m\u001b[0m\u001b[0m\n\u001b[0m\u001b[1;32m    417\u001b[0m         \u001b[0;32melif\u001b[0m \u001b[0misinstance\u001b[0m\u001b[0;34m(\u001b[0m\u001b[0merror\u001b[0m\u001b[0;34m,\u001b[0m \u001b[0mClientRequestError\u001b[0m\u001b[0;34m)\u001b[0m\u001b[0;34m:\u001b[0m\u001b[0;34m\u001b[0m\u001b[0;34m\u001b[0m\u001b[0m\n",
            "\u001b[0;32m/anaconda/envs/azureml_py36/lib/python3.6/site-packages/azureml/_restclient/clientbase.py\u001b[0m in \u001b[0;36m_execute_func_internal\u001b[0;34m(cls, back_off, total_retry, logger, func, reset_func, *args, **kwargs)\u001b[0m\n\u001b[1;32m    351\u001b[0m                 \u001b[0mlogger\u001b[0m\u001b[0;34m.\u001b[0m\u001b[0mdebug\u001b[0m\u001b[0;34m(\u001b[0m\u001b[0;34m\"ClientBase: Calling {} with url {}\"\u001b[0m\u001b[0;34m.\u001b[0m\u001b[0mformat\u001b[0m\u001b[0;34m(\u001b[0m\u001b[0mfunc_name\u001b[0m\u001b[0;34m,\u001b[0m \u001b[0mfunc_url\u001b[0m\u001b[0;34m)\u001b[0m\u001b[0;34m)\u001b[0m\u001b[0;34m\u001b[0m\u001b[0;34m\u001b[0m\u001b[0m\n\u001b[0;32m--> 352\u001b[0;31m                 \u001b[0mresponse\u001b[0m \u001b[0;34m=\u001b[0m \u001b[0mfunc\u001b[0m\u001b[0;34m(\u001b[0m\u001b[0;34m*\u001b[0m\u001b[0margs\u001b[0m\u001b[0;34m,\u001b[0m \u001b[0;34m**\u001b[0m\u001b[0mkwargs\u001b[0m\u001b[0;34m)\u001b[0m\u001b[0;34m\u001b[0m\u001b[0;34m\u001b[0m\u001b[0m\n\u001b[0m\u001b[1;32m    353\u001b[0m                 if (isinstance(response, Response) and cls._is_retryable_status_code(response.status_code) and\n",
            "\u001b[0;32m/anaconda/envs/azureml_py36/lib/python3.6/site-packages/azureml/_restclient/operations/ml_models_operations.py\u001b[0m in \u001b[0;36mdelete\u001b[0;34m(self, subscription_id, resource_group, workspace, id, custom_headers, raw, **operation_config)\u001b[0m\n\u001b[1;32m    148\u001b[0m         \u001b[0;32mif\u001b[0m \u001b[0mresponse\u001b[0m\u001b[0;34m.\u001b[0m\u001b[0mstatus_code\u001b[0m \u001b[0;32mnot\u001b[0m \u001b[0;32min\u001b[0m \u001b[0;34m[\u001b[0m\u001b[0;36m200\u001b[0m\u001b[0;34m,\u001b[0m \u001b[0;36m204\u001b[0m\u001b[0;34m]\u001b[0m\u001b[0;34m:\u001b[0m\u001b[0;34m\u001b[0m\u001b[0;34m\u001b[0m\u001b[0m\n\u001b[0;32m--> 149\u001b[0;31m             \u001b[0;32mraise\u001b[0m \u001b[0mmodels\u001b[0m\u001b[0;34m.\u001b[0m\u001b[0mModelErrorResponseException\u001b[0m\u001b[0;34m(\u001b[0m\u001b[0mself\u001b[0m\u001b[0;34m.\u001b[0m\u001b[0m_deserialize\u001b[0m\u001b[0;34m,\u001b[0m \u001b[0mresponse\u001b[0m\u001b[0;34m)\u001b[0m\u001b[0;34m\u001b[0m\u001b[0;34m\u001b[0m\u001b[0m\n\u001b[0m\u001b[1;32m    150\u001b[0m \u001b[0;34m\u001b[0m\u001b[0m\n",
            "\u001b[0;31mModelErrorResponseException\u001b[0m: PreconditionFailed",
            "\nDuring handling of the above exception, another exception occurred:\n",
            "\u001b[0;31mWebserviceException\u001b[0m                       Traceback (most recent call last)",
            "\u001b[0;32m<ipython-input-52-7d015a8da2c0>\u001b[0m in \u001b[0;36m<module>\u001b[0;34m\u001b[0m\n\u001b[1;32m      1\u001b[0m \u001b[0mservice\u001b[0m\u001b[0;34m.\u001b[0m\u001b[0mdelete\u001b[0m\u001b[0;34m(\u001b[0m\u001b[0;34m)\u001b[0m\u001b[0;34m\u001b[0m\u001b[0;34m\u001b[0m\u001b[0m\n\u001b[0;32m----> 2\u001b[0;31m \u001b[0mmodel\u001b[0m\u001b[0;34m.\u001b[0m\u001b[0mdelete\u001b[0m\u001b[0;34m(\u001b[0m\u001b[0;34m)\u001b[0m\u001b[0;34m\u001b[0m\u001b[0;34m\u001b[0m\u001b[0m\n\u001b[0m\u001b[1;32m      3\u001b[0m \u001b[0mrun\u001b[0m\u001b[0;34m.\u001b[0m\u001b[0mdelete\u001b[0m\u001b[0;34m(\u001b[0m\u001b[0;34m)\u001b[0m\u001b[0;34m\u001b[0m\u001b[0;34m\u001b[0m\u001b[0m\n\u001b[1;32m      4\u001b[0m \u001b[0mexperiment\u001b[0m\u001b[0;34m.\u001b[0m\u001b[0mdelete\u001b[0m\u001b[0;34m(\u001b[0m\u001b[0;34m)\u001b[0m\u001b[0;34m\u001b[0m\u001b[0;34m\u001b[0m\u001b[0m\n",
            "\u001b[0;32m/anaconda/envs/azureml_py36/lib/python3.6/site-packages/azureml/core/model.py\u001b[0m in \u001b[0;36mdelete\u001b[0;34m(self)\u001b[0m\n\u001b[1;32m   1542\u001b[0m                                           \u001b[0;34m'\"Image.list(<workspace>, model_id={})\"'\u001b[0m\u001b[0;34m.\u001b[0m\u001b[0mformat\u001b[0m\u001b[0;34m(\u001b[0m\u001b[0mself\u001b[0m\u001b[0;34m.\u001b[0m\u001b[0mid\u001b[0m\u001b[0;34m)\u001b[0m\u001b[0;34m,\u001b[0m\u001b[0;34m\u001b[0m\u001b[0;34m\u001b[0m\u001b[0m\n\u001b[1;32m   1543\u001b[0m                                           logger=module_logger)\n\u001b[0;32m-> 1544\u001b[0;31m             \u001b[0;32mraise\u001b[0m \u001b[0mex\u001b[0m\u001b[0;34m\u001b[0m\u001b[0;34m\u001b[0m\u001b[0m\n\u001b[0m\u001b[1;32m   1545\u001b[0m \u001b[0;34m\u001b[0m\u001b[0m\n\u001b[1;32m   1546\u001b[0m     \u001b[0;34m@\u001b[0m\u001b[0mstaticmethod\u001b[0m\u001b[0;34m\u001b[0m\u001b[0;34m\u001b[0m\u001b[0m\n",
            "\u001b[0;32m/anaconda/envs/azureml_py36/lib/python3.6/site-packages/azureml/core/model.py\u001b[0m in \u001b[0;36mdelete\u001b[0;34m(self)\u001b[0m\n\u001b[1;32m   1535\u001b[0m         \u001b[0mmodels_client\u001b[0m \u001b[0;34m=\u001b[0m \u001b[0mModelsClient\u001b[0m\u001b[0;34m(\u001b[0m\u001b[0mself\u001b[0m\u001b[0;34m.\u001b[0m\u001b[0mworkspace\u001b[0m\u001b[0;34m.\u001b[0m\u001b[0mservice_context\u001b[0m\u001b[0;34m)\u001b[0m\u001b[0;34m\u001b[0m\u001b[0;34m\u001b[0m\u001b[0m\n\u001b[1;32m   1536\u001b[0m         \u001b[0;32mtry\u001b[0m\u001b[0;34m:\u001b[0m\u001b[0;34m\u001b[0m\u001b[0;34m\u001b[0m\u001b[0m\n\u001b[0;32m-> 1537\u001b[0;31m             \u001b[0mmodels_client\u001b[0m\u001b[0;34m.\u001b[0m\u001b[0mdelete\u001b[0m\u001b[0;34m(\u001b[0m\u001b[0mself\u001b[0m\u001b[0;34m.\u001b[0m\u001b[0mid\u001b[0m\u001b[0;34m)\u001b[0m\u001b[0;34m\u001b[0m\u001b[0;34m\u001b[0m\u001b[0m\n\u001b[0m\u001b[1;32m   1538\u001b[0m         \u001b[0;32mexcept\u001b[0m \u001b[0mWebserviceException\u001b[0m \u001b[0;32mas\u001b[0m \u001b[0mex\u001b[0m\u001b[0;34m:\u001b[0m\u001b[0;34m\u001b[0m\u001b[0;34m\u001b[0m\u001b[0m\n\u001b[1;32m   1539\u001b[0m             \u001b[0;32mif\u001b[0m \u001b[0mex\u001b[0m\u001b[0;34m.\u001b[0m\u001b[0mstatus_code\u001b[0m \u001b[0;34m==\u001b[0m \u001b[0;36m412\u001b[0m \u001b[0;32mand\u001b[0m \u001b[0;34m\"DeletionRequired\"\u001b[0m \u001b[0;32min\u001b[0m \u001b[0mex\u001b[0m\u001b[0;34m.\u001b[0m\u001b[0mmessage\u001b[0m\u001b[0;34m:\u001b[0m\u001b[0;34m\u001b[0m\u001b[0;34m\u001b[0m\u001b[0m\n",
            "\u001b[0;32m/anaconda/envs/azureml_py36/lib/python3.6/site-packages/azureml/_restclient/models_client.py\u001b[0m in \u001b[0;36mwrapper\u001b[0;34m(self, model_id, *args, **kwargs)\u001b[0m\n\u001b[1;32m     31\u001b[0m                 \u001b[0;32mreturn\u001b[0m \u001b[0mfunc\u001b[0m\u001b[0;34m(\u001b[0m\u001b[0mself\u001b[0m\u001b[0;34m,\u001b[0m \u001b[0mmodel_id\u001b[0m\u001b[0;34m,\u001b[0m \u001b[0;34m*\u001b[0m\u001b[0margs\u001b[0m\u001b[0;34m,\u001b[0m \u001b[0;34m**\u001b[0m\u001b[0mkwargs\u001b[0m\u001b[0;34m)\u001b[0m\u001b[0;34m\u001b[0m\u001b[0;34m\u001b[0m\u001b[0m\n\u001b[1;32m     32\u001b[0m             \u001b[0;32mexcept\u001b[0m \u001b[0mModelErrorResponseException\u001b[0m \u001b[0;32mas\u001b[0m \u001b[0mex\u001b[0m\u001b[0;34m:\u001b[0m\u001b[0;34m\u001b[0m\u001b[0;34m\u001b[0m\u001b[0m\n\u001b[0;32m---> 33\u001b[0;31m                 \u001b[0;32mreturn\u001b[0m \u001b[0mModelsClient\u001b[0m\u001b[0;34m.\u001b[0m\u001b[0mmodel_error_response_to_webservice_exception\u001b[0m\u001b[0;34m(\u001b[0m\u001b[0mex\u001b[0m\u001b[0;34m,\u001b[0m \u001b[0mid\u001b[0m\u001b[0;34m=\u001b[0m\u001b[0mmodel_id\u001b[0m\u001b[0;34m)\u001b[0m\u001b[0;34m\u001b[0m\u001b[0;34m\u001b[0m\u001b[0m\n\u001b[0m\u001b[1;32m     34\u001b[0m \u001b[0;34m\u001b[0m\u001b[0m\n\u001b[1;32m     35\u001b[0m         \u001b[0;32mreturn\u001b[0m \u001b[0mwrapper\u001b[0m\u001b[0;34m\u001b[0m\u001b[0;34m\u001b[0m\u001b[0m\n",
            "\u001b[0;32m/anaconda/envs/azureml_py36/lib/python3.6/site-packages/azureml/_restclient/models_client.py\u001b[0m in \u001b[0;36mmodel_error_response_to_webservice_exception\u001b[0;34m(ex, **kwargs)\u001b[0m\n\u001b[1;32m    116\u001b[0m                                   \u001b[0;34m'Correlation: {}\\n'\u001b[0m\u001b[0;34m\u001b[0m\u001b[0;34m\u001b[0m\u001b[0m\n\u001b[1;32m    117\u001b[0m                                   \u001b[0;34m'Content: {}'\u001b[0m\u001b[0;34m.\u001b[0m\u001b[0mformat\u001b[0m\u001b[0;34m(\u001b[0m\u001b[0mex\u001b[0m\u001b[0;34m.\u001b[0m\u001b[0merror\u001b[0m\u001b[0;34m.\u001b[0m\u001b[0mstatus_code\u001b[0m\u001b[0;34m,\u001b[0m \u001b[0mex\u001b[0m\u001b[0;34m.\u001b[0m\u001b[0merror\u001b[0m\u001b[0;34m.\u001b[0m\u001b[0mcorrelation\u001b[0m\u001b[0;34m,\u001b[0m \u001b[0mex\u001b[0m\u001b[0;34m.\u001b[0m\u001b[0merror\u001b[0m\u001b[0;34m.\u001b[0m\u001b[0mdetails\u001b[0m\u001b[0;34m)\u001b[0m\u001b[0;34m,\u001b[0m\u001b[0;34m\u001b[0m\u001b[0;34m\u001b[0m\u001b[0m\n\u001b[0;32m--> 118\u001b[0;31m                                   logger=module_logger)\n\u001b[0m\u001b[1;32m    119\u001b[0m \u001b[0;34m\u001b[0m\u001b[0m\n\u001b[1;32m    120\u001b[0m     \u001b[0;34m@\u001b[0m\u001b[0mstaticmethod\u001b[0m\u001b[0;34m\u001b[0m\u001b[0;34m\u001b[0m\u001b[0m\n",
            "\u001b[0;31mWebserviceException\u001b[0m: WebserviceException:\n\tMessage: Received bad response from Model Management Service:\nResponse Code: 412\nCorrelation: {'operation': '5b63fed83d543d4ca46dbd0150d5ed05', 'request': '584b5f4b3d01254a', 'RequestId': '584b5f4b3d01254a'}\nContent: [<azureml._restclient.models.error_details.ErrorDetails object at 0x7fc22067e438>]\n\tInnerException None\n\tErrorResponse \n{\n    \"error\": {\n        \"message\": \"Received bad response from Model Management Service:\\nResponse Code: 412\\nCorrelation: {'operation': '5b63fed83d543d4ca46dbd0150d5ed05', 'request': '584b5f4b3d01254a', 'RequestId': '584b5f4b3d01254a'}\\nContent: [<azureml._restclient.models.error_details.ErrorDetails object at 0x7fc22067e438>]\"\n    }\n}"
          ]
        }
      ],
      "execution_count": 52,
      "metadata": {
        "jupyter": {
          "outputs_hidden": false,
          "source_hidden": false
        },
        "nteract": {
          "transient": {
            "deleting": false
          }
        }
      }
    },
    {
      "cell_type": "code",
      "source": [
        "compute_target.delete()\n"
      ],
      "outputs": [],
      "execution_count": null,
      "metadata": {}
    }
  ],
  "metadata": {
    "kernel_info": {
      "name": "python3"
    },
    "kernelspec": {
      "name": "python3",
      "language": "python",
      "display_name": "Python 3"
    },
    "language_info": {
      "name": "python",
      "version": "3.6.9",
      "mimetype": "text/x-python",
      "codemirror_mode": {
        "name": "ipython",
        "version": 3
      },
      "pygments_lexer": "ipython3",
      "nbconvert_exporter": "python",
      "file_extension": ".py"
    },
    "nteract": {
      "version": "nteract-front-end@1.0.0"
    }
  },
  "nbformat": 4,
  "nbformat_minor": 2
}